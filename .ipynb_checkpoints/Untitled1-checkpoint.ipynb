{
 "cells": [
  {
   "cell_type": "code",
   "execution_count": 1,
   "id": "9ff8b8ac-dabb-4994-878e-b361c3c14246",
   "metadata": {
    "scrolled": true
   },
   "outputs": [],
   "source": [
    "#pip install langchain langchain-community langchain-core langchain-openai python-dotenv faiss-cpu\n"
   ]
  },
  {
   "cell_type": "code",
   "execution_count": 2,
   "id": "8d3364bb-ef14-4fe8-812c-8c180a5e98a8",
   "metadata": {},
   "outputs": [],
   "source": [
    "#pip install pandas"
   ]
  },
  {
   "cell_type": "code",
   "execution_count": 3,
   "id": "f9110113-9156-46ff-a35a-399f8dc47503",
   "metadata": {},
   "outputs": [],
   "source": [
    "from langchain_community.document_loaders.csv_loader import CSVLoader\n",
    "from pathlib import Path\n",
    "from langchain_openai import ChatOpenAI,OpenAIEmbeddings\n",
    "import os\n",
    "from dotenv import load_dotenv\n",
    "import faiss\n",
    "from langchain_community.docstore.in_memory import InMemoryDocstore\n",
    "from langchain_community.vectorstores import FAISS\n",
    "from langchain_core.prompts import ChatPromptTemplate\n",
    "from langchain.chains import create_retrieval_chain\n",
    "from langchain.chains.combine_documents import create_stuff_documents_chain\n",
    "from langchain.agents import Tool, AgentExecutor, ConversationalAgent\n",
    "from langchain.memory import ConversationBufferMemory\n",
    "from langchain import OpenAI, LLMChain\n",
    "from langchain.chains import RetrievalQA\n",
    "from langchain.prompts import PromptTemplate\n",
    "from langchain.prompts import ChatPromptTemplate\n",
    "\n"
   ]
  },
  {
   "cell_type": "code",
   "execution_count": 4,
   "id": "ccbff2b0-adeb-4cd6-9736-ee12da349139",
   "metadata": {},
   "outputs": [],
   "source": []
  },
  {
   "cell_type": "code",
   "execution_count": 5,
   "id": "485b6e6b-e9cc-43a3-8e66-4cf81204d724",
   "metadata": {},
   "outputs": [
    {
     "data": {
      "text/plain": [
       "False"
      ]
     },
     "execution_count": 5,
     "metadata": {},
     "output_type": "execute_result"
    }
   ],
   "source": [
    "load_dotenv()"
   ]
  },
  {
   "cell_type": "code",
   "execution_count": 6,
   "id": "2dba04e2-a5bd-411f-bd31-225d6fdc6d3e",
   "metadata": {},
   "outputs": [],
   "source": [
    "llm = ChatOpenAI(model=\"gpt-4o-mini\")"
   ]
  },
  {
   "cell_type": "code",
   "execution_count": 7,
   "id": "7c159527-38de-49cf-8253-a3c55d568657",
   "metadata": {},
   "outputs": [
    {
     "data": {
      "text/html": [
       "<div>\n",
       "<style scoped>\n",
       "    .dataframe tbody tr th:only-of-type {\n",
       "        vertical-align: middle;\n",
       "    }\n",
       "\n",
       "    .dataframe tbody tr th {\n",
       "        vertical-align: top;\n",
       "    }\n",
       "\n",
       "    .dataframe thead th {\n",
       "        text-align: right;\n",
       "    }\n",
       "</style>\n",
       "<table border=\"1\" class=\"dataframe\">\n",
       "  <thead>\n",
       "    <tr style=\"text-align: right;\">\n",
       "      <th></th>\n",
       "      <th>Kategori</th>\n",
       "      <th>urun</th>\n",
       "      <th>icindekiler</th>\n",
       "      <th>Fiyat</th>\n",
       "    </tr>\n",
       "  </thead>\n",
       "  <tbody>\n",
       "    <tr>\n",
       "      <th>0</th>\n",
       "      <td>Baslangiclar</td>\n",
       "      <td>Nachos</td>\n",
       "      <td>El yapimi tortilla cips, cheddar, yesil sogan,...</td>\n",
       "      <td>120 TL</td>\n",
       "    </tr>\n",
       "    <tr>\n",
       "      <th>1</th>\n",
       "      <td>Baslangiclar</td>\n",
       "      <td>Mozzarella cubuklari</td>\n",
       "      <td>Pane mozzarella cubuklari, pesto sos</td>\n",
       "      <td>115 TL</td>\n",
       "    </tr>\n",
       "    <tr>\n",
       "      <th>2</th>\n",
       "      <td>Baslangiclar</td>\n",
       "      <td>Tavuk Kanatlari</td>\n",
       "      <td>Pane tavuk kanatlari; sos secenekleri: BBQ, ha...</td>\n",
       "      <td>125 TL</td>\n",
       "    </tr>\n",
       "    <tr>\n",
       "      <th>3</th>\n",
       "      <td>Baslangiclar</td>\n",
       "      <td>Karides Tava</td>\n",
       "      <td>Jumbo karides, sarimsak, tereyagi, limon suyu,...</td>\n",
       "      <td>150 TL</td>\n",
       "    </tr>\n",
       "    <tr>\n",
       "      <th>4</th>\n",
       "      <td>Baslangiclar</td>\n",
       "      <td>Falafel Tabagi</td>\n",
       "      <td>Falafel koftesi, humus, tahin sos, salata</td>\n",
       "      <td>75 TL</td>\n",
       "    </tr>\n",
       "  </tbody>\n",
       "</table>\n",
       "</div>"
      ],
      "text/plain": [
       "       Kategori                  urun  \\\n",
       "0  Baslangiclar                Nachos   \n",
       "1  Baslangiclar  Mozzarella cubuklari   \n",
       "2  Baslangiclar       Tavuk Kanatlari   \n",
       "3  Baslangiclar          Karides Tava   \n",
       "4  Baslangiclar        Falafel Tabagi   \n",
       "\n",
       "                                         icindekiler   Fiyat  \n",
       "0  El yapimi tortilla cips, cheddar, yesil sogan,...  120 TL  \n",
       "1               Pane mozzarella cubuklari, pesto sos  115 TL  \n",
       "2  Pane tavuk kanatlari; sos secenekleri: BBQ, ha...  125 TL  \n",
       "3  Jumbo karides, sarimsak, tereyagi, limon suyu,...  150 TL  \n",
       "4          Falafel koftesi, humus, tahin sos, salata   75 TL  "
      ]
     },
     "execution_count": 7,
     "metadata": {},
     "output_type": "execute_result"
    }
   ],
   "source": [
    "import pandas as pd\n",
    "\n",
    "file_path = ('menu1.csv') # insert the path of the csv file\n",
    "data = pd.read_csv(file_path,sep=';')\n",
    "\n",
    "#preview the csv file\n",
    "data.head()"
   ]
  },
  {
   "cell_type": "code",
   "execution_count": 8,
   "id": "59bf77ff-c745-4733-8055-cd52b47ef066",
   "metadata": {},
   "outputs": [
    {
     "data": {
      "text/plain": [
       "'Mozzarella cubuklari'"
      ]
     },
     "execution_count": 8,
     "metadata": {},
     "output_type": "execute_result"
    }
   ],
   "source": [
    "data.urun[1]"
   ]
  },
  {
   "cell_type": "code",
   "execution_count": 9,
   "id": "b93ebfa1-5124-4f32-8517-3679e70b6f73",
   "metadata": {},
   "outputs": [
    {
     "data": {
      "text/plain": [
       "array(['Nachos', 'Mozzarella cubuklari', 'Tavuk Kanatlari',\n",
       "       'Karides Tava', 'Falafel Tabagi', 'Sebzeli Spring Roll',\n",
       "       'Mercimek corbasi', 'Kremali Mantar corbasi', 'Domates corbasi',\n",
       "       'Tavuk Suyu corbasi', 'Balkabagi corbasi', 'Peynirli Tavuk Pizza',\n",
       "       'Etli Pizza', 'Vegan Pizza', 'Acili Deniz Pizza',\n",
       "       'Margarita Pizza', 'Klasik Burger', 'Cheeseburger', 'Siyah Burger',\n",
       "       'Tavuk Burger', 'Acili Burger', 'izgara Tavuk', 'Antrikot',\n",
       "       'Somon izgara', 'Sebzeli Guvec', 'Sufle', 'Tiramisu', 'Cheesecake',\n",
       "       'Firin Sutlac'], dtype=object)"
      ]
     },
     "execution_count": 9,
     "metadata": {},
     "output_type": "execute_result"
    }
   ],
   "source": [
    "data.urun.unique()"
   ]
  },
  {
   "cell_type": "code",
   "execution_count": 10,
   "id": "62a3ff50-324a-4d2b-8f97-af49f8ef14c4",
   "metadata": {},
   "outputs": [],
   "source": [
    "loader = CSVLoader(file_path=file_path)\n",
    "docs = loader.load_and_split()"
   ]
  },
  {
   "cell_type": "code",
   "execution_count": 11,
   "id": "abd7989b-7e92-4265-8222-a1add9c0cb4a",
   "metadata": {},
   "outputs": [],
   "source": [
    "embeddings = OpenAIEmbeddings()\n",
    "index = faiss.IndexFlatL2(len(OpenAIEmbeddings().embed_query(\" \")))\n",
    "vector_store = FAISS(\n",
    "    embedding_function=OpenAIEmbeddings(),\n",
    "    index=index,\n",
    "    docstore=InMemoryDocstore(),\n",
    "    index_to_docstore_id={}\n",
    ")"
   ]
  },
  {
   "cell_type": "code",
   "execution_count": 12,
   "id": "9f6e330f-6c69-4f12-a4e2-493c223dcdfa",
   "metadata": {},
   "outputs": [
    {
     "data": {
      "text/plain": [
       "['961670d1-d6fb-4fb5-9580-fa1b927f803f',\n",
       " 'e7682811-5511-48c1-9832-0c5dfe6bf2e2',\n",
       " '9e6a88bc-a6f8-4e81-aeb0-5200d0dc668f',\n",
       " '51512092-91b0-4d48-bfce-e69456fd0382',\n",
       " '4bb5e938-708e-4d31-a31e-958b0b1e3d7d',\n",
       " 'db0d440f-10ef-464c-8f24-fa1cc8eac1be',\n",
       " '8a392690-621b-4084-8662-6f2ff4d0a0b4',\n",
       " 'bf6f9e5d-b128-45d2-9e19-621644a05f82',\n",
       " 'ba01564d-3b91-4fe3-b855-80463423d5f5',\n",
       " '5954591f-bfad-4133-8188-f070c947cadb',\n",
       " 'ab1b05a7-6d1f-4d9c-bd19-3b60be91117d',\n",
       " 'a15fd311-2159-4e7e-a227-fc65d887ac55',\n",
       " '451cc61d-3e9b-4540-bc37-02498bafe8bf',\n",
       " '0ee3e202-33ff-41a9-ad69-e7680f76281f',\n",
       " '07300fae-b011-4f2a-ab0a-9444c2799f20',\n",
       " '2787e350-94dd-456e-b782-f577c1376174',\n",
       " '05a00912-a563-429d-8760-621074ffcbc1',\n",
       " 'f75d5888-ea5a-45a1-aabc-7fa507362792',\n",
       " 'd6544007-b7b4-4233-a02b-1da08c433f67',\n",
       " '49b87138-ce66-439b-8ad3-7cc3bd9b2df5',\n",
       " '8368d569-cc31-476a-9258-06c09734ac31',\n",
       " '1dd83856-f7f9-4878-9376-29f1cc1a22e0',\n",
       " '2c9d1336-3b1d-41fc-a4e6-85f0c08b041b',\n",
       " '56c12939-ac52-480f-8b3d-99f882c802cd',\n",
       " 'f8893527-8897-48b6-80c0-5753d787e312',\n",
       " '72507a23-e5ef-4c29-90c0-0048279ee489',\n",
       " '02e1655c-5941-4c2a-873c-a7ebb6fb6982',\n",
       " 'e44adcd5-7e0d-4635-841c-102832b77d25',\n",
       " '165f1504-80e6-443f-8bfc-9182fea6aa37',\n",
       " '04ad8bb4-2917-4ed1-b4ec-9a6e76a4eddb']"
      ]
     },
     "execution_count": 12,
     "metadata": {},
     "output_type": "execute_result"
    }
   ],
   "source": [
    "vector_store.add_documents(documents=docs)\n"
   ]
  },
  {
   "cell_type": "code",
   "execution_count": 13,
   "id": "fa11a26b-2271-48cb-848a-81f9d06882e5",
   "metadata": {},
   "outputs": [],
   "source": [
    "retriever = vector_store.as_retriever()"
   ]
  },
  {
   "cell_type": "code",
   "execution_count": 14,
   "id": "c734f939-cb78-4a99-b1d9-5afe28d7c159",
   "metadata": {},
   "outputs": [],
   "source": [
    "from langchain.chains import ConversationalRetrievalChain\n",
    "from langchain.memory import ConversationStringBufferMemory\n",
    "from langchain.chains import RetrievalQA\n"
   ]
  },
  {
   "cell_type": "code",
   "execution_count": 15,
   "id": "e9aad3b3-f7bb-4e34-b0a4-9d244af0d39c",
   "metadata": {},
   "outputs": [],
   "source": [
    "from langchain.chains import LLMChain\n",
    "from langchain.memory import ConversationBufferMemory\n",
    "from langchain_core.messages import SystemMessage\n",
    "from langchain_core.prompts import ChatPromptTemplate\n",
    "from langchain_core.prompts.chat import (\n",
    "    ChatPromptTemplate,\n",
    "    HumanMessagePromptTemplate,\n",
    "    MessagesPlaceholder,\n",
    ")"
   ]
  },
  {
   "cell_type": "code",
   "execution_count": 16,
   "id": "d28c903d-5005-4030-8dfb-c06c8d826c73",
   "metadata": {},
   "outputs": [
    {
     "ename": "NameError",
     "evalue": "name 'FinalResponse' is not defined",
     "output_type": "error",
     "traceback": [
      "\u001b[0;31m---------------------------------------------------------------------------\u001b[0m",
      "\u001b[0;31mNameError\u001b[0m                                 Traceback (most recent call last)",
      "Cell \u001b[0;32mIn[16], line 127\u001b[0m\n\u001b[1;32m    125\u001b[0m \u001b[38;5;66;03m# Kullanım\u001b[39;00m\n\u001b[1;32m    126\u001b[0m \u001b[38;5;28;01mif\u001b[39;00m \u001b[38;5;18m__name__\u001b[39m \u001b[38;5;241m==\u001b[39m \u001b[38;5;124m\"\u001b[39m\u001b[38;5;124m__main__\u001b[39m\u001b[38;5;124m\"\u001b[39m:\n\u001b[0;32m--> 127\u001b[0m     \u001b[43mrun_interactive_session\u001b[49m\u001b[43m(\u001b[49m\u001b[43m)\u001b[49m\n",
      "Cell \u001b[0;32mIn[16], line 102\u001b[0m, in \u001b[0;36mrun_interactive_session\u001b[0;34m()\u001b[0m\n\u001b[1;32m    101\u001b[0m \u001b[38;5;28;01mdef\u001b[39;00m \u001b[38;5;21mrun_interactive_session\u001b[39m():\n\u001b[0;32m--> 102\u001b[0m     assistant \u001b[38;5;241m=\u001b[39m \u001b[43mRestaurantAssistant\u001b[49m\u001b[43m(\u001b[49m\u001b[43mllm\u001b[49m\u001b[43m,\u001b[49m\u001b[43m \u001b[49m\u001b[43mretriever\u001b[49m\u001b[43m,\u001b[49m\u001b[43m \u001b[49m\u001b[43mdata\u001b[49m\u001b[43m)\u001b[49m\n\u001b[1;32m    104\u001b[0m     \u001b[38;5;28;01mwhile\u001b[39;00m \u001b[38;5;28;01mTrue\u001b[39;00m:\n\u001b[1;32m    105\u001b[0m         query \u001b[38;5;241m=\u001b[39m \u001b[38;5;28minput\u001b[39m(\u001b[38;5;124m\"\u001b[39m\u001b[38;5;124mNasıl yardımcı olabilirim? (Çıkmak için \u001b[39m\u001b[38;5;124m'\u001b[39m\u001b[38;5;124mexit\u001b[39m\u001b[38;5;124m'\u001b[39m\u001b[38;5;124m yazın): \u001b[39m\u001b[38;5;124m\"\u001b[39m)\n",
      "Cell \u001b[0;32mIn[16], line 18\u001b[0m, in \u001b[0;36mRestaurantAssistant.__init__\u001b[0;34m(self, llm, retriever, data)\u001b[0m\n\u001b[1;32m      9\u001b[0m \u001b[38;5;28mself\u001b[39m\u001b[38;5;241m.\u001b[39mrag_chain \u001b[38;5;241m=\u001b[39m RetrievalQA\u001b[38;5;241m.\u001b[39mfrom_chain_type(\n\u001b[1;32m     10\u001b[0m     llm\u001b[38;5;241m=\u001b[39m\u001b[38;5;28mself\u001b[39m\u001b[38;5;241m.\u001b[39mllm,\n\u001b[1;32m     11\u001b[0m     chain_type\u001b[38;5;241m=\u001b[39m\u001b[38;5;124m\"\u001b[39m\u001b[38;5;124mstuff\u001b[39m\u001b[38;5;124m\"\u001b[39m,\n\u001b[0;32m   (...)\u001b[0m\n\u001b[1;32m     14\u001b[0m     return_source_documents\u001b[38;5;241m=\u001b[39m\u001b[38;5;28;01mFalse\u001b[39;00m\n\u001b[1;32m     15\u001b[0m )\n\u001b[1;32m     17\u001b[0m \u001b[38;5;66;03m# Query Analyzer Setup\u001b[39;00m\n\u001b[0;32m---> 18\u001b[0m \u001b[38;5;28mself\u001b[39m\u001b[38;5;241m.\u001b[39mquery_analyzer \u001b[38;5;241m=\u001b[39m \u001b[38;5;28;43mself\u001b[39;49m\u001b[38;5;241;43m.\u001b[39;49m\u001b[43msetup_query_analyzer\u001b[49m\u001b[43m(\u001b[49m\u001b[43m)\u001b[49m\n",
      "Cell \u001b[0;32mIn[16], line 31\u001b[0m, in \u001b[0;36mRestaurantAssistant.setup_query_analyzer\u001b[0;34m(self)\u001b[0m\n\u001b[1;32m     21\u001b[0m system_prompt \u001b[38;5;241m=\u001b[39m \u001b[38;5;124m\"\"\"\u001b[39m\u001b[38;5;124mYou are an expert at converting user questions into database queries.\u001b[39m\n\u001b[1;32m     22\u001b[0m \u001b[38;5;124mcustomers will talk to you about the menu and you will take the order or answer their questions.\u001b[39m\n\u001b[1;32m     23\u001b[0m \u001b[38;5;124myou have to understand the input for deciding to take an order or answer the question.\u001b[39m\n\u001b[1;32m     24\u001b[0m \u001b[38;5;124mif you don\u001b[39m\u001b[38;5;124m'\u001b[39m\u001b[38;5;124mt understand the meaning of a sentence or the intent, tell it.\u001b[39m\u001b[38;5;124m\"\"\"\u001b[39m\n\u001b[1;32m     26\u001b[0m prompt \u001b[38;5;241m=\u001b[39m ChatPromptTemplate\u001b[38;5;241m.\u001b[39mfrom_messages([\n\u001b[1;32m     27\u001b[0m     (\u001b[38;5;124m\"\u001b[39m\u001b[38;5;124msystem\u001b[39m\u001b[38;5;124m\"\u001b[39m, system_prompt),\n\u001b[1;32m     28\u001b[0m     (\u001b[38;5;124m\"\u001b[39m\u001b[38;5;124mhuman\u001b[39m\u001b[38;5;124m\"\u001b[39m, \u001b[38;5;124m\"\u001b[39m\u001b[38;5;132;01m{query}\u001b[39;00m\u001b[38;5;124m\"\u001b[39m),\n\u001b[1;32m     29\u001b[0m ])\n\u001b[0;32m---> 31\u001b[0m \u001b[38;5;28;01mreturn\u001b[39;00m prompt \u001b[38;5;241m|\u001b[39m \u001b[38;5;28mself\u001b[39m\u001b[38;5;241m.\u001b[39mllm\u001b[38;5;241m.\u001b[39mwith_structured_output(\u001b[43mFinalResponse\u001b[49m)\n",
      "\u001b[0;31mNameError\u001b[0m: name 'FinalResponse' is not defined"
     ]
    }
   ],
   "source": [
    "class RestaurantAssistant:\n",
    "    def __init__(self, llm, retriever, data):\n",
    "        self.llm = llm\n",
    "        self.retriever = retriever\n",
    "        self.data = data\n",
    "        self.order_history = []\n",
    "        \n",
    "        # RAG Chain Setup\n",
    "        self.rag_chain = RetrievalQA.from_chain_type(\n",
    "            llm=self.llm,\n",
    "            chain_type=\"stuff\",\n",
    "            retriever=self.retriever,\n",
    "            input_key=\"query\",\n",
    "            return_source_documents=False\n",
    "        )\n",
    "        \n",
    "        # Query Analyzer Setup\n",
    "        self.query_analyzer = self.setup_query_analyzer()\n",
    "        \n",
    "    def setup_query_analyzer(self):\n",
    "        system_prompt = \"\"\"You are an expert at converting user questions into database queries.\n",
    "        customers will talk to you about the menu and you will take the order or answer their questions.\n",
    "        you have to understand the input for deciding to take an order or answer the question.\n",
    "        if you don't understand the meaning of a sentence or the intent, tell it.\"\"\"\n",
    "        \n",
    "        prompt = ChatPromptTemplate.from_messages([\n",
    "            (\"system\", system_prompt),\n",
    "            (\"human\", \"{query}\"),\n",
    "        ])\n",
    "        \n",
    "        return prompt | self.llm.with_structured_output(FinalResponse)\n",
    "    \n",
    "    def process_order(self, query):\n",
    "        # Analyze query\n",
    "        analyzed_query = self.query_analyzer.invoke({\"query\": query})\n",
    "        \n",
    "        # Check menu items\n",
    "        menu_check_results = check_sip_in_menu(analyzed_query, self.data)\n",
    "        \n",
    "        # Process deletions\n",
    "        self.handle_deletions(analyzed_query)\n",
    "        \n",
    "        # Update order history\n",
    "        self.update_order_history(menu_check_results)\n",
    "        \n",
    "        return menu_check_results\n",
    "    \n",
    "    def handle_deletions(self, analyzed_query):\n",
    "        for item in analyzed_query.final_output:\n",
    "            if isinstance(item, dict) and \"del_name\" in item:\n",
    "                del_name_lower = item[\"del_name\"].lower()\n",
    "                for order in self.order_history:\n",
    "                    if order[\"sip_name\"].lower() == del_name_lower:\n",
    "                        order[\"sip_count\"] = max((order[\"sip_count\"] - item[\"del_count\"]), 0)\n",
    "                        if order[\"sip_count\"] == 0:\n",
    "                            self.order_history.remove(order)\n",
    "    \n",
    "    def update_order_history(self, menu_check_results):\n",
    "        for result in menu_check_results:\n",
    "            if result.get(\"exists_in_menu\", True):\n",
    "                self.order_history.append(result)\n",
    "    \n",
    "    def get_order_summary(self):\n",
    "        if not self.order_history:\n",
    "            return \"Henüz sipariş verilmemiş.\"\n",
    "        \n",
    "        total_amount = 0\n",
    "        summary = \"Siparişleriniz:\\n\"\n",
    "        \n",
    "        for item in self.order_history:\n",
    "            sip_count = int(item['sip_count'])\n",
    "            sip_price = float(item['sip_price'].replace(' TL', '').strip())\n",
    "            item_total = sip_count * sip_price\n",
    "            total_amount += item_total\n",
    "            \n",
    "            summary += f\"{item['sip_name']} x {item['sip_count']}\"\n",
    "            if item['sip_mod']:\n",
    "                summary += f\" ({item['sip_mod']})\"\n",
    "            summary += f\" = {item_total} TL\\n\"\n",
    "        \n",
    "        summary += f\"\\nToplam Tutar: {total_amount} TL\"\n",
    "        return summary\n",
    "    \n",
    "    def process_query(self, query):\n",
    "        # Get RAG response\n",
    "        rag_response = self.rag_chain.invoke({\"query\": query})\n",
    "        \n",
    "        # Process order if applicable\n",
    "        menu_results = self.process_order(query)\n",
    "        \n",
    "        return {\n",
    "            \"rag_response\": rag_response[\"result\"],\n",
    "            \"menu_results\": menu_results,\n",
    "            \"order_summary\": self.get_order_summary()\n",
    "        }\n",
    "    \n",
    "    def save_order(self, filename=\"siparisler.txt\"):\n",
    "        with open(filename, \"w\", encoding=\"utf-8\") as f:\n",
    "            f.write(self.get_order_summary())\n",
    "\n",
    "def run_interactive_session():\n",
    "    assistant = RestaurantAssistant(llm, retriever, data)\n",
    "    \n",
    "    while True:\n",
    "        query = input(\"Nasıl yardımcı olabilirim? (Çıkmak için 'exit' yazın): \")\n",
    "        \n",
    "        if query.lower() == \"exit\":\n",
    "            print(\"\\nMevcut Sipariş Özeti:\")\n",
    "            print(assistant.get_order_summary())\n",
    "            \n",
    "            confirmation = input(\"\\nSiparişi onaylıyor musunuz? (Evet/Hayır): \")\n",
    "            if confirmation.lower() == \"evet\":\n",
    "                assistant.save_order()\n",
    "                print(\"Siparişiniz kaydedildi. Teşekkürler!\")\n",
    "            else:\n",
    "                print(\"Sipariş iptal edildi.\")\n",
    "            break\n",
    "        \n",
    "        results = assistant.process_query(query)\n",
    "        print(\"\\nGarson:\", results[\"rag_response\"])\n",
    "        \n",
    "        if results[\"menu_results\"]:\n",
    "            print(\"\\nSipariş Güncelleme:\", results[\"order_summary\"])\n",
    "\n",
    "# Kullanım\n",
    "if __name__ == \"__main__\":\n",
    "    run_interactive_session()"
   ]
  },
  {
   "cell_type": "code",
   "execution_count": null,
   "id": "c1bcd12b-3232-421b-bfe1-9a90d144e2de",
   "metadata": {},
   "outputs": [],
   "source": []
  },
  {
   "cell_type": "code",
   "execution_count": null,
   "id": "3712677b-f00e-49d2-bb9f-1de50dde967e",
   "metadata": {},
   "outputs": [],
   "source": []
  },
  {
   "cell_type": "code",
   "execution_count": null,
   "id": "50b16e1a-10c8-4625-9af1-dda194895fe6",
   "metadata": {},
   "outputs": [],
   "source": []
  },
  {
   "cell_type": "code",
   "execution_count": null,
   "id": "5f11ff5b-3348-458a-a3d6-fb00018efd17",
   "metadata": {},
   "outputs": [],
   "source": []
  },
  {
   "cell_type": "code",
   "execution_count": null,
   "id": "7001fa2e-f3ad-4fd9-9b47-14a2976746cc",
   "metadata": {},
   "outputs": [],
   "source": []
  },
  {
   "cell_type": "code",
   "execution_count": null,
   "id": "879aaae5-4df9-47fe-8d84-2888c0d78e9f",
   "metadata": {},
   "outputs": [],
   "source": []
  },
  {
   "cell_type": "code",
   "execution_count": null,
   "id": "a0f7e4dd-9d7c-4f7d-b53e-d8a2652cd4f0",
   "metadata": {},
   "outputs": [],
   "source": []
  },
  {
   "cell_type": "code",
   "execution_count": null,
   "id": "3836ba02-2d45-4d20-86e0-36925c9ed424",
   "metadata": {},
   "outputs": [],
   "source": []
  },
  {
   "cell_type": "code",
   "execution_count": null,
   "id": "2865f62a-4b96-49f9-ac2b-4836cab2efd9",
   "metadata": {},
   "outputs": [],
   "source": []
  },
  {
   "cell_type": "code",
   "execution_count": null,
   "id": "1bb9ac26-c74c-4648-963a-db892f725d57",
   "metadata": {},
   "outputs": [],
   "source": []
  },
  {
   "cell_type": "code",
   "execution_count": 17,
   "id": "9bd904ed-c5cf-4330-b7bf-fc34295b0ae6",
   "metadata": {},
   "outputs": [
    {
     "name": "stderr",
     "output_type": "stream",
     "text": [
      "/var/folders/04/nhwvkmt13753zn37rgwn35zr0000gn/T/ipykernel_74148/3268787627.py:40: LangChainDeprecationWarning: The class `LLMChain` was deprecated in LangChain 0.1.17 and will be removed in 1.0. Use :meth:`~RunnableSequence, e.g., `prompt | llm`` instead.\n",
      "  llm_chain = LLMChain(llm=llm, prompt=prompt)\n"
     ]
    }
   ],
   "source": [
    "# System Prompt\n",
    "system_prompt = (\n",
    "    \"Sen yüksek kaliteli bir restoranda profesyonel bir garsonsun.\"\n",
    "    \"Müşterinin talebi üzerine bir siparişe ürün ekleyebilir veya çıkarabilirsin. Müşteri bir ürün ekler ya da çıkarırsa, bu değişiklikleri kibarca onayla.\"\n",
    "    \"Müşteri fiyat veya ürün içeriği sormadan bu bilgileri paylaşma.\"\n",
    "    \"Menüyle ilgili soruları kibar ve öz bir şekilde yanıtlamalısın.\"\n",
    "    \"sıcak bir karşılama ile başla, daha sonrasında konusma ilerledikce kibar bir garson ol.\"\n",
    "    \"Yanıtlarını menü bağlamında ver.\"\n",
    "    \"Eğer ürün menüde yoksa şu şekilde cevap ver: 'Üzgünüm, o ürün menümüzde bulunmuyor.'\"\n",
    "    \"Eğer cevabını bilmiyorsan şu şekilde cevap ver: 'Üzgünüm, bu konuda emin değilim.'\"\n",
    "    \"Bir siparişi onaylarken, siparişi kibarca tekrar et.\"\n",
    "    \"Menü dışındaki ürünleri asla önermemelisin.\"\n",
    "    \"Senden istenen komutları uygula örneğin menü içeriğindeki öğelerden bul.\"\n",
    "    \"Menü içeriklerini istenilene göre paylaş\"\n",
    "\n",
    "    \"Yanıtlarını şu şekilde yapılandır:\"\n",
    "\n",
    "    \"Sıcak bir karşılama ile başla.\"\n",
    "    \"Soruyu açık ve net bir şekilde yanıtla.\"\n",
    "    \"Son olarak, nazik ve profesyonel bir şekilde başka bir konuda yardımcı olup olamayacağını sorarak kapat.\"\n",
    "    \"Sadece sorulan soruyu yanıtla. Sorunun yanıtı dışında hiçbir şey söyleme.\"\n",
    "\"\\n\\n\"\n",
    "\"{context}\"\n",
    "\n",
    ")\n",
    "\n",
    "\n",
    "# ChatPromptTemplate\n",
    "prompt = ChatPromptTemplate(\n",
    "    [\n",
    "        (\"system\", system_prompt),\n",
    "        MessagesPlaceholder(variable_name=\"chat_history\"),\n",
    "        HumanMessagePromptTemplate.from_template(\"{text}\"),\n",
    "    ]\n",
    ")\n",
    "\n",
    "\n",
    "# Create the question-answer chain\n",
    "#question_answer_chain = create_stuff_documents_chain(llm, prompt)\n",
    "llm_chain = LLMChain(llm=llm, prompt=prompt)\n"
   ]
  },
  {
   "cell_type": "code",
   "execution_count": 18,
   "id": "9df0ce36-f0f7-4004-97f0-101840f0c1b7",
   "metadata": {},
   "outputs": [],
   "source": [
    "from typing import Union, List ,Optional\n",
    "from pydantic import BaseModel, Field\n",
    "from typing_extensions import Annotated, TypedDict\n",
    "\n",
    "class sip(TypedDict):\n",
    "    \"\"\"Represents a sentence describing an ordered item.\"\"\"\n",
    "\n",
    "    sip_name: Annotated[str, ..., \"Name of the ordered item, such as a menu item.\"]\n",
    "    sip_count: Annotated[int, ..., \"Quantity of the ordered item.\"]\n",
    "    sip_mod: Annotated[str, ..., \"changed ingredient for item.\"]\n",
    "    sip_price: Annotated[float, ..., \"price of the ordered item .(Fiyat column).\"]\n",
    "\n",
    "class non_sip(TypedDict):\n",
    "    \"\"\"Represents a sentence describing a non-ordered item.\"\"\"\n",
    "\n",
    "    non_sip_name: Annotated[str, ..., \"Name of the item, without an order (e.g., general reference to a thing or asking questions about it).\"]\n",
    "    non_sip_count: Annotated[int, ..., \"Count of the item, if mentioned, but not part of an order.\"]\n",
    "\n",
    "class del_item(TypedDict):\n",
    "    \"\"\"Represents a sentence describing an item to be deleted from the order.\"\"\"\n",
    "    \n",
    "    del_name: Annotated[str, ..., \"Name of the ordered item that is being canceled or removed.\"]\n",
    "    del_count: Annotated[int, ..., \"Quantity of the item that is being canceled or removed. This value can be positive or indicate the total amount to be canceled.\"]\n",
    "    is_all: Annotated[Optional[bool], \"Indicates if the entire item category (e.g., all 'hamburgers') is being canceled. 'True' means all instances of that item will be canceled, 'False' means just a specific quantity or instance.\"]\n",
    "    description: Annotated[Optional[str], \"Describes the user's intent to cancel all instances of a specific item category, like 'hamburgers', without providing a specific count. This could include phrases like 'I want to cancel all hamburgers'.\"]\n",
    "\n",
    "class IntentDetection(BaseModel):\n",
    "    \"\"\"A model to detect the user's intent: whether they want to check their order history.\"\"\"\n",
    "    wants_order_history: Annotated[bool, \"True if the user wants to see their order history, otherwise False.\"]\n",
    "\n",
    "class FinalResponse(BaseModel):\n",
    "    final_output: List[Union[sip, non_sip, del_item,IntentDetection]]\n",
    "\n",
    "# Example of structured output model usage\n",
    "structured_llm = llm.with_structured_output(FinalResponse)\n",
    "\n",
    "\n"
   ]
  },
  {
   "cell_type": "markdown",
   "id": "39f5fc58-698f-4d86-b3ec-bd2684701950",
   "metadata": {},
   "source": [
    "# MODELİN ERİLEN CEVAPLARI AYIKLAMASI YERİNE İNPUTU DİCT HALİNE DÖNÜŞTÜRMESİNİ SAĞLIYORUZ "
   ]
  },
  {
   "cell_type": "code",
   "execution_count": 19,
   "id": "bbc1a262-eca2-4fbb-ab1c-7df50dd83cad",
   "metadata": {},
   "outputs": [],
   "source": [
    "system1 = \"\"\"You are an expert at converting user questions into database queries. \\\n",
    "customers will talk you about the menu and you will tke the order or answer their questions \\\n",
    "you have to understand the input for deciding to take an order or answer the question \\\n",
    "if you dont understand the meaning of a sentence or the intent tell it \n",
    "\"\"\"\n",
    "\n",
    "prompt1 = ChatPromptTemplate.from_messages(\n",
    "    [\n",
    "        (\"system\", system1),\n",
    "        (\"human\", \"{query}\"),\n",
    "    ]\n",
    ")"
   ]
  },
  {
   "cell_type": "code",
   "execution_count": 20,
   "id": "0a2f9322-0479-4285-a1ba-4883a8049360",
   "metadata": {},
   "outputs": [],
   "source": [
    "\n",
    "query_analyzer = prompt1 | structured_llm"
   ]
  },
  {
   "cell_type": "markdown",
   "id": "6ef44c6a-637c-4369-bfab-252daccc7a81",
   "metadata": {},
   "source": [
    "## query analyzer"
   ]
  },
  {
   "cell_type": "code",
   "execution_count": 21,
   "id": "b314895d-f258-40f6-bd4b-3ceb7a4d1ea8",
   "metadata": {},
   "outputs": [
    {
     "data": {
      "text/plain": [
       "FinalResponse(final_output=[{'sip_name': 'çay', 'sip_count': 2, 'sip_mod': '', 'sip_price': 0.0}])"
      ]
     },
     "execution_count": 21,
     "metadata": {},
     "output_type": "execute_result"
    }
   ],
   "source": [
    "query_analyzer.invoke(\"bana iki çay yolla \")"
   ]
  },
  {
   "cell_type": "code",
   "execution_count": 22,
   "id": "97873046-d88d-44a2-90b8-5d2c1f5b117d",
   "metadata": {},
   "outputs": [
    {
     "data": {
      "text/plain": [
       "FinalResponse(final_output=[{'sip_name': 'latte', 'sip_count': 2, 'sip_mod': '', 'sip_price': 0.0}])"
      ]
     },
     "execution_count": 22,
     "metadata": {},
     "output_type": "execute_result"
    }
   ],
   "source": [
    "query_analyzer.invoke(\"2 latte alabilir miyim \")\n"
   ]
  },
  {
   "cell_type": "code",
   "execution_count": 23,
   "id": "779a57bd-357a-479b-ba18-7568c8dc2016",
   "metadata": {},
   "outputs": [
    {
     "data": {
      "text/plain": [
       "FinalResponse(final_output=[IntentDetection(wants_order_history=True)])"
      ]
     },
     "execution_count": 23,
     "metadata": {},
     "output_type": "execute_result"
    }
   ],
   "source": [
    "query_analyzer.invoke(\"bne neler sipariş ettim\")"
   ]
  },
  {
   "cell_type": "code",
   "execution_count": null,
   "id": "18e8e43b-7823-477b-b549-5379f283313f",
   "metadata": {},
   "outputs": [],
   "source": []
  },
  {
   "cell_type": "code",
   "execution_count": 66,
   "id": "439416cc-2244-4157-832f-2ba6890ca9d7",
   "metadata": {},
   "outputs": [
    {
     "data": {
      "text/plain": [
       "FinalResponse(final_output=[{'non_sip_name': 'Menü İçeriği', 'non_sip_count': 1}])"
      ]
     },
     "execution_count": 66,
     "metadata": {},
     "output_type": "execute_result"
    }
   ],
   "source": [
    "query_analyzer.invoke(\"menüde neler var\")"
   ]
  },
  {
   "cell_type": "code",
   "execution_count": 67,
   "id": "09b5d772-ae77-4b17-93c6-51d6d7cab391",
   "metadata": {},
   "outputs": [
    {
     "data": {
      "text/plain": [
       "FinalResponse(final_output=[{'sip_name': 'latte', 'sip_count': 2, 'sip_mod': '', 'sip_price': 0.0}])"
      ]
     },
     "execution_count": 67,
     "metadata": {},
     "output_type": "execute_result"
    }
   ],
   "source": [
    "query_analyzer.invoke(\"2 latte alabilir miyim \")"
   ]
  },
  {
   "cell_type": "code",
   "execution_count": 68,
   "id": "7bfca282-88ee-44f5-85e7-25f7bd41464a",
   "metadata": {},
   "outputs": [
    {
     "data": {
      "text/plain": [
       "FinalResponse(final_output=[{'non_sip_name': 'makarna', 'non_sip_count': 0}])"
      ]
     },
     "execution_count": 68,
     "metadata": {},
     "output_type": "execute_result"
    }
   ],
   "source": [
    "query_analyzer.invoke(\"makarnayı nasıl yapıyosunuz \")"
   ]
  },
  {
   "cell_type": "code",
   "execution_count": 69,
   "id": "aa5a22e9-a17b-4f40-9d22-1ad637dff215",
   "metadata": {},
   "outputs": [
    {
     "data": {
      "text/plain": [
       "FinalResponse(final_output=[{'non_sip_name': 'acılı biftek', 'non_sip_count': 1}])"
      ]
     },
     "execution_count": 69,
     "metadata": {},
     "output_type": "execute_result"
    }
   ],
   "source": [
    "query_analyzer.invoke(\"acılı biftek ne kadar acı\")"
   ]
  },
  {
   "cell_type": "code",
   "execution_count": 70,
   "id": "9d94fafa-195f-41bd-a24d-f87fa5c75ccc",
   "metadata": {},
   "outputs": [
    {
     "data": {
      "text/plain": [
       "FinalResponse(final_output=[{'sip_name': 'acı biberli pizza', 'sip_count': 1, 'sip_mod': 'kasarsız', 'sip_price': 0.0}])"
      ]
     },
     "execution_count": 70,
     "metadata": {},
     "output_type": "execute_result"
    }
   ],
   "source": [
    "query_analyzer.invoke(\"acı biberli ve kasarsız pizza almak istiyorum \")"
   ]
  },
  {
   "cell_type": "code",
   "execution_count": 71,
   "id": "38fbc434-41c2-47d2-b4ad-72325561d3f5",
   "metadata": {},
   "outputs": [
    {
     "data": {
      "text/plain": [
       "FinalResponse(final_output=[{'non_sip_name': 'latte', 'non_sip_count': 1}])"
      ]
     },
     "execution_count": 71,
     "metadata": {},
     "output_type": "execute_result"
    }
   ],
   "source": [
    "query_analyzer.invoke(\"latteyi laktozsuz süt ile mi yapıyorsunuz\")"
   ]
  },
  {
   "cell_type": "code",
   "execution_count": 72,
   "id": "908b73c7-5a75-474b-ae8e-3b1ca68f0fa8",
   "metadata": {},
   "outputs": [
    {
     "data": {
      "text/plain": [
       "FinalResponse(final_output=[{'sip_name': 'keikli', 'sip_count': 2, 'sip_mod': '', 'sip_price': 0.0}, {'sip_name': 'kremalı makarna', 'sip_count': 1, 'sip_mod': '', 'sip_price': 0.0}])"
      ]
     },
     "execution_count": 72,
     "metadata": {},
     "output_type": "execute_result"
    }
   ],
   "source": [
    "query_analyzer.invoke(\"2 keikli 1 de kremalı makarna istiyorum \")"
   ]
  },
  {
   "cell_type": "code",
   "execution_count": 73,
   "id": "ed362e6a-b615-4c9a-a843-7e885e92d58f",
   "metadata": {},
   "outputs": [
    {
     "data": {
      "text/plain": [
       "FinalResponse(final_output=[{'sip_name': 'hamburger', 'sip_count': 2, 'sip_mod': '', 'sip_price': 0.0}, {'sip_name': 'kola', 'sip_count': 1, 'sip_mod': '', 'sip_price': 0.0}])"
      ]
     },
     "execution_count": 73,
     "metadata": {},
     "output_type": "execute_result"
    }
   ],
   "source": [
    "query_analyzer.invoke(\"2 hamburger istiyorum yanına 1 kola \")"
   ]
  },
  {
   "cell_type": "code",
   "execution_count": 74,
   "id": "bca68cbb-da4a-4da5-899a-52608a97668f",
   "metadata": {},
   "outputs": [
    {
     "data": {
      "text/plain": [
       "FinalResponse(final_output=[{'del_name': 'pizza', 'del_count': 1, 'is_all': None, 'description': None}])"
      ]
     },
     "execution_count": 74,
     "metadata": {},
     "output_type": "execute_result"
    }
   ],
   "source": [
    "query_analyzer.invoke(\"1 pizzayı silelim \")"
   ]
  },
  {
   "cell_type": "code",
   "execution_count": 75,
   "id": "ad95c649-29ca-41cc-a36e-a6bcfb94f954",
   "metadata": {},
   "outputs": [
    {
     "data": {
      "text/plain": [
       "FinalResponse(final_output=[{'del_name': 'hamburger', 'del_count': 1, 'is_all': None, 'description': None}])"
      ]
     },
     "execution_count": 75,
     "metadata": {},
     "output_type": "execute_result"
    }
   ],
   "source": [
    "query_analyzer.invoke(\"hamburgerlerden vazgeçtim\")"
   ]
  },
  {
   "cell_type": "markdown",
   "id": "97d10d87-578f-47a0-9b4f-1828fd35440a",
   "metadata": {},
   "source": [
    "# ayıklanmış itemlere menü kontrolü"
   ]
  },
  {
   "cell_type": "code",
   "execution_count": 24,
   "id": "9b9f1390-f60d-412f-a54a-ea4f7f122b9c",
   "metadata": {
    "editable": true,
    "slideshow": {
     "slide_type": ""
    },
    "tags": []
   },
   "outputs": [],
   "source": [
    "def check_sip_in_menu(final_response: FinalResponse, data: pd.DataFrame) -> List[dict]:\n",
    "    \"\"\"\n",
    "    Checks if `sip` items in the FinalResponse exist in the `urun` column of the menu DataFrame.\n",
    "\n",
    "    :param final_response: FinalResponse object containing the structured output.\n",
    "    :param menu_data: pandas DataFrame containing the menu with a `urun` column.\n",
    "    :return: List of results with each `sip` item and its existence status.\n",
    "    \"\"\"\n",
    "    # 'urun' sütunundaki benzersiz ürünleri al\n",
    "    #menu_items = data[['urun', 'Fiyat']].drop_duplicates().set_index('urun').to_dict()['Fiyat']\n",
    "    menu_dict = dict(zip(data['urun'].str.lower(), data['Fiyat']))  # Ürün ismini küçük harfe çevirip, fiyatı eşliyoruz\n",
    "\n",
    "    \n",
    "    # Sonuçları tutmak için liste\n",
    "    results = []\n",
    "\n",
    "    # FinalResponse içindeki `sip` nesnelerini kontrol et\n",
    "    for item in final_response.final_output:\n",
    "        if isinstance(item, dict) and \"sip_name\" in item:\n",
    "            sip_name_lower = item[\"sip_name\"].strip().lower()  # sip_name'i küçük harfe çeviriyoruz\n",
    "\n",
    "            # Menüde ürün varsa, fiyatı alıyoruz, yoksa \"Fiyat bulunamadı\" yazıyoruz\n",
    "            if sip_name_lower in menu_dict:\n",
    "                sip_price = menu_dict[sip_name_lower]\n",
    "                exists = True\n",
    "            else:\n",
    "                sip_price = \"Fiyat bulunamadı\"\n",
    "                exists = False\n",
    "\n",
    "            results.append({\n",
    "                \"sip_name\": item[\"sip_name\"],\n",
    "                \"sip_count\": item[\"sip_count\"],\n",
    "                \"sip_mod\": item[\"sip_mod\"],\n",
    "                \"sip_price\": sip_price,\n",
    "                \"exists_in_menu\": exists\n",
    "                \n",
    "            })\n",
    "\n",
    "    return results"
   ]
  },
  {
   "cell_type": "code",
   "execution_count": 25,
   "id": "39ca8fac-3cf2-4bf6-b581-2bc01c415f83",
   "metadata": {},
   "outputs": [],
   "source": [
    "#check_sip_in_menu(final_response=FinalResponse(final_output=[{'sip_name': 'Karides tava', 'sip_count': 2}]),data=data)"
   ]
  },
  {
   "cell_type": "code",
   "execution_count": 26,
   "id": "7f074b2e-6efe-494c-ae20-c50817643422",
   "metadata": {},
   "outputs": [
    {
     "data": {
      "text/plain": [
       "[{'sip_name': 'antrikot',\n",
       "  'sip_count': 2,\n",
       "  'sip_mod': '',\n",
       "  'sip_price': '190 TL',\n",
       "  'exists_in_menu': True},\n",
       " {'sip_name': 'kola',\n",
       "  'sip_count': 1,\n",
       "  'sip_mod': '',\n",
       "  'sip_price': 'Fiyat bulunamadı',\n",
       "  'exists_in_menu': False}]"
      ]
     },
     "execution_count": 26,
     "metadata": {},
     "output_type": "execute_result"
    }
   ],
   "source": [
    "check_sip_in_menu(final_response=query_analyzer.invoke(\"2 antrikot istiyorum yanına 1 kola \"),data=data)"
   ]
  },
  {
   "cell_type": "code",
   "execution_count": 27,
   "id": "6358d5ec-e118-40e8-999d-2578a2478755",
   "metadata": {},
   "outputs": [
    {
     "data": {
      "text/plain": [
       "[{'sip_name': 'NACHOS',\n",
       "  'sip_count': 2,\n",
       "  'sip_mod': '',\n",
       "  'sip_price': '120 TL',\n",
       "  'exists_in_menu': True}]"
      ]
     },
     "execution_count": 27,
     "metadata": {},
     "output_type": "execute_result"
    }
   ],
   "source": [
    "quest=query_analyzer.invoke(\"2 NACHOS istiyorum\")\n",
    "check_sip_in_menu(final_response=quest,data=data)"
   ]
  },
  {
   "cell_type": "code",
   "execution_count": 28,
   "id": "46296d91-ec6a-4a73-98dd-9d4dc2b727d1",
   "metadata": {},
   "outputs": [],
   "source": [
    "order_history=[]\n",
    "quest=query_analyzer.invoke(\"2 izgara tavuk istiyorum\")\n",
    "deneme=check_sip_in_menu(final_response=quest,data=data)\n",
    "for result in deneme:\n",
    "            if result.get(\"exists_in_menu\", True):\n",
    "                order_history.append(result)"
   ]
  },
  {
   "cell_type": "code",
   "execution_count": 29,
   "id": "49abaab2-2e36-4fc1-8270-197ed0c763b7",
   "metadata": {},
   "outputs": [
    {
     "data": {
      "text/plain": [
       "{'sip_name': 'izgara tavuk',\n",
       " 'sip_count': 2,\n",
       " 'sip_mod': '',\n",
       " 'sip_price': '130 TL',\n",
       " 'exists_in_menu': True}"
      ]
     },
     "execution_count": 29,
     "metadata": {},
     "output_type": "execute_result"
    }
   ],
   "source": [
    "order_history[0]"
   ]
  },
  {
   "cell_type": "code",
   "execution_count": 30,
   "id": "1391986d-be5a-4646-a463-6a1df233a811",
   "metadata": {},
   "outputs": [
    {
     "data": {
      "text/plain": [
       "[]"
      ]
     },
     "execution_count": 30,
     "metadata": {},
     "output_type": "execute_result"
    }
   ],
   "source": [
    "quest=query_analyzer.invoke(\"mozarella pizzanın içinde ne var \")\n",
    "check_sip_in_menu(final_response=quest,data=data)"
   ]
  },
  {
   "cell_type": "code",
   "execution_count": 31,
   "id": "cb0d0197-3464-4eb6-98d8-149472fe67ea",
   "metadata": {},
   "outputs": [
    {
     "name": "stderr",
     "output_type": "stream",
     "text": [
      "/var/folders/04/nhwvkmt13753zn37rgwn35zr0000gn/T/ipykernel_74148/3353824168.py:1: LangChainDeprecationWarning: Please see the migration guide at: https://python.langchain.com/docs/versions/migrating_memory/\n",
      "  memory = ConversationBufferMemory(memory_key=\"chat_history\", return_messages=True)\n"
     ]
    }
   ],
   "source": [
    "memory = ConversationBufferMemory(memory_key=\"chat_history\", return_messages=True)"
   ]
  },
  {
   "cell_type": "code",
   "execution_count": 32,
   "id": "e978700a-b33f-4343-99ad-baadddd8b34a",
   "metadata": {},
   "outputs": [],
   "source": [
    "rag_chain = RetrievalQA.from_chain_type(\n",
    "    llm=llm,\n",
    "    chain_type=\"stuff\",\n",
    "    retriever=retriever,\n",
    "    input_key=\"query\",\n",
    "    return_source_documents=False,\n",
    "    memory=memory  # Hafızayı buraya ekliyoruz\n",
    ")\n",
    "prompt = ChatPromptTemplate.from_messages(\n",
    "    [\n",
    "        (\"system\", system_prompt),\n",
    "        (\"human\", \"{input}\"),\n",
    "    ]\n",
    ")\n",
    "rag_chain= create_retrieval_chain(retriever, create_stuff_documents_chain(llm, prompt))"
   ]
  },
  {
   "cell_type": "markdown",
   "id": "b8c6464b-303a-4852-9fee-b021a07e8d86",
   "metadata": {},
   "source": [
    "# iki zinciri birlikte çağırma"
   ]
  },
  {
   "cell_type": "code",
   "execution_count": 33,
   "id": "2f0a3efe-1d2c-48aa-ad75-bf9c117cceca",
   "metadata": {},
   "outputs": [],
   "source": [
    "def run_conversation1(query: str):\n",
    "    # RAG zincirinden yanıt alıyoruz\n",
    "    rag_output = rag_chain.invoke({\"input\": query})\n",
    "\n",
    "    quest=query_analyzer.invoke({\"query\": query})\n",
    "\n",
    "\n",
    "    # check_sip_in_menu fonksiyonunu çalıştırıyoruz\n",
    "    sip_check_result = check_sip_in_menu(quest, data)\n",
    "\n",
    "    # Hem RAG çıktısını hem de sip kontrolünü döndürüyoruz\n",
    "    return {\n",
    "        \"rag_response\": rag_output,\n",
    "        \"sip_check_result\": sip_check_result\n",
    "    }\n"
   ]
  },
  {
   "cell_type": "code",
   "execution_count": 34,
   "id": "4ec304c7-e2fc-4d71-a8ff-9e7434f69515",
   "metadata": {},
   "outputs": [
    {
     "name": "stdout",
     "output_type": "stream",
     "text": [
      "{'rag_response': {'input': ' iki tane antrikot siparişi vermek istiyorum ama sıcak olsun lütfen', 'context': [Document(metadata={'source': 'menu1.csv', 'row': 22}, page_content='Kategori;urun;icindekiler;Fiyat: Ana Yemekler;Antrikot;ozel marine edilmis antrikot\\nNone: kozlenmis sebzeler,patates puresi;190 TL'), Document(metadata={'source': 'menu1.csv', 'row': 21}, page_content='Kategori;urun;icindekiler;Fiyat: Ana Yemekler;izgara Tavuk;izgara tavuk gogsu\\nNone: sebze garnituru,sarimsakli patates puresi;130 TL'), Document(metadata={'source': 'menu1.csv', 'row': 25}, page_content='Kategori;urun;icindekiler;Fiyat: Ana Yemekler;Sebzeli Guvec;Firinlanmis taze sebzeler\\nNone: domates sos;85 TL'), Document(metadata={'source': 'menu1.csv', 'row': 26}, page_content='Kategori;urun;icindekiler;Fiyat: Tatlilar;Sufle;Belcika cikolatasi\\nNone: tereyagi,un,yumurta;65 TL')], 'answer': 'Merhaba, hoş geldiniz! İki adet sıcak antrikot siparişi almak harika bir seçim. Siparişinizi onaylıyorum: İki adet özel marine edilmiş antrikot. Başka bir konuda yardımcı olabilir miyim?'}, 'sip_check_result': [{'sip_name': 'antrikot', 'sip_count': 2, 'sip_mod': 'sıcak', 'sip_price': '190 TL', 'exists_in_menu': True}]}\n"
     ]
    }
   ],
   "source": [
    "inp=\" iki tane antrikot siparişi vermek istiyorum ama sıcak olsun lütfen\"\n",
    "print(run_conversation1(inp))"
   ]
  },
  {
   "cell_type": "code",
   "execution_count": null,
   "id": "e8d5bdd5-3c9e-45de-9f92-567b987c3d1a",
   "metadata": {},
   "outputs": [],
   "source": []
  },
  {
   "cell_type": "code",
   "execution_count": 58,
   "id": "7fb87b63-a548-4a04-836e-bb2cb1db53d8",
   "metadata": {},
   "outputs": [
    {
     "ename": "TypeError",
     "evalue": "run_conversation() takes 0 positional arguments but 1 was given",
     "output_type": "error",
     "traceback": [
      "\u001b[0;31m---------------------------------------------------------------------------\u001b[0m",
      "\u001b[0;31mTypeError\u001b[0m                                 Traceback (most recent call last)",
      "Cell \u001b[0;32mIn[58], line 2\u001b[0m\n\u001b[1;32m      1\u001b[0m query \u001b[38;5;241m=\u001b[39m \u001b[38;5;124m\"\u001b[39m\u001b[38;5;124msütlaç olsun iki tane ama icinde tarcin olmasın \u001b[39m\u001b[38;5;124m\"\u001b[39m\n\u001b[0;32m----> 2\u001b[0m output \u001b[38;5;241m=\u001b[39m \u001b[43mrun_conversation\u001b[49m\u001b[43m(\u001b[49m\u001b[43mquery\u001b[49m\u001b[43m)\u001b[49m\n\u001b[1;32m      4\u001b[0m \u001b[38;5;66;03m# Sonuçları yazdırıyoruz\u001b[39;00m\n\u001b[1;32m      5\u001b[0m dic\u001b[38;5;241m=\u001b[39moutput[\u001b[38;5;124m'\u001b[39m\u001b[38;5;124mrag_response\u001b[39m\u001b[38;5;124m'\u001b[39m]\n",
      "\u001b[0;31mTypeError\u001b[0m: run_conversation() takes 0 positional arguments but 1 was given"
     ]
    }
   ],
   "source": [
    "query = \"sütlaç olsun iki tane ama icinde tarcin olmasın \"\n",
    "output = run_conversation(query)\n",
    "\n",
    "# Sonuçları yazdırıyoruz\n",
    "dic=output['rag_response']\n",
    "\n",
    "print(\"RAG Response:\", dic['result'])\n",
    "print(\"Sip Check Result:\", output['sip_check_result'])\n"
   ]
  },
  {
   "cell_type": "code",
   "execution_count": null,
   "id": "a3044ce4-00da-40ef-b107-14bec7132644",
   "metadata": {},
   "outputs": [],
   "source": [
    "def correct_spelling_with_gpt(text: str) -> str:\n",
    "    prompt = f\"Yazım hatalarını düzelt: '{text}'\"\n",
    "    response = llm(prompt)  # Model cevabını alıyoruz\n",
    "\n",
    "    # Yanıtın türünü kontrol ediyoruz\n",
    "    print(type(response))  # Yanıtın türünü öğrenin\n",
    "    print(response)        # Yanıtı yazdırarak yapısını görün\n",
    "\n",
    "    # AIMessage objesinin doğru özelliğine erişim (Örneğin, 'content' olabilir)\n",
    "    if hasattr(response, 'text'):  # Eğer 'text' özelliği varsa\n",
    "        corrected_text = response.text.strip()\n",
    "    elif hasattr(response, 'content'):  # 'content' özelliği varsa\n",
    "        corrected_text = response.content.strip()\n",
    "    else:\n",
    "        corrected_text = str(response).strip()  # Eğer başka bir formatta ise, string olarak al\n",
    "\n",
    "    return corrected_text\n",
    "    # bu fonksiyon düzenlenip, kelimeleri menudeki var olan urunlere bağlayabilmeli"
   ]
  },
  {
   "cell_type": "code",
   "execution_count": null,
   "id": "f5851c40-3db2-45c4-a3eb-9f241060df13",
   "metadata": {},
   "outputs": [],
   "source": [
    "correct_spelling_with_gpt(\"denemeeee\")"
   ]
  },
  {
   "cell_type": "markdown",
   "id": "f9c428ce-aade-4653-b5f0-442918085b3d",
   "metadata": {},
   "source": [
    "# sonsuz döngü"
   ]
  },
  {
   "cell_type": "code",
   "execution_count": 36,
   "id": "021e48a3-4ba4-46bd-9018-148903e1e48c",
   "metadata": {},
   "outputs": [
    {
     "data": {
      "text/plain": [
       "{'input': 'merhaba',\n",
       " 'context': [Document(metadata={'source': 'menu1.csv', 'row': 4}, page_content='Kategori;urun;icindekiler;Fiyat: Baslangiclar;Falafel Tabagi;Falafel koftesi\\nNone: humus,tahin sos,salata;75 TL'),\n",
       "  Document(metadata={'source': 'menu1.csv', 'row': 24}, page_content='Kategori;urun;icindekiler;Fiyat: Ana Yemekler;Falafel Tabagi;Falafel kofteleri\\nNone: humus,tahin sos;75 TL'),\n",
       "  Document(metadata={'source': 'menu1.csv', 'row': 18}, page_content='Kategori;urun;icindekiler;Fiyat: Hamburgerler;Siyah Burger;Siyah fasulye koftesi\\nNone: krem peynir,marul,sogan,domates,tursu;95 TL'),\n",
       "  Document(metadata={'source': 'menu1.csv', 'row': 17}, page_content='Kategori;urun;icindekiler;Fiyat: Hamburgerler;Cheeseburger;Dana kofte\\nNone: cheddar,izgara sogan,tursu,ketcap,hardal;115 TL')],\n",
       " 'answer': 'Merhaba! Hoş geldiniz. Size nasıl yardımcı olabilirim?'}"
      ]
     },
     "execution_count": 36,
     "metadata": {},
     "output_type": "execute_result"
    }
   ],
   "source": [
    "deneme=rag_chain.invoke({\"input\": \"merhaba\"})\n",
    "deneme"
   ]
  },
  {
   "cell_type": "code",
   "execution_count": 37,
   "id": "50a28e37-cdc6-48b1-816a-c847c3a406f1",
   "metadata": {
    "editable": true,
    "slideshow": {
     "slide_type": ""
    },
    "tags": []
   },
   "outputs": [
    {
     "ename": "KeyboardInterrupt",
     "evalue": "Interrupted by user",
     "output_type": "error",
     "traceback": [
      "\u001b[0;31m---------------------------------------------------------------------------\u001b[0m",
      "\u001b[0;31mKeyboardInterrupt\u001b[0m                         Traceback (most recent call last)",
      "Cell \u001b[0;32mIn[37], line 100\u001b[0m\n\u001b[1;32m     97\u001b[0m         \u001b[38;5;28mprint\u001b[39m(\u001b[38;5;124m\"\u001b[39m\u001b[38;5;124mSipariş Durumu:\u001b[39m\u001b[38;5;124m\"\u001b[39m, order_history)\n\u001b[1;32m     99\u001b[0m \u001b[38;5;66;03m# Konuşma başlatma\u001b[39;00m\n\u001b[0;32m--> 100\u001b[0m \u001b[43mrun_conversation\u001b[49m\u001b[43m(\u001b[49m\u001b[43m)\u001b[49m\n",
      "Cell \u001b[0;32mIn[37], line 8\u001b[0m, in \u001b[0;36mrun_conversation\u001b[0;34m()\u001b[0m\n\u001b[1;32m      4\u001b[0m \u001b[38;5;66;03m#rag_output = rag_chain.invoke({\"query\": prompt3})\u001b[39;00m\n\u001b[1;32m      6\u001b[0m \u001b[38;5;28;01mwhile\u001b[39;00m \u001b[38;5;28;01mTrue\u001b[39;00m:\n\u001b[1;32m      7\u001b[0m     \u001b[38;5;66;03m# Kullanıcıdan soru alıyoruz\u001b[39;00m\n\u001b[0;32m----> 8\u001b[0m     query \u001b[38;5;241m=\u001b[39m \u001b[38;5;28;43minput\u001b[39;49m\u001b[43m(\u001b[49m\u001b[38;5;124;43m\"\u001b[39;49m\u001b[38;5;124;43mSoru (exit yazarsanız çıkılır): \u001b[39;49m\u001b[38;5;124;43m\"\u001b[39;49m\u001b[43m)\u001b[49m\n\u001b[1;32m     10\u001b[0m     \u001b[38;5;66;03m# 'exit' komutu ile çıkış\u001b[39;00m\n\u001b[1;32m     11\u001b[0m     \u001b[38;5;28;01mif\u001b[39;00m query\u001b[38;5;241m.\u001b[39mlower() \u001b[38;5;241m==\u001b[39m \u001b[38;5;124m\"\u001b[39m\u001b[38;5;124mexit\u001b[39m\u001b[38;5;124m\"\u001b[39m:\n",
      "File \u001b[0;32m/Library/Frameworks/Python.framework/Versions/3.12/lib/python3.12/site-packages/ipykernel/kernelbase.py:1282\u001b[0m, in \u001b[0;36mKernel.raw_input\u001b[0;34m(self, prompt)\u001b[0m\n\u001b[1;32m   1280\u001b[0m     msg \u001b[38;5;241m=\u001b[39m \u001b[38;5;124m\"\u001b[39m\u001b[38;5;124mraw_input was called, but this frontend does not support input requests.\u001b[39m\u001b[38;5;124m\"\u001b[39m\n\u001b[1;32m   1281\u001b[0m     \u001b[38;5;28;01mraise\u001b[39;00m StdinNotImplementedError(msg)\n\u001b[0;32m-> 1282\u001b[0m \u001b[38;5;28;01mreturn\u001b[39;00m \u001b[38;5;28;43mself\u001b[39;49m\u001b[38;5;241;43m.\u001b[39;49m\u001b[43m_input_request\u001b[49m\u001b[43m(\u001b[49m\n\u001b[1;32m   1283\u001b[0m \u001b[43m    \u001b[49m\u001b[38;5;28;43mstr\u001b[39;49m\u001b[43m(\u001b[49m\u001b[43mprompt\u001b[49m\u001b[43m)\u001b[49m\u001b[43m,\u001b[49m\n\u001b[1;32m   1284\u001b[0m \u001b[43m    \u001b[49m\u001b[38;5;28;43mself\u001b[39;49m\u001b[38;5;241;43m.\u001b[39;49m\u001b[43m_parent_ident\u001b[49m\u001b[43m[\u001b[49m\u001b[38;5;124;43m\"\u001b[39;49m\u001b[38;5;124;43mshell\u001b[39;49m\u001b[38;5;124;43m\"\u001b[39;49m\u001b[43m]\u001b[49m\u001b[43m,\u001b[49m\n\u001b[1;32m   1285\u001b[0m \u001b[43m    \u001b[49m\u001b[38;5;28;43mself\u001b[39;49m\u001b[38;5;241;43m.\u001b[39;49m\u001b[43mget_parent\u001b[49m\u001b[43m(\u001b[49m\u001b[38;5;124;43m\"\u001b[39;49m\u001b[38;5;124;43mshell\u001b[39;49m\u001b[38;5;124;43m\"\u001b[39;49m\u001b[43m)\u001b[49m\u001b[43m,\u001b[49m\n\u001b[1;32m   1286\u001b[0m \u001b[43m    \u001b[49m\u001b[43mpassword\u001b[49m\u001b[38;5;241;43m=\u001b[39;49m\u001b[38;5;28;43;01mFalse\u001b[39;49;00m\u001b[43m,\u001b[49m\n\u001b[1;32m   1287\u001b[0m \u001b[43m\u001b[49m\u001b[43m)\u001b[49m\n",
      "File \u001b[0;32m/Library/Frameworks/Python.framework/Versions/3.12/lib/python3.12/site-packages/ipykernel/kernelbase.py:1325\u001b[0m, in \u001b[0;36mKernel._input_request\u001b[0;34m(self, prompt, ident, parent, password)\u001b[0m\n\u001b[1;32m   1322\u001b[0m \u001b[38;5;28;01mexcept\u001b[39;00m \u001b[38;5;167;01mKeyboardInterrupt\u001b[39;00m:\n\u001b[1;32m   1323\u001b[0m     \u001b[38;5;66;03m# re-raise KeyboardInterrupt, to truncate traceback\u001b[39;00m\n\u001b[1;32m   1324\u001b[0m     msg \u001b[38;5;241m=\u001b[39m \u001b[38;5;124m\"\u001b[39m\u001b[38;5;124mInterrupted by user\u001b[39m\u001b[38;5;124m\"\u001b[39m\n\u001b[0;32m-> 1325\u001b[0m     \u001b[38;5;28;01mraise\u001b[39;00m \u001b[38;5;167;01mKeyboardInterrupt\u001b[39;00m(msg) \u001b[38;5;28;01mfrom\u001b[39;00m \u001b[38;5;28;01mNone\u001b[39;00m\n\u001b[1;32m   1326\u001b[0m \u001b[38;5;28;01mexcept\u001b[39;00m \u001b[38;5;167;01mException\u001b[39;00m:\n\u001b[1;32m   1327\u001b[0m     \u001b[38;5;28mself\u001b[39m\u001b[38;5;241m.\u001b[39mlog\u001b[38;5;241m.\u001b[39mwarning(\u001b[38;5;124m\"\u001b[39m\u001b[38;5;124mInvalid Message:\u001b[39m\u001b[38;5;124m\"\u001b[39m, exc_info\u001b[38;5;241m=\u001b[39m\u001b[38;5;28;01mTrue\u001b[39;00m)\n",
      "\u001b[0;31mKeyboardInterrupt\u001b[0m: Interrupted by user"
     ]
    }
   ],
   "source": [
    "# # Sonsuz döngü\n",
    "def run_conversation():\n",
    "    order_history =[]\n",
    "    #rag_output = rag_chain.invoke({\"query\": prompt3})\n",
    "\n",
    "    while True:\n",
    "        # Kullanıcıdan soru alıyoruz\n",
    "        query = input(\"Soru (exit yazarsanız çıkılır): \")\n",
    "\n",
    "        # 'exit' komutu ile çıkış\n",
    "        if query.lower() == \"exit\":\n",
    "            if order_history:\n",
    "                print(\"Siparişleriniz:\")\n",
    "\n",
    "                total_count = 0  # Toplam fiyatı sıfırdan başlatıyoruz\n",
    "                for item in order_history:\n",
    "                    sip_count = int(item['sip_count'])  # Sayıya dönüştürüyoruz\n",
    "                    sip_price_str = item['sip_price']  # Örneğin: \"130 TL\"\n",
    "                    sip_price = float(sip_price_str.replace(' TL', '').strip())  # TL'yi çıkarıp sayıya dönüştürüyoru\n",
    "                    # Her bir ürünün fiyatını hesaplıyoruz (sip_count * sip_price)\n",
    "                    item_total_price = sip_count * sip_price\n",
    "                    total_count += item_total_price  # Toplam fiyata ekliyoruz\n",
    "                        \n",
    "                        # Ürün, sayısı (sip_count) ve fiyat bilgisini yazdırıyoruz\n",
    "                        \n",
    "                    print(f\"{item['sip_name']} x {item['sip_count']} x {item['sip_mod']} = {item_total_price} TL\")\n",
    "\n",
    "                # Toplam fiyatı yazdırıyoruz\n",
    "                print(f\"\\nToplam Sipariş Tutarı: {total_count} TL\")\n",
    "\n",
    "                confirmation = input(\"Onaylıyor musunuz? (Evet/Hayır): \")\n",
    "                if confirmation.lower() == \"evet\":\n",
    "                    # Siparişleri bir .txt dosyasına kaydediyoruz\n",
    "                    with open(\"siparisler.txt\", \"w\", encoding=\"utf-8\") as f:\n",
    "                        for item in order_history:\n",
    "                            f.write(f\"{item['sip_name']} x {item['sip_count']} x {item['sip_mod']}\\n\")\n",
    "                            \n",
    "                    print(\"Siparişleriniz kaydedildi.\")\n",
    "                else:\n",
    "                    print(\"Siparişleriniz iptal edildi.\")\n",
    "            break# Konuşmayı sonlandırıyoruz\n",
    "\n",
    "        #corrected_query = correct_spelling_with_gpt(query)\n",
    "        #print(f\"Düzeltilmiş Soru: {corrected_query}\")\n",
    "\n",
    "\n",
    "        # RAG zincirinden yanıt alıyoruz\n",
    "        rag_output = rag_chain.invoke({\"input\": query})\n",
    "        print(\"RAG Yanıtı:\", rag_output[\"answer\"])\n",
    "\n",
    "        quest=query_analyzer.invoke({\"query\": query})\n",
    "\n",
    "        for item in quest.final_output:\n",
    "            if isinstance(item, dict) and \"wants_order_history\" in item:\n",
    "                if item[\"wants_order_history\"]:\n",
    "                    if order_history:\n",
    "                        print(\"Sipariş Geçmişiniz:\")\n",
    "                        total_count = 0  # Toplam fiyatı sıfırdan başlatıyoruz\n",
    "                        for item in order_history:\n",
    "                            sip_count = int(item['sip_count'])\n",
    "                            sip_price_str = item['sip_price']\n",
    "                            sip_price = float(sip_price_str.replace(' TL', '').strip())\n",
    "                            item_total_price = sip_count * sip_price\n",
    "                            total_count += item_total_price\n",
    "                            print(f\"{item['sip_name']} x {item['sip_count']} x {item['sip_mod']} = {item_total_price} TL\")\n",
    "\n",
    "                        print(f\"\\nToplam Sipariş Tutarı: {total_count} TL\")\n",
    "                    else:\n",
    "                        print(\"Hiç sipariş geçmişiniz bulunmamaktadır.\")\n",
    "                    break\n",
    "\n",
    "        \n",
    "        #print(quest)\n",
    "\n",
    "        #silme isteği ise burda silmeliyiz order_history icinden\n",
    "        for item in quest.final_output:\n",
    "            if isinstance(item, dict) and \"del_name\" in item:\n",
    "                del_name_lower = item[\"del_name\"].lower()\n",
    "                #order_history dizisinden itemler gezilerek del_name ile aynı olanlar bulunup silinmeli sonra final outputtan deleteler kaldırılmalı.\n",
    "                for order in order_history:\n",
    "                    if order[\"sip_name\"]==del_name_lower:\n",
    "                       order[\"sip_count\"]= max((order[\"sip_count\"]-item[\"del_count\"]),0);\n",
    "                quest.final_output.remove(item)\n",
    "\n",
    "\n",
    "    # check_sip_in_menu fonksiyonunu çalıştırıyoruz\n",
    "        sip_check_result = check_sip_in_menu(quest, data)\n",
    "\n",
    "       \n",
    "# Siparişi hafızada tutuyoruz, eğer ürün menüde varsa\n",
    "        for result in sip_check_result:\n",
    "            if result.get(\"exists_in_menu\", True) and \"sip_name\" in result:\n",
    "                order_history.append(result)\n",
    "\n",
    "        # Kullanıcıya yanıt veriyoruz\n",
    "        \n",
    "        print(\"Sipariş Durumu:\", order_history)\n",
    "\n",
    "# Konuşma başlatma\n",
    "run_conversation()"
   ]
  },
  {
   "cell_type": "code",
   "execution_count": null,
   "id": "d2629e7f-50e9-4758-882c-99207172fd7e",
   "metadata": {},
   "outputs": [],
   "source": []
  },
  {
   "cell_type": "code",
   "execution_count": 76,
   "id": "3b6d5975-9ed6-48cf-8511-d2ba53ea264f",
   "metadata": {},
   "outputs": [],
   "source": [
    "import pandas as pd\n",
    "\n",
    "class RestaurantAssistant:\n",
    "    def __init__(self, llm, retriever, data, query_analyzer, rag_chain):\n",
    "        self.llm = llm\n",
    "        self.retriever = retriever\n",
    "        self.data = data\n",
    "        self.rag_chain = rag_chain\n",
    "        self.query_analyzer = query_analyzer\n",
    "        self.order_history = []\n",
    "        self.menu_items = self._prepare_menu_items()\n",
    "\n",
    "\n",
    "    def _normalize_text(self, text):\n",
    "        if not isinstance(text, str):\n",
    "            return ''\n",
    "        \n",
    "        # Turkish character mappings\n",
    "        tr_map = {\n",
    "            'ı': 'i', 'ğ': 'g', 'ü': 'u', 'ş': 's', 'ö': 'o', 'ç': 'c',\n",
    "            'İ': 'i', 'Ğ': 'g', 'Ü': 'u', 'Ş': 's', 'Ö': 'o', 'Ç': 'c'\n",
    "        }\n",
    "        \n",
    "        # Convert text to lowercase\n",
    "        text = text.lower()\n",
    "        \n",
    "        # Replace Turkish characters\n",
    "        for tr_char, eng_char in tr_map.items():\n",
    "            text = text.replace(tr_char, eng_char)\n",
    "        \n",
    "        # Remove all non-alphanumeric characters (including spaces)\n",
    "        normalized = ''.join(c for c in text if c.isalnum())\n",
    "        \n",
    "        return normalized\n",
    "\n",
    "    def validate_menu_item(self, item_name):\n",
    "        if not item_name:\n",
    "            return False\n",
    "            \n",
    "        normalized_query = self._normalize_text(item_name)\n",
    "        \n",
    "        # Try exact match first\n",
    "        if normalized_query in self.menu_items:\n",
    "            return True\n",
    "            \n",
    "        # Try partial matching for compound words\n",
    "        for menu_item in self.menu_items.keys():\n",
    "            if normalized_query in menu_item or menu_item in normalized_query:\n",
    "                return True\n",
    "        \n",
    "        return False\n",
    "\n",
    "    def get_item_details(self, item_name):\n",
    "        normalized_query = self._normalize_text(item_name)\n",
    "        \n",
    "        # Try exact match first\n",
    "        if normalized_query in self.menu_items:\n",
    "            return self.menu_items[normalized_query]\n",
    "            \n",
    "        # Try partial matching\n",
    "        for menu_item, details in self.menu_items.items():\n",
    "            if normalized_query in menu_item or menu_item in normalized_query:\n",
    "                return details\n",
    "        \n",
    "        return None\n",
    "\n",
    "    \n",
    "    \n",
    "    def _prepare_menu_items(self):\n",
    "        if not isinstance(self.data, pd.DataFrame):\n",
    "            raise ValueError(\"`self.data` must be a Pandas DataFrame.\")\n",
    "        if not all(col in self.data.columns for col in ['urun', 'Fiyat']):\n",
    "            raise ValueError(\"DataFrame must contain 'urun' and 'Fiyat' columns.\")\n",
    "        \n",
    "        menu_dict = {}\n",
    "        for _, row in self.data.iterrows():\n",
    "            normalized_name = self._normalize_text(row['urun'])\n",
    "            menu_dict[normalized_name] = {\n",
    "                'price': row['Fiyat'],\n",
    "                'description': row.get('icindekiler', ''),\n",
    "                'display_name': row['urun'],\n",
    "                'kategori': row.get('Kategori', '')\n",
    "            }\n",
    "        return menu_dict\n",
    "    \n",
    "    def get_menu(self):\n",
    "        menu_by_category = {}\n",
    "        for norm_name, details in self.menu_items.items():\n",
    "            category = details['kategori']\n",
    "            if category not in menu_by_category:\n",
    "                menu_by_category[category] = []\n",
    "            menu_by_category[category].append({\n",
    "                'name': details['display_name'],\n",
    "                'price': details['price'],\n",
    "                'description': details['description']\n",
    "            })\n",
    "        return menu_by_category\n",
    "\n",
    "    def validate_menu_item(self, item_name):\n",
    "        normalized_name = self._normalize_text(item_name)\n",
    "        return normalized_name in self.menu_items\n",
    "\n",
    "    def get_item_details(self, item_name):\n",
    "        normalized_name = self._normalize_text(item_name)\n",
    "        return self.menu_items.get(normalized_name)\n",
    "\n",
    "    def process_order_request(self, analyzed_query):\n",
    "        response = {\n",
    "            'valid_items': [],\n",
    "            'invalid_items': [],\n",
    "            'message': ''\n",
    "        }\n",
    "\n",
    "        for item in analyzed_query.final_output:\n",
    "            if isinstance(item, dict):\n",
    "                if \"sip_name\" in item:\n",
    "                    item_name = item[\"sip_name\"]\n",
    "                    item_details = self.get_item_details(item_name)\n",
    "                    \n",
    "                    if item_details:\n",
    "                        response['valid_items'].append({\n",
    "                            'name': item_details['display_name'],\n",
    "                            'count': item['sip_count'],\n",
    "                            'mod': item['sip_mod'],\n",
    "                            'price': item_details['price']\n",
    "                        })\n",
    "                    else:\n",
    "                        response['invalid_items'].append(item_name)\n",
    "                elif \"del_name\" in item:\n",
    "                    self.handle_deletion(item)\n",
    "\n",
    "        if response['invalid_items']:\n",
    "            response['message'] = f\"Üzgünüm, {', '.join(response['invalid_items'])} menümüzde bulunmuyor.\"\n",
    "        elif response['valid_items']:\n",
    "            items_str = ', '.join(f\"{item['count']} adet {item['name']}\" for item in response['valid_items'])\n",
    "            response['message'] = f\"Siparişinizi aldım: {items_str}\"\n",
    "\n",
    "        return response\n",
    "\n",
    "    def handle_deletion(self, delete_request):\n",
    "        del_name = self._normalize_text(delete_request[\"del_name\"])\n",
    "        del_count = delete_request.get(\"del_count\", 1)\n",
    "        \n",
    "        for order in self.order_history:\n",
    "            if self._normalize_text(order[\"name\"]) == del_name:\n",
    "                order[\"count\"] = max(0, order[\"count\"] - del_count)\n",
    "                if order[\"count\"] == 0:\n",
    "                    self.order_history.remove(order)\n",
    "                return True\n",
    "        return False\n",
    "\n",
    "    def update_order_history(self, valid_items):\n",
    "        for item in valid_items:\n",
    "            existing_order = next(\n",
    "                (order for order in self.order_history \n",
    "                 if self._normalize_text(order[\"name\"]) == self._normalize_text(item[\"name\"])),\n",
    "                None\n",
    "            )\n",
    "            \n",
    "            if existing_order:\n",
    "                existing_order[\"count\"] += item[\"count\"]\n",
    "            else:\n",
    "                self.order_history.append(item.copy())\n",
    "\n",
    "    def get_order_summary(self):\n",
    "        if not self.order_history:\n",
    "            return \"Henüz sipariş verilmemiş.\"\n",
    "        \n",
    "        total_amount = 0\n",
    "        summary = \"Siparişleriniz:\\n\"\n",
    "        \n",
    "        for item in self.order_history:\n",
    "            sip_count = int(item['count'])\n",
    "            sip_price_str = item['price']\n",
    "            sip_price = float(sip_price_str.replace(' TL', '').strip())\n",
    "            \n",
    "            item_total = sip_count * sip_price\n",
    "            total_amount += item_total\n",
    "            \n",
    "            summary += f\"{item['name']} x {sip_count}\"\n",
    "            if item.get('mod'):\n",
    "                summary += f\" ({item['mod']})\"\n",
    "            summary += f\" = {item_total} TL\\n\"\n",
    "        \n",
    "        summary += f\"\\nToplam Tutar: {total_amount} TL\"\n",
    "        return summary\n",
    "\n",
    "    def process_query(self, query):\n",
    "        order_queries = [\n",
    "            \"siparişlerim\", \"siparişlerim neler\", \"sipariş durumu\",\n",
    "            \"ne sipariş verdim\", \"siparişlerimi göster\", \"siparişlerime bak\"\n",
    "        ]\n",
    "        \n",
    "        normalized_query = query.lower().strip()\n",
    "        \n",
    "        if any(q in normalized_query for q in order_queries):\n",
    "            if not self.order_history:\n",
    "                return {\"message\": \"Henüz sipariş verilmemiş.\", \"order_summary\": None}\n",
    "            return {\n",
    "                \"message\": \"Mevcut siparişleriniz aşağıdadır:\",\n",
    "                \"order_summary\": self.get_order_summary()\n",
    "            }\n",
    "\n",
    "        if normalized_query == \"menüde neler var\":\n",
    "            menu = self.get_menu()\n",
    "            message = \"Menümüzde:\\n\\n\"\n",
    "            for category, items in menu.items():\n",
    "                if category:\n",
    "                    message += f\"**{category}:**\\n\"\n",
    "                    for item in items:\n",
    "                        desc = f\": {item['description']}\" if item['description'] else \"\"\n",
    "                        message += f\"- {item['name']}{desc} - {item['price']}\\n\"\n",
    "                    message += \"\\n\"\n",
    "            return {\"message\": message, \"order_summary\": self.get_order_summary() if self.order_history else None}\n",
    "\n",
    "        analyzed_query = self.query_analyzer.invoke({\"query\": query})\n",
    "        order_result = self.process_order_request(analyzed_query)\n",
    "        \n",
    "        if order_result['valid_items']:\n",
    "            self.update_order_history(order_result['valid_items'])\n",
    "\n",
    "        rag_response = self.rag_chain.invoke({\"input\": query})\n",
    "        response_message = order_result['message']\n",
    "        \n",
    "        if not response_message and rag_response.get(\"answer\"):\n",
    "            response_message = rag_response[\"answer\"]\n",
    "\n",
    "        return {\n",
    "            \"message\": response_message or \"Anlayamadım, lütfen tekrar eder misiniz?\",\n",
    "            \"order_summary\": self.get_order_summary() if self.order_history else None\n",
    "        }\n",
    "\n",
    "def run_interactive_session():\n",
    "    assistant = RestaurantAssistant(llm, retriever, data, query_analyzer, rag_chain)\n",
    "    \n",
    "    while True:\n",
    "        query = input(\"Nasıl yardımcı olabilirim? (Çıkmak için 'exit' yazın): \")\n",
    "        \n",
    "        if query.lower() == \"exit\":\n",
    "            print(\"\\nMevcut Sipariş Özeti:\")\n",
    "            print(assistant.get_order_summary())\n",
    "            \n",
    "            confirmation = input(\"\\nSiparişi onaylıyor musunuz? (Evet/Hayır): \")\n",
    "            if confirmation.lower() == \"evet\":\n",
    "                print(\"Siparişiniz kaydedildi. Teşekkürler!\")\n",
    "            else:\n",
    "                print(\"Sipariş iptal edildi.\")\n",
    "            break\n",
    "        \n",
    "        response = assistant.process_query(query)\n",
    "        print(\"\\nGarson:\", response[\"message\"])\n",
    "        \n",
    "        if response[\"order_summary\"]:\n",
    "            print(\"\\nGüncel Sipariş Durumu:\")\n",
    "            print(response[\"order_summary\"])"
   ]
  },
  {
   "cell_type": "code",
   "execution_count": 77,
   "id": "17eb3c66-44d3-48b3-99e8-04cf32a0b135",
   "metadata": {},
   "outputs": [
    {
     "name": "stdin",
     "output_type": "stream",
     "text": [
      "Nasıl yardımcı olabilirim? (Çıkmak için 'exit' yazın):  menüde neler var \n"
     ]
    },
    {
     "name": "stdout",
     "output_type": "stream",
     "text": [
      "\n",
      "Garson: Menümüzde:\n",
      "\n",
      "**Baslangiclar:**\n",
      "- Nachos: El yapimi tortilla cips, cheddar, yesil sogan, jalapenos, siyah zeytin - 120 TL\n",
      "- Mozzarella cubuklari: Pane mozzarella cubuklari, pesto sos - 115 TL\n",
      "- Tavuk Kanatlari: Pane tavuk kanatlari; sos secenekleri: BBQ, hardal, ketcap, mayonez - 125 TL\n",
      "- Karides Tava: Jumbo karides, sarimsak, tereyagi, limon suyu, baharatlar - 150 TL\n",
      "- Sebzeli Spring Roll: Havuc, kabak, lahana, pirinc yufkasi, tatli eksi sos - 70 TL\n",
      "\n",
      "**Ana Yemekler:**\n",
      "- Falafel Tabagi: Falafel kofteleri, humus, tahin sos - 75 TL\n",
      "- izgara Tavuk: izgara tavuk gogsu, sebze garnituru, sarimsakli patates puresi - 130 TL\n",
      "- Antrikot: ozel marine edilmis antrikot, kozlenmis sebzeler, patates puresi - 190 TL\n",
      "- Somon izgara: Taze limon soslu izgara somon, izgara sebzeler - 180 TL\n",
      "- Sebzeli Guvec: Firinlanmis taze sebzeler, domates sos - 85 TL\n",
      "\n",
      "**Corbalar:**\n",
      "- Mercimek corbasi: Kirmizi mercimek, patates, havuc, sogan, sarimsak, zeytinyagi, tavuk suyu, kimyon, tuz, karabiber - 40 TL\n",
      "- Kremali Mantar corbasi: Taze mantar, sogan, sarimsak, krema, tereyagi, un, sut, tavuk suyu, tuz, karabiber - 45 TL\n",
      "- Domates corbasi: Domates, salca, sogan, sarimsak, un, sut, sebze suyu, tereyagi, tuz, karabiber, feslegen - 40 TL\n",
      "- Tavuk Suyu corbasi: Tavuk suyu, haslanmis tavuk, arpa sehriye, havuc, patates, kereviz, maydanoz - 50 TL\n",
      "- Balkabagi corbasi: Balkabagi, sogan, sarimsak, krema, zeytinyagi, tavuk suyu, muskat, tuz, karabiber - 55 TL\n",
      "\n",
      "**Pizzalar:**\n",
      "- Peynirli Tavuk Pizza: Tavuk, cheddar, rokfor, mantar, sarimsak sos - 110 TL\n",
      "- Etli Pizza: Jambon, tavuk, bacon, mozzarella, beyaz sos - 145 TL\n",
      "- Vegan Pizza: Domates, mantar, tatli biber, sogan, feslegen, vegan mozzarella, kirmizi sos - 85 TL\n",
      "- Acili Deniz Pizza: Karides, somon, domates, mozzarella, beyaz sos - 145 TL\n",
      "- Margarita Pizza: Domates, mozzarella, feslegen, zeytinyagi - 85 TL\n",
      "\n",
      "**Hamburgerler:**\n",
      "- Klasik Burger: Dana kofte, cheddar, domates, sogan, marul, BBQ sos - 115 TL\n",
      "- Cheeseburger: Dana kofte, cheddar, izgara sogan, tursu, ketcap, hardal - 115 TL\n",
      "- Siyah Burger: Siyah fasulye koftesi, krem peynir, marul, sogan, domates, tursu - 95 TL\n",
      "- Tavuk Burger: citir tavuk, cheddar, domates, tatli sogan, sarimsak sos - 100 TL\n",
      "- Acili Burger: Dana kofte, jalapenos, aci sos, cheddar, marul - 120 TL\n",
      "\n",
      "**Tatlilar:**\n",
      "- Sufle: Belcika cikolatasi, tereyagi, un, yumurta - 65 TL\n",
      "- Tiramisu: Mascarpone, espresso, ozel biskuvi - 85 TL\n",
      "- Cheesecake: Krema peynir, biskuvi tabani, meyve sosu - 80 TL\n",
      "- Firin Sutlac: Sut, pirinc, seker, tarcin - 50 TL\n",
      "\n",
      "\n"
     ]
    },
    {
     "name": "stdin",
     "output_type": "stream",
     "text": [
      "Nasıl yardımcı olabilirim? (Çıkmak için 'exit' yazın):  3 adet falafel tabağı yanına da mercimek çorbası alabilir miyim \n"
     ]
    },
    {
     "name": "stdout",
     "output_type": "stream",
     "text": [
      "\n",
      "Garson: Siparişinizi aldım: 3 adet Falafel Tabagi, 1 adet Mercimek corbasi\n",
      "\n",
      "Güncel Sipariş Durumu:\n",
      "Siparişleriniz:\n",
      "Falafel Tabagi x 3 = 225.0 TL\n",
      "Mercimek corbasi x 1 = 40.0 TL\n",
      "\n",
      "Toplam Tutar: 265.0 TL\n"
     ]
    },
    {
     "name": "stdin",
     "output_type": "stream",
     "text": [
      "Nasıl yardımcı olabilirim? (Çıkmak için 'exit' yazın):  falafel tabaklarından birinden vazgeçtim onun yerine vegan pizza ekleyelim \n"
     ]
    },
    {
     "name": "stdout",
     "output_type": "stream",
     "text": [
      "\n",
      "Garson: Siparişinizi aldım: 1 adet Vegan Pizza\n",
      "\n",
      "Güncel Sipariş Durumu:\n",
      "Siparişleriniz:\n",
      "Falafel Tabagi x 3 = 225.0 TL\n",
      "Mercimek corbasi x 1 = 40.0 TL\n",
      "Vegan Pizza x 1 = 85.0 TL\n",
      "\n",
      "Toplam Tutar: 350.0 TL\n"
     ]
    },
    {
     "name": "stdin",
     "output_type": "stream",
     "text": [
      "Nasıl yardımcı olabilirim? (Çıkmak için 'exit' yazın):  falafel tabaklarından birinden vazgeçtim onu çıkatır mısın \n"
     ]
    },
    {
     "name": "stdout",
     "output_type": "stream",
     "text": [
      "\n",
      "Garson: Elbette, falafel tabaklarından birini çıkardım. Siparişinizde başka bir değişiklik yapmak ister misiniz?\n",
      "\n",
      "Güncel Sipariş Durumu:\n",
      "Siparişleriniz:\n",
      "Falafel Tabagi x 3 = 225.0 TL\n",
      "Mercimek corbasi x 1 = 40.0 TL\n",
      "Vegan Pizza x 1 = 85.0 TL\n",
      "\n",
      "Toplam Tutar: 350.0 TL\n"
     ]
    },
    {
     "name": "stdin",
     "output_type": "stream",
     "text": [
      "Nasıl yardımcı olabilirim? (Çıkmak için 'exit' yazın):  bana başka neler önerebilrsin menüden \n"
     ]
    },
    {
     "name": "stdout",
     "output_type": "stream",
     "text": [
      "\n",
      "Garson: Hoş geldiniz! Menüdeki bazı seçenekleri paylaşabilirim. \n",
      "\n",
      "- Ana Yemekler arasında Izgara Tavuk (ızgara tavuk göğsü, sebze garnitürü, sarımsaklı patates püresi) ve Sebzeli Güveç (fırınlanmış taze sebzeler, domates sos) bulunmaktadır.\n",
      "- Hamburgerler bölümünde Tavuk Burger (çıtır tavuk, cheddar, domates, tatlı soğan, sarımsak sos) seçeneğimiz var.\n",
      "- Başlangıçlar arasında ise Tavuk Kanatları (pane tavuk kanatları, sos seçenekleri: BBQ, hardal, ketçap, mayonez) mevcut.\n",
      "\n",
      "Bu seçeneklerden herhangi biriyle ilgili daha fazla bilgi almak isterseniz veya sipariş vermek isterseniz, memnuniyetle yardımcı olurum. Başka bir konuda yardımcı olabilir miyim?\n",
      "\n",
      "Güncel Sipariş Durumu:\n",
      "Siparişleriniz:\n",
      "Falafel Tabagi x 3 = 225.0 TL\n",
      "Mercimek corbasi x 1 = 40.0 TL\n",
      "Vegan Pizza x 1 = 85.0 TL\n",
      "\n",
      "Toplam Tutar: 350.0 TL\n"
     ]
    },
    {
     "name": "stdin",
     "output_type": "stream",
     "text": [
      "Nasıl yardımcı olabilirim? (Çıkmak için 'exit' yazın):  o zaman ızgara tavuk da ekleyelim \n"
     ]
    },
    {
     "name": "stdout",
     "output_type": "stream",
     "text": [
      "\n",
      "Garson: Siparişinizi aldım: 1 adet izgara Tavuk\n",
      "\n",
      "Güncel Sipariş Durumu:\n",
      "Siparişleriniz:\n",
      "Falafel Tabagi x 3 = 225.0 TL\n",
      "Mercimek corbasi x 1 = 40.0 TL\n",
      "Vegan Pizza x 1 = 85.0 TL\n",
      "izgara Tavuk x 1 = 130.0 TL\n",
      "\n",
      "Toplam Tutar: 480.0 TL\n"
     ]
    },
    {
     "name": "stdin",
     "output_type": "stream",
     "text": [
      "Nasıl yardımcı olabilirim? (Çıkmak için 'exit' yazın):  siparişlerim neler şuana kadar \n"
     ]
    },
    {
     "name": "stdout",
     "output_type": "stream",
     "text": [
      "\n",
      "Garson: Mevcut siparişleriniz aşağıdadır:\n",
      "\n",
      "Güncel Sipariş Durumu:\n",
      "Siparişleriniz:\n",
      "Falafel Tabagi x 3 = 225.0 TL\n",
      "Mercimek corbasi x 1 = 40.0 TL\n",
      "Vegan Pizza x 1 = 85.0 TL\n",
      "izgara Tavuk x 1 = 130.0 TL\n",
      "\n",
      "Toplam Tutar: 480.0 TL\n"
     ]
    },
    {
     "name": "stdin",
     "output_type": "stream",
     "text": [
      "Nasıl yardımcı olabilirim? (Çıkmak için 'exit' yazın):  falafel tabağından kaç tane sipariş etmiştim \n"
     ]
    },
    {
     "name": "stdout",
     "output_type": "stream",
     "text": [
      "\n",
      "Garson: Hoş geldiniz! Siparişinizi kontrol edemiyorum, ancak falafel tabağının içeriği falafel kofteleri, humus ve tahin sosudur. Başka bir konuda yardımcı olabilir miyim?\n",
      "\n",
      "Güncel Sipariş Durumu:\n",
      "Siparişleriniz:\n",
      "Falafel Tabagi x 3 = 225.0 TL\n",
      "Mercimek corbasi x 1 = 40.0 TL\n",
      "Vegan Pizza x 1 = 85.0 TL\n",
      "izgara Tavuk x 1 = 130.0 TL\n",
      "\n",
      "Toplam Tutar: 480.0 TL\n"
     ]
    },
    {
     "name": "stdin",
     "output_type": "stream",
     "text": [
      "Nasıl yardımcı olabilirim? (Çıkmak için 'exit' yazın):  exit \n"
     ]
    },
    {
     "name": "stdout",
     "output_type": "stream",
     "text": [
      "\n",
      "Garson: Merhaba! Size nasıl yardımcı olabilirim? Eğer menüdeki ürünlerle ilgili bir sorunuz varsa, lütfen sormaktan çekinmeyin.\n",
      "\n",
      "Güncel Sipariş Durumu:\n",
      "Siparişleriniz:\n",
      "Falafel Tabagi x 3 = 225.0 TL\n",
      "Mercimek corbasi x 1 = 40.0 TL\n",
      "Vegan Pizza x 1 = 85.0 TL\n",
      "izgara Tavuk x 1 = 130.0 TL\n",
      "\n",
      "Toplam Tutar: 480.0 TL\n"
     ]
    },
    {
     "name": "stdin",
     "output_type": "stream",
     "text": [
      "Nasıl yardımcı olabilirim? (Çıkmak için 'exit' yazın):  exit\n"
     ]
    },
    {
     "name": "stdout",
     "output_type": "stream",
     "text": [
      "\n",
      "Mevcut Sipariş Özeti:\n",
      "Siparişleriniz:\n",
      "Falafel Tabagi x 3 = 225.0 TL\n",
      "Mercimek corbasi x 1 = 40.0 TL\n",
      "Vegan Pizza x 1 = 85.0 TL\n",
      "izgara Tavuk x 1 = 130.0 TL\n",
      "\n",
      "Toplam Tutar: 480.0 TL\n"
     ]
    },
    {
     "name": "stdin",
     "output_type": "stream",
     "text": [
      "\n",
      "Siparişi onaylıyor musunuz? (Evet/Hayır):  Evet\n"
     ]
    },
    {
     "name": "stdout",
     "output_type": "stream",
     "text": [
      "Siparişiniz kaydedildi. Teşekkürler!\n"
     ]
    }
   ],
   "source": [
    "if __name__ == \"__main__\":\n",
    "    run_interactive_session()\n"
   ]
  },
  {
   "cell_type": "code",
   "execution_count": null,
   "id": "1a063974-0ec6-4bc3-89df-ce7446d9a19f",
   "metadata": {},
   "outputs": [],
   "source": []
  },
  {
   "cell_type": "code",
   "execution_count": null,
   "id": "6ea31604-31fd-443a-9a26-01b7051d24a8",
   "metadata": {},
   "outputs": [],
   "source": []
  },
  {
   "cell_type": "code",
   "execution_count": null,
   "id": "d988cca8-622f-4a62-8be6-7b6348d1c399",
   "metadata": {},
   "outputs": [],
   "source": []
  },
  {
   "cell_type": "code",
   "execution_count": 53,
   "id": "1d0fcbf8-942e-4d73-87bd-9d73b2609f27",
   "metadata": {},
   "outputs": [
    {
     "name": "stdin",
     "output_type": "stream",
     "text": [
      "Soru (exit yazarsanız çıkılır):  menüde ana yemklerden neler var \n"
     ]
    },
    {
     "name": "stdout",
     "output_type": "stream",
     "text": [
      "RAG Yanıtı: Hoş geldiniz! Menüdeki ana yemekler şu şekildedir:\n",
      "\n",
      "1. Izgara Tavuk - Izgara tavuk göğsü, sebze garnitürü ve sarımsaklı patates püresi (130 TL)\n",
      "2. Sebzeli Güveç - Fırınlanmış taze sebzeler, domates sos (85 TL)\n",
      "3. Antrikot - Özel marine edilmiş antrikot, kozlenmiş sebzeler ve patates püresi (190 TL)\n",
      "4. Falafel Tabağı - Falafel köfteleri, humus ve tahin sos (75 TL)\n",
      "\n",
      "Başka bir konuda yardımcı olabilir miyim?\n",
      "Sipariş Durumu: []\n"
     ]
    },
    {
     "name": "stdin",
     "output_type": "stream",
     "text": [
      "Soru (exit yazarsanız çıkılır):  3 adet antrikot alabilir miyim yanlız iyi pişmiş olsunlar lütfen \n"
     ]
    },
    {
     "name": "stdout",
     "output_type": "stream",
     "text": [
      "RAG Yanıtı: Elbette, 3 adet iyi pişmiş antrikot siparişinizi alıyorum. Siparişinizi onayladım. Başka bir konuda yardımcı olabilir miyim?\n",
      "Sipariş Durumu: [{'sip_name': 'antrikot', 'sip_count': 3, 'sip_mod': 'iyi pişmiş', 'sip_price': 0.0, 'exists_in_menu': True}]\n"
     ]
    },
    {
     "name": "stdin",
     "output_type": "stream",
     "text": [
      "Soru (exit yazarsanız çıkılır):  exit\n"
     ]
    },
    {
     "name": "stdout",
     "output_type": "stream",
     "text": [
      "Siparişleriniz: [{'sip_name': 'antrikot', 'sip_count': 3, 'sip_mod': 'iyi pişmiş', 'sip_price': 0.0, 'exists_in_menu': True}]\n"
     ]
    },
    {
     "name": "stdin",
     "output_type": "stream",
     "text": [
      "Onaylıyor musunuz? (Evet/Hayır):  Evet\n"
     ]
    },
    {
     "name": "stdout",
     "output_type": "stream",
     "text": [
      "Siparişleriniz kaydedildi.\n"
     ]
    }
   ],
   "source": [
    "run_conversation()"
   ]
  },
  {
   "cell_type": "code",
   "execution_count": 141,
   "id": "c8594b8a-b5af-48d1-a7d2-6912a939ea01",
   "metadata": {},
   "outputs": [
    {
     "data": {
      "text/plain": [
       "[{'sip_name': 'izgara tavuk',\n",
       "  'sip_count': 2,\n",
       "  'sip_mod': '',\n",
       "  'sip_price': 0.0,\n",
       "  'exists_in_menu': True}]"
      ]
     },
     "execution_count": 141,
     "metadata": {},
     "output_type": "execute_result"
    }
   ],
   "source": [
    "order_history"
   ]
  },
  {
   "cell_type": "markdown",
   "id": "9a6e712e-ae42-4280-a15a-e531e93f3b63",
   "metadata": {},
   "source": [
    "# voice"
   ]
  },
  {
   "cell_type": "code",
   "execution_count": 142,
   "id": "4b3e1ddb-3d58-46c8-a9e5-94f6bf4f6f31",
   "metadata": {
    "editable": true,
    "slideshow": {
     "slide_type": ""
    },
    "tags": []
   },
   "outputs": [
    {
     "name": "stdout",
     "output_type": "stream",
     "text": [
      "Requirement already satisfied: gTTs in c:\\users\\helin\\appdata\\local\\programs\\python\\python311\\lib\\site-packages (2.5.4)\n",
      "Requirement already satisfied: requests<3,>=2.27 in c:\\users\\helin\\appdata\\local\\programs\\python\\python311\\lib\\site-packages (from gTTs) (2.32.3)\n",
      "Requirement already satisfied: click<8.2,>=7.1 in c:\\users\\helin\\appdata\\local\\programs\\python\\python311\\lib\\site-packages (from gTTs) (8.1.7)\n",
      "Requirement already satisfied: colorama in c:\\users\\helin\\appdata\\local\\programs\\python\\python311\\lib\\site-packages (from click<8.2,>=7.1->gTTs) (0.4.6)\n",
      "Requirement already satisfied: charset-normalizer<4,>=2 in c:\\users\\helin\\appdata\\local\\programs\\python\\python311\\lib\\site-packages (from requests<3,>=2.27->gTTs) (3.4.0)\n",
      "Requirement already satisfied: idna<4,>=2.5 in c:\\users\\helin\\appdata\\local\\programs\\python\\python311\\lib\\site-packages (from requests<3,>=2.27->gTTs) (3.10)\n",
      "Requirement already satisfied: urllib3<3,>=1.21.1 in c:\\users\\helin\\appdata\\local\\programs\\python\\python311\\lib\\site-packages (from requests<3,>=2.27->gTTs) (2.2.3)\n",
      "Requirement already satisfied: certifi>=2017.4.17 in c:\\users\\helin\\appdata\\local\\programs\\python\\python311\\lib\\site-packages (from requests<3,>=2.27->gTTs) (2024.8.30)\n"
     ]
    },
    {
     "name": "stderr",
     "output_type": "stream",
     "text": [
      "\n",
      "[notice] A new release of pip is available: 24.0 -> 24.3.1\n",
      "[notice] To update, run: python.exe -m pip install --upgrade pip\n"
     ]
    }
   ],
   "source": [
    "!pip install gTTs"
   ]
  },
  {
   "cell_type": "code",
   "execution_count": 143,
   "id": "86cae6b1-ae5f-4f68-80a9-b6d423109b61",
   "metadata": {},
   "outputs": [
    {
     "name": "stdout",
     "output_type": "stream",
     "text": [
      "Requirement already satisfied: speechRecognition in c:\\users\\helin\\appdata\\local\\programs\\python\\python311\\lib\\site-packages (3.12.0)\n",
      "Requirement already satisfied: typing-extensions in c:\\users\\helin\\appdata\\local\\programs\\python\\python311\\lib\\site-packages (from speechRecognition) (4.12.2)\n",
      "Note: you may need to restart the kernel to use updated packages.\n"
     ]
    },
    {
     "name": "stderr",
     "output_type": "stream",
     "text": [
      "\n",
      "[notice] A new release of pip is available: 24.0 -> 24.3.1\n",
      "[notice] To update, run: python.exe -m pip install --upgrade pip\n"
     ]
    }
   ],
   "source": [
    "pip install speechRecognition"
   ]
  },
  {
   "cell_type": "code",
   "execution_count": null,
   "id": "de4bf8f6-5b0b-44a2-ad95-a2c0ab0de427",
   "metadata": {},
   "outputs": [],
   "source": [
    "pip install PyAudio"
   ]
  },
  {
   "cell_type": "code",
   "execution_count": null,
   "id": "571011dc-1f40-4138-8953-b231f1876b0e",
   "metadata": {},
   "outputs": [],
   "source": [
    "import speech_recognition as sr\n",
    "import time\n",
    "from gtts import gTTS\n",
    "import os\n",
    "import datetime\n",
    "import sys\n",
    "\n",
    "\n",
    "def listen_from_microphone(duration=25):\n",
    "    recognizer = sr.Recognizer()\n",
    "\n",
    "    with sr.Microphone() as source:\n",
    "        print(\"Mikrofon açık, konuşun...\")\n",
    "\n",
    "        # Ortam gürültüsüne karşı ayar yap\n",
    "        recognizer.adjust_for_ambient_noise(source)\n",
    "        start_time = time.time()\n",
    "\n",
    "        try:\n",
    "            print(\"Dinleniyor...\")\n",
    "            while True:\n",
    "                elapsed_time = time.time() - start_time\n",
    "                if elapsed_time > duration:  # Süreyi kontrol et\n",
    "                    print(f\"Zaman aşımı! {duration} saniye geçti.\")\n",
    "                    break\n",
    "\n",
    "                try:\n",
    "                    # Mikrofonu dinlemeye başla\n",
    "                    audio_data = recognizer.listen(source, timeout=10, phrase_time_limit=60)  # timeout: 10 saniye, phrase_time_limit: 60 saniye\n",
    "                    \n",
    "                    # Google'a gönderip metni al\n",
    "                    text = recognizer.recognize_google(audio_data, language=\"tr-TR\")\n",
    "                    print(f\"Duyulan: {text}\")\n",
    "                    return text  # Dinleme başarılı olursa metni döndür\n",
    "                except sr.UnknownValueError:\n",
    "                    print(\"Ses anlaşılamadı. Lütfen tekrar konuşun.\")\n",
    "                except sr.RequestError as e:\n",
    "                    print(f\"Google API'ye bağlanırken hata oluştu: {e}\")\n",
    "                except Exception as ex:\n",
    "                    print(f\"Bir hata oluştu: {ex}\")\n",
    "\n",
    "        except Exception as e:\n",
    "            print(f\"Bir hata oluştu: {e}\")\n",
    "        return None\n",
    "\n",
    "def text_to_speech(text):\n",
    "    if text:\n",
    "        tts = gTTS(text=text, lang='tr')\n",
    "        \n",
    "        # Dosya adını benzersiz yapmak için tarih ve saat ekleyelim\n",
    "        timestamp = datetime.datetime.now().strftime(\"%Y%m%d%H%M%S\")\n",
    "        audio_filename = f\"response_{timestamp}.mp3\"\n",
    "        \n",
    "        try:\n",
    "            # Ses dosyasını kaydet\n",
    "            tts.save(audio_filename)\n",
    "            print(f\"Ses dosyası kaydedildi: {audio_filename}\")\n",
    "            \n",
    "            # Ses dosyasını oynat\n",
    "            os.system(f\"start {audio_filename}\")  \n",
    "        except Exception as e:\n",
    "            print(f\"Ses dosyası kaydedilemedi: {e}\")\n",
    "    else:\n",
    "        print(\"Sesli yanıt verilemiyor, metin boş.\")\n",
    "\n",
    "def exit_program():\n",
    "    print(\"Teşekkürler! Program kapanıyor...\")\n",
    "    sys.exit()\n",
    "\n",
    "if __name__ == \"__main__\":\n",
    "    # 25 saniye dinle\n",
    "    transcribed_text = listen_from_microphone(duration=25)\n",
    "    \n",
    "    if transcribed_text:\n",
    "        if \"teşekkür\" in transcribed_text.lower():  # Küçük harfe dönüştür\n",
    "            exit_program()\n",
    "        \n",
    "        text_to_speech(transcribed_text)\n",
    "    else:\n",
    "        print(\"Metin alınamadı, sesli yanıt verilemiyor.\")\n"
   ]
  },
  {
   "cell_type": "markdown",
   "id": "e80f9e87-c832-4065-a5b0-5b523782623c",
   "metadata": {},
   "source": [
    "# text correction"
   ]
  },
  {
   "cell_type": "code",
   "execution_count": null,
   "id": "34f623a8-aa07-4f98-939c-ef72a0463ab6",
   "metadata": {},
   "outputs": [],
   "source": [
    "!pip install textblob "
   ]
  },
  {
   "cell_type": "code",
   "execution_count": null,
   "id": "95bd4c0e-461f-43f0-acc1-f5d75f386097",
   "metadata": {},
   "outputs": [],
   "source": [
    "from textblob import TextBlob\n",
    "\n",
    "def correct_spelling(text: str) -> str:\n",
    "    blob = TextBlob(text)\n",
    "    return str(blob.correct())\n",
    "\n",
    "# Kullanım\n",
    "user_input = \"2 hamburgaer istiyorum yanina 1 kola\"\n",
    "corrected_input = correct_spelling(user_input)\n",
    "print(corrected_input)"
   ]
  },
  {
   "cell_type": "code",
   "execution_count": null,
   "id": "2986c0b2-921e-4263-a87a-3e02ed302102",
   "metadata": {},
   "outputs": [],
   "source": [
    "!pip install zemberek-python"
   ]
  },
  {
   "cell_type": "code",
   "execution_count": null,
   "id": "0f212afc-b289-440c-a0ba-d246a8110d9c",
   "metadata": {},
   "outputs": [],
   "source": [
    "from zemberek import TurkishMorphology, TurkishSpellChecker\n",
    "\n",
    "# Türkçe morfolojik analiz için gerekli yapıyı oluşturuyoruz\n",
    "morphology = TurkishMorphology.create_with_defaults()\n",
    "\n",
    "# SpellChecker'ı doğru başlatıyoruz\n",
    "spell_checker = TurkishSpellChecker(morphology)\n",
    "\n",
    "# Yazım düzeltme fonksiyonu\n",
    "def correct_spelling(text: str) -> str:\n",
    "    # Zemberek'teki yazım hatalarını düzeltme işlemi\n",
    "    corrections = spell_checker.suggest_for_word(text)\n",
    "    if corrections:\n",
    "        # İlk öneriyi alıyoruz (en doğru öneri)\n",
    "        return corrections[0].word\n",
    "    return text  # Eğer düzeltme yapılmazsa orijinal metni döndürüyoruz\n",
    "\n",
    "# Kullanım örneği\n",
    "user_input = \"2 hamburgaer istiyorum yanina 1 kola\"\n",
    "corrected_input = correct_spelling(user_input)\n",
    "print(corrected_input)"
   ]
  },
  {
   "cell_type": "code",
   "execution_count": null,
   "id": "67ade18d-a025-4b59-b50b-51885209fb12",
   "metadata": {},
   "outputs": [],
   "source": [
    "from langchain.llms import OpenAI\n",
    "\n",
    "# LLM modelini yükleyin (OpenAI GPT-3 örneği)\n",
    "\n",
    "\n",
    "# Yazım düzeltme prompt'u\n",
    "def correct_spelling_with_gpt(text: str) -> str:\n",
    "    prompt = f\"Yazım hatalarını düzelt: '{text}'\"\n",
    "    response = llm(prompt)  # Model cevabını alıyoruz\n",
    "    corrected_text = response.content.strip()  # Yanıtı al ve strip uygula\n",
    "    return corrected_text\n",
    "\n",
    "# Kullanıcıdan gelen yazılı metin\n",
    "user_input = \"2 hamburgaer istiyorum yanina 1 kola ayrica bide izgara tavuk istiyeourm \"\n",
    "corrected_input = correct_spelling_with_gpt(user_input)\n",
    "\n",
    "print(\"Düzeltilmiş Metin:\", corrected_input)"
   ]
  },
  {
   "cell_type": "code",
   "execution_count": null,
   "id": "94856f79-e8fd-4b23-8afb-838d9c09bd85",
   "metadata": {},
   "outputs": [],
   "source": [
    "from langchain.llms import OpenAI\n",
    "\n",
    "# LLM modelini yükleyin (OpenAI GPT-3 örneği)\n",
    "llm = OpenAI()\n",
    "\n",
    "# Yazım düzeltme prompt'u\n",
    "def correct_spelling_with_gpt(text: str) -> str:\n",
    "    prompt = f\"Yazım hatalarını düzelt: '{text}'\"\n",
    "    response = llm(prompt)  # Model cevabını alıyoruz\n",
    "    corrected_text = response.strip()  # Yanıtın metin kısmını al ve strip uygula\n",
    "    return corrected_text\n",
    "\n",
    "# Kullanıcıdan gelen yazılı metin\n",
    "user_input = \"2 hamburgaer istiyorum yanina 1 kola ayrica bide izgara tavuk istiyeourm \"\n",
    "corrected_input = correct_spelling_with_gpt(user_input)\n",
    "\n",
    "print(\"Düzeltilmiş Metin:\", corrected_input)"
   ]
  },
  {
   "cell_type": "code",
   "execution_count": 133,
   "id": "c8ffae08-e062-4b04-9f27-48cd49afd1d4",
   "metadata": {},
   "outputs": [
    {
     "name": "stdout",
     "output_type": "stream",
     "text": [
      "Düzeltilmiş Metin: \"2 hamburger istiyorum, yanına 1 kola ve bir de ızgara tavuk istiyorum.\"\n"
     ]
    }
   ],
   "source": [
    "from langchain.llms import OpenAI\n",
    "\n",
    "# LLM modelini yükleyin (OpenAI GPT-3 örneği)\n",
    "llm = OpenAI()\n",
    "\n",
    "# Yazım düzeltme prompt'u\n",
    "def correct_spelling_with_gpt(text: str) -> str:\n",
    "    prompt = f\"Yazım hatalarını düzelt: '{text}'\"\n",
    "    response = llm(prompt)  # Model cevabını alıyoruz\n",
    "    \n",
    "    # Eğer response bir liste veya nesne ise, metni çıkar\n",
    "    corrected_text = response[0].text.strip() if isinstance(response, list) else response.strip()\n",
    "    \n",
    "    \n",
    "    return corrected_text\n",
    "\n",
    "# Kullanıcıdan gelen yazılı metin\n",
    "user_input = \"2 hamburger istiyorum yanina 1 kola ayrica bide izgara tavuk istiyourm \"\n",
    "corrected_input = correct_spelling_with_gpt(user_input)\n",
    "\n",
    "print(\"Düzeltilmiş Metin:\", corrected_input)\n"
   ]
  },
  {
   "cell_type": "code",
   "execution_count": 134,
   "id": "567d79b4-f361-4b1c-bdd2-9f965ca2c84c",
   "metadata": {},
   "outputs": [
    {
     "ename": "NameError",
     "evalue": "name 'response' is not defined",
     "output_type": "error",
     "traceback": [
      "\u001b[1;31m---------------------------------------------------------------------------\u001b[0m",
      "\u001b[1;31mNameError\u001b[0m                                 Traceback (most recent call last)",
      "Cell \u001b[1;32mIn[134], line 1\u001b[0m\n\u001b[1;32m----> 1\u001b[0m \u001b[38;5;28mprint\u001b[39m(\u001b[43mresponse\u001b[49m)\n",
      "\u001b[1;31mNameError\u001b[0m: name 'response' is not defined"
     ]
    }
   ],
   "source": [
    "print(response)"
   ]
  },
  {
   "cell_type": "code",
   "execution_count": 2,
   "id": "bd6709db-b57f-4cfd-9f8c-39f70e9b3cec",
   "metadata": {},
   "outputs": [
    {
     "name": "stderr",
     "output_type": "stream",
     "text": [
      "782.89s - pydevd: Sending message related to process being replaced timed-out after 5 seconds\n"
     ]
    },
    {
     "name": "stdout",
     "output_type": "stream",
     "text": [
      "Collecting SpeechRecognition\n",
      "  Downloading SpeechRecognition-3.12.0-py3-none-any.whl.metadata (30 kB)\n",
      "Requirement already satisfied: typing-extensions in /Library/Frameworks/Python.framework/Versions/3.12/lib/python3.12/site-packages (from SpeechRecognition) (4.12.2)\n",
      "Downloading SpeechRecognition-3.12.0-py3-none-any.whl (32.8 MB)\n",
      "\u001b[2K   \u001b[90m━━━━━━━━━━━━━━━━━━━━━━━━━━━━━━━━━━━━━━━━\u001b[0m \u001b[32m32.8/32.8 MB\u001b[0m \u001b[31m11.2 MB/s\u001b[0m eta \u001b[36m0:00:00\u001b[0ma \u001b[36m0:00:01\u001b[0m\n",
      "\u001b[?25hInstalling collected packages: SpeechRecognition\n",
      "Successfully installed SpeechRecognition-3.12.0\n"
     ]
    }
   ],
   "source": [
    "!pip install SpeechRecognition\n"
   ]
  },
  {
   "cell_type": "code",
   "execution_count": 1,
   "id": "f5a57e38-a96a-43db-a363-a9d91aadeaf6",
   "metadata": {},
   "outputs": [
    {
     "ename": "ModuleNotFoundError",
     "evalue": "No module named 'speech_recognition'",
     "output_type": "error",
     "traceback": [
      "\u001b[0;31m---------------------------------------------------------------------------\u001b[0m",
      "\u001b[0;31mModuleNotFoundError\u001b[0m                       Traceback (most recent call last)",
      "Cell \u001b[0;32mIn[1], line 1\u001b[0m\n\u001b[0;32m----> 1\u001b[0m \u001b[38;5;28;01mimport\u001b[39;00m \u001b[38;5;21;01mspeech_recognition\u001b[39;00m \u001b[38;5;28;01mas\u001b[39;00m \u001b[38;5;21;01msr\u001b[39;00m\n\u001b[1;32m      2\u001b[0m \u001b[38;5;28;01mfrom\u001b[39;00m \u001b[38;5;21;01mgtts\u001b[39;00m \u001b[38;5;28;01mimport\u001b[39;00m gTTS\n\u001b[1;32m      3\u001b[0m \u001b[38;5;28;01mimport\u001b[39;00m \u001b[38;5;21;01mos\u001b[39;00m\n",
      "\u001b[0;31mModuleNotFoundError\u001b[0m: No module named 'speech_recognition'"
     ]
    }
   ],
   "source": [
    "import speech_recognition as sr\n",
    "from gtts import gTTS\n",
    "import os\n",
    "import datetime\n",
    "import time\n",
    "from textblob import TextBlob\n",
    "from zemberek import TurkishMorphology, TurkishSpellChecker\n",
    "# Zemberek yapılandırması\n",
    "morphology = TurkishMorphology.create_with_defaults()\n",
    "spell_checker = TurkishSpellChecker(morphology)\n",
    "\n",
    "def listen_from_microphone(duration=25):\n",
    "    recognizer = sr.Recognizer()\n",
    "    with sr.Microphone() as source:\n",
    "        print(\"Mikrofon açık, konuşun...\")\n",
    "        recognizer.adjust_for_ambient_noise(source)\n",
    "        start_time = time.time()\n",
    "        try:\n",
    "            print(\"Dinleniyor...\")\n",
    "            while True:\n",
    "                elapsed_time = time.time() - start_time\n",
    "                if elapsed_time > duration:\n",
    "                    print(f\"Zaman aşımı! {duration} saniye geçti.\")\n",
    "                    break\n",
    "                try:\n",
    "                    audio_data = recognizer.listen(source, timeout=10, phrase_time_limit=60)\n",
    "                    text = recognizer.recognize_google(audio_data, language=\"tr-TR\")\n",
    "                    print(f\"Duyulan: {text}\")\n",
    "                    return text\n",
    "                except sr.UnknownValueError:\n",
    "                    print(\"Ses anlaşılamadı. Lütfen tekrar konuşun.\")\n",
    "                except sr.RequestError as e:\n",
    "                    print(f\"API hatası: {e}\")\n",
    "                except Exception as ex:\n",
    "                    print(f\"Hata: {ex}\")\n",
    "        except Exception as e:\n",
    "            print(f\"Genel hata: {e}\")\n",
    "        return None\n",
    "\n",
    "def text_to_speech(text):\n",
    "    if text:\n",
    "        tts = gTTS(text=text, lang='tr')\n",
    "        timestamp = datetime.datetime.now().strftime(\"%Y%m%d%H%M%S\")\n",
    "        audio_filename = f\"response_{timestamp}.mp3\"\n",
    "        try:\n",
    "            tts.save(audio_filename)\n",
    "            print(f\"Ses dosyası kaydedildi: {audio_filename}\")\n",
    "            os.system(f\"start {audio_filename}\")\n",
    "        except Exception as e:\n",
    "            print(f\"Ses dosyası kaydedilemedi: {e}\")\n",
    "    else:\n",
    "        print(\"Boş metin, sesli yanıt yok.\")\n",
    "\n",
    "def correct_spelling_with_zemberek(text: str) -> str:\n",
    "    corrected_text = []\n",
    "    for word in text.split():\n",
    "        suggestions = spell_checker.suggest_for_word(word)\n",
    "        corrected_text.append(suggestions[0] if suggestions else word)\n",
    "    return ' '.join(corrected_text)\n",
    "\n",
    "def correct_spelling_with_textblob(text: str) -> str:\n",
    "    blob = TextBlob(text)\n",
    "    return str(blob.correct())\n",
    "\n",
    "def process_order(input_text, menu_items):\n",
    "    order = []\n",
    "    for item in menu_items:\n",
    "        if item.lower() in input_text.lower():\n",
    "            order.append(item)\n",
    "    return order\n",
    "\n",
    "def exit_program():\n",
    "    print(\"Teşekkürler! Program kapanıyor...\")\n",
    "    exit()\n",
    "\n",
    "if _name_ == \"_main_\":\n",
    "    menu = [\"hamburger\", \"kola\", \"ızgara tavuk\", \"pizza\", \"salata\"]\n",
    "    order_history = []\n",
    "    while True:\n",
    "        transcribed_text = listen_from_microphone(duration=25)\n",
    "        if not transcribed_text:\n",
    "            continue\n",
    "        \n",
    "        # Yazım düzeltme\n",
    "        corrected_text_zemberek = correct_spelling_with_zemberek(transcribed_text)\n",
    "        corrected_text_blob = correct_spelling_with_textblob(transcribed_text)\n",
    "        print(f\"Zemberek ile düzeltildi: {corrected_text_zemberek}\")\n",
    "        print(f\"TextBlob ile düzeltildi: {corrected_text_blob}\")\n",
    "        \n",
    "        # Sipariş işlemleri\n",
    "        if \"çıkış\" in transcribed_text.lower():\n",
    "            if order_history:\n",
    "                print(\"Siparişleriniz:\", order_history)\n",
    "                confirmation = input(\"Siparişleri onaylıyor musunuz? (Evet/Hayır): \")\n",
    "                if confirmation.lower() == \"evet\":\n",
    "                    with open(\"siparisler.txt\", \"w\") as f:\n",
    "                        for item in order_history:\n",
    "                            f.write(f\"{item}\\n\")\n",
    "                    print(\"Siparişler kaydedildi.\")\n",
    "                else:\n",
    "                    print(\"Siparişler iptal edildi.\")\n",
    "            exit_program()\n",
    "\n",
    "        # Menüdeki ürünleri işleme\n",
    "        orders = process_order(corrected_text_zemberek, menu)\n",
    "        if orders:\n",
    "            print(\"Sipariş Alındı:\", orders)\n",
    "            order_history.extend(orders)\n",
    "        else:\n",
    "            print(\"Sipariş bulunamadı, tekrar deneyin.\")\n",
    "        \n",
    "        # Yanıt\n",
    "        response = f\"Anladığım kadarıyla şunları sipariş ettiniz: {', '.join(orders)}\"\n",
    "        text_to_speech(response)"
   ]
  },
  {
   "cell_type": "code",
   "execution_count": null,
   "id": "e86967cc-94d7-4c3f-a2a2-9d87dc73c6bd",
   "metadata": {},
   "outputs": [],
   "source": []
  },
  {
   "cell_type": "code",
   "execution_count": null,
   "id": "a4688b96-2f95-4d6e-8b9d-58af7c6a3fce",
   "metadata": {},
   "outputs": [],
   "source": []
  },
  {
   "cell_type": "code",
   "execution_count": null,
   "id": "1706a3e2-d743-40a2-a7dc-68a5bbf20b1b",
   "metadata": {},
   "outputs": [],
   "source": []
  },
  {
   "cell_type": "code",
   "execution_count": null,
   "id": "92954a75-47ee-4e88-aa0a-79b056b98828",
   "metadata": {},
   "outputs": [],
   "source": []
  },
  {
   "cell_type": "code",
   "execution_count": null,
   "id": "170f5f82-0f64-498a-b7b7-03089937d30f",
   "metadata": {},
   "outputs": [],
   "source": []
  }
 ],
 "metadata": {
  "kernelspec": {
   "display_name": "Python 3 (ipykernel)",
   "language": "python",
   "name": "python3"
  },
  "language_info": {
   "codemirror_mode": {
    "name": "ipython",
    "version": 3
   },
   "file_extension": ".py",
   "mimetype": "text/x-python",
   "name": "python",
   "nbconvert_exporter": "python",
   "pygments_lexer": "ipython3",
   "version": "3.12.5"
  }
 },
 "nbformat": 4,
 "nbformat_minor": 5
}
