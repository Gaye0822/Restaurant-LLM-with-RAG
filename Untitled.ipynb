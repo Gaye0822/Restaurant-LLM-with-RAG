{
 "cells": [
  {
   "cell_type": "code",
   "execution_count": 4,
   "id": "da04df1f-9006-485c-8953-14b926883e2a",
   "metadata": {},
   "outputs": [
    {
     "name": "stdout",
     "output_type": "stream",
     "text": [
      "Requirement already satisfied: transformers in /Library/Frameworks/Python.framework/Versions/3.12/lib/python3.12/site-packages (4.46.1)\n",
      "Requirement already satisfied: sentence-transformers in /Library/Frameworks/Python.framework/Versions/3.12/lib/python3.12/site-packages (3.2.1)\n",
      "Requirement already satisfied: langchain in /Library/Frameworks/Python.framework/Versions/3.12/lib/python3.12/site-packages (0.3.7)\n",
      "Requirement already satisfied: langchain-community in /Library/Frameworks/Python.framework/Versions/3.12/lib/python3.12/site-packages (0.3.5)\n",
      "Collecting langchain-openai\n",
      "  Downloading langchain_openai-0.2.6-py3-none-any.whl.metadata (2.6 kB)\n",
      "Requirement already satisfied: faiss-cpu in /Library/Frameworks/Python.framework/Versions/3.12/lib/python3.12/site-packages (1.9.0)\n",
      "Requirement already satisfied: unstructured in /Library/Frameworks/Python.framework/Versions/3.12/lib/python3.12/site-packages (0.16.4)\n",
      "Requirement already satisfied: filelock in /Library/Frameworks/Python.framework/Versions/3.12/lib/python3.12/site-packages (from transformers) (3.16.1)\n",
      "Requirement already satisfied: huggingface-hub<1.0,>=0.23.2 in /Library/Frameworks/Python.framework/Versions/3.12/lib/python3.12/site-packages (from transformers) (0.26.2)\n",
      "Requirement already satisfied: numpy>=1.17 in /Library/Frameworks/Python.framework/Versions/3.12/lib/python3.12/site-packages (from transformers) (1.26.4)\n",
      "Requirement already satisfied: packaging>=20.0 in /Library/Frameworks/Python.framework/Versions/3.12/lib/python3.12/site-packages (from transformers) (24.1)\n",
      "Requirement already satisfied: pyyaml>=5.1 in /Library/Frameworks/Python.framework/Versions/3.12/lib/python3.12/site-packages (from transformers) (6.0.2)\n",
      "Requirement already satisfied: regex!=2019.12.17 in /Library/Frameworks/Python.framework/Versions/3.12/lib/python3.12/site-packages (from transformers) (2024.9.11)\n",
      "Requirement already satisfied: requests in /Library/Frameworks/Python.framework/Versions/3.12/lib/python3.12/site-packages (from transformers) (2.32.3)\n",
      "Requirement already satisfied: safetensors>=0.4.1 in /Library/Frameworks/Python.framework/Versions/3.12/lib/python3.12/site-packages (from transformers) (0.4.5)\n",
      "Requirement already satisfied: tokenizers<0.21,>=0.20 in /Library/Frameworks/Python.framework/Versions/3.12/lib/python3.12/site-packages (from transformers) (0.20.2)\n",
      "Requirement already satisfied: tqdm>=4.27 in /Library/Frameworks/Python.framework/Versions/3.12/lib/python3.12/site-packages (from transformers) (4.66.5)\n",
      "Requirement already satisfied: torch>=1.11.0 in /Library/Frameworks/Python.framework/Versions/3.12/lib/python3.12/site-packages (from sentence-transformers) (2.5.1)\n",
      "Requirement already satisfied: scikit-learn in /Library/Frameworks/Python.framework/Versions/3.12/lib/python3.12/site-packages (from sentence-transformers) (1.5.2)\n",
      "Requirement already satisfied: scipy in /Library/Frameworks/Python.framework/Versions/3.12/lib/python3.12/site-packages (from sentence-transformers) (1.14.1)\n",
      "Requirement already satisfied: Pillow in /Library/Frameworks/Python.framework/Versions/3.12/lib/python3.12/site-packages (from sentence-transformers) (11.0.0)\n",
      "Requirement already satisfied: SQLAlchemy<3,>=1.4 in /Library/Frameworks/Python.framework/Versions/3.12/lib/python3.12/site-packages (from langchain) (2.0.35)\n",
      "Requirement already satisfied: aiohttp<4.0.0,>=3.8.3 in /Library/Frameworks/Python.framework/Versions/3.12/lib/python3.12/site-packages (from langchain) (3.10.10)\n",
      "Requirement already satisfied: langchain-core<0.4.0,>=0.3.15 in /Library/Frameworks/Python.framework/Versions/3.12/lib/python3.12/site-packages (from langchain) (0.3.15)\n",
      "Requirement already satisfied: langchain-text-splitters<0.4.0,>=0.3.0 in /Library/Frameworks/Python.framework/Versions/3.12/lib/python3.12/site-packages (from langchain) (0.3.2)\n",
      "Requirement already satisfied: langsmith<0.2.0,>=0.1.17 in /Library/Frameworks/Python.framework/Versions/3.12/lib/python3.12/site-packages (from langchain) (0.1.139)\n",
      "Requirement already satisfied: pydantic<3.0.0,>=2.7.4 in /Library/Frameworks/Python.framework/Versions/3.12/lib/python3.12/site-packages (from langchain) (2.9.2)\n",
      "Requirement already satisfied: tenacity!=8.4.0,<10,>=8.1.0 in /Library/Frameworks/Python.framework/Versions/3.12/lib/python3.12/site-packages (from langchain) (9.0.0)\n",
      "Requirement already satisfied: dataclasses-json<0.7,>=0.5.7 in /Library/Frameworks/Python.framework/Versions/3.12/lib/python3.12/site-packages (from langchain-community) (0.6.7)\n",
      "Requirement already satisfied: httpx-sse<0.5.0,>=0.4.0 in /Library/Frameworks/Python.framework/Versions/3.12/lib/python3.12/site-packages (from langchain-community) (0.4.0)\n",
      "Requirement already satisfied: pydantic-settings<3.0.0,>=2.4.0 in /Library/Frameworks/Python.framework/Versions/3.12/lib/python3.12/site-packages (from langchain-community) (2.6.1)\n",
      "Collecting openai<2.0.0,>=1.54.0 (from langchain-openai)\n",
      "  Downloading openai-1.54.3-py3-none-any.whl.metadata (24 kB)\n",
      "Collecting tiktoken<1,>=0.7 (from langchain-openai)\n",
      "  Downloading tiktoken-0.8.0-cp312-cp312-macosx_11_0_arm64.whl.metadata (6.6 kB)\n",
      "Requirement already satisfied: chardet in /Library/Frameworks/Python.framework/Versions/3.12/lib/python3.12/site-packages (from unstructured) (5.2.0)\n",
      "Requirement already satisfied: filetype in /Library/Frameworks/Python.framework/Versions/3.12/lib/python3.12/site-packages (from unstructured) (1.2.0)\n",
      "Requirement already satisfied: python-magic in /Library/Frameworks/Python.framework/Versions/3.12/lib/python3.12/site-packages (from unstructured) (0.4.27)\n",
      "Requirement already satisfied: lxml in /Library/Frameworks/Python.framework/Versions/3.12/lib/python3.12/site-packages (from unstructured) (5.3.0)\n",
      "Requirement already satisfied: nltk in /Library/Frameworks/Python.framework/Versions/3.12/lib/python3.12/site-packages (from unstructured) (3.9.1)\n",
      "Requirement already satisfied: beautifulsoup4 in /Library/Frameworks/Python.framework/Versions/3.12/lib/python3.12/site-packages (from unstructured) (4.12.3)\n",
      "Requirement already satisfied: emoji in /Library/Frameworks/Python.framework/Versions/3.12/lib/python3.12/site-packages (from unstructured) (2.14.0)\n",
      "Requirement already satisfied: python-iso639 in /Library/Frameworks/Python.framework/Versions/3.12/lib/python3.12/site-packages (from unstructured) (2024.10.22)\n",
      "Requirement already satisfied: langdetect in /Library/Frameworks/Python.framework/Versions/3.12/lib/python3.12/site-packages (from unstructured) (1.0.9)\n",
      "Requirement already satisfied: rapidfuzz in /Library/Frameworks/Python.framework/Versions/3.12/lib/python3.12/site-packages (from unstructured) (3.10.1)\n",
      "Requirement already satisfied: backoff in /Library/Frameworks/Python.framework/Versions/3.12/lib/python3.12/site-packages (from unstructured) (2.2.1)\n",
      "Requirement already satisfied: typing-extensions in /Library/Frameworks/Python.framework/Versions/3.12/lib/python3.12/site-packages (from unstructured) (4.12.2)\n",
      "Requirement already satisfied: unstructured-client in /Library/Frameworks/Python.framework/Versions/3.12/lib/python3.12/site-packages (from unstructured) (0.27.0)\n",
      "Requirement already satisfied: wrapt in /Library/Frameworks/Python.framework/Versions/3.12/lib/python3.12/site-packages (from unstructured) (1.16.0)\n",
      "Requirement already satisfied: psutil in /Library/Frameworks/Python.framework/Versions/3.12/lib/python3.12/site-packages (from unstructured) (6.0.0)\n",
      "Requirement already satisfied: python-oxmsg in /Library/Frameworks/Python.framework/Versions/3.12/lib/python3.12/site-packages (from unstructured) (0.0.1)\n",
      "Requirement already satisfied: html5lib in /Library/Frameworks/Python.framework/Versions/3.12/lib/python3.12/site-packages (from unstructured) (1.1)\n",
      "Requirement already satisfied: aiohappyeyeballs>=2.3.0 in /Library/Frameworks/Python.framework/Versions/3.12/lib/python3.12/site-packages (from aiohttp<4.0.0,>=3.8.3->langchain) (2.4.3)\n",
      "Requirement already satisfied: aiosignal>=1.1.2 in /Library/Frameworks/Python.framework/Versions/3.12/lib/python3.12/site-packages (from aiohttp<4.0.0,>=3.8.3->langchain) (1.3.1)\n",
      "Requirement already satisfied: attrs>=17.3.0 in /Library/Frameworks/Python.framework/Versions/3.12/lib/python3.12/site-packages (from aiohttp<4.0.0,>=3.8.3->langchain) (24.2.0)\n",
      "Requirement already satisfied: frozenlist>=1.1.1 in /Library/Frameworks/Python.framework/Versions/3.12/lib/python3.12/site-packages (from aiohttp<4.0.0,>=3.8.3->langchain) (1.5.0)\n",
      "Requirement already satisfied: multidict<7.0,>=4.5 in /Library/Frameworks/Python.framework/Versions/3.12/lib/python3.12/site-packages (from aiohttp<4.0.0,>=3.8.3->langchain) (6.1.0)\n",
      "Requirement already satisfied: yarl<2.0,>=1.12.0 in /Library/Frameworks/Python.framework/Versions/3.12/lib/python3.12/site-packages (from aiohttp<4.0.0,>=3.8.3->langchain) (1.17.1)\n",
      "Requirement already satisfied: marshmallow<4.0.0,>=3.18.0 in /Library/Frameworks/Python.framework/Versions/3.12/lib/python3.12/site-packages (from dataclasses-json<0.7,>=0.5.7->langchain-community) (3.23.1)\n",
      "Requirement already satisfied: typing-inspect<1,>=0.4.0 in /Library/Frameworks/Python.framework/Versions/3.12/lib/python3.12/site-packages (from dataclasses-json<0.7,>=0.5.7->langchain-community) (0.9.0)\n",
      "Requirement already satisfied: fsspec>=2023.5.0 in /Library/Frameworks/Python.framework/Versions/3.12/lib/python3.12/site-packages (from huggingface-hub<1.0,>=0.23.2->transformers) (2024.10.0)\n",
      "Requirement already satisfied: jsonpatch<2.0,>=1.33 in /Library/Frameworks/Python.framework/Versions/3.12/lib/python3.12/site-packages (from langchain-core<0.4.0,>=0.3.15->langchain) (1.33)\n",
      "Requirement already satisfied: httpx<1,>=0.23.0 in /Library/Frameworks/Python.framework/Versions/3.12/lib/python3.12/site-packages (from langsmith<0.2.0,>=0.1.17->langchain) (0.27.2)\n",
      "Requirement already satisfied: orjson<4.0.0,>=3.9.14 in /Library/Frameworks/Python.framework/Versions/3.12/lib/python3.12/site-packages (from langsmith<0.2.0,>=0.1.17->langchain) (3.10.11)\n",
      "Requirement already satisfied: requests-toolbelt<2.0.0,>=1.0.0 in /Library/Frameworks/Python.framework/Versions/3.12/lib/python3.12/site-packages (from langsmith<0.2.0,>=0.1.17->langchain) (1.0.0)\n",
      "Requirement already satisfied: anyio<5,>=3.5.0 in /Library/Frameworks/Python.framework/Versions/3.12/lib/python3.12/site-packages (from openai<2.0.0,>=1.54.0->langchain-openai) (4.4.0)\n",
      "Requirement already satisfied: distro<2,>=1.7.0 in /Library/Frameworks/Python.framework/Versions/3.12/lib/python3.12/site-packages (from openai<2.0.0,>=1.54.0->langchain-openai) (1.9.0)\n",
      "Requirement already satisfied: jiter<1,>=0.4.0 in /Library/Frameworks/Python.framework/Versions/3.12/lib/python3.12/site-packages (from openai<2.0.0,>=1.54.0->langchain-openai) (0.6.1)\n",
      "Requirement already satisfied: sniffio in /Library/Frameworks/Python.framework/Versions/3.12/lib/python3.12/site-packages (from openai<2.0.0,>=1.54.0->langchain-openai) (1.3.1)\n",
      "Requirement already satisfied: annotated-types>=0.6.0 in /Library/Frameworks/Python.framework/Versions/3.12/lib/python3.12/site-packages (from pydantic<3.0.0,>=2.7.4->langchain) (0.7.0)\n",
      "Requirement already satisfied: pydantic-core==2.23.4 in /Library/Frameworks/Python.framework/Versions/3.12/lib/python3.12/site-packages (from pydantic<3.0.0,>=2.7.4->langchain) (2.23.4)\n",
      "Requirement already satisfied: python-dotenv>=0.21.0 in /Library/Frameworks/Python.framework/Versions/3.12/lib/python3.12/site-packages (from pydantic-settings<3.0.0,>=2.4.0->langchain-community) (1.0.1)\n",
      "Requirement already satisfied: charset-normalizer<4,>=2 in /Library/Frameworks/Python.framework/Versions/3.12/lib/python3.12/site-packages (from requests->transformers) (3.3.2)\n",
      "Requirement already satisfied: idna<4,>=2.5 in /Library/Frameworks/Python.framework/Versions/3.12/lib/python3.12/site-packages (from requests->transformers) (3.8)\n",
      "Requirement already satisfied: urllib3<3,>=1.21.1 in /Library/Frameworks/Python.framework/Versions/3.12/lib/python3.12/site-packages (from requests->transformers) (2.2.2)\n",
      "Requirement already satisfied: certifi>=2017.4.17 in /Library/Frameworks/Python.framework/Versions/3.12/lib/python3.12/site-packages (from requests->transformers) (2024.8.30)\n",
      "Requirement already satisfied: networkx in /Library/Frameworks/Python.framework/Versions/3.12/lib/python3.12/site-packages (from torch>=1.11.0->sentence-transformers) (3.4.2)\n",
      "Requirement already satisfied: jinja2 in /Library/Frameworks/Python.framework/Versions/3.12/lib/python3.12/site-packages (from torch>=1.11.0->sentence-transformers) (3.1.4)\n",
      "Requirement already satisfied: setuptools in /Library/Frameworks/Python.framework/Versions/3.12/lib/python3.12/site-packages (from torch>=1.11.0->sentence-transformers) (75.3.0)\n",
      "Requirement already satisfied: sympy==1.13.1 in /Library/Frameworks/Python.framework/Versions/3.12/lib/python3.12/site-packages (from torch>=1.11.0->sentence-transformers) (1.13.1)\n",
      "Requirement already satisfied: mpmath<1.4,>=1.1.0 in /Library/Frameworks/Python.framework/Versions/3.12/lib/python3.12/site-packages (from sympy==1.13.1->torch>=1.11.0->sentence-transformers) (1.3.0)\n",
      "Requirement already satisfied: soupsieve>1.2 in /Library/Frameworks/Python.framework/Versions/3.12/lib/python3.12/site-packages (from beautifulsoup4->unstructured) (2.6)\n",
      "Requirement already satisfied: six>=1.9 in /Library/Frameworks/Python.framework/Versions/3.12/lib/python3.12/site-packages (from html5lib->unstructured) (1.16.0)\n",
      "Requirement already satisfied: webencodings in /Library/Frameworks/Python.framework/Versions/3.12/lib/python3.12/site-packages (from html5lib->unstructured) (0.5.1)\n",
      "Requirement already satisfied: click in /Library/Frameworks/Python.framework/Versions/3.12/lib/python3.12/site-packages (from nltk->unstructured) (8.1.7)\n",
      "Requirement already satisfied: joblib in /Library/Frameworks/Python.framework/Versions/3.12/lib/python3.12/site-packages (from nltk->unstructured) (1.4.2)\n",
      "Requirement already satisfied: olefile in /Library/Frameworks/Python.framework/Versions/3.12/lib/python3.12/site-packages (from python-oxmsg->unstructured) (0.47)\n",
      "Requirement already satisfied: threadpoolctl>=3.1.0 in /Library/Frameworks/Python.framework/Versions/3.12/lib/python3.12/site-packages (from scikit-learn->sentence-transformers) (3.5.0)\n",
      "Requirement already satisfied: cryptography>=3.1 in /Library/Frameworks/Python.framework/Versions/3.12/lib/python3.12/site-packages (from unstructured-client->unstructured) (43.0.3)\n",
      "Requirement already satisfied: eval-type-backport<0.3.0,>=0.2.0 in /Library/Frameworks/Python.framework/Versions/3.12/lib/python3.12/site-packages (from unstructured-client->unstructured) (0.2.0)\n",
      "Requirement already satisfied: jsonpath-python<2.0.0,>=1.0.6 in /Library/Frameworks/Python.framework/Versions/3.12/lib/python3.12/site-packages (from unstructured-client->unstructured) (1.0.6)\n",
      "Requirement already satisfied: nest-asyncio>=1.6.0 in /Library/Frameworks/Python.framework/Versions/3.12/lib/python3.12/site-packages (from unstructured-client->unstructured) (1.6.0)\n",
      "Requirement already satisfied: pypdf>=4.0 in /Library/Frameworks/Python.framework/Versions/3.12/lib/python3.12/site-packages (from unstructured-client->unstructured) (5.1.0)\n",
      "Requirement already satisfied: python-dateutil==2.8.2 in /Library/Frameworks/Python.framework/Versions/3.12/lib/python3.12/site-packages (from unstructured-client->unstructured) (2.8.2)\n",
      "Requirement already satisfied: cffi>=1.12 in /Library/Frameworks/Python.framework/Versions/3.12/lib/python3.12/site-packages (from cryptography>=3.1->unstructured-client->unstructured) (1.17.1)\n",
      "Requirement already satisfied: httpcore==1.* in /Library/Frameworks/Python.framework/Versions/3.12/lib/python3.12/site-packages (from httpx<1,>=0.23.0->langsmith<0.2.0,>=0.1.17->langchain) (1.0.5)\n",
      "Requirement already satisfied: h11<0.15,>=0.13 in /Library/Frameworks/Python.framework/Versions/3.12/lib/python3.12/site-packages (from httpcore==1.*->httpx<1,>=0.23.0->langsmith<0.2.0,>=0.1.17->langchain) (0.14.0)\n",
      "Requirement already satisfied: jsonpointer>=1.9 in /Library/Frameworks/Python.framework/Versions/3.12/lib/python3.12/site-packages (from jsonpatch<2.0,>=1.33->langchain-core<0.4.0,>=0.3.15->langchain) (3.0.0)\n",
      "Requirement already satisfied: mypy-extensions>=0.3.0 in /Library/Frameworks/Python.framework/Versions/3.12/lib/python3.12/site-packages (from typing-inspect<1,>=0.4.0->dataclasses-json<0.7,>=0.5.7->langchain-community) (1.0.0)\n",
      "Requirement already satisfied: propcache>=0.2.0 in /Library/Frameworks/Python.framework/Versions/3.12/lib/python3.12/site-packages (from yarl<2.0,>=1.12.0->aiohttp<4.0.0,>=3.8.3->langchain) (0.2.0)\n",
      "Requirement already satisfied: MarkupSafe>=2.0 in /Library/Frameworks/Python.framework/Versions/3.12/lib/python3.12/site-packages (from jinja2->torch>=1.11.0->sentence-transformers) (2.1.5)\n",
      "Requirement already satisfied: pycparser in /Library/Frameworks/Python.framework/Versions/3.12/lib/python3.12/site-packages (from cffi>=1.12->cryptography>=3.1->unstructured-client->unstructured) (2.22)\n",
      "Downloading langchain_openai-0.2.6-py3-none-any.whl (50 kB)\n",
      "Downloading openai-1.54.3-py3-none-any.whl (389 kB)\n",
      "Downloading tiktoken-0.8.0-cp312-cp312-macosx_11_0_arm64.whl (982 kB)\n",
      "\u001b[2K   \u001b[90m━━━━━━━━━━━━━━━━━━━━━━━━━━━━━━━━━━━━━━━━\u001b[0m \u001b[32m982.6/982.6 kB\u001b[0m \u001b[31m8.9 MB/s\u001b[0m eta \u001b[36m0:00:00\u001b[0m\n",
      "\u001b[?25hInstalling collected packages: tiktoken, openai, langchain-openai\n",
      "  Attempting uninstall: openai\n",
      "    Found existing installation: openai 1.52.0\n",
      "    Uninstalling openai-1.52.0:\n",
      "      Successfully uninstalled openai-1.52.0\n",
      "Successfully installed langchain-openai-0.2.6 openai-1.54.3 tiktoken-0.8.0\n"
     ]
    }
   ],
   "source": [
    "!pip install transformers sentence-transformers langchain langchain-community langchain-openai faiss-cpu unstructured "
   ]
  },
  {
   "cell_type": "code",
   "execution_count": 1,
   "id": "934bdf7c-fbdb-47f1-995d-dc3d61b2806b",
   "metadata": {},
   "outputs": [],
   "source": [
    "from langchain_community.document_loaders.csv_loader import CSVLoader\n",
    "from pathlib import Path\n",
    "from langchain_openai import ChatOpenAI,OpenAIEmbeddings\n",
    "import os\n",
    "from dotenv import load_dotenv\n",
    "import faiss\n",
    "from langchain_community.docstore.in_memory import InMemoryDocstore\n",
    "from langchain_community.vectorstores import FAISS\n",
    "from langchain_core.prompts import ChatPromptTemplate\n",
    "from langchain.chains import create_retrieval_chain\n",
    "from langchain.chains.combine_documents import create_stuff_documents_chain\n",
    "from langchain.agents import Tool, AgentExecutor, ConversationalAgent\n",
    "from langchain.memory import ConversationBufferMemory\n",
    "from langchain import OpenAI, LLMChain\n",
    "from langchain.chains import RetrievalQA"
   ]
  },
  {
   "cell_type": "code",
   "execution_count": 7,
   "id": "1b1f1613-8504-44d9-8c56-1c862c751e0c",
   "metadata": {},
   "outputs": [],
   "source": [
    "load_dotenv()\n",
    "\n",
    "# Set the OpenAI API key environment variable\n",
    "os.environ[\"OPENAI_API_KEY\"] = os.getenv('OPENAI_API_KEY')\n",
    "\n"
   ]
  },
  {
   "cell_type": "code",
   "execution_count": 8,
   "id": "3a8df188-7a54-40f4-b9f3-59e81bff5374",
   "metadata": {},
   "outputs": [],
   "source": [
    "llm = ChatOpenAI(model=\"gpt-4o-mini\")"
   ]
  },
  {
   "cell_type": "code",
   "execution_count": 9,
   "id": "0f5475bd-8a0a-4d35-9268-3dcb3a8cc5ac",
   "metadata": {},
   "outputs": [
    {
     "data": {
      "text/html": [
       "<div>\n",
       "<style scoped>\n",
       "    .dataframe tbody tr th:only-of-type {\n",
       "        vertical-align: middle;\n",
       "    }\n",
       "\n",
       "    .dataframe tbody tr th {\n",
       "        vertical-align: top;\n",
       "    }\n",
       "\n",
       "    .dataframe thead th {\n",
       "        text-align: right;\n",
       "    }\n",
       "</style>\n",
       "<table border=\"1\" class=\"dataframe\">\n",
       "  <thead>\n",
       "    <tr style=\"text-align: right;\">\n",
       "      <th></th>\n",
       "      <th>Kategori</th>\n",
       "      <th>urun</th>\n",
       "      <th>?cindekiler</th>\n",
       "      <th>Fiyat</th>\n",
       "    </tr>\n",
       "  </thead>\n",
       "  <tbody>\n",
       "    <tr>\n",
       "      <th>0</th>\n",
       "      <td>Baslangiclar</td>\n",
       "      <td>Nachos</td>\n",
       "      <td>El yapimi tortilla cips, cheddar, yesil sogan,...</td>\n",
       "      <td>120 TL</td>\n",
       "    </tr>\n",
       "    <tr>\n",
       "      <th>1</th>\n",
       "      <td>Baslangiclar</td>\n",
       "      <td>Mozzarella cubuklari</td>\n",
       "      <td>Pane mozzarella cubuklari, pesto sos</td>\n",
       "      <td>115 TL</td>\n",
       "    </tr>\n",
       "    <tr>\n",
       "      <th>2</th>\n",
       "      <td>Baslangiclar</td>\n",
       "      <td>Tavuk Kanatlari</td>\n",
       "      <td>Pane tavuk kanatlari; sos secenekleri: BBQ, ha...</td>\n",
       "      <td>125 TL</td>\n",
       "    </tr>\n",
       "    <tr>\n",
       "      <th>3</th>\n",
       "      <td>Baslangiclar</td>\n",
       "      <td>Karides Tava</td>\n",
       "      <td>Jumbo karides, sarimsak, tereyagi, limon suyu,...</td>\n",
       "      <td>150 TL</td>\n",
       "    </tr>\n",
       "    <tr>\n",
       "      <th>4</th>\n",
       "      <td>Baslangiclar</td>\n",
       "      <td>Falafel Tabagi</td>\n",
       "      <td>Falafel koftesi, humus, tahin sos, salata</td>\n",
       "      <td>75 TL</td>\n",
       "    </tr>\n",
       "  </tbody>\n",
       "</table>\n",
       "</div>"
      ],
      "text/plain": [
       "       Kategori                  urun  \\\n",
       "0  Baslangiclar                Nachos   \n",
       "1  Baslangiclar  Mozzarella cubuklari   \n",
       "2  Baslangiclar       Tavuk Kanatlari   \n",
       "3  Baslangiclar          Karides Tava   \n",
       "4  Baslangiclar        Falafel Tabagi   \n",
       "\n",
       "                                         ?cindekiler   Fiyat  \n",
       "0  El yapimi tortilla cips, cheddar, yesil sogan,...  120 TL  \n",
       "1               Pane mozzarella cubuklari, pesto sos  115 TL  \n",
       "2  Pane tavuk kanatlari; sos secenekleri: BBQ, ha...  125 TL  \n",
       "3  Jumbo karides, sarimsak, tereyagi, limon suyu,...  150 TL  \n",
       "4          Falafel koftesi, humus, tahin sos, salata   75 TL  "
      ]
     },
     "execution_count": 9,
     "metadata": {},
     "output_type": "execute_result"
    }
   ],
   "source": [
    "import pandas as pd\n",
    "\n",
    "file_path = ('menu1.csv') # insert the path of the csv file\n",
    "data = pd.read_csv(file_path,sep=';')\n",
    "\n",
    "#preview the csv file\n",
    "data.head()"
   ]
  },
  {
   "cell_type": "code",
   "execution_count": 10,
   "id": "8b5fcc40-54a5-4a6e-8b8c-48fcf990fe96",
   "metadata": {},
   "outputs": [],
   "source": [
    "loader = CSVLoader(file_path=file_path)\n",
    "docs = loader.load_and_split()"
   ]
  },
  {
   "cell_type": "code",
   "execution_count": 11,
   "id": "26caf025-533b-405d-8630-b068e8e64df1",
   "metadata": {},
   "outputs": [],
   "source": [
    "embeddings = OpenAIEmbeddings()\n",
    "index = faiss.IndexFlatL2(len(OpenAIEmbeddings().embed_query(\" \")))\n",
    "vector_store = FAISS(\n",
    "    embedding_function=OpenAIEmbeddings(),\n",
    "    index=index,\n",
    "    docstore=InMemoryDocstore(),\n",
    "    index_to_docstore_id={}\n",
    ")"
   ]
  },
  {
   "cell_type": "code",
   "execution_count": 12,
   "id": "ec4f385f-da41-49d2-995e-1ee90a06afa7",
   "metadata": {},
   "outputs": [
    {
     "data": {
      "text/plain": [
       "['5465d77e-f287-4f5a-855c-23c0d8e5c045',\n",
       " 'f64166b9-7ced-40cd-b01f-f02d1c6efe0f',\n",
       " '2aea709a-e4fe-4d90-8cb5-ef0ffd4c1678',\n",
       " 'cd5c1d0d-36b3-4c08-83f7-8a9f7ea4bb08',\n",
       " '09c07d39-c510-4558-9ad1-9c7f8cc17f0e',\n",
       " '045b92fc-ddfa-43fb-a30c-84cd31cf7cf4',\n",
       " '61292e5f-ffcd-4599-b692-7689d1ac0e2f',\n",
       " '2e3ad8d2-03c6-4b25-82af-299239191d01',\n",
       " '6b77ec4c-92d8-4ec8-af1d-8878fa297f09',\n",
       " '463ff8ea-d8ad-41bd-ab0f-d273eb8143ea',\n",
       " 'dfa0c6c4-ba9b-43bc-8b41-bca1aced819d',\n",
       " 'fe993935-82f7-41fe-959f-5a26cdde754f',\n",
       " '5e3f6a0d-64d0-4bc5-9348-64b34c853dac',\n",
       " '4792f4d7-69f6-4d52-87a8-e6d3742fae1f',\n",
       " 'eb476163-1c85-4abf-8d57-d62f39916f3e',\n",
       " '67838012-eb85-4b6e-a411-d8fc5756289e',\n",
       " '150ed45c-2632-4f05-933a-31a48c471b7b',\n",
       " '23790123-f18c-4037-baa4-03787adad181',\n",
       " '8eab7b98-be3d-4419-a966-ddae7023cfdd',\n",
       " 'b5404cdf-fdb3-4ee4-a337-5384f9b39534',\n",
       " 'b933b398-bbf4-473b-87de-18ecc311f979',\n",
       " 'bf676f7e-ecc5-4444-8fd2-421364ead3c6',\n",
       " 'ae6c4ee5-5e4a-4de1-bf3c-665d872eedab',\n",
       " 'c389cb81-5090-4b09-b07a-6c0474151221',\n",
       " '89bccf64-2cfe-4b6c-81fe-8b4ce97c7ea5',\n",
       " '768745d9-80c8-4797-9901-0aeca4391cfc',\n",
       " '6eecad05-1e09-4142-ba63-e493c4513680',\n",
       " '0f630a43-57fe-4e75-a5ad-eeb9a623b9c7',\n",
       " 'aade27dc-16da-4d90-afa0-95a8b6fc24d4',\n",
       " '0b8de044-1b8c-4789-bf36-ea5ceb53cc19',\n",
       " '354995e0-6de4-40e6-9e2d-8df74e18656a',\n",
       " '77a347c6-8243-4244-9645-c4c737cf15b0',\n",
       " '366434fd-43db-445d-bdac-b53f7b4fc4e6',\n",
       " '6f32c517-3e4e-41a5-b8f2-65b0c20ede6c',\n",
       " '423dcf6f-d17f-43f1-9564-be0ccb73f350',\n",
       " '5a0b484c-b8e9-47a6-92dc-ad7fe45a9bd1',\n",
       " 'fd38df7c-15c4-4d37-8726-164716a44f14',\n",
       " '58a3febb-6ae1-49ee-8913-4d425f80b42a',\n",
       " '7689a9f8-ecbe-497f-b13e-e0f5761093a5',\n",
       " '2909af43-e9a9-4d1b-ab3a-2e85f47642fb']"
      ]
     },
     "execution_count": 12,
     "metadata": {},
     "output_type": "execute_result"
    }
   ],
   "source": [
    "vector_store.add_documents(documents=docs)"
   ]
  },
  {
   "cell_type": "code",
   "execution_count": 13,
   "id": "62e7d048-a363-424c-840a-b2c0376ef626",
   "metadata": {},
   "outputs": [],
   "source": [
    "retriever = vector_store.as_retriever()\n"
   ]
  },
  {
   "cell_type": "code",
   "execution_count": 14,
   "id": "83a19a61-b0a9-4fec-86d6-2b2a5b9f14a5",
   "metadata": {},
   "outputs": [
    {
     "name": "stderr",
     "output_type": "stream",
     "text": [
      "/var/folders/04/nhwvkmt13753zn37rgwn35zr0000gn/T/ipykernel_42576/3484632973.py:19: LangChainDeprecationWarning: The class `LLMChain` was deprecated in LangChain 0.1.17 and will be removed in 1.0. Use :meth:`~RunnableSequence, e.g., `prompt | llm`` instead.\n",
      "  llm_chain = LLMChain(llm=llm, prompt=prompt)\n"
     ]
    }
   ],
   "source": [
    "system_prompt = (\n",
    "    \"You are a waiter for question-answering tasks. \"\n",
    "    \"Use the following pieces of retrieved context to answer \"\n",
    "    \"the question. If you don't know the answer, say that you \"\n",
    "    \"don't know. Use three sentences maximum and keep the \"\n",
    "    \"answer concise.\"\n",
    "    \"\\n\\n\"\n",
    "    \"{context}\"\n",
    ")\n",
    "\n",
    "prompt = ChatPromptTemplate.from_messages([\n",
    "    (\"system\", system_prompt),\n",
    "    (\"human\", \"{input}\"),\n",
    "    \n",
    "])\n",
    "\n",
    "# Create the question-answer chain\n",
    "#question_answer_chain = create_stuff_documents_chain(llm, prompt)\n",
    "llm_chain = LLMChain(llm=llm, prompt=prompt)\n",
    "#rag_chain = create_retrieval_chain(retriever, question_answer_chain)\n",
    "def create_retrieval_chain(retriever, llm_chain):\n",
    "    return RetrievalQA.from_chain_type(\n",
    "        llm=llm,\n",
    "        chain_type=\"stuff\",\n",
    "        retriever=retriever,\n",
    "        input_key=\"query\"\n",
    "    )\n",
    "rag_chain = create_retrieval_chain(retriever, llm_chain)"
   ]
  },
  {
   "cell_type": "code",
   "execution_count": 15,
   "id": "16589d10-039c-43c7-bda2-ecb756a69cd1",
   "metadata": {},
   "outputs": [
    {
     "name": "stdout",
     "output_type": "stream",
     "text": [
      "Neli pizzalarımız şunlardır:\n",
      "\n",
      "1. Etli Pizza - İçindekiler: Jambon, tavuk, bacon, mozzarella, beyaz sos; Fiyat: 145 TL\n",
      "2. Peynirli Tavuk Pizza - İçindekiler: Tavuk, cheddar, rokfor, mantar, sarımsak sos; Fiyat: 110 TL\n",
      "3. Margarita Pizza - İçindekiler: Domates, mozzarella, fesleğen, zeytinyağı; Fiyat: 85 TL\n",
      "4. Acili Deniz Pizza - İçindekiler: Karides, somon, domates, mozzarella, beyaz sos; Fiyat: 145 TL\n"
     ]
    }
   ],
   "source": [
    "question = \"neli pizzalarınız var \"\n",
    "response = rag_chain.invoke({\"query\": question})\n",
    "print(response[\"result\"])\n",
    "\n"
   ]
  },
  {
   "cell_type": "code",
   "execution_count": 16,
   "id": "c32f48ce-c102-4db8-a606-d7ca59f1d9ec",
   "metadata": {},
   "outputs": [
    {
     "name": "stdout",
     "output_type": "stream",
     "text": [
      "Pizzaların fiyatları şu şekildedir:\n",
      "- Etli Pizza: 145 TL\n",
      "- Peynirli Tavuk Pizza: 110 TL\n",
      "- Margarita Pizza: 85 TL\n",
      "- Acili Deniz Pizza: 145 TL\n"
     ]
    }
   ],
   "source": [
    "question = \"pizzaların fiyatı nedir \"\n",
    "response = rag_chain.invoke({\"query\": question})\n",
    "print(response[\"result\"])"
   ]
  },
  {
   "cell_type": "code",
   "execution_count": 17,
   "id": "f7ecc414-fb2d-4b7b-aea7-7547df30fcc7",
   "metadata": {},
   "outputs": [],
   "source": [
    "from langchain.output_parsers import PydanticOutputParser\n",
    "from pydantic import BaseModel ,Field ,validator\n",
    "from typing import List\n",
    "from typing import Optional\n",
    "from langchain.chains import create_tagging_chain ,create_tagging_chain_pydantic"
   ]
  },
  {
   "cell_type": "code",
   "execution_count": 150,
   "id": "4713bca5-1330-4027-8dc6-dd32e314a3b1",
   "metadata": {},
   "outputs": [
    {
     "name": "stdout",
     "output_type": "stream",
     "text": [
      "Collecting kor\n",
      "  Downloading kor-3.0.0-py3-none-any.whl.metadata (8.4 kB)\n",
      "Requirement already satisfied: langchain-core<0.4,>=0.3 in /Library/Frameworks/Python.framework/Versions/3.12/lib/python3.12/site-packages (from kor) (0.3.15)\n",
      "Requirement already satisfied: pandas<3,>=1.5.3 in /Library/Frameworks/Python.framework/Versions/3.12/lib/python3.12/site-packages (from kor) (2.2.3)\n",
      "Requirement already satisfied: pydantic<3,>=2 in /Library/Frameworks/Python.framework/Versions/3.12/lib/python3.12/site-packages (from kor) (2.9.2)\n",
      "Requirement already satisfied: PyYAML>=5.3 in /Library/Frameworks/Python.framework/Versions/3.12/lib/python3.12/site-packages (from langchain-core<0.4,>=0.3->kor) (6.0.2)\n",
      "Requirement already satisfied: jsonpatch<2.0,>=1.33 in /Library/Frameworks/Python.framework/Versions/3.12/lib/python3.12/site-packages (from langchain-core<0.4,>=0.3->kor) (1.33)\n",
      "Requirement already satisfied: langsmith<0.2.0,>=0.1.125 in /Library/Frameworks/Python.framework/Versions/3.12/lib/python3.12/site-packages (from langchain-core<0.4,>=0.3->kor) (0.1.139)\n",
      "Requirement already satisfied: packaging<25,>=23.2 in /Library/Frameworks/Python.framework/Versions/3.12/lib/python3.12/site-packages (from langchain-core<0.4,>=0.3->kor) (24.1)\n",
      "Requirement already satisfied: tenacity!=8.4.0,<10.0.0,>=8.1.0 in /Library/Frameworks/Python.framework/Versions/3.12/lib/python3.12/site-packages (from langchain-core<0.4,>=0.3->kor) (9.0.0)\n",
      "Requirement already satisfied: typing-extensions>=4.7 in /Library/Frameworks/Python.framework/Versions/3.12/lib/python3.12/site-packages (from langchain-core<0.4,>=0.3->kor) (4.12.2)\n",
      "Requirement already satisfied: numpy>=1.26.0 in /Library/Frameworks/Python.framework/Versions/3.12/lib/python3.12/site-packages (from pandas<3,>=1.5.3->kor) (1.26.4)\n",
      "Requirement already satisfied: python-dateutil>=2.8.2 in /Library/Frameworks/Python.framework/Versions/3.12/lib/python3.12/site-packages (from pandas<3,>=1.5.3->kor) (2.8.2)\n",
      "Requirement already satisfied: pytz>=2020.1 in /Library/Frameworks/Python.framework/Versions/3.12/lib/python3.12/site-packages (from pandas<3,>=1.5.3->kor) (2024.2)\n",
      "Requirement already satisfied: tzdata>=2022.7 in /Library/Frameworks/Python.framework/Versions/3.12/lib/python3.12/site-packages (from pandas<3,>=1.5.3->kor) (2024.2)\n",
      "Requirement already satisfied: annotated-types>=0.6.0 in /Library/Frameworks/Python.framework/Versions/3.12/lib/python3.12/site-packages (from pydantic<3,>=2->kor) (0.7.0)\n",
      "Requirement already satisfied: pydantic-core==2.23.4 in /Library/Frameworks/Python.framework/Versions/3.12/lib/python3.12/site-packages (from pydantic<3,>=2->kor) (2.23.4)\n",
      "Requirement already satisfied: jsonpointer>=1.9 in /Library/Frameworks/Python.framework/Versions/3.12/lib/python3.12/site-packages (from jsonpatch<2.0,>=1.33->langchain-core<0.4,>=0.3->kor) (3.0.0)\n",
      "Requirement already satisfied: httpx<1,>=0.23.0 in /Library/Frameworks/Python.framework/Versions/3.12/lib/python3.12/site-packages (from langsmith<0.2.0,>=0.1.125->langchain-core<0.4,>=0.3->kor) (0.27.2)\n",
      "Requirement already satisfied: orjson<4.0.0,>=3.9.14 in /Library/Frameworks/Python.framework/Versions/3.12/lib/python3.12/site-packages (from langsmith<0.2.0,>=0.1.125->langchain-core<0.4,>=0.3->kor) (3.10.11)\n",
      "Requirement already satisfied: requests<3,>=2 in /Library/Frameworks/Python.framework/Versions/3.12/lib/python3.12/site-packages (from langsmith<0.2.0,>=0.1.125->langchain-core<0.4,>=0.3->kor) (2.32.3)\n",
      "Requirement already satisfied: requests-toolbelt<2.0.0,>=1.0.0 in /Library/Frameworks/Python.framework/Versions/3.12/lib/python3.12/site-packages (from langsmith<0.2.0,>=0.1.125->langchain-core<0.4,>=0.3->kor) (1.0.0)\n",
      "Requirement already satisfied: six>=1.5 in /Library/Frameworks/Python.framework/Versions/3.12/lib/python3.12/site-packages (from python-dateutil>=2.8.2->pandas<3,>=1.5.3->kor) (1.16.0)\n",
      "Requirement already satisfied: anyio in /Library/Frameworks/Python.framework/Versions/3.12/lib/python3.12/site-packages (from httpx<1,>=0.23.0->langsmith<0.2.0,>=0.1.125->langchain-core<0.4,>=0.3->kor) (4.4.0)\n",
      "Requirement already satisfied: certifi in /Library/Frameworks/Python.framework/Versions/3.12/lib/python3.12/site-packages (from httpx<1,>=0.23.0->langsmith<0.2.0,>=0.1.125->langchain-core<0.4,>=0.3->kor) (2024.8.30)\n",
      "Requirement already satisfied: httpcore==1.* in /Library/Frameworks/Python.framework/Versions/3.12/lib/python3.12/site-packages (from httpx<1,>=0.23.0->langsmith<0.2.0,>=0.1.125->langchain-core<0.4,>=0.3->kor) (1.0.5)\n",
      "Requirement already satisfied: idna in /Library/Frameworks/Python.framework/Versions/3.12/lib/python3.12/site-packages (from httpx<1,>=0.23.0->langsmith<0.2.0,>=0.1.125->langchain-core<0.4,>=0.3->kor) (3.8)\n",
      "Requirement already satisfied: sniffio in /Library/Frameworks/Python.framework/Versions/3.12/lib/python3.12/site-packages (from httpx<1,>=0.23.0->langsmith<0.2.0,>=0.1.125->langchain-core<0.4,>=0.3->kor) (1.3.1)\n",
      "Requirement already satisfied: h11<0.15,>=0.13 in /Library/Frameworks/Python.framework/Versions/3.12/lib/python3.12/site-packages (from httpcore==1.*->httpx<1,>=0.23.0->langsmith<0.2.0,>=0.1.125->langchain-core<0.4,>=0.3->kor) (0.14.0)\n",
      "Requirement already satisfied: charset-normalizer<4,>=2 in /Library/Frameworks/Python.framework/Versions/3.12/lib/python3.12/site-packages (from requests<3,>=2->langsmith<0.2.0,>=0.1.125->langchain-core<0.4,>=0.3->kor) (3.3.2)\n",
      "Requirement already satisfied: urllib3<3,>=1.21.1 in /Library/Frameworks/Python.framework/Versions/3.12/lib/python3.12/site-packages (from requests<3,>=2->langsmith<0.2.0,>=0.1.125->langchain-core<0.4,>=0.3->kor) (2.2.2)\n",
      "Downloading kor-3.0.0-py3-none-any.whl (31 kB)\n",
      "Installing collected packages: kor\n",
      "Successfully installed kor-3.0.0\n"
     ]
    }
   ],
   "source": [
    "!pip install kor"
   ]
  },
  {
   "cell_type": "code",
   "execution_count": 18,
   "id": "18d019c2-abab-4c20-9ce3-94031aa02bd8",
   "metadata": {},
   "outputs": [],
   "source": [
    "from kor.extraction import create_extraction_chain\n",
    "from kor.nodes import Object, Text, Number"
   ]
  },
  {
   "cell_type": "code",
   "execution_count": 33,
   "id": "e133749e-dbf6-453a-b57f-fb69a6e9d60b",
   "metadata": {},
   "outputs": [],
   "source": [
    "schema = Object(\n",
    "    id=\"menu_info\",\n",
    "    description=\"menu content if its ordered\",\n",
    "    attributes=[\n",
    "        Text(\n",
    "            id=\"name\",\n",
    "            description=\"menu items name if its ordered\",\n",
    "            examples=[\n",
    "                (\"ben etli pizza alayım\", \"etli pizza\"),\n",
    "                (\"iki latte istiyorum\", \"latte\"),\n",
    "                (\"hamburger verebilir misin\", \"hamburger\"),\n",
    "                (\"ızgara sipariş vermek istiyorum\", \"ızgara\"),\n",
    "                (\"bize çay yolla\", \"çay\"),\n",
    "                (\"salata sipariş ediyorum\", \"salata\")\n",
    "            ],\n",
    "        ),\n",
    "        Text(\n",
    "            id=\"non_name\",\n",
    "            description=\"menu items name if its not ordered\",\n",
    "            examples=[\n",
    "                (\"margarita pizzanın içinde ne var\", \"margarita pizza\"),\n",
    "                (\"latteniz var mı\", \"latte\"),\n",
    "                (\"lattede hangi süt kullanılıyor\", \"latte\"),\n",
    "                (\"hamburger çeşitleriniz nelerdir\", \"hamburger\")\n",
    "            ],\n",
    "        ),\n",
    "        Text(\n",
    "            id=\"quantity\",\n",
    "            description=\"Quantity of ordered menu item\",\n",
    "            examples=[\n",
    "                (\"ben etli pizza alayım\", \"1\"),\n",
    "                (\"iki latte istiyorum\", \"2\"),\n",
    "            ],\n",
    "        ),\n",
    "    ],\n",
    "    examples=[\n",
    "        (\n",
    "            \"eğer içinde salata varsa ızgara menüsünü almak istiyorum\",\n",
    "            [{\"name\": \"ızgara menü\"},{\"quantity\":\"1\"}]\n",
    "        ),\n",
    "        (\n",
    "            \"hamburgerlerin içinde hangi çeşit et kullanıyorsunuz\",\n",
    "            [{\"non_name\": \"hamburger\"}]\n",
    "        ),\n",
    "        (\n",
    "            \"bize iki orta boy peynirli tavuk pizza yollar mısın\",\n",
    "            [{\"name\": \"peynirli tavuk pizza\"},{\"quantity\":\"2\"}]\n",
    "        ),\n",
    "    ],\n",
    "    many=True,\n",
    ")\n",
    "        \n",
    "                      \n",
    "                      "
   ]
  },
  {
   "cell_type": "code",
   "execution_count": 34,
   "id": "0e017d3e-40d4-48be-8105-00fe57e24e85",
   "metadata": {},
   "outputs": [
    {
     "data": {
      "text/plain": [
       "{'menu_info': [{'non_name': 'hamburger'}]}"
      ]
     },
     "execution_count": 34,
     "metadata": {},
     "output_type": "execute_result"
    }
   ],
   "source": [
    "user_input=\"2 adet çay istiyorum\"\n",
    "chain1=create_extraction_chain(llm,schema,encoder_or_encoder_class='json')\n",
    "chain1.invoke(\"hamburger çeşitleriniz nelerdir \")['data']"
   ]
  },
  {
   "cell_type": "code",
   "execution_count": 35,
   "id": "1678170f-08d3-49a7-9b2d-32f0b663ab8a",
   "metadata": {},
   "outputs": [
    {
     "data": {
      "text/plain": [
       "{'menu_info': [{'name': 'tavuklu pizza'}]}"
      ]
     },
     "execution_count": 35,
     "metadata": {},
     "output_type": "execute_result"
    }
   ],
   "source": [
    "chain1=create_extraction_chain(llm,schema,encoder_or_encoder_class='json')\n",
    "chain1.invoke(\" tavuklu pizzanın içinde barbekü sos varsa alayım\")['data']"
   ]
  },
  {
   "cell_type": "code",
   "execution_count": 36,
   "id": "59eddd83-f198-4777-99df-300b1159bf1e",
   "metadata": {},
   "outputs": [
    {
     "data": {
      "text/plain": [
       "{'menu_info': [{'non_name': 'acılı deniz pizza'}]}"
      ]
     },
     "execution_count": 36,
     "metadata": {},
     "output_type": "execute_result"
    }
   ],
   "source": [
    "chain1=create_extraction_chain(llm,schema,encoder_or_encoder_class='json')\n",
    "chain1.invoke(\"acılı deniz pizzanın içinde ne var\")['data']"
   ]
  },
  {
   "cell_type": "code",
   "execution_count": 37,
   "id": "d8fbdf07-7e5e-4120-a37c-ada2d48bec0d",
   "metadata": {},
   "outputs": [
    {
     "data": {
      "text/plain": [
       "{'menu_info': [{'non_name': 'çilekli tiramisu'}]}"
      ]
     },
     "execution_count": 37,
     "metadata": {},
     "output_type": "execute_result"
    }
   ],
   "source": [
    "chain1=create_extraction_chain(llm,schema,encoder_or_encoder_class='json')\n",
    "chain1.invoke(\"çilekli tiramisu var mı\")['data']"
   ]
  },
  {
   "cell_type": "code",
   "execution_count": 38,
   "id": "dae6cca3-572d-43ac-852f-abd62ca94c25",
   "metadata": {},
   "outputs": [
    {
     "data": {
      "text/plain": [
       "{'menu_info': [{'name': 'domates çorbası'}]}"
      ]
     },
     "execution_count": 38,
     "metadata": {},
     "output_type": "execute_result"
    }
   ],
   "source": [
    "chain1=create_extraction_chain(llm,schema,encoder_or_encoder_class='json')\n",
    "chain1.invoke(\"mercimek çorbası alacaktım ama vazgeçtim domates çorbası olsun\")['data']"
   ]
  },
  {
   "cell_type": "code",
   "execution_count": 39,
   "id": "8f75f080-ffd5-4835-92be-e8334344c935",
   "metadata": {},
   "outputs": [
    {
     "data": {
      "text/plain": [
       "{'menu_info': [{'non_name': 'hamburger'}]}"
      ]
     },
     "execution_count": 39,
     "metadata": {},
     "output_type": "execute_result"
    }
   ],
   "source": [
    "chain1=create_extraction_chain(llm,schema,encoder_or_encoder_class='json')\n",
    "chain1.invoke(\"hamburger çeşitleriniz nelerdir \")['data']"
   ]
  },
  {
   "cell_type": "code",
   "execution_count": 40,
   "id": "d5b1ae6e-107c-4f82-b660-b0e5f70f3940",
   "metadata": {},
   "outputs": [
    {
     "data": {
      "text/plain": [
       "{'menu_info': [{'name': 'latte'}, {'quantity': '2'}, {'name': 'etli pizza'}]}"
      ]
     },
     "execution_count": 40,
     "metadata": {},
     "output_type": "execute_result"
    }
   ],
   "source": [
    "chain1=create_extraction_chain(llm,schema,encoder_or_encoder_class='json')\n",
    "chain1.invoke(\"2 laktozsuz sütlü latte bir de etli pizza alayım\")['data']"
   ]
  },
  {
   "cell_type": "code",
   "execution_count": null,
   "id": "3c62a8fb-19ea-4aab-93eb-a8ebc443c94c",
   "metadata": {},
   "outputs": [],
   "source": []
  },
  {
   "cell_type": "code",
   "execution_count": null,
   "id": "afaee845-8fd2-4053-bfb2-84b4c28d343f",
   "metadata": {},
   "outputs": [],
   "source": []
  },
  {
   "cell_type": "code",
   "execution_count": 144,
   "id": "7c71c1b1-4173-4da6-947d-c11bd35b1f75",
   "metadata": {},
   "outputs": [],
   "source": [
    "class siparis_info(BaseModel):\n",
    "    sip_name:str =Field(description=\"name of the thing ordered menu content if its ordered \")\n",
    "    non_sip_name:str=Field(description=\"name of the menu content asked for information\")\n",
    "    sip_count:str=Field(description=\"count of the thing ordered or wanted not asked\")\n",
    "    non_sip_count:str=Field(description=\"count of the menu content asked for information\")"
   ]
  },
  {
   "cell_type": "code",
   "execution_count": 145,
   "id": "0436535c-03f6-44d4-a56d-48cd02fda8f5",
   "metadata": {},
   "outputs": [],
   "source": [
    "chain=llm.with_structured_output(siparis_info)"
   ]
  },
  {
   "cell_type": "raw",
   "id": "c6bb3743-0f25-4e91-9106-3614db71b522",
   "metadata": {},
   "source": []
  },
  {
   "cell_type": "code",
   "execution_count": 146,
   "id": "868902fb-ac30-412f-966a-01813acf303a",
   "metadata": {},
   "outputs": [],
   "source": [
    "res=chain.invoke(\"whats in margatia pizza\")"
   ]
  },
  {
   "cell_type": "code",
   "execution_count": 147,
   "id": "49701044-8d9c-4823-8987-40aef6adb33f",
   "metadata": {},
   "outputs": [
    {
     "data": {
      "text/plain": [
       "siparis_info(sip_name='margatia pizza', non_sip_name='margarita pizza', sip_count='1', non_sip_count='1')"
      ]
     },
     "execution_count": 147,
     "metadata": {},
     "output_type": "execute_result"
    }
   ],
   "source": [
    "res                    "
   ]
  },
  {
   "cell_type": "code",
   "execution_count": 112,
   "id": "4e71b329-d962-42a2-a1c1-847673e1da6c",
   "metadata": {},
   "outputs": [
    {
     "data": {
      "text/plain": [
       "[HumanMessage(content='you are a waiter and the customers will talk to you about the menu conversation :\\'\\'\\'pizza çeşitleriniz nelerdir ? eğer varsa 2 margarita  pizza alamak istiyorum\\'\\'\\' during these conversations everything they ask you about the menu is not an order you need to understand what is being ordered and you need to separate them \\nThe output should be formatted as a JSON instance that conforms to the JSON schema below.\\n\\nAs an example, for the schema {\"properties\": {\"foo\": {\"title\": \"Foo\", \"description\": \"a list of strings\", \"type\": \"array\", \"items\": {\"type\": \"string\"}}}, \"required\": [\"foo\"]}\\nthe object {\"foo\": [\"bar\", \"baz\"]} is a well-formatted instance of the schema. The object {\"properties\": {\"foo\": [\"bar\", \"baz\"]}} is not well-formatted.\\n\\nHere is the output schema:\\n```\\n{\"properties\": {\"sip_name\": {\"description\": \"name of the thing ordered\", \"title\": \"Sip Name\", \"type\": \"string\"}, \"sip_count\": {\"description\": \"count of the thing ordered\", \"title\": \"Sip Count\", \"type\": \"string\"}}, \"required\": [\"sip_name\", \"sip_count\"]}\\n```', additional_kwargs={}, response_metadata={})]"
      ]
     },
     "execution_count": 112,
     "metadata": {},
     "output_type": "execute_result"
    }
   ],
   "source": [
    "messages"
   ]
  },
  {
   "cell_type": "code",
   "execution_count": 113,
   "id": "7c95c896-a0be-4dee-b664-e0fa803aba5d",
   "metadata": {},
   "outputs": [],
   "source": [
    "output=llm.invoke(messages)"
   ]
  },
  {
   "cell_type": "code",
   "execution_count": 114,
   "id": "7e71ee19-737f-430a-9bff-42b642a7a3d6",
   "metadata": {},
   "outputs": [
    {
     "data": {
      "text/plain": [
       "'```json\\n{\"sip_name\":\"margarita pizza\",\"sip_count\":\"2\"}\\n```'"
      ]
     },
     "execution_count": 114,
     "metadata": {},
     "output_type": "execute_result"
    }
   ],
   "source": [
    "output.content"
   ]
  },
  {
   "cell_type": "code",
   "execution_count": 115,
   "id": "9591ea4a-6cb4-4370-9e55-4dd2391c7bf9",
   "metadata": {},
   "outputs": [],
   "source": [
    "messages=prompt.format_messages(konusma=\"margarita pizzanın içinde neler var\",\n",
    "                                format_instructions=format_instructions)"
   ]
  },
  {
   "cell_type": "code",
   "execution_count": 116,
   "id": "be05a4dd-ce19-42d0-9c46-78abba2a0336",
   "metadata": {},
   "outputs": [
    {
     "data": {
      "text/plain": [
       "'```json\\n{\"sip_name\":\"Margarita Pizza\",\"sip_count\":\"1\"}\\n```'"
      ]
     },
     "execution_count": 116,
     "metadata": {},
     "output_type": "execute_result"
    }
   ],
   "source": [
    "output=llm.invoke(messages)\n",
    "output.content"
   ]
  },
  {
   "cell_type": "code",
   "execution_count": null,
   "id": "a831f159-cb92-49fa-9919-6c5f9ca3d9e0",
   "metadata": {},
   "outputs": [],
   "source": []
  },
  {
   "cell_type": "code",
   "execution_count": 44,
   "id": "a00883fc-2e21-488e-9c3d-056b3f9428ac",
   "metadata": {},
   "outputs": [],
   "source": [
    "class SiparisHafizasi:\n",
    "    def __init__(self):\n",
    "        self.siparisler = []\n",
    "\n",
    "    def siparis_ekle(self, siparis):\n",
    "        self.siparisler.append(siparis)\n",
    "\n",
    "    def siparisleri_al(self):\n",
    "        return self.siparisler\n",
    "\n",
    "    def hafizayi_temizle(self):\n",
    "        self.siparisler = []"
   ]
  },
  {
   "cell_type": "code",
   "execution_count": 78,
   "id": "6f1a1576-5790-46ab-baf2-9fc7bbd6801f",
   "metadata": {},
   "outputs": [],
   "source": [
    "def siparis_algilama_tool(mesaj):\n",
    "    response = llm_chain.run(mesaj)\n",
    "    # LLM çıktısını kontrol et ve düzenle\n",
    "    if \"sipariş\" in response.lower():\n",
    "        return response.strip()\n",
    "    else:\n",
    "        return None  # Sipariş algılanmazsa None döndür"
   ]
  },
  {
   "cell_type": "code",
   "execution_count": 79,
   "id": "1113cee5-ce8c-4dd3-901f-f73a6a21d2a0",
   "metadata": {},
   "outputs": [],
   "source": [
    "def siparis_dosyaya_yaz_tool(siparisler):\n",
    "    with open(\"siparisler.txt\", \"w\") as f:\n",
    "        f.write(\"Siparişler:\\n\")\n",
    "        for siparis in siparisler:\n",
    "            f.write(f\"- {siparis}\\n\")\n",
    "    return \"Siparişler dosyaya yazıldı.\""
   ]
  },
  {
   "cell_type": "code",
   "execution_count": 80,
   "id": "dbee2afb-7923-40e5-9faf-054e1ccaa70c",
   "metadata": {},
   "outputs": [],
   "source": [
    "def menu_sorgula_tool(mesaj):\n",
    "    response = rag_chain.run(mesaj)\n",
    "    return response.strip()"
   ]
  },
  {
   "cell_type": "code",
   "execution_count": 81,
   "id": "1969ad2b-00d7-4d5f-bffc-4fbe9de92b98",
   "metadata": {},
   "outputs": [],
   "source": [
    "siparis_algilama = Tool(\n",
    "    name=\"SiparisAlgilamaTool\",\n",
    "    func=siparis_algilama_tool,\n",
    "    description=\"Sipariş içeren bir mesajı analiz eder ve sipariş detaylarını çıkarır.\"\n",
    ")"
   ]
  },
  {
   "cell_type": "code",
   "execution_count": 82,
   "id": "c0bb6bf1-f948-4f86-a764-edf92c7158ac",
   "metadata": {},
   "outputs": [],
   "source": [
    "siparis_yazdirma = Tool(\n",
    "    name=\"SiparisYazdirmaTool\",\n",
    "    func=siparis_dosyaya_yaz_tool,\n",
    "    description=\"Siparişleri dosyaya yazdırır.\"\n",
    ")"
   ]
  },
  {
   "cell_type": "code",
   "execution_count": 83,
   "id": "514b2057-bc6e-44a0-a097-3ecf7955adaa",
   "metadata": {},
   "outputs": [],
   "source": [
    "menu_sorgula = Tool(\n",
    "    name=\"MenuSorgulaTool\",\n",
    "    func=menu_sorgula_tool,\n",
    "    description=\"Menüden bilgi almak için kullanılır.\"\n",
    ")"
   ]
  },
  {
   "cell_type": "code",
   "execution_count": 84,
   "id": "4cf4524c-929a-4865-ad32-8e9e794b2c84",
   "metadata": {},
   "outputs": [],
   "source": [
    "memory = ConversationBufferMemory(return_messages=True)\n"
   ]
  },
  {
   "cell_type": "code",
   "execution_count": 85,
   "id": "ea50122a-1886-46b7-afaa-b6f0b671fb69",
   "metadata": {},
   "outputs": [],
   "source": [
    "agent = ConversationalAgent(\n",
    "    llm_chain=llm_chain,\n",
    "    tools=[siparis_algilama, siparis_yazdirma, menu_sorgula],\n",
    "    memory=memory,\n",
    ")"
   ]
  },
  {
   "cell_type": "code",
   "execution_count": 86,
   "id": "188f07d6-34ab-44d9-a8b1-d7ed29af8a74",
   "metadata": {},
   "outputs": [],
   "source": [
    "executor = AgentExecutor(agent=agent, \n",
    "                         tools=[siparis_algilama, siparis_yazdirma, menu_sorgula],\n",
    "                         memory=memory,\n",
    "                        hande_parsing_errors=True)"
   ]
  },
  {
   "cell_type": "code",
   "execution_count": 87,
   "id": "296aaf95-8b3c-493a-a757-90d33bc4381b",
   "metadata": {},
   "outputs": [],
   "source": [
    "def siparis_isle_rag():\n",
    "    hafiza = SiparisHafizasi()\n",
    "    print(\"Sipariş almak için hazır. 'çıkış' yazarak sipariş sürecini sonlandırabilirsiniz.\")\n",
    "\n",
    "    while True:\n",
    "        mesaj = input(\"Kullanıcı: \")\n",
    "\n",
    "        if mesaj.lower() == \"çıkış\":\n",
    "            break\n",
    "\n",
    "        # Kullanıcı mesajını işleme al ve RAG ile menü sorgulama\n",
    "        sonuc = executor.invoke({\"query\": mesaj, \"input\": mesaj, \"context\": memory.buffer})\n",
    "\n",
    "        \n",
    "        # Sipariş algılama işlemi\n",
    "        siparis = siparis_algilama_tool(mesaj)\n",
    "        if siparis:\n",
    "            hafiza.siparis_ekle(siparis)\n",
    "            print(f\"Algılanan sipariş: {siparis}\")\n",
    "\n",
    "        # Yanıtı göster\n",
    "        print(f\"Asistan: {sonuc['output']}\")\n",
    "\n",
    "    # Tüm siparişleri onaylat\n",
    "    siparisler = hafiza.siparisleri_al()\n",
    "    if siparisler:\n",
    "        print(\"\\nAlgılanan siparişler:\")\n",
    "        for sip in siparisler:\n",
    "            print(f\"- {sip}\")\n",
    "        \n",
    "        onay = input(\"\\nBu siparişleri onaylıyor musunuz? (evet/hayır): \")\n",
    "        \n",
    "        if onay.lower() == \"evet\":\n",
    "            siparis_dosyaya_yaz_tool(siparisler)\n",
    "            print(\"Siparişler dosyaya yazıldı.\")\n",
    "        else:\n",
    "            print(\"Siparişler kaydedilmedi.\")\n",
    "        \n",
    "        hafiza.hafizayi_temizle()\n",
    "    else:\n",
    "        print(\"Sipariş algılanmadı.\")"
   ]
  },
  {
   "cell_type": "code",
   "execution_count": 88,
   "id": "cf7eba55-8dad-4900-974c-6980d0c69deb",
   "metadata": {},
   "outputs": [
    {
     "name": "stdout",
     "output_type": "stream",
     "text": [
      "Sipariş almak için hazır. 'çıkış' yazarak sipariş sürecini sonlandırabilirsiniz.\n"
     ]
    },
    {
     "name": "stdin",
     "output_type": "stream",
     "text": [
      "Kullanıcı:  pizza çeşitleri nelerdir\n"
     ]
    },
    {
     "ename": "ValueError",
     "evalue": "An output parsing error occurred. In order to pass this error back to the agent and have it try again, pass `handle_parsing_errors=True` to the AgentExecutor. This is the error: Could not parse LLM output: `Pizza çeşitleri arasında Margherita, Pepperoni, Quattro Stagioni, Veggie, Hawaiian ve BBQ Chicken gibi popüler seçenekler bulunmaktadır. Ayrıca, yerel ve bölgesel özel tarifler de mevcuttur. Her pizza çeşidi farklı malzeme kombinasyonlarıyla hazırlanabilir.`\nFor troubleshooting, visit: https://python.langchain.com/docs/troubleshooting/errors/OUTPUT_PARSING_FAILURE",
     "output_type": "error",
     "traceback": [
      "\u001b[0;31m---------------------------------------------------------------------------\u001b[0m",
      "\u001b[0;31mOutputParserException\u001b[0m                     Traceback (most recent call last)",
      "File \u001b[0;32m/Library/Frameworks/Python.framework/Versions/3.12/lib/python3.12/site-packages/langchain/agents/agent.py:1363\u001b[0m, in \u001b[0;36mAgentExecutor._iter_next_step\u001b[0;34m(self, name_to_tool_map, color_mapping, inputs, intermediate_steps, run_manager)\u001b[0m\n\u001b[1;32m   1362\u001b[0m     \u001b[38;5;66;03m# Call the LLM to see what to do.\u001b[39;00m\n\u001b[0;32m-> 1363\u001b[0m     output \u001b[38;5;241m=\u001b[39m \u001b[38;5;28;43mself\u001b[39;49m\u001b[38;5;241;43m.\u001b[39;49m\u001b[43m_action_agent\u001b[49m\u001b[38;5;241;43m.\u001b[39;49m\u001b[43mplan\u001b[49m\u001b[43m(\u001b[49m\n\u001b[1;32m   1364\u001b[0m \u001b[43m        \u001b[49m\u001b[43mintermediate_steps\u001b[49m\u001b[43m,\u001b[49m\n\u001b[1;32m   1365\u001b[0m \u001b[43m        \u001b[49m\u001b[43mcallbacks\u001b[49m\u001b[38;5;241;43m=\u001b[39;49m\u001b[43mrun_manager\u001b[49m\u001b[38;5;241;43m.\u001b[39;49m\u001b[43mget_child\u001b[49m\u001b[43m(\u001b[49m\u001b[43m)\u001b[49m\u001b[43m \u001b[49m\u001b[38;5;28;43;01mif\u001b[39;49;00m\u001b[43m \u001b[49m\u001b[43mrun_manager\u001b[49m\u001b[43m \u001b[49m\u001b[38;5;28;43;01melse\u001b[39;49;00m\u001b[43m \u001b[49m\u001b[38;5;28;43;01mNone\u001b[39;49;00m\u001b[43m,\u001b[49m\n\u001b[1;32m   1366\u001b[0m \u001b[43m        \u001b[49m\u001b[38;5;241;43m*\u001b[39;49m\u001b[38;5;241;43m*\u001b[39;49m\u001b[43minputs\u001b[49m\u001b[43m,\u001b[49m\n\u001b[1;32m   1367\u001b[0m \u001b[43m    \u001b[49m\u001b[43m)\u001b[49m\n\u001b[1;32m   1368\u001b[0m \u001b[38;5;28;01mexcept\u001b[39;00m OutputParserException \u001b[38;5;28;01mas\u001b[39;00m e:\n",
      "File \u001b[0;32m/Library/Frameworks/Python.framework/Versions/3.12/lib/python3.12/site-packages/langchain/agents/agent.py:810\u001b[0m, in \u001b[0;36mAgent.plan\u001b[0;34m(self, intermediate_steps, callbacks, **kwargs)\u001b[0m\n\u001b[1;32m    809\u001b[0m full_output \u001b[38;5;241m=\u001b[39m \u001b[38;5;28mself\u001b[39m\u001b[38;5;241m.\u001b[39mllm_chain\u001b[38;5;241m.\u001b[39mpredict(callbacks\u001b[38;5;241m=\u001b[39mcallbacks, \u001b[38;5;241m*\u001b[39m\u001b[38;5;241m*\u001b[39mfull_inputs)\n\u001b[0;32m--> 810\u001b[0m \u001b[38;5;28;01mreturn\u001b[39;00m \u001b[38;5;28;43mself\u001b[39;49m\u001b[38;5;241;43m.\u001b[39;49m\u001b[43moutput_parser\u001b[49m\u001b[38;5;241;43m.\u001b[39;49m\u001b[43mparse\u001b[49m\u001b[43m(\u001b[49m\u001b[43mfull_output\u001b[49m\u001b[43m)\u001b[49m\n",
      "File \u001b[0;32m/Library/Frameworks/Python.framework/Versions/3.12/lib/python3.12/site-packages/langchain/agents/conversational/output_parser.py:42\u001b[0m, in \u001b[0;36mConvoOutputParser.parse\u001b[0;34m(self, text)\u001b[0m\n\u001b[1;32m     41\u001b[0m \u001b[38;5;28;01mif\u001b[39;00m \u001b[38;5;129;01mnot\u001b[39;00m match:\n\u001b[0;32m---> 42\u001b[0m     \u001b[38;5;28;01mraise\u001b[39;00m OutputParserException(\u001b[38;5;124mf\u001b[39m\u001b[38;5;124m\"\u001b[39m\u001b[38;5;124mCould not parse LLM output: `\u001b[39m\u001b[38;5;132;01m{\u001b[39;00mtext\u001b[38;5;132;01m}\u001b[39;00m\u001b[38;5;124m`\u001b[39m\u001b[38;5;124m\"\u001b[39m)\n\u001b[1;32m     43\u001b[0m action \u001b[38;5;241m=\u001b[39m match\u001b[38;5;241m.\u001b[39mgroup(\u001b[38;5;241m1\u001b[39m)\n",
      "\u001b[0;31mOutputParserException\u001b[0m: Could not parse LLM output: `Pizza çeşitleri arasında Margherita, Pepperoni, Quattro Stagioni, Veggie, Hawaiian ve BBQ Chicken gibi popüler seçenekler bulunmaktadır. Ayrıca, yerel ve bölgesel özel tarifler de mevcuttur. Her pizza çeşidi farklı malzeme kombinasyonlarıyla hazırlanabilir.`\nFor troubleshooting, visit: https://python.langchain.com/docs/troubleshooting/errors/OUTPUT_PARSING_FAILURE",
      "\nDuring handling of the above exception, another exception occurred:\n",
      "\u001b[0;31mValueError\u001b[0m                                Traceback (most recent call last)",
      "Cell \u001b[0;32mIn[88], line 1\u001b[0m\n\u001b[0;32m----> 1\u001b[0m \u001b[43msiparis_isle_rag\u001b[49m\u001b[43m(\u001b[49m\u001b[43m)\u001b[49m\n",
      "Cell \u001b[0;32mIn[87], line 12\u001b[0m, in \u001b[0;36msiparis_isle_rag\u001b[0;34m()\u001b[0m\n\u001b[1;32m      9\u001b[0m     \u001b[38;5;28;01mbreak\u001b[39;00m\n\u001b[1;32m     11\u001b[0m \u001b[38;5;66;03m# Kullanıcı mesajını işleme al ve RAG ile menü sorgulama\u001b[39;00m\n\u001b[0;32m---> 12\u001b[0m sonuc \u001b[38;5;241m=\u001b[39m \u001b[43mexecutor\u001b[49m\u001b[38;5;241;43m.\u001b[39;49m\u001b[43minvoke\u001b[49m\u001b[43m(\u001b[49m\u001b[43m{\u001b[49m\u001b[38;5;124;43m\"\u001b[39;49m\u001b[38;5;124;43mquery\u001b[39;49m\u001b[38;5;124;43m\"\u001b[39;49m\u001b[43m:\u001b[49m\u001b[43m \u001b[49m\u001b[43mmesaj\u001b[49m\u001b[43m,\u001b[49m\u001b[43m \u001b[49m\u001b[38;5;124;43m\"\u001b[39;49m\u001b[38;5;124;43minput\u001b[39;49m\u001b[38;5;124;43m\"\u001b[39;49m\u001b[43m:\u001b[49m\u001b[43m \u001b[49m\u001b[43mmesaj\u001b[49m\u001b[43m,\u001b[49m\u001b[43m \u001b[49m\u001b[38;5;124;43m\"\u001b[39;49m\u001b[38;5;124;43mcontext\u001b[39;49m\u001b[38;5;124;43m\"\u001b[39;49m\u001b[43m:\u001b[49m\u001b[43m \u001b[49m\u001b[43mmemory\u001b[49m\u001b[38;5;241;43m.\u001b[39;49m\u001b[43mbuffer\u001b[49m\u001b[43m}\u001b[49m\u001b[43m)\u001b[49m\n\u001b[1;32m     15\u001b[0m \u001b[38;5;66;03m# Sipariş algılama işlemi\u001b[39;00m\n\u001b[1;32m     16\u001b[0m siparis \u001b[38;5;241m=\u001b[39m siparis_algilama_tool(mesaj)\n",
      "File \u001b[0;32m/Library/Frameworks/Python.framework/Versions/3.12/lib/python3.12/site-packages/langchain/chains/base.py:170\u001b[0m, in \u001b[0;36mChain.invoke\u001b[0;34m(self, input, config, **kwargs)\u001b[0m\n\u001b[1;32m    168\u001b[0m \u001b[38;5;28;01mexcept\u001b[39;00m \u001b[38;5;167;01mBaseException\u001b[39;00m \u001b[38;5;28;01mas\u001b[39;00m e:\n\u001b[1;32m    169\u001b[0m     run_manager\u001b[38;5;241m.\u001b[39mon_chain_error(e)\n\u001b[0;32m--> 170\u001b[0m     \u001b[38;5;28;01mraise\u001b[39;00m e\n\u001b[1;32m    171\u001b[0m run_manager\u001b[38;5;241m.\u001b[39mon_chain_end(outputs)\n\u001b[1;32m    173\u001b[0m \u001b[38;5;28;01mif\u001b[39;00m include_run_info:\n",
      "File \u001b[0;32m/Library/Frameworks/Python.framework/Versions/3.12/lib/python3.12/site-packages/langchain/chains/base.py:160\u001b[0m, in \u001b[0;36mChain.invoke\u001b[0;34m(self, input, config, **kwargs)\u001b[0m\n\u001b[1;32m    157\u001b[0m \u001b[38;5;28;01mtry\u001b[39;00m:\n\u001b[1;32m    158\u001b[0m     \u001b[38;5;28mself\u001b[39m\u001b[38;5;241m.\u001b[39m_validate_inputs(inputs)\n\u001b[1;32m    159\u001b[0m     outputs \u001b[38;5;241m=\u001b[39m (\n\u001b[0;32m--> 160\u001b[0m         \u001b[38;5;28;43mself\u001b[39;49m\u001b[38;5;241;43m.\u001b[39;49m\u001b[43m_call\u001b[49m\u001b[43m(\u001b[49m\u001b[43minputs\u001b[49m\u001b[43m,\u001b[49m\u001b[43m \u001b[49m\u001b[43mrun_manager\u001b[49m\u001b[38;5;241;43m=\u001b[39;49m\u001b[43mrun_manager\u001b[49m\u001b[43m)\u001b[49m\n\u001b[1;32m    161\u001b[0m         \u001b[38;5;28;01mif\u001b[39;00m new_arg_supported\n\u001b[1;32m    162\u001b[0m         \u001b[38;5;28;01melse\u001b[39;00m \u001b[38;5;28mself\u001b[39m\u001b[38;5;241m.\u001b[39m_call(inputs)\n\u001b[1;32m    163\u001b[0m     )\n\u001b[1;32m    165\u001b[0m     final_outputs: Dict[\u001b[38;5;28mstr\u001b[39m, Any] \u001b[38;5;241m=\u001b[39m \u001b[38;5;28mself\u001b[39m\u001b[38;5;241m.\u001b[39mprep_outputs(\n\u001b[1;32m    166\u001b[0m         inputs, outputs, return_only_outputs\n\u001b[1;32m    167\u001b[0m     )\n\u001b[1;32m    168\u001b[0m \u001b[38;5;28;01mexcept\u001b[39;00m \u001b[38;5;167;01mBaseException\u001b[39;00m \u001b[38;5;28;01mas\u001b[39;00m e:\n",
      "File \u001b[0;32m/Library/Frameworks/Python.framework/Versions/3.12/lib/python3.12/site-packages/langchain/agents/agent.py:1629\u001b[0m, in \u001b[0;36mAgentExecutor._call\u001b[0;34m(self, inputs, run_manager)\u001b[0m\n\u001b[1;32m   1627\u001b[0m \u001b[38;5;66;03m# We now enter the agent loop (until it returns something).\u001b[39;00m\n\u001b[1;32m   1628\u001b[0m \u001b[38;5;28;01mwhile\u001b[39;00m \u001b[38;5;28mself\u001b[39m\u001b[38;5;241m.\u001b[39m_should_continue(iterations, time_elapsed):\n\u001b[0;32m-> 1629\u001b[0m     next_step_output \u001b[38;5;241m=\u001b[39m \u001b[38;5;28;43mself\u001b[39;49m\u001b[38;5;241;43m.\u001b[39;49m\u001b[43m_take_next_step\u001b[49m\u001b[43m(\u001b[49m\n\u001b[1;32m   1630\u001b[0m \u001b[43m        \u001b[49m\u001b[43mname_to_tool_map\u001b[49m\u001b[43m,\u001b[49m\n\u001b[1;32m   1631\u001b[0m \u001b[43m        \u001b[49m\u001b[43mcolor_mapping\u001b[49m\u001b[43m,\u001b[49m\n\u001b[1;32m   1632\u001b[0m \u001b[43m        \u001b[49m\u001b[43minputs\u001b[49m\u001b[43m,\u001b[49m\n\u001b[1;32m   1633\u001b[0m \u001b[43m        \u001b[49m\u001b[43mintermediate_steps\u001b[49m\u001b[43m,\u001b[49m\n\u001b[1;32m   1634\u001b[0m \u001b[43m        \u001b[49m\u001b[43mrun_manager\u001b[49m\u001b[38;5;241;43m=\u001b[39;49m\u001b[43mrun_manager\u001b[49m\u001b[43m,\u001b[49m\n\u001b[1;32m   1635\u001b[0m \u001b[43m    \u001b[49m\u001b[43m)\u001b[49m\n\u001b[1;32m   1636\u001b[0m     \u001b[38;5;28;01mif\u001b[39;00m \u001b[38;5;28misinstance\u001b[39m(next_step_output, AgentFinish):\n\u001b[1;32m   1637\u001b[0m         \u001b[38;5;28;01mreturn\u001b[39;00m \u001b[38;5;28mself\u001b[39m\u001b[38;5;241m.\u001b[39m_return(\n\u001b[1;32m   1638\u001b[0m             next_step_output, intermediate_steps, run_manager\u001b[38;5;241m=\u001b[39mrun_manager\n\u001b[1;32m   1639\u001b[0m         )\n",
      "File \u001b[0;32m/Library/Frameworks/Python.framework/Versions/3.12/lib/python3.12/site-packages/langchain/agents/agent.py:1335\u001b[0m, in \u001b[0;36mAgentExecutor._take_next_step\u001b[0;34m(self, name_to_tool_map, color_mapping, inputs, intermediate_steps, run_manager)\u001b[0m\n\u001b[1;32m   1326\u001b[0m \u001b[38;5;28;01mdef\u001b[39;00m \u001b[38;5;21m_take_next_step\u001b[39m(\n\u001b[1;32m   1327\u001b[0m     \u001b[38;5;28mself\u001b[39m,\n\u001b[1;32m   1328\u001b[0m     name_to_tool_map: Dict[\u001b[38;5;28mstr\u001b[39m, BaseTool],\n\u001b[0;32m   (...)\u001b[0m\n\u001b[1;32m   1332\u001b[0m     run_manager: Optional[CallbackManagerForChainRun] \u001b[38;5;241m=\u001b[39m \u001b[38;5;28;01mNone\u001b[39;00m,\n\u001b[1;32m   1333\u001b[0m ) \u001b[38;5;241m-\u001b[39m\u001b[38;5;241m>\u001b[39m Union[AgentFinish, List[Tuple[AgentAction, \u001b[38;5;28mstr\u001b[39m]]]:\n\u001b[1;32m   1334\u001b[0m     \u001b[38;5;28;01mreturn\u001b[39;00m \u001b[38;5;28mself\u001b[39m\u001b[38;5;241m.\u001b[39m_consume_next_step(\n\u001b[0;32m-> 1335\u001b[0m         \u001b[43m[\u001b[49m\n\u001b[1;32m   1336\u001b[0m \u001b[43m            \u001b[49m\u001b[43ma\u001b[49m\n\u001b[1;32m   1337\u001b[0m \u001b[43m            \u001b[49m\u001b[38;5;28;43;01mfor\u001b[39;49;00m\u001b[43m \u001b[49m\u001b[43ma\u001b[49m\u001b[43m \u001b[49m\u001b[38;5;129;43;01min\u001b[39;49;00m\u001b[43m \u001b[49m\u001b[38;5;28;43mself\u001b[39;49m\u001b[38;5;241;43m.\u001b[39;49m\u001b[43m_iter_next_step\u001b[49m\u001b[43m(\u001b[49m\n\u001b[1;32m   1338\u001b[0m \u001b[43m                \u001b[49m\u001b[43mname_to_tool_map\u001b[49m\u001b[43m,\u001b[49m\n\u001b[1;32m   1339\u001b[0m \u001b[43m                \u001b[49m\u001b[43mcolor_mapping\u001b[49m\u001b[43m,\u001b[49m\n\u001b[1;32m   1340\u001b[0m \u001b[43m                \u001b[49m\u001b[43minputs\u001b[49m\u001b[43m,\u001b[49m\n\u001b[1;32m   1341\u001b[0m \u001b[43m                \u001b[49m\u001b[43mintermediate_steps\u001b[49m\u001b[43m,\u001b[49m\n\u001b[1;32m   1342\u001b[0m \u001b[43m                \u001b[49m\u001b[43mrun_manager\u001b[49m\u001b[43m,\u001b[49m\n\u001b[1;32m   1343\u001b[0m \u001b[43m            \u001b[49m\u001b[43m)\u001b[49m\n\u001b[1;32m   1344\u001b[0m \u001b[43m        \u001b[49m\u001b[43m]\u001b[49m\n\u001b[1;32m   1345\u001b[0m     )\n",
      "File \u001b[0;32m/Library/Frameworks/Python.framework/Versions/3.12/lib/python3.12/site-packages/langchain/agents/agent.py:1374\u001b[0m, in \u001b[0;36mAgentExecutor._iter_next_step\u001b[0;34m(self, name_to_tool_map, color_mapping, inputs, intermediate_steps, run_manager)\u001b[0m\n\u001b[1;32m   1372\u001b[0m     raise_error \u001b[38;5;241m=\u001b[39m \u001b[38;5;28;01mFalse\u001b[39;00m\n\u001b[1;32m   1373\u001b[0m \u001b[38;5;28;01mif\u001b[39;00m raise_error:\n\u001b[0;32m-> 1374\u001b[0m     \u001b[38;5;28;01mraise\u001b[39;00m \u001b[38;5;167;01mValueError\u001b[39;00m(\n\u001b[1;32m   1375\u001b[0m         \u001b[38;5;124m\"\u001b[39m\u001b[38;5;124mAn output parsing error occurred. \u001b[39m\u001b[38;5;124m\"\u001b[39m\n\u001b[1;32m   1376\u001b[0m         \u001b[38;5;124m\"\u001b[39m\u001b[38;5;124mIn order to pass this error back to the agent and have it try \u001b[39m\u001b[38;5;124m\"\u001b[39m\n\u001b[1;32m   1377\u001b[0m         \u001b[38;5;124m\"\u001b[39m\u001b[38;5;124magain, pass `handle_parsing_errors=True` to the AgentExecutor. \u001b[39m\u001b[38;5;124m\"\u001b[39m\n\u001b[1;32m   1378\u001b[0m         \u001b[38;5;124mf\u001b[39m\u001b[38;5;124m\"\u001b[39m\u001b[38;5;124mThis is the error: \u001b[39m\u001b[38;5;132;01m{\u001b[39;00m\u001b[38;5;28mstr\u001b[39m(e)\u001b[38;5;132;01m}\u001b[39;00m\u001b[38;5;124m\"\u001b[39m\n\u001b[1;32m   1379\u001b[0m     )\n\u001b[1;32m   1380\u001b[0m text \u001b[38;5;241m=\u001b[39m \u001b[38;5;28mstr\u001b[39m(e)\n\u001b[1;32m   1381\u001b[0m \u001b[38;5;28;01mif\u001b[39;00m \u001b[38;5;28misinstance\u001b[39m(\u001b[38;5;28mself\u001b[39m\u001b[38;5;241m.\u001b[39mhandle_parsing_errors, \u001b[38;5;28mbool\u001b[39m):\n",
      "\u001b[0;31mValueError\u001b[0m: An output parsing error occurred. In order to pass this error back to the agent and have it try again, pass `handle_parsing_errors=True` to the AgentExecutor. This is the error: Could not parse LLM output: `Pizza çeşitleri arasında Margherita, Pepperoni, Quattro Stagioni, Veggie, Hawaiian ve BBQ Chicken gibi popüler seçenekler bulunmaktadır. Ayrıca, yerel ve bölgesel özel tarifler de mevcuttur. Her pizza çeşidi farklı malzeme kombinasyonlarıyla hazırlanabilir.`\nFor troubleshooting, visit: https://python.langchain.com/docs/troubleshooting/errors/OUTPUT_PARSING_FAILURE"
     ]
    }
   ],
   "source": [
    "siparis_isle_rag()"
   ]
  },
  {
   "cell_type": "code",
   "execution_count": null,
   "id": "0c17a9cd-9b94-4554-b4d5-19908fbbaca0",
   "metadata": {},
   "outputs": [],
   "source": []
  }
 ],
 "metadata": {
  "kernelspec": {
   "display_name": "Python 3 (ipykernel)",
   "language": "python",
   "name": "python3"
  },
  "language_info": {
   "codemirror_mode": {
    "name": "ipython",
    "version": 3
   },
   "file_extension": ".py",
   "mimetype": "text/x-python",
   "name": "python",
   "nbconvert_exporter": "python",
   "pygments_lexer": "ipython3",
   "version": "3.12.5"
  }
 },
 "nbformat": 4,
 "nbformat_minor": 5
}
