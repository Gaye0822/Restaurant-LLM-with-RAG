{
 "cells": [
  {
   "cell_type": "code",
   "execution_count": 4,
   "id": "da04df1f-9006-485c-8953-14b926883e2a",
   "metadata": {
    "scrolled": true
   },
   "outputs": [
    {
     "name": "stdout",
     "output_type": "stream",
     "text": [
      "Requirement already satisfied: transformers in /Library/Frameworks/Python.framework/Versions/3.12/lib/python3.12/site-packages (4.46.1)\n",
      "Requirement already satisfied: sentence-transformers in /Library/Frameworks/Python.framework/Versions/3.12/lib/python3.12/site-packages (3.2.1)\n",
      "Requirement already satisfied: langchain in /Library/Frameworks/Python.framework/Versions/3.12/lib/python3.12/site-packages (0.3.7)\n",
      "Requirement already satisfied: langchain-community in /Library/Frameworks/Python.framework/Versions/3.12/lib/python3.12/site-packages (0.3.5)\n",
      "Collecting langchain-openai\n",
      "  Downloading langchain_openai-0.2.6-py3-none-any.whl.metadata (2.6 kB)\n",
      "Requirement already satisfied: faiss-cpu in /Library/Frameworks/Python.framework/Versions/3.12/lib/python3.12/site-packages (1.9.0)\n",
      "Requirement already satisfied: unstructured in /Library/Frameworks/Python.framework/Versions/3.12/lib/python3.12/site-packages (0.16.4)\n",
      "Requirement already satisfied: filelock in /Library/Frameworks/Python.framework/Versions/3.12/lib/python3.12/site-packages (from transformers) (3.16.1)\n",
      "Requirement already satisfied: huggingface-hub<1.0,>=0.23.2 in /Library/Frameworks/Python.framework/Versions/3.12/lib/python3.12/site-packages (from transformers) (0.26.2)\n",
      "Requirement already satisfied: numpy>=1.17 in /Library/Frameworks/Python.framework/Versions/3.12/lib/python3.12/site-packages (from transformers) (1.26.4)\n",
      "Requirement already satisfied: packaging>=20.0 in /Library/Frameworks/Python.framework/Versions/3.12/lib/python3.12/site-packages (from transformers) (24.1)\n",
      "Requirement already satisfied: pyyaml>=5.1 in /Library/Frameworks/Python.framework/Versions/3.12/lib/python3.12/site-packages (from transformers) (6.0.2)\n",
      "Requirement already satisfied: regex!=2019.12.17 in /Library/Frameworks/Python.framework/Versions/3.12/lib/python3.12/site-packages (from transformers) (2024.9.11)\n",
      "Requirement already satisfied: requests in /Library/Frameworks/Python.framework/Versions/3.12/lib/python3.12/site-packages (from transformers) (2.32.3)\n",
      "Requirement already satisfied: safetensors>=0.4.1 in /Library/Frameworks/Python.framework/Versions/3.12/lib/python3.12/site-packages (from transformers) (0.4.5)\n",
      "Requirement already satisfied: tokenizers<0.21,>=0.20 in /Library/Frameworks/Python.framework/Versions/3.12/lib/python3.12/site-packages (from transformers) (0.20.2)\n",
      "Requirement already satisfied: tqdm>=4.27 in /Library/Frameworks/Python.framework/Versions/3.12/lib/python3.12/site-packages (from transformers) (4.66.5)\n",
      "Requirement already satisfied: torch>=1.11.0 in /Library/Frameworks/Python.framework/Versions/3.12/lib/python3.12/site-packages (from sentence-transformers) (2.5.1)\n",
      "Requirement already satisfied: scikit-learn in /Library/Frameworks/Python.framework/Versions/3.12/lib/python3.12/site-packages (from sentence-transformers) (1.5.2)\n",
      "Requirement already satisfied: scipy in /Library/Frameworks/Python.framework/Versions/3.12/lib/python3.12/site-packages (from sentence-transformers) (1.14.1)\n",
      "Requirement already satisfied: Pillow in /Library/Frameworks/Python.framework/Versions/3.12/lib/python3.12/site-packages (from sentence-transformers) (11.0.0)\n",
      "Requirement already satisfied: SQLAlchemy<3,>=1.4 in /Library/Frameworks/Python.framework/Versions/3.12/lib/python3.12/site-packages (from langchain) (2.0.35)\n",
      "Requirement already satisfied: aiohttp<4.0.0,>=3.8.3 in /Library/Frameworks/Python.framework/Versions/3.12/lib/python3.12/site-packages (from langchain) (3.10.10)\n",
      "Requirement already satisfied: langchain-core<0.4.0,>=0.3.15 in /Library/Frameworks/Python.framework/Versions/3.12/lib/python3.12/site-packages (from langchain) (0.3.15)\n",
      "Requirement already satisfied: langchain-text-splitters<0.4.0,>=0.3.0 in /Library/Frameworks/Python.framework/Versions/3.12/lib/python3.12/site-packages (from langchain) (0.3.2)\n",
      "Requirement already satisfied: langsmith<0.2.0,>=0.1.17 in /Library/Frameworks/Python.framework/Versions/3.12/lib/python3.12/site-packages (from langchain) (0.1.139)\n",
      "Requirement already satisfied: pydantic<3.0.0,>=2.7.4 in /Library/Frameworks/Python.framework/Versions/3.12/lib/python3.12/site-packages (from langchain) (2.9.2)\n",
      "Requirement already satisfied: tenacity!=8.4.0,<10,>=8.1.0 in /Library/Frameworks/Python.framework/Versions/3.12/lib/python3.12/site-packages (from langchain) (9.0.0)\n",
      "Requirement already satisfied: dataclasses-json<0.7,>=0.5.7 in /Library/Frameworks/Python.framework/Versions/3.12/lib/python3.12/site-packages (from langchain-community) (0.6.7)\n",
      "Requirement already satisfied: httpx-sse<0.5.0,>=0.4.0 in /Library/Frameworks/Python.framework/Versions/3.12/lib/python3.12/site-packages (from langchain-community) (0.4.0)\n",
      "Requirement already satisfied: pydantic-settings<3.0.0,>=2.4.0 in /Library/Frameworks/Python.framework/Versions/3.12/lib/python3.12/site-packages (from langchain-community) (2.6.1)\n",
      "Collecting openai<2.0.0,>=1.54.0 (from langchain-openai)\n",
      "  Downloading openai-1.54.3-py3-none-any.whl.metadata (24 kB)\n",
      "Collecting tiktoken<1,>=0.7 (from langchain-openai)\n",
      "  Downloading tiktoken-0.8.0-cp312-cp312-macosx_11_0_arm64.whl.metadata (6.6 kB)\n",
      "Requirement already satisfied: chardet in /Library/Frameworks/Python.framework/Versions/3.12/lib/python3.12/site-packages (from unstructured) (5.2.0)\n",
      "Requirement already satisfied: filetype in /Library/Frameworks/Python.framework/Versions/3.12/lib/python3.12/site-packages (from unstructured) (1.2.0)\n",
      "Requirement already satisfied: python-magic in /Library/Frameworks/Python.framework/Versions/3.12/lib/python3.12/site-packages (from unstructured) (0.4.27)\n",
      "Requirement already satisfied: lxml in /Library/Frameworks/Python.framework/Versions/3.12/lib/python3.12/site-packages (from unstructured) (5.3.0)\n",
      "Requirement already satisfied: nltk in /Library/Frameworks/Python.framework/Versions/3.12/lib/python3.12/site-packages (from unstructured) (3.9.1)\n",
      "Requirement already satisfied: beautifulsoup4 in /Library/Frameworks/Python.framework/Versions/3.12/lib/python3.12/site-packages (from unstructured) (4.12.3)\n",
      "Requirement already satisfied: emoji in /Library/Frameworks/Python.framework/Versions/3.12/lib/python3.12/site-packages (from unstructured) (2.14.0)\n",
      "Requirement already satisfied: python-iso639 in /Library/Frameworks/Python.framework/Versions/3.12/lib/python3.12/site-packages (from unstructured) (2024.10.22)\n",
      "Requirement already satisfied: langdetect in /Library/Frameworks/Python.framework/Versions/3.12/lib/python3.12/site-packages (from unstructured) (1.0.9)\n",
      "Requirement already satisfied: rapidfuzz in /Library/Frameworks/Python.framework/Versions/3.12/lib/python3.12/site-packages (from unstructured) (3.10.1)\n",
      "Requirement already satisfied: backoff in /Library/Frameworks/Python.framework/Versions/3.12/lib/python3.12/site-packages (from unstructured) (2.2.1)\n",
      "Requirement already satisfied: typing-extensions in /Library/Frameworks/Python.framework/Versions/3.12/lib/python3.12/site-packages (from unstructured) (4.12.2)\n",
      "Requirement already satisfied: unstructured-client in /Library/Frameworks/Python.framework/Versions/3.12/lib/python3.12/site-packages (from unstructured) (0.27.0)\n",
      "Requirement already satisfied: wrapt in /Library/Frameworks/Python.framework/Versions/3.12/lib/python3.12/site-packages (from unstructured) (1.16.0)\n",
      "Requirement already satisfied: psutil in /Library/Frameworks/Python.framework/Versions/3.12/lib/python3.12/site-packages (from unstructured) (6.0.0)\n",
      "Requirement already satisfied: python-oxmsg in /Library/Frameworks/Python.framework/Versions/3.12/lib/python3.12/site-packages (from unstructured) (0.0.1)\n",
      "Requirement already satisfied: html5lib in /Library/Frameworks/Python.framework/Versions/3.12/lib/python3.12/site-packages (from unstructured) (1.1)\n",
      "Requirement already satisfied: aiohappyeyeballs>=2.3.0 in /Library/Frameworks/Python.framework/Versions/3.12/lib/python3.12/site-packages (from aiohttp<4.0.0,>=3.8.3->langchain) (2.4.3)\n",
      "Requirement already satisfied: aiosignal>=1.1.2 in /Library/Frameworks/Python.framework/Versions/3.12/lib/python3.12/site-packages (from aiohttp<4.0.0,>=3.8.3->langchain) (1.3.1)\n",
      "Requirement already satisfied: attrs>=17.3.0 in /Library/Frameworks/Python.framework/Versions/3.12/lib/python3.12/site-packages (from aiohttp<4.0.0,>=3.8.3->langchain) (24.2.0)\n",
      "Requirement already satisfied: frozenlist>=1.1.1 in /Library/Frameworks/Python.framework/Versions/3.12/lib/python3.12/site-packages (from aiohttp<4.0.0,>=3.8.3->langchain) (1.5.0)\n",
      "Requirement already satisfied: multidict<7.0,>=4.5 in /Library/Frameworks/Python.framework/Versions/3.12/lib/python3.12/site-packages (from aiohttp<4.0.0,>=3.8.3->langchain) (6.1.0)\n",
      "Requirement already satisfied: yarl<2.0,>=1.12.0 in /Library/Frameworks/Python.framework/Versions/3.12/lib/python3.12/site-packages (from aiohttp<4.0.0,>=3.8.3->langchain) (1.17.1)\n",
      "Requirement already satisfied: marshmallow<4.0.0,>=3.18.0 in /Library/Frameworks/Python.framework/Versions/3.12/lib/python3.12/site-packages (from dataclasses-json<0.7,>=0.5.7->langchain-community) (3.23.1)\n",
      "Requirement already satisfied: typing-inspect<1,>=0.4.0 in /Library/Frameworks/Python.framework/Versions/3.12/lib/python3.12/site-packages (from dataclasses-json<0.7,>=0.5.7->langchain-community) (0.9.0)\n",
      "Requirement already satisfied: fsspec>=2023.5.0 in /Library/Frameworks/Python.framework/Versions/3.12/lib/python3.12/site-packages (from huggingface-hub<1.0,>=0.23.2->transformers) (2024.10.0)\n",
      "Requirement already satisfied: jsonpatch<2.0,>=1.33 in /Library/Frameworks/Python.framework/Versions/3.12/lib/python3.12/site-packages (from langchain-core<0.4.0,>=0.3.15->langchain) (1.33)\n",
      "Requirement already satisfied: httpx<1,>=0.23.0 in /Library/Frameworks/Python.framework/Versions/3.12/lib/python3.12/site-packages (from langsmith<0.2.0,>=0.1.17->langchain) (0.27.2)\n",
      "Requirement already satisfied: orjson<4.0.0,>=3.9.14 in /Library/Frameworks/Python.framework/Versions/3.12/lib/python3.12/site-packages (from langsmith<0.2.0,>=0.1.17->langchain) (3.10.11)\n",
      "Requirement already satisfied: requests-toolbelt<2.0.0,>=1.0.0 in /Library/Frameworks/Python.framework/Versions/3.12/lib/python3.12/site-packages (from langsmith<0.2.0,>=0.1.17->langchain) (1.0.0)\n",
      "Requirement already satisfied: anyio<5,>=3.5.0 in /Library/Frameworks/Python.framework/Versions/3.12/lib/python3.12/site-packages (from openai<2.0.0,>=1.54.0->langchain-openai) (4.4.0)\n",
      "Requirement already satisfied: distro<2,>=1.7.0 in /Library/Frameworks/Python.framework/Versions/3.12/lib/python3.12/site-packages (from openai<2.0.0,>=1.54.0->langchain-openai) (1.9.0)\n",
      "Requirement already satisfied: jiter<1,>=0.4.0 in /Library/Frameworks/Python.framework/Versions/3.12/lib/python3.12/site-packages (from openai<2.0.0,>=1.54.0->langchain-openai) (0.6.1)\n",
      "Requirement already satisfied: sniffio in /Library/Frameworks/Python.framework/Versions/3.12/lib/python3.12/site-packages (from openai<2.0.0,>=1.54.0->langchain-openai) (1.3.1)\n",
      "Requirement already satisfied: annotated-types>=0.6.0 in /Library/Frameworks/Python.framework/Versions/3.12/lib/python3.12/site-packages (from pydantic<3.0.0,>=2.7.4->langchain) (0.7.0)\n",
      "Requirement already satisfied: pydantic-core==2.23.4 in /Library/Frameworks/Python.framework/Versions/3.12/lib/python3.12/site-packages (from pydantic<3.0.0,>=2.7.4->langchain) (2.23.4)\n",
      "Requirement already satisfied: python-dotenv>=0.21.0 in /Library/Frameworks/Python.framework/Versions/3.12/lib/python3.12/site-packages (from pydantic-settings<3.0.0,>=2.4.0->langchain-community) (1.0.1)\n",
      "Requirement already satisfied: charset-normalizer<4,>=2 in /Library/Frameworks/Python.framework/Versions/3.12/lib/python3.12/site-packages (from requests->transformers) (3.3.2)\n",
      "Requirement already satisfied: idna<4,>=2.5 in /Library/Frameworks/Python.framework/Versions/3.12/lib/python3.12/site-packages (from requests->transformers) (3.8)\n",
      "Requirement already satisfied: urllib3<3,>=1.21.1 in /Library/Frameworks/Python.framework/Versions/3.12/lib/python3.12/site-packages (from requests->transformers) (2.2.2)\n",
      "Requirement already satisfied: certifi>=2017.4.17 in /Library/Frameworks/Python.framework/Versions/3.12/lib/python3.12/site-packages (from requests->transformers) (2024.8.30)\n",
      "Requirement already satisfied: networkx in /Library/Frameworks/Python.framework/Versions/3.12/lib/python3.12/site-packages (from torch>=1.11.0->sentence-transformers) (3.4.2)\n",
      "Requirement already satisfied: jinja2 in /Library/Frameworks/Python.framework/Versions/3.12/lib/python3.12/site-packages (from torch>=1.11.0->sentence-transformers) (3.1.4)\n",
      "Requirement already satisfied: setuptools in /Library/Frameworks/Python.framework/Versions/3.12/lib/python3.12/site-packages (from torch>=1.11.0->sentence-transformers) (75.3.0)\n",
      "Requirement already satisfied: sympy==1.13.1 in /Library/Frameworks/Python.framework/Versions/3.12/lib/python3.12/site-packages (from torch>=1.11.0->sentence-transformers) (1.13.1)\n",
      "Requirement already satisfied: mpmath<1.4,>=1.1.0 in /Library/Frameworks/Python.framework/Versions/3.12/lib/python3.12/site-packages (from sympy==1.13.1->torch>=1.11.0->sentence-transformers) (1.3.0)\n",
      "Requirement already satisfied: soupsieve>1.2 in /Library/Frameworks/Python.framework/Versions/3.12/lib/python3.12/site-packages (from beautifulsoup4->unstructured) (2.6)\n",
      "Requirement already satisfied: six>=1.9 in /Library/Frameworks/Python.framework/Versions/3.12/lib/python3.12/site-packages (from html5lib->unstructured) (1.16.0)\n",
      "Requirement already satisfied: webencodings in /Library/Frameworks/Python.framework/Versions/3.12/lib/python3.12/site-packages (from html5lib->unstructured) (0.5.1)\n",
      "Requirement already satisfied: click in /Library/Frameworks/Python.framework/Versions/3.12/lib/python3.12/site-packages (from nltk->unstructured) (8.1.7)\n",
      "Requirement already satisfied: joblib in /Library/Frameworks/Python.framework/Versions/3.12/lib/python3.12/site-packages (from nltk->unstructured) (1.4.2)\n",
      "Requirement already satisfied: olefile in /Library/Frameworks/Python.framework/Versions/3.12/lib/python3.12/site-packages (from python-oxmsg->unstructured) (0.47)\n",
      "Requirement already satisfied: threadpoolctl>=3.1.0 in /Library/Frameworks/Python.framework/Versions/3.12/lib/python3.12/site-packages (from scikit-learn->sentence-transformers) (3.5.0)\n",
      "Requirement already satisfied: cryptography>=3.1 in /Library/Frameworks/Python.framework/Versions/3.12/lib/python3.12/site-packages (from unstructured-client->unstructured) (43.0.3)\n",
      "Requirement already satisfied: eval-type-backport<0.3.0,>=0.2.0 in /Library/Frameworks/Python.framework/Versions/3.12/lib/python3.12/site-packages (from unstructured-client->unstructured) (0.2.0)\n",
      "Requirement already satisfied: jsonpath-python<2.0.0,>=1.0.6 in /Library/Frameworks/Python.framework/Versions/3.12/lib/python3.12/site-packages (from unstructured-client->unstructured) (1.0.6)\n",
      "Requirement already satisfied: nest-asyncio>=1.6.0 in /Library/Frameworks/Python.framework/Versions/3.12/lib/python3.12/site-packages (from unstructured-client->unstructured) (1.6.0)\n",
      "Requirement already satisfied: pypdf>=4.0 in /Library/Frameworks/Python.framework/Versions/3.12/lib/python3.12/site-packages (from unstructured-client->unstructured) (5.1.0)\n",
      "Requirement already satisfied: python-dateutil==2.8.2 in /Library/Frameworks/Python.framework/Versions/3.12/lib/python3.12/site-packages (from unstructured-client->unstructured) (2.8.2)\n",
      "Requirement already satisfied: cffi>=1.12 in /Library/Frameworks/Python.framework/Versions/3.12/lib/python3.12/site-packages (from cryptography>=3.1->unstructured-client->unstructured) (1.17.1)\n",
      "Requirement already satisfied: httpcore==1.* in /Library/Frameworks/Python.framework/Versions/3.12/lib/python3.12/site-packages (from httpx<1,>=0.23.0->langsmith<0.2.0,>=0.1.17->langchain) (1.0.5)\n",
      "Requirement already satisfied: h11<0.15,>=0.13 in /Library/Frameworks/Python.framework/Versions/3.12/lib/python3.12/site-packages (from httpcore==1.*->httpx<1,>=0.23.0->langsmith<0.2.0,>=0.1.17->langchain) (0.14.0)\n",
      "Requirement already satisfied: jsonpointer>=1.9 in /Library/Frameworks/Python.framework/Versions/3.12/lib/python3.12/site-packages (from jsonpatch<2.0,>=1.33->langchain-core<0.4.0,>=0.3.15->langchain) (3.0.0)\n",
      "Requirement already satisfied: mypy-extensions>=0.3.0 in /Library/Frameworks/Python.framework/Versions/3.12/lib/python3.12/site-packages (from typing-inspect<1,>=0.4.0->dataclasses-json<0.7,>=0.5.7->langchain-community) (1.0.0)\n",
      "Requirement already satisfied: propcache>=0.2.0 in /Library/Frameworks/Python.framework/Versions/3.12/lib/python3.12/site-packages (from yarl<2.0,>=1.12.0->aiohttp<4.0.0,>=3.8.3->langchain) (0.2.0)\n",
      "Requirement already satisfied: MarkupSafe>=2.0 in /Library/Frameworks/Python.framework/Versions/3.12/lib/python3.12/site-packages (from jinja2->torch>=1.11.0->sentence-transformers) (2.1.5)\n",
      "Requirement already satisfied: pycparser in /Library/Frameworks/Python.framework/Versions/3.12/lib/python3.12/site-packages (from cffi>=1.12->cryptography>=3.1->unstructured-client->unstructured) (2.22)\n",
      "Downloading langchain_openai-0.2.6-py3-none-any.whl (50 kB)\n",
      "Downloading openai-1.54.3-py3-none-any.whl (389 kB)\n",
      "Downloading tiktoken-0.8.0-cp312-cp312-macosx_11_0_arm64.whl (982 kB)\n",
      "\u001b[2K   \u001b[90m━━━━━━━━━━━━━━━━━━━━━━━━━━━━━━━━━━━━━━━━\u001b[0m \u001b[32m982.6/982.6 kB\u001b[0m \u001b[31m8.9 MB/s\u001b[0m eta \u001b[36m0:00:00\u001b[0m\n",
      "\u001b[?25hInstalling collected packages: tiktoken, openai, langchain-openai\n",
      "  Attempting uninstall: openai\n",
      "    Found existing installation: openai 1.52.0\n",
      "    Uninstalling openai-1.52.0:\n",
      "      Successfully uninstalled openai-1.52.0\n",
      "Successfully installed langchain-openai-0.2.6 openai-1.54.3 tiktoken-0.8.0\n"
     ]
    }
   ],
   "source": [
    "!pip install transformers sentence-transformers langchain langchain-community langchain-openai faiss-cpu unstructured "
   ]
  },
  {
   "cell_type": "code",
   "execution_count": 8,
   "id": "934bdf7c-fbdb-47f1-995d-dc3d61b2806b",
   "metadata": {},
   "outputs": [
    {
     "ename": "ModuleNotFoundError",
     "evalue": "No module named 'langchain_community'",
     "output_type": "error",
     "traceback": [
      "\u001b[1;31m---------------------------------------------------------------------------\u001b[0m",
      "\u001b[1;31mModuleNotFoundError\u001b[0m                       Traceback (most recent call last)",
      "Cell \u001b[1;32mIn[8], line 1\u001b[0m\n\u001b[1;32m----> 1\u001b[0m \u001b[38;5;28;01mfrom\u001b[39;00m \u001b[38;5;21;01mlangchain_community\u001b[39;00m\u001b[38;5;21;01m.\u001b[39;00m\u001b[38;5;21;01mdocument_loaders\u001b[39;00m\u001b[38;5;21;01m.\u001b[39;00m\u001b[38;5;21;01mcsv_loader\u001b[39;00m \u001b[38;5;28;01mimport\u001b[39;00m CSVLoader\n\u001b[0;32m      2\u001b[0m \u001b[38;5;28;01mfrom\u001b[39;00m \u001b[38;5;21;01mpathlib\u001b[39;00m \u001b[38;5;28;01mimport\u001b[39;00m Path\n\u001b[0;32m      3\u001b[0m \u001b[38;5;28;01mfrom\u001b[39;00m \u001b[38;5;21;01mlangchain_openai\u001b[39;00m \u001b[38;5;28;01mimport\u001b[39;00m ChatOpenAI,OpenAIEmbeddings\n",
      "\u001b[1;31mModuleNotFoundError\u001b[0m: No module named 'langchain_community'"
     ]
    }
   ],
   "source": [
    "from langchain_community.document_loaders.csv_loader import CSVLoader\n",
    "from pathlib import Path\n",
    "from langchain_openai import ChatOpenAI,OpenAIEmbeddings\n",
    "import os\n",
    "from dotenv import load_dotenv\n",
    "import faiss\n",
    "from langchain_community.docstore.in_memory import InMemoryDocstore\n",
    "from langchain_community.vectorstores import FAISS\n",
    "from langchain_core.prompts import ChatPromptTemplate\n",
    "from langchain.chains import create_retrieval_chain\n",
    "from langchain.chains.combine_documents import create_stuff_documents_chain\n",
    "from langchain.agents import Tool, AgentExecutor, ConversationalAgent\n",
    "from langchain.memory import ConversationBufferMemory\n",
    "from langchain import OpenAI, LLMChain\n",
    "from langchain.chains import RetrievalQA"
   ]
  },
  {
   "cell_type": "code",
   "execution_count": null,
   "id": "e0b671ed-fe8e-4e7b-9728-0552139aa97f",
   "metadata": {},
   "outputs": [],
   "source": [
    "No module named 'langchain_community'"
   ]
  },
  {
   "cell_type": "code",
   "execution_count": 2,
   "id": "1b1f1613-8504-44d9-8c56-1c862c751e0c",
   "metadata": {},
   "outputs": [],
   "source": [
    "load_dotenv()\n",
    "\n",
    "# Set the OpenAI API key environment variable\n",
    "os.environ[\"OPENAI_API_KEY\"] = os.getenv('OPENAI_API_KEY')\n",
    "\n"
   ]
  },
  {
   "cell_type": "code",
   "execution_count": 3,
   "id": "3a8df188-7a54-40f4-b9f3-59e81bff5374",
   "metadata": {},
   "outputs": [],
   "source": [
    "llm = ChatOpenAI(model=\"gpt-4o-mini\")"
   ]
  },
  {
   "cell_type": "code",
   "execution_count": 4,
   "id": "0f5475bd-8a0a-4d35-9268-3dcb3a8cc5ac",
   "metadata": {},
   "outputs": [
    {
     "data": {
      "text/html": [
       "<div>\n",
       "<style scoped>\n",
       "    .dataframe tbody tr th:only-of-type {\n",
       "        vertical-align: middle;\n",
       "    }\n",
       "\n",
       "    .dataframe tbody tr th {\n",
       "        vertical-align: top;\n",
       "    }\n",
       "\n",
       "    .dataframe thead th {\n",
       "        text-align: right;\n",
       "    }\n",
       "</style>\n",
       "<table border=\"1\" class=\"dataframe\">\n",
       "  <thead>\n",
       "    <tr style=\"text-align: right;\">\n",
       "      <th></th>\n",
       "      <th>Kategori</th>\n",
       "      <th>urun</th>\n",
       "      <th>?cindekiler</th>\n",
       "      <th>Fiyat</th>\n",
       "    </tr>\n",
       "  </thead>\n",
       "  <tbody>\n",
       "    <tr>\n",
       "      <th>0</th>\n",
       "      <td>Baslangiclar</td>\n",
       "      <td>Nachos</td>\n",
       "      <td>El yapimi tortilla cips, cheddar, yesil sogan,...</td>\n",
       "      <td>120 TL</td>\n",
       "    </tr>\n",
       "    <tr>\n",
       "      <th>1</th>\n",
       "      <td>Baslangiclar</td>\n",
       "      <td>Mozzarella cubuklari</td>\n",
       "      <td>Pane mozzarella cubuklari, pesto sos</td>\n",
       "      <td>115 TL</td>\n",
       "    </tr>\n",
       "    <tr>\n",
       "      <th>2</th>\n",
       "      <td>Baslangiclar</td>\n",
       "      <td>Tavuk Kanatlari</td>\n",
       "      <td>Pane tavuk kanatlari; sos secenekleri: BBQ, ha...</td>\n",
       "      <td>125 TL</td>\n",
       "    </tr>\n",
       "    <tr>\n",
       "      <th>3</th>\n",
       "      <td>Baslangiclar</td>\n",
       "      <td>Karides Tava</td>\n",
       "      <td>Jumbo karides, sarimsak, tereyagi, limon suyu,...</td>\n",
       "      <td>150 TL</td>\n",
       "    </tr>\n",
       "    <tr>\n",
       "      <th>4</th>\n",
       "      <td>Baslangiclar</td>\n",
       "      <td>Falafel Tabagi</td>\n",
       "      <td>Falafel koftesi, humus, tahin sos, salata</td>\n",
       "      <td>75 TL</td>\n",
       "    </tr>\n",
       "  </tbody>\n",
       "</table>\n",
       "</div>"
      ],
      "text/plain": [
       "       Kategori                  urun  \\\n",
       "0  Baslangiclar                Nachos   \n",
       "1  Baslangiclar  Mozzarella cubuklari   \n",
       "2  Baslangiclar       Tavuk Kanatlari   \n",
       "3  Baslangiclar          Karides Tava   \n",
       "4  Baslangiclar        Falafel Tabagi   \n",
       "\n",
       "                                         ?cindekiler   Fiyat  \n",
       "0  El yapimi tortilla cips, cheddar, yesil sogan,...  120 TL  \n",
       "1               Pane mozzarella cubuklari, pesto sos  115 TL  \n",
       "2  Pane tavuk kanatlari; sos secenekleri: BBQ, ha...  125 TL  \n",
       "3  Jumbo karides, sarimsak, tereyagi, limon suyu,...  150 TL  \n",
       "4          Falafel koftesi, humus, tahin sos, salata   75 TL  "
      ]
     },
     "execution_count": 4,
     "metadata": {},
     "output_type": "execute_result"
    }
   ],
   "source": [
    "import pandas as pd\n",
    "\n",
    "file_path = ('menu1.csv') # insert the path of the csv file\n",
    "data = pd.read_csv(file_path,sep=';')\n",
    "\n",
    "#preview the csv file\n",
    "data.head()"
   ]
  },
  {
   "cell_type": "code",
   "execution_count": 5,
   "id": "8b5fcc40-54a5-4a6e-8b8c-48fcf990fe96",
   "metadata": {},
   "outputs": [],
   "source": [
    "loader = CSVLoader(file_path=file_path)\n",
    "docs = loader.load_and_split()"
   ]
  },
  {
   "cell_type": "code",
   "execution_count": 6,
   "id": "26caf025-533b-405d-8630-b068e8e64df1",
   "metadata": {},
   "outputs": [],
   "source": [
    "embeddings = OpenAIEmbeddings()\n",
    "index = faiss.IndexFlatL2(len(OpenAIEmbeddings().embed_query(\" \")))\n",
    "vector_store = FAISS(\n",
    "    embedding_function=OpenAIEmbeddings(),\n",
    "    index=index,\n",
    "    docstore=InMemoryDocstore(),\n",
    "    index_to_docstore_id={}\n",
    ")"
   ]
  },
  {
   "cell_type": "code",
   "execution_count": null,
   "id": "3a07f7ba-303e-4eb5-be38-440529d338da",
   "metadata": {},
   "outputs": [],
   "source": []
  },
  {
   "cell_type": "code",
   "execution_count": 7,
   "id": "ec4f385f-da41-49d2-995e-1ee90a06afa7",
   "metadata": {},
   "outputs": [
    {
     "data": {
      "text/plain": [
       "['845cb65d-a97b-4f26-a1ea-3505099ce459',\n",
       " '95d45f7f-fd25-413d-ae0f-a6f53fd5e8a6',\n",
       " '18ff4e3d-d74f-4413-9120-f3344f510fc2',\n",
       " 'c73cc87c-4f50-4e64-bc4a-1a9b2b296154',\n",
       " 'f120f302-2351-4b6d-a12a-beca3d6583d7',\n",
       " '4acdafe3-9aa2-4202-a096-d884d17a1f17',\n",
       " '76cd5fdc-d7ce-43fd-a051-0f56b0010918',\n",
       " '9e71f909-414c-41e3-affb-3465399202f0',\n",
       " '192b83c3-eb33-4139-b8d3-693c4b9647bc',\n",
       " 'b788ea95-d692-4574-a105-d18dd915d658',\n",
       " '837c20b2-cb41-4242-9eae-671f94707f76',\n",
       " '1e8a4ced-9772-4a8d-bfc6-851ce16377a0',\n",
       " '6aa17ddf-5159-4eab-ae48-949cf7b371d8',\n",
       " '5b4d8461-954e-4413-96a4-623aeeb879a6',\n",
       " '8323b40b-3abc-47d4-af77-ab1cf848c7b3',\n",
       " 'a0466e4e-33e9-4502-a684-dd2b200c7264',\n",
       " 'f9afc0fd-500f-466d-a9a2-79daee7f42d6',\n",
       " 'f5378d9c-dc0c-45d8-a429-c0e4560d2307',\n",
       " 'fe6e1a98-6c78-451e-8d81-9ff91976987b',\n",
       " '372138c0-c243-45ae-8607-de22f0ec8d7f',\n",
       " '35b64f09-fa2b-432e-9a92-5c06e90996ed',\n",
       " '070c2912-9c02-4a71-ac5b-1ae1df245b4b',\n",
       " 'ef8e9335-c14c-411d-978c-03a82c35830f',\n",
       " 'f1ddc53e-b409-4825-b1eb-f912b07d3470',\n",
       " '63096933-9dbf-4d81-97a0-1d1e5bc94930',\n",
       " '50d29716-c98a-4472-91bd-ac6f1a637641',\n",
       " '82e37a4e-2087-4788-90ae-6ff065da0e36',\n",
       " '3b0f139a-b207-4c91-9d9b-41d0f16571af',\n",
       " '39565203-b1b1-41c6-bfc2-91e51119fb75',\n",
       " '6b47ea19-5a97-4260-8d7f-100d1c40a430',\n",
       " '6794019d-ac08-4d17-ad85-dfffe4a2bace',\n",
       " '7ef01ddc-fc88-4a7c-8b9b-aeb91d42c912',\n",
       " '04eefbfb-558e-4f5e-a120-4e0fef95ee49',\n",
       " '67a6170e-c29c-48c8-b82e-db69d69900e3',\n",
       " '54e4690b-2ccc-4b01-a738-9eb17e239bc7',\n",
       " 'c612fa00-a09c-4550-bb6e-26c219bf5bd0',\n",
       " '3f7af777-8add-4a03-ba02-bfbeb9d8f18d',\n",
       " 'e38ef185-73ed-4c55-b26f-7f82d1efec47',\n",
       " '18343263-4f5e-4798-b8ec-c11d3fa0b40b',\n",
       " '5d9cf5e7-f5ea-4f97-bde7-0faa6c4ee343']"
      ]
     },
     "execution_count": 7,
     "metadata": {},
     "output_type": "execute_result"
    }
   ],
   "source": [
    "vector_store.add_documents(documents=docs)\n"
   ]
  },
  {
   "cell_type": "code",
   "execution_count": 8,
   "id": "62e7d048-a363-424c-840a-b2c0376ef626",
   "metadata": {},
   "outputs": [],
   "source": [
    "retriever = vector_store.as_retriever()\n"
   ]
  },
  {
   "cell_type": "code",
   "execution_count": 10,
   "id": "16c744a4-a9ed-424b-b9ff-c7392e02060b",
   "metadata": {},
   "outputs": [
    {
     "data": {
      "text/html": [
       "<script type=\"esms-options\">{\"shimMode\": true}</script><style>*[data-root-id],\n",
       "*[data-root-id] > * {\n",
       "  box-sizing: border-box;\n",
       "  font-family: var(--jp-ui-font-family);\n",
       "  font-size: var(--jp-ui-font-size1);\n",
       "  color: var(--vscode-editor-foreground, var(--jp-ui-font-color1));\n",
       "}\n",
       "\n",
       "/* Override VSCode background color */\n",
       ".cell-output-ipywidget-background:has(\n",
       "    > .cell-output-ipywidget-background > .lm-Widget > *[data-root-id]\n",
       "  ),\n",
       ".cell-output-ipywidget-background:has(> .lm-Widget > *[data-root-id]) {\n",
       "  background-color: transparent !important;\n",
       "}\n",
       "</style>"
      ]
     },
     "metadata": {},
     "output_type": "display_data"
    },
    {
     "data": {
      "application/javascript": [
       "(function(root) {\n",
       "  function now() {\n",
       "    return new Date();\n",
       "  }\n",
       "\n",
       "  const force = true;\n",
       "  const py_version = '3.6.1'.replace('rc', '-rc.').replace('.dev', '-dev.');\n",
       "  const reloading = false;\n",
       "  const Bokeh = root.Bokeh;\n",
       "\n",
       "  // Set a timeout for this load but only if we are not already initializing\n",
       "  if (typeof (root._bokeh_timeout) === \"undefined\" || (force || !root._bokeh_is_initializing)) {\n",
       "    root._bokeh_timeout = Date.now() + 5000;\n",
       "    root._bokeh_failed_load = false;\n",
       "  }\n",
       "\n",
       "  function run_callbacks() {\n",
       "    try {\n",
       "      root._bokeh_onload_callbacks.forEach(function(callback) {\n",
       "        if (callback != null)\n",
       "          callback();\n",
       "      });\n",
       "    } finally {\n",
       "      delete root._bokeh_onload_callbacks;\n",
       "    }\n",
       "    console.debug(\"Bokeh: all callbacks have finished\");\n",
       "  }\n",
       "\n",
       "  function load_libs(css_urls, js_urls, js_modules, js_exports, callback) {\n",
       "    if (css_urls == null) css_urls = [];\n",
       "    if (js_urls == null) js_urls = [];\n",
       "    if (js_modules == null) js_modules = [];\n",
       "    if (js_exports == null) js_exports = {};\n",
       "\n",
       "    root._bokeh_onload_callbacks.push(callback);\n",
       "\n",
       "    if (root._bokeh_is_loading > 0) {\n",
       "      // Don't load bokeh if it is still initializing\n",
       "      console.debug(\"Bokeh: BokehJS is being loaded, scheduling callback at\", now());\n",
       "      return null;\n",
       "    } else if (js_urls.length === 0 && js_modules.length === 0 && Object.keys(js_exports).length === 0) {\n",
       "      // There is nothing to load\n",
       "      run_callbacks();\n",
       "      return null;\n",
       "    }\n",
       "\n",
       "    function on_load() {\n",
       "      root._bokeh_is_loading--;\n",
       "      if (root._bokeh_is_loading === 0) {\n",
       "        console.debug(\"Bokeh: all BokehJS libraries/stylesheets loaded\");\n",
       "        run_callbacks()\n",
       "      }\n",
       "    }\n",
       "    window._bokeh_on_load = on_load\n",
       "\n",
       "    function on_error(e) {\n",
       "      const src_el = e.srcElement\n",
       "      console.error(\"failed to load \" + (src_el.href || src_el.src));\n",
       "    }\n",
       "\n",
       "    const skip = [];\n",
       "    if (window.requirejs) {\n",
       "      window.requirejs.config({'packages': {}, 'paths': {}, 'shim': {}});\n",
       "      root._bokeh_is_loading = css_urls.length + 0;\n",
       "    } else {\n",
       "      root._bokeh_is_loading = css_urls.length + js_urls.length + js_modules.length + Object.keys(js_exports).length;\n",
       "    }\n",
       "\n",
       "    const existing_stylesheets = []\n",
       "    const links = document.getElementsByTagName('link')\n",
       "    for (let i = 0; i < links.length; i++) {\n",
       "      const link = links[i]\n",
       "      if (link.href != null) {\n",
       "        existing_stylesheets.push(link.href)\n",
       "      }\n",
       "    }\n",
       "    for (let i = 0; i < css_urls.length; i++) {\n",
       "      const url = css_urls[i];\n",
       "      const escaped = encodeURI(url)\n",
       "      if (existing_stylesheets.indexOf(escaped) !== -1) {\n",
       "        on_load()\n",
       "        continue;\n",
       "      }\n",
       "      const element = document.createElement(\"link\");\n",
       "      element.onload = on_load;\n",
       "      element.onerror = on_error;\n",
       "      element.rel = \"stylesheet\";\n",
       "      element.type = \"text/css\";\n",
       "      element.href = url;\n",
       "      console.debug(\"Bokeh: injecting link tag for BokehJS stylesheet: \", url);\n",
       "      document.body.appendChild(element);\n",
       "    }    var existing_scripts = []\n",
       "    const scripts = document.getElementsByTagName('script')\n",
       "    for (let i = 0; i < scripts.length; i++) {\n",
       "      var script = scripts[i]\n",
       "      if (script.src != null) {\n",
       "        existing_scripts.push(script.src)\n",
       "      }\n",
       "    }\n",
       "    for (let i = 0; i < js_urls.length; i++) {\n",
       "      const url = js_urls[i];\n",
       "      const escaped = encodeURI(url)\n",
       "      if (skip.indexOf(escaped) !== -1 || existing_scripts.indexOf(escaped) !== -1) {\n",
       "        if (!window.requirejs) {\n",
       "          on_load();\n",
       "        }\n",
       "        continue;\n",
       "      }\n",
       "      const element = document.createElement('script');\n",
       "      element.onload = on_load;\n",
       "      element.onerror = on_error;\n",
       "      element.async = false;\n",
       "      element.src = url;\n",
       "      console.debug(\"Bokeh: injecting script tag for BokehJS library: \", url);\n",
       "      document.head.appendChild(element);\n",
       "    }\n",
       "    for (let i = 0; i < js_modules.length; i++) {\n",
       "      const url = js_modules[i];\n",
       "      const escaped = encodeURI(url)\n",
       "      if (skip.indexOf(escaped) !== -1 || existing_scripts.indexOf(escaped) !== -1) {\n",
       "        if (!window.requirejs) {\n",
       "          on_load();\n",
       "        }\n",
       "        continue;\n",
       "      }\n",
       "      var element = document.createElement('script');\n",
       "      element.onload = on_load;\n",
       "      element.onerror = on_error;\n",
       "      element.async = false;\n",
       "      element.src = url;\n",
       "      element.type = \"module\";\n",
       "      console.debug(\"Bokeh: injecting script tag for BokehJS library: \", url);\n",
       "      document.head.appendChild(element);\n",
       "    }\n",
       "    for (const name in js_exports) {\n",
       "      const url = js_exports[name];\n",
       "      const escaped = encodeURI(url)\n",
       "      if (skip.indexOf(escaped) >= 0 || root[name] != null) {\n",
       "        if (!window.requirejs) {\n",
       "          on_load();\n",
       "        }\n",
       "        continue;\n",
       "      }\n",
       "      var element = document.createElement('script');\n",
       "      element.onerror = on_error;\n",
       "      element.async = false;\n",
       "      element.type = \"module\";\n",
       "      console.debug(\"Bokeh: injecting script tag for BokehJS library: \", url);\n",
       "      element.textContent = `\n",
       "      import ${name} from \"${url}\"\n",
       "      window.${name} = ${name}\n",
       "      window._bokeh_on_load()\n",
       "      `\n",
       "      document.head.appendChild(element);\n",
       "    }\n",
       "    if (!js_urls.length && !js_modules.length) {\n",
       "      on_load()\n",
       "    }\n",
       "  };\n",
       "\n",
       "  function inject_raw_css(css) {\n",
       "    const element = document.createElement(\"style\");\n",
       "    element.appendChild(document.createTextNode(css));\n",
       "    document.body.appendChild(element);\n",
       "  }\n",
       "\n",
       "  const js_urls = [\"https://cdn.holoviz.org/panel/1.5.4/dist/bundled/reactiveesm/es-module-shims@^1.10.0/dist/es-module-shims.min.js\", \"https://cdn.bokeh.org/bokeh/release/bokeh-3.6.1.min.js\", \"https://cdn.bokeh.org/bokeh/release/bokeh-gl-3.6.1.min.js\", \"https://cdn.bokeh.org/bokeh/release/bokeh-widgets-3.6.1.min.js\", \"https://cdn.bokeh.org/bokeh/release/bokeh-tables-3.6.1.min.js\", \"https://cdn.holoviz.org/panel/1.5.4/dist/panel.min.js\"];\n",
       "  const js_modules = [];\n",
       "  const js_exports = {};\n",
       "  const css_urls = [];\n",
       "  const inline_js = [    function(Bokeh) {\n",
       "      Bokeh.set_log_level(\"info\");\n",
       "    },\n",
       "function(Bokeh) {} // ensure no trailing comma for IE\n",
       "  ];\n",
       "\n",
       "  function run_inline_js() {\n",
       "    if ((root.Bokeh !== undefined) || (force === true)) {\n",
       "      for (let i = 0; i < inline_js.length; i++) {\n",
       "        try {\n",
       "          inline_js[i].call(root, root.Bokeh);\n",
       "        } catch(e) {\n",
       "          if (!reloading) {\n",
       "            throw e;\n",
       "          }\n",
       "        }\n",
       "      }\n",
       "      // Cache old bokeh versions\n",
       "      if (Bokeh != undefined && !reloading) {\n",
       "        var NewBokeh = root.Bokeh;\n",
       "        if (Bokeh.versions === undefined) {\n",
       "          Bokeh.versions = new Map();\n",
       "        }\n",
       "        if (NewBokeh.version !== Bokeh.version) {\n",
       "          Bokeh.versions.set(NewBokeh.version, NewBokeh)\n",
       "        }\n",
       "        root.Bokeh = Bokeh;\n",
       "      }\n",
       "    } else if (Date.now() < root._bokeh_timeout) {\n",
       "      setTimeout(run_inline_js, 100);\n",
       "    } else if (!root._bokeh_failed_load) {\n",
       "      console.log(\"Bokeh: BokehJS failed to load within specified timeout.\");\n",
       "      root._bokeh_failed_load = true;\n",
       "    }\n",
       "    root._bokeh_is_initializing = false\n",
       "  }\n",
       "\n",
       "  function load_or_wait() {\n",
       "    // Implement a backoff loop that tries to ensure we do not load multiple\n",
       "    // versions of Bokeh and its dependencies at the same time.\n",
       "    // In recent versions we use the root._bokeh_is_initializing flag\n",
       "    // to determine whether there is an ongoing attempt to initialize\n",
       "    // bokeh, however for backward compatibility we also try to ensure\n",
       "    // that we do not start loading a newer (Panel>=1.0 and Bokeh>3) version\n",
       "    // before older versions are fully initialized.\n",
       "    if (root._bokeh_is_initializing && Date.now() > root._bokeh_timeout) {\n",
       "      // If the timeout and bokeh was not successfully loaded we reset\n",
       "      // everything and try loading again\n",
       "      root._bokeh_timeout = Date.now() + 5000;\n",
       "      root._bokeh_is_initializing = false;\n",
       "      root._bokeh_onload_callbacks = undefined;\n",
       "      root._bokeh_is_loading = 0\n",
       "      console.log(\"Bokeh: BokehJS was loaded multiple times but one version failed to initialize.\");\n",
       "      load_or_wait();\n",
       "    } else if (root._bokeh_is_initializing || (typeof root._bokeh_is_initializing === \"undefined\" && root._bokeh_onload_callbacks !== undefined)) {\n",
       "      setTimeout(load_or_wait, 100);\n",
       "    } else {\n",
       "      root._bokeh_is_initializing = true\n",
       "      root._bokeh_onload_callbacks = []\n",
       "      const bokeh_loaded = root.Bokeh != null && (root.Bokeh.version === py_version || (root.Bokeh.versions !== undefined && root.Bokeh.versions.has(py_version)));\n",
       "      if (!reloading && !bokeh_loaded) {\n",
       "        if (root.Bokeh) {\n",
       "          root.Bokeh = undefined;\n",
       "        }\n",
       "        console.debug(\"Bokeh: BokehJS not loaded, scheduling load and callback at\", now());\n",
       "      }\n",
       "      load_libs(css_urls, js_urls, js_modules, js_exports, function() {\n",
       "        console.debug(\"Bokeh: BokehJS plotting callback run at\", now());\n",
       "        run_inline_js();\n",
       "      });\n",
       "    }\n",
       "  }\n",
       "  // Give older versions of the autoload script a head-start to ensure\n",
       "  // they initialize before we start loading newer version.\n",
       "  setTimeout(load_or_wait, 100)\n",
       "}(window));"
      ],
      "application/vnd.holoviews_load.v0+json": "(function(root) {\n  function now() {\n    return new Date();\n  }\n\n  const force = true;\n  const py_version = '3.6.1'.replace('rc', '-rc.').replace('.dev', '-dev.');\n  const reloading = false;\n  const Bokeh = root.Bokeh;\n\n  // Set a timeout for this load but only if we are not already initializing\n  if (typeof (root._bokeh_timeout) === \"undefined\" || (force || !root._bokeh_is_initializing)) {\n    root._bokeh_timeout = Date.now() + 5000;\n    root._bokeh_failed_load = false;\n  }\n\n  function run_callbacks() {\n    try {\n      root._bokeh_onload_callbacks.forEach(function(callback) {\n        if (callback != null)\n          callback();\n      });\n    } finally {\n      delete root._bokeh_onload_callbacks;\n    }\n    console.debug(\"Bokeh: all callbacks have finished\");\n  }\n\n  function load_libs(css_urls, js_urls, js_modules, js_exports, callback) {\n    if (css_urls == null) css_urls = [];\n    if (js_urls == null) js_urls = [];\n    if (js_modules == null) js_modules = [];\n    if (js_exports == null) js_exports = {};\n\n    root._bokeh_onload_callbacks.push(callback);\n\n    if (root._bokeh_is_loading > 0) {\n      // Don't load bokeh if it is still initializing\n      console.debug(\"Bokeh: BokehJS is being loaded, scheduling callback at\", now());\n      return null;\n    } else if (js_urls.length === 0 && js_modules.length === 0 && Object.keys(js_exports).length === 0) {\n      // There is nothing to load\n      run_callbacks();\n      return null;\n    }\n\n    function on_load() {\n      root._bokeh_is_loading--;\n      if (root._bokeh_is_loading === 0) {\n        console.debug(\"Bokeh: all BokehJS libraries/stylesheets loaded\");\n        run_callbacks()\n      }\n    }\n    window._bokeh_on_load = on_load\n\n    function on_error(e) {\n      const src_el = e.srcElement\n      console.error(\"failed to load \" + (src_el.href || src_el.src));\n    }\n\n    const skip = [];\n    if (window.requirejs) {\n      window.requirejs.config({'packages': {}, 'paths': {}, 'shim': {}});\n      root._bokeh_is_loading = css_urls.length + 0;\n    } else {\n      root._bokeh_is_loading = css_urls.length + js_urls.length + js_modules.length + Object.keys(js_exports).length;\n    }\n\n    const existing_stylesheets = []\n    const links = document.getElementsByTagName('link')\n    for (let i = 0; i < links.length; i++) {\n      const link = links[i]\n      if (link.href != null) {\n        existing_stylesheets.push(link.href)\n      }\n    }\n    for (let i = 0; i < css_urls.length; i++) {\n      const url = css_urls[i];\n      const escaped = encodeURI(url)\n      if (existing_stylesheets.indexOf(escaped) !== -1) {\n        on_load()\n        continue;\n      }\n      const element = document.createElement(\"link\");\n      element.onload = on_load;\n      element.onerror = on_error;\n      element.rel = \"stylesheet\";\n      element.type = \"text/css\";\n      element.href = url;\n      console.debug(\"Bokeh: injecting link tag for BokehJS stylesheet: \", url);\n      document.body.appendChild(element);\n    }    var existing_scripts = []\n    const scripts = document.getElementsByTagName('script')\n    for (let i = 0; i < scripts.length; i++) {\n      var script = scripts[i]\n      if (script.src != null) {\n        existing_scripts.push(script.src)\n      }\n    }\n    for (let i = 0; i < js_urls.length; i++) {\n      const url = js_urls[i];\n      const escaped = encodeURI(url)\n      if (skip.indexOf(escaped) !== -1 || existing_scripts.indexOf(escaped) !== -1) {\n        if (!window.requirejs) {\n          on_load();\n        }\n        continue;\n      }\n      const element = document.createElement('script');\n      element.onload = on_load;\n      element.onerror = on_error;\n      element.async = false;\n      element.src = url;\n      console.debug(\"Bokeh: injecting script tag for BokehJS library: \", url);\n      document.head.appendChild(element);\n    }\n    for (let i = 0; i < js_modules.length; i++) {\n      const url = js_modules[i];\n      const escaped = encodeURI(url)\n      if (skip.indexOf(escaped) !== -1 || existing_scripts.indexOf(escaped) !== -1) {\n        if (!window.requirejs) {\n          on_load();\n        }\n        continue;\n      }\n      var element = document.createElement('script');\n      element.onload = on_load;\n      element.onerror = on_error;\n      element.async = false;\n      element.src = url;\n      element.type = \"module\";\n      console.debug(\"Bokeh: injecting script tag for BokehJS library: \", url);\n      document.head.appendChild(element);\n    }\n    for (const name in js_exports) {\n      const url = js_exports[name];\n      const escaped = encodeURI(url)\n      if (skip.indexOf(escaped) >= 0 || root[name] != null) {\n        if (!window.requirejs) {\n          on_load();\n        }\n        continue;\n      }\n      var element = document.createElement('script');\n      element.onerror = on_error;\n      element.async = false;\n      element.type = \"module\";\n      console.debug(\"Bokeh: injecting script tag for BokehJS library: \", url);\n      element.textContent = `\n      import ${name} from \"${url}\"\n      window.${name} = ${name}\n      window._bokeh_on_load()\n      `\n      document.head.appendChild(element);\n    }\n    if (!js_urls.length && !js_modules.length) {\n      on_load()\n    }\n  };\n\n  function inject_raw_css(css) {\n    const element = document.createElement(\"style\");\n    element.appendChild(document.createTextNode(css));\n    document.body.appendChild(element);\n  }\n\n  const js_urls = [\"https://cdn.holoviz.org/panel/1.5.4/dist/bundled/reactiveesm/es-module-shims@^1.10.0/dist/es-module-shims.min.js\", \"https://cdn.bokeh.org/bokeh/release/bokeh-3.6.1.min.js\", \"https://cdn.bokeh.org/bokeh/release/bokeh-gl-3.6.1.min.js\", \"https://cdn.bokeh.org/bokeh/release/bokeh-widgets-3.6.1.min.js\", \"https://cdn.bokeh.org/bokeh/release/bokeh-tables-3.6.1.min.js\", \"https://cdn.holoviz.org/panel/1.5.4/dist/panel.min.js\"];\n  const js_modules = [];\n  const js_exports = {};\n  const css_urls = [];\n  const inline_js = [    function(Bokeh) {\n      Bokeh.set_log_level(\"info\");\n    },\nfunction(Bokeh) {} // ensure no trailing comma for IE\n  ];\n\n  function run_inline_js() {\n    if ((root.Bokeh !== undefined) || (force === true)) {\n      for (let i = 0; i < inline_js.length; i++) {\n        try {\n          inline_js[i].call(root, root.Bokeh);\n        } catch(e) {\n          if (!reloading) {\n            throw e;\n          }\n        }\n      }\n      // Cache old bokeh versions\n      if (Bokeh != undefined && !reloading) {\n        var NewBokeh = root.Bokeh;\n        if (Bokeh.versions === undefined) {\n          Bokeh.versions = new Map();\n        }\n        if (NewBokeh.version !== Bokeh.version) {\n          Bokeh.versions.set(NewBokeh.version, NewBokeh)\n        }\n        root.Bokeh = Bokeh;\n      }\n    } else if (Date.now() < root._bokeh_timeout) {\n      setTimeout(run_inline_js, 100);\n    } else if (!root._bokeh_failed_load) {\n      console.log(\"Bokeh: BokehJS failed to load within specified timeout.\");\n      root._bokeh_failed_load = true;\n    }\n    root._bokeh_is_initializing = false\n  }\n\n  function load_or_wait() {\n    // Implement a backoff loop that tries to ensure we do not load multiple\n    // versions of Bokeh and its dependencies at the same time.\n    // In recent versions we use the root._bokeh_is_initializing flag\n    // to determine whether there is an ongoing attempt to initialize\n    // bokeh, however for backward compatibility we also try to ensure\n    // that we do not start loading a newer (Panel>=1.0 and Bokeh>3) version\n    // before older versions are fully initialized.\n    if (root._bokeh_is_initializing && Date.now() > root._bokeh_timeout) {\n      // If the timeout and bokeh was not successfully loaded we reset\n      // everything and try loading again\n      root._bokeh_timeout = Date.now() + 5000;\n      root._bokeh_is_initializing = false;\n      root._bokeh_onload_callbacks = undefined;\n      root._bokeh_is_loading = 0\n      console.log(\"Bokeh: BokehJS was loaded multiple times but one version failed to initialize.\");\n      load_or_wait();\n    } else if (root._bokeh_is_initializing || (typeof root._bokeh_is_initializing === \"undefined\" && root._bokeh_onload_callbacks !== undefined)) {\n      setTimeout(load_or_wait, 100);\n    } else {\n      root._bokeh_is_initializing = true\n      root._bokeh_onload_callbacks = []\n      const bokeh_loaded = root.Bokeh != null && (root.Bokeh.version === py_version || (root.Bokeh.versions !== undefined && root.Bokeh.versions.has(py_version)));\n      if (!reloading && !bokeh_loaded) {\n        if (root.Bokeh) {\n          root.Bokeh = undefined;\n        }\n        console.debug(\"Bokeh: BokehJS not loaded, scheduling load and callback at\", now());\n      }\n      load_libs(css_urls, js_urls, js_modules, js_exports, function() {\n        console.debug(\"Bokeh: BokehJS plotting callback run at\", now());\n        run_inline_js();\n      });\n    }\n  }\n  // Give older versions of the autoload script a head-start to ensure\n  // they initialize before we start loading newer version.\n  setTimeout(load_or_wait, 100)\n}(window));"
     },
     "metadata": {},
     "output_type": "display_data"
    },
    {
     "data": {
      "application/javascript": [
       "\n",
       "if ((window.PyViz === undefined) || (window.PyViz instanceof HTMLElement)) {\n",
       "  window.PyViz = {comms: {}, comm_status:{}, kernels:{}, receivers: {}, plot_index: []}\n",
       "}\n",
       "\n",
       "\n",
       "    function JupyterCommManager() {\n",
       "    }\n",
       "\n",
       "    JupyterCommManager.prototype.register_target = function(plot_id, comm_id, msg_handler) {\n",
       "      if (window.comm_manager || ((window.Jupyter !== undefined) && (Jupyter.notebook.kernel != null))) {\n",
       "        var comm_manager = window.comm_manager || Jupyter.notebook.kernel.comm_manager;\n",
       "        comm_manager.register_target(comm_id, function(comm) {\n",
       "          comm.on_msg(msg_handler);\n",
       "        });\n",
       "      } else if ((plot_id in window.PyViz.kernels) && (window.PyViz.kernels[plot_id])) {\n",
       "        window.PyViz.kernels[plot_id].registerCommTarget(comm_id, function(comm) {\n",
       "          comm.onMsg = msg_handler;\n",
       "        });\n",
       "      } else if (typeof google != 'undefined' && google.colab.kernel != null) {\n",
       "        google.colab.kernel.comms.registerTarget(comm_id, (comm) => {\n",
       "          var messages = comm.messages[Symbol.asyncIterator]();\n",
       "          function processIteratorResult(result) {\n",
       "            var message = result.value;\n",
       "            console.log(message)\n",
       "            var content = {data: message.data, comm_id};\n",
       "            var buffers = []\n",
       "            for (var buffer of message.buffers || []) {\n",
       "              buffers.push(new DataView(buffer))\n",
       "            }\n",
       "            var metadata = message.metadata || {};\n",
       "            var msg = {content, buffers, metadata}\n",
       "            msg_handler(msg);\n",
       "            return messages.next().then(processIteratorResult);\n",
       "          }\n",
       "          return messages.next().then(processIteratorResult);\n",
       "        })\n",
       "      }\n",
       "    }\n",
       "\n",
       "    JupyterCommManager.prototype.get_client_comm = function(plot_id, comm_id, msg_handler) {\n",
       "      if (comm_id in window.PyViz.comms) {\n",
       "        return window.PyViz.comms[comm_id];\n",
       "      } else if (window.comm_manager || ((window.Jupyter !== undefined) && (Jupyter.notebook.kernel != null))) {\n",
       "        var comm_manager = window.comm_manager || Jupyter.notebook.kernel.comm_manager;\n",
       "        var comm = comm_manager.new_comm(comm_id, {}, {}, {}, comm_id);\n",
       "        if (msg_handler) {\n",
       "          comm.on_msg(msg_handler);\n",
       "        }\n",
       "      } else if ((plot_id in window.PyViz.kernels) && (window.PyViz.kernels[plot_id])) {\n",
       "        var comm = window.PyViz.kernels[plot_id].connectToComm(comm_id);\n",
       "        comm.open();\n",
       "        if (msg_handler) {\n",
       "          comm.onMsg = msg_handler;\n",
       "        }\n",
       "      } else if (typeof google != 'undefined' && google.colab.kernel != null) {\n",
       "        var comm_promise = google.colab.kernel.comms.open(comm_id)\n",
       "        comm_promise.then((comm) => {\n",
       "          window.PyViz.comms[comm_id] = comm;\n",
       "          if (msg_handler) {\n",
       "            var messages = comm.messages[Symbol.asyncIterator]();\n",
       "            function processIteratorResult(result) {\n",
       "              var message = result.value;\n",
       "              var content = {data: message.data};\n",
       "              var metadata = message.metadata || {comm_id};\n",
       "              var msg = {content, metadata}\n",
       "              msg_handler(msg);\n",
       "              return messages.next().then(processIteratorResult);\n",
       "            }\n",
       "            return messages.next().then(processIteratorResult);\n",
       "          }\n",
       "        }) \n",
       "        var sendClosure = (data, metadata, buffers, disposeOnDone) => {\n",
       "          return comm_promise.then((comm) => {\n",
       "            comm.send(data, metadata, buffers, disposeOnDone);\n",
       "          });\n",
       "        };\n",
       "        var comm = {\n",
       "          send: sendClosure\n",
       "        };\n",
       "      }\n",
       "      window.PyViz.comms[comm_id] = comm;\n",
       "      return comm;\n",
       "    }\n",
       "    window.PyViz.comm_manager = new JupyterCommManager();\n",
       "    \n",
       "\n",
       "\n",
       "var JS_MIME_TYPE = 'application/javascript';\n",
       "var HTML_MIME_TYPE = 'text/html';\n",
       "var EXEC_MIME_TYPE = 'application/vnd.holoviews_exec.v0+json';\n",
       "var CLASS_NAME = 'output';\n",
       "\n",
       "/**\n",
       " * Render data to the DOM node\n",
       " */\n",
       "function render(props, node) {\n",
       "  var div = document.createElement(\"div\");\n",
       "  var script = document.createElement(\"script\");\n",
       "  node.appendChild(div);\n",
       "  node.appendChild(script);\n",
       "}\n",
       "\n",
       "/**\n",
       " * Handle when a new output is added\n",
       " */\n",
       "function handle_add_output(event, handle) {\n",
       "  var output_area = handle.output_area;\n",
       "  var output = handle.output;\n",
       "  if ((output.data == undefined) || (!output.data.hasOwnProperty(EXEC_MIME_TYPE))) {\n",
       "    return\n",
       "  }\n",
       "  var id = output.metadata[EXEC_MIME_TYPE][\"id\"];\n",
       "  var toinsert = output_area.element.find(\".\" + CLASS_NAME.split(' ')[0]);\n",
       "  if (id !== undefined) {\n",
       "    var nchildren = toinsert.length;\n",
       "    var html_node = toinsert[nchildren-1].children[0];\n",
       "    html_node.innerHTML = output.data[HTML_MIME_TYPE];\n",
       "    var scripts = [];\n",
       "    var nodelist = html_node.querySelectorAll(\"script\");\n",
       "    for (var i in nodelist) {\n",
       "      if (nodelist.hasOwnProperty(i)) {\n",
       "        scripts.push(nodelist[i])\n",
       "      }\n",
       "    }\n",
       "\n",
       "    scripts.forEach( function (oldScript) {\n",
       "      var newScript = document.createElement(\"script\");\n",
       "      var attrs = [];\n",
       "      var nodemap = oldScript.attributes;\n",
       "      for (var j in nodemap) {\n",
       "        if (nodemap.hasOwnProperty(j)) {\n",
       "          attrs.push(nodemap[j])\n",
       "        }\n",
       "      }\n",
       "      attrs.forEach(function(attr) { newScript.setAttribute(attr.name, attr.value) });\n",
       "      newScript.appendChild(document.createTextNode(oldScript.innerHTML));\n",
       "      oldScript.parentNode.replaceChild(newScript, oldScript);\n",
       "    });\n",
       "    if (JS_MIME_TYPE in output.data) {\n",
       "      toinsert[nchildren-1].children[1].textContent = output.data[JS_MIME_TYPE];\n",
       "    }\n",
       "    output_area._hv_plot_id = id;\n",
       "    if ((window.Bokeh !== undefined) && (id in Bokeh.index)) {\n",
       "      window.PyViz.plot_index[id] = Bokeh.index[id];\n",
       "    } else {\n",
       "      window.PyViz.plot_index[id] = null;\n",
       "    }\n",
       "  } else if (output.metadata[EXEC_MIME_TYPE][\"server_id\"] !== undefined) {\n",
       "    var bk_div = document.createElement(\"div\");\n",
       "    bk_div.innerHTML = output.data[HTML_MIME_TYPE];\n",
       "    var script_attrs = bk_div.children[0].attributes;\n",
       "    for (var i = 0; i < script_attrs.length; i++) {\n",
       "      toinsert[toinsert.length - 1].childNodes[1].setAttribute(script_attrs[i].name, script_attrs[i].value);\n",
       "    }\n",
       "    // store reference to server id on output_area\n",
       "    output_area._bokeh_server_id = output.metadata[EXEC_MIME_TYPE][\"server_id\"];\n",
       "  }\n",
       "}\n",
       "\n",
       "/**\n",
       " * Handle when an output is cleared or removed\n",
       " */\n",
       "function handle_clear_output(event, handle) {\n",
       "  var id = handle.cell.output_area._hv_plot_id;\n",
       "  var server_id = handle.cell.output_area._bokeh_server_id;\n",
       "  if (((id === undefined) || !(id in PyViz.plot_index)) && (server_id !== undefined)) { return; }\n",
       "  var comm = window.PyViz.comm_manager.get_client_comm(\"hv-extension-comm\", \"hv-extension-comm\", function () {});\n",
       "  if (server_id !== null) {\n",
       "    comm.send({event_type: 'server_delete', 'id': server_id});\n",
       "    return;\n",
       "  } else if (comm !== null) {\n",
       "    comm.send({event_type: 'delete', 'id': id});\n",
       "  }\n",
       "  delete PyViz.plot_index[id];\n",
       "  if ((window.Bokeh !== undefined) & (id in window.Bokeh.index)) {\n",
       "    var doc = window.Bokeh.index[id].model.document\n",
       "    doc.clear();\n",
       "    const i = window.Bokeh.documents.indexOf(doc);\n",
       "    if (i > -1) {\n",
       "      window.Bokeh.documents.splice(i, 1);\n",
       "    }\n",
       "  }\n",
       "}\n",
       "\n",
       "/**\n",
       " * Handle kernel restart event\n",
       " */\n",
       "function handle_kernel_cleanup(event, handle) {\n",
       "  delete PyViz.comms[\"hv-extension-comm\"];\n",
       "  window.PyViz.plot_index = {}\n",
       "}\n",
       "\n",
       "/**\n",
       " * Handle update_display_data messages\n",
       " */\n",
       "function handle_update_output(event, handle) {\n",
       "  handle_clear_output(event, {cell: {output_area: handle.output_area}})\n",
       "  handle_add_output(event, handle)\n",
       "}\n",
       "\n",
       "function register_renderer(events, OutputArea) {\n",
       "  function append_mime(data, metadata, element) {\n",
       "    // create a DOM node to render to\n",
       "    var toinsert = this.create_output_subarea(\n",
       "    metadata,\n",
       "    CLASS_NAME,\n",
       "    EXEC_MIME_TYPE\n",
       "    );\n",
       "    this.keyboard_manager.register_events(toinsert);\n",
       "    // Render to node\n",
       "    var props = {data: data, metadata: metadata[EXEC_MIME_TYPE]};\n",
       "    render(props, toinsert[0]);\n",
       "    element.append(toinsert);\n",
       "    return toinsert\n",
       "  }\n",
       "\n",
       "  events.on('output_added.OutputArea', handle_add_output);\n",
       "  events.on('output_updated.OutputArea', handle_update_output);\n",
       "  events.on('clear_output.CodeCell', handle_clear_output);\n",
       "  events.on('delete.Cell', handle_clear_output);\n",
       "  events.on('kernel_ready.Kernel', handle_kernel_cleanup);\n",
       "\n",
       "  OutputArea.prototype.register_mime_type(EXEC_MIME_TYPE, append_mime, {\n",
       "    safe: true,\n",
       "    index: 0\n",
       "  });\n",
       "}\n",
       "\n",
       "if (window.Jupyter !== undefined) {\n",
       "  try {\n",
       "    var events = require('base/js/events');\n",
       "    var OutputArea = require('notebook/js/outputarea').OutputArea;\n",
       "    if (OutputArea.prototype.mime_types().indexOf(EXEC_MIME_TYPE) == -1) {\n",
       "      register_renderer(events, OutputArea);\n",
       "    }\n",
       "  } catch(err) {\n",
       "  }\n",
       "}\n"
      ],
      "application/vnd.holoviews_load.v0+json": "\nif ((window.PyViz === undefined) || (window.PyViz instanceof HTMLElement)) {\n  window.PyViz = {comms: {}, comm_status:{}, kernels:{}, receivers: {}, plot_index: []}\n}\n\n\n    function JupyterCommManager() {\n    }\n\n    JupyterCommManager.prototype.register_target = function(plot_id, comm_id, msg_handler) {\n      if (window.comm_manager || ((window.Jupyter !== undefined) && (Jupyter.notebook.kernel != null))) {\n        var comm_manager = window.comm_manager || Jupyter.notebook.kernel.comm_manager;\n        comm_manager.register_target(comm_id, function(comm) {\n          comm.on_msg(msg_handler);\n        });\n      } else if ((plot_id in window.PyViz.kernels) && (window.PyViz.kernels[plot_id])) {\n        window.PyViz.kernels[plot_id].registerCommTarget(comm_id, function(comm) {\n          comm.onMsg = msg_handler;\n        });\n      } else if (typeof google != 'undefined' && google.colab.kernel != null) {\n        google.colab.kernel.comms.registerTarget(comm_id, (comm) => {\n          var messages = comm.messages[Symbol.asyncIterator]();\n          function processIteratorResult(result) {\n            var message = result.value;\n            console.log(message)\n            var content = {data: message.data, comm_id};\n            var buffers = []\n            for (var buffer of message.buffers || []) {\n              buffers.push(new DataView(buffer))\n            }\n            var metadata = message.metadata || {};\n            var msg = {content, buffers, metadata}\n            msg_handler(msg);\n            return messages.next().then(processIteratorResult);\n          }\n          return messages.next().then(processIteratorResult);\n        })\n      }\n    }\n\n    JupyterCommManager.prototype.get_client_comm = function(plot_id, comm_id, msg_handler) {\n      if (comm_id in window.PyViz.comms) {\n        return window.PyViz.comms[comm_id];\n      } else if (window.comm_manager || ((window.Jupyter !== undefined) && (Jupyter.notebook.kernel != null))) {\n        var comm_manager = window.comm_manager || Jupyter.notebook.kernel.comm_manager;\n        var comm = comm_manager.new_comm(comm_id, {}, {}, {}, comm_id);\n        if (msg_handler) {\n          comm.on_msg(msg_handler);\n        }\n      } else if ((plot_id in window.PyViz.kernels) && (window.PyViz.kernels[plot_id])) {\n        var comm = window.PyViz.kernels[plot_id].connectToComm(comm_id);\n        comm.open();\n        if (msg_handler) {\n          comm.onMsg = msg_handler;\n        }\n      } else if (typeof google != 'undefined' && google.colab.kernel != null) {\n        var comm_promise = google.colab.kernel.comms.open(comm_id)\n        comm_promise.then((comm) => {\n          window.PyViz.comms[comm_id] = comm;\n          if (msg_handler) {\n            var messages = comm.messages[Symbol.asyncIterator]();\n            function processIteratorResult(result) {\n              var message = result.value;\n              var content = {data: message.data};\n              var metadata = message.metadata || {comm_id};\n              var msg = {content, metadata}\n              msg_handler(msg);\n              return messages.next().then(processIteratorResult);\n            }\n            return messages.next().then(processIteratorResult);\n          }\n        }) \n        var sendClosure = (data, metadata, buffers, disposeOnDone) => {\n          return comm_promise.then((comm) => {\n            comm.send(data, metadata, buffers, disposeOnDone);\n          });\n        };\n        var comm = {\n          send: sendClosure\n        };\n      }\n      window.PyViz.comms[comm_id] = comm;\n      return comm;\n    }\n    window.PyViz.comm_manager = new JupyterCommManager();\n    \n\n\nvar JS_MIME_TYPE = 'application/javascript';\nvar HTML_MIME_TYPE = 'text/html';\nvar EXEC_MIME_TYPE = 'application/vnd.holoviews_exec.v0+json';\nvar CLASS_NAME = 'output';\n\n/**\n * Render data to the DOM node\n */\nfunction render(props, node) {\n  var div = document.createElement(\"div\");\n  var script = document.createElement(\"script\");\n  node.appendChild(div);\n  node.appendChild(script);\n}\n\n/**\n * Handle when a new output is added\n */\nfunction handle_add_output(event, handle) {\n  var output_area = handle.output_area;\n  var output = handle.output;\n  if ((output.data == undefined) || (!output.data.hasOwnProperty(EXEC_MIME_TYPE))) {\n    return\n  }\n  var id = output.metadata[EXEC_MIME_TYPE][\"id\"];\n  var toinsert = output_area.element.find(\".\" + CLASS_NAME.split(' ')[0]);\n  if (id !== undefined) {\n    var nchildren = toinsert.length;\n    var html_node = toinsert[nchildren-1].children[0];\n    html_node.innerHTML = output.data[HTML_MIME_TYPE];\n    var scripts = [];\n    var nodelist = html_node.querySelectorAll(\"script\");\n    for (var i in nodelist) {\n      if (nodelist.hasOwnProperty(i)) {\n        scripts.push(nodelist[i])\n      }\n    }\n\n    scripts.forEach( function (oldScript) {\n      var newScript = document.createElement(\"script\");\n      var attrs = [];\n      var nodemap = oldScript.attributes;\n      for (var j in nodemap) {\n        if (nodemap.hasOwnProperty(j)) {\n          attrs.push(nodemap[j])\n        }\n      }\n      attrs.forEach(function(attr) { newScript.setAttribute(attr.name, attr.value) });\n      newScript.appendChild(document.createTextNode(oldScript.innerHTML));\n      oldScript.parentNode.replaceChild(newScript, oldScript);\n    });\n    if (JS_MIME_TYPE in output.data) {\n      toinsert[nchildren-1].children[1].textContent = output.data[JS_MIME_TYPE];\n    }\n    output_area._hv_plot_id = id;\n    if ((window.Bokeh !== undefined) && (id in Bokeh.index)) {\n      window.PyViz.plot_index[id] = Bokeh.index[id];\n    } else {\n      window.PyViz.plot_index[id] = null;\n    }\n  } else if (output.metadata[EXEC_MIME_TYPE][\"server_id\"] !== undefined) {\n    var bk_div = document.createElement(\"div\");\n    bk_div.innerHTML = output.data[HTML_MIME_TYPE];\n    var script_attrs = bk_div.children[0].attributes;\n    for (var i = 0; i < script_attrs.length; i++) {\n      toinsert[toinsert.length - 1].childNodes[1].setAttribute(script_attrs[i].name, script_attrs[i].value);\n    }\n    // store reference to server id on output_area\n    output_area._bokeh_server_id = output.metadata[EXEC_MIME_TYPE][\"server_id\"];\n  }\n}\n\n/**\n * Handle when an output is cleared or removed\n */\nfunction handle_clear_output(event, handle) {\n  var id = handle.cell.output_area._hv_plot_id;\n  var server_id = handle.cell.output_area._bokeh_server_id;\n  if (((id === undefined) || !(id in PyViz.plot_index)) && (server_id !== undefined)) { return; }\n  var comm = window.PyViz.comm_manager.get_client_comm(\"hv-extension-comm\", \"hv-extension-comm\", function () {});\n  if (server_id !== null) {\n    comm.send({event_type: 'server_delete', 'id': server_id});\n    return;\n  } else if (comm !== null) {\n    comm.send({event_type: 'delete', 'id': id});\n  }\n  delete PyViz.plot_index[id];\n  if ((window.Bokeh !== undefined) & (id in window.Bokeh.index)) {\n    var doc = window.Bokeh.index[id].model.document\n    doc.clear();\n    const i = window.Bokeh.documents.indexOf(doc);\n    if (i > -1) {\n      window.Bokeh.documents.splice(i, 1);\n    }\n  }\n}\n\n/**\n * Handle kernel restart event\n */\nfunction handle_kernel_cleanup(event, handle) {\n  delete PyViz.comms[\"hv-extension-comm\"];\n  window.PyViz.plot_index = {}\n}\n\n/**\n * Handle update_display_data messages\n */\nfunction handle_update_output(event, handle) {\n  handle_clear_output(event, {cell: {output_area: handle.output_area}})\n  handle_add_output(event, handle)\n}\n\nfunction register_renderer(events, OutputArea) {\n  function append_mime(data, metadata, element) {\n    // create a DOM node to render to\n    var toinsert = this.create_output_subarea(\n    metadata,\n    CLASS_NAME,\n    EXEC_MIME_TYPE\n    );\n    this.keyboard_manager.register_events(toinsert);\n    // Render to node\n    var props = {data: data, metadata: metadata[EXEC_MIME_TYPE]};\n    render(props, toinsert[0]);\n    element.append(toinsert);\n    return toinsert\n  }\n\n  events.on('output_added.OutputArea', handle_add_output);\n  events.on('output_updated.OutputArea', handle_update_output);\n  events.on('clear_output.CodeCell', handle_clear_output);\n  events.on('delete.Cell', handle_clear_output);\n  events.on('kernel_ready.Kernel', handle_kernel_cleanup);\n\n  OutputArea.prototype.register_mime_type(EXEC_MIME_TYPE, append_mime, {\n    safe: true,\n    index: 0\n  });\n}\n\nif (window.Jupyter !== undefined) {\n  try {\n    var events = require('base/js/events');\n    var OutputArea = require('notebook/js/outputarea').OutputArea;\n    if (OutputArea.prototype.mime_types().indexOf(EXEC_MIME_TYPE) == -1) {\n      register_renderer(events, OutputArea);\n    }\n  } catch(err) {\n  }\n}\n"
     },
     "metadata": {},
     "output_type": "display_data"
    },
    {
     "data": {
      "application/vnd.holoviews_exec.v0+json": "",
      "text/html": [
       "<div id='656e6592-16b7-4e18-8834-5f0bf6789362'>\n",
       "  <div id=\"fc3a809c-5be7-4c87-bd95-caf0a6d341dc\" data-root-id=\"656e6592-16b7-4e18-8834-5f0bf6789362\" style=\"display: contents;\"></div>\n",
       "</div>\n",
       "<script type=\"application/javascript\">(function(root) {\n",
       "  var docs_json = {\"9aff7f23-7368-4a73-865c-722ae6df2256\":{\"version\":\"3.6.1\",\"title\":\"Bokeh Application\",\"roots\":[{\"type\":\"object\",\"name\":\"panel.models.browser.BrowserInfo\",\"id\":\"656e6592-16b7-4e18-8834-5f0bf6789362\"},{\"type\":\"object\",\"name\":\"panel.models.comm_manager.CommManager\",\"id\":\"3bd38e77-60b4-4d8b-aaad-0ca29f27b148\",\"attributes\":{\"plot_id\":\"656e6592-16b7-4e18-8834-5f0bf6789362\",\"comm_id\":\"307d920b05434d02b4a16f611ed626db\",\"client_comm_id\":\"d50fb95cd2c24983997af22cdfd2a8c4\"}}],\"defs\":[{\"type\":\"model\",\"name\":\"ReactiveHTML1\"},{\"type\":\"model\",\"name\":\"FlexBox1\",\"properties\":[{\"name\":\"align_content\",\"kind\":\"Any\",\"default\":\"flex-start\"},{\"name\":\"align_items\",\"kind\":\"Any\",\"default\":\"flex-start\"},{\"name\":\"flex_direction\",\"kind\":\"Any\",\"default\":\"row\"},{\"name\":\"flex_wrap\",\"kind\":\"Any\",\"default\":\"wrap\"},{\"name\":\"gap\",\"kind\":\"Any\",\"default\":\"\"},{\"name\":\"justify_content\",\"kind\":\"Any\",\"default\":\"flex-start\"}]},{\"type\":\"model\",\"name\":\"FloatPanel1\",\"properties\":[{\"name\":\"config\",\"kind\":\"Any\",\"default\":{\"type\":\"map\"}},{\"name\":\"contained\",\"kind\":\"Any\",\"default\":true},{\"name\":\"position\",\"kind\":\"Any\",\"default\":\"right-top\"},{\"name\":\"offsetx\",\"kind\":\"Any\",\"default\":null},{\"name\":\"offsety\",\"kind\":\"Any\",\"default\":null},{\"name\":\"theme\",\"kind\":\"Any\",\"default\":\"primary\"},{\"name\":\"status\",\"kind\":\"Any\",\"default\":\"normalized\"}]},{\"type\":\"model\",\"name\":\"GridStack1\",\"properties\":[{\"name\":\"mode\",\"kind\":\"Any\",\"default\":\"warn\"},{\"name\":\"ncols\",\"kind\":\"Any\",\"default\":null},{\"name\":\"nrows\",\"kind\":\"Any\",\"default\":null},{\"name\":\"allow_resize\",\"kind\":\"Any\",\"default\":true},{\"name\":\"allow_drag\",\"kind\":\"Any\",\"default\":true},{\"name\":\"state\",\"kind\":\"Any\",\"default\":[]}]},{\"type\":\"model\",\"name\":\"drag1\",\"properties\":[{\"name\":\"slider_width\",\"kind\":\"Any\",\"default\":5},{\"name\":\"slider_color\",\"kind\":\"Any\",\"default\":\"black\"},{\"name\":\"value\",\"kind\":\"Any\",\"default\":50}]},{\"type\":\"model\",\"name\":\"click1\",\"properties\":[{\"name\":\"terminal_output\",\"kind\":\"Any\",\"default\":\"\"},{\"name\":\"debug_name\",\"kind\":\"Any\",\"default\":\"\"},{\"name\":\"clears\",\"kind\":\"Any\",\"default\":0}]},{\"type\":\"model\",\"name\":\"FastWrapper1\",\"properties\":[{\"name\":\"object\",\"kind\":\"Any\",\"default\":null},{\"name\":\"style\",\"kind\":\"Any\",\"default\":null}]},{\"type\":\"model\",\"name\":\"NotificationAreaBase1\",\"properties\":[{\"name\":\"js_events\",\"kind\":\"Any\",\"default\":{\"type\":\"map\"}},{\"name\":\"position\",\"kind\":\"Any\",\"default\":\"bottom-right\"},{\"name\":\"_clear\",\"kind\":\"Any\",\"default\":0}]},{\"type\":\"model\",\"name\":\"NotificationArea1\",\"properties\":[{\"name\":\"js_events\",\"kind\":\"Any\",\"default\":{\"type\":\"map\"}},{\"name\":\"notifications\",\"kind\":\"Any\",\"default\":[]},{\"name\":\"position\",\"kind\":\"Any\",\"default\":\"bottom-right\"},{\"name\":\"_clear\",\"kind\":\"Any\",\"default\":0},{\"name\":\"types\",\"kind\":\"Any\",\"default\":[{\"type\":\"map\",\"entries\":[[\"type\",\"warning\"],[\"background\",\"#ffc107\"],[\"icon\",{\"type\":\"map\",\"entries\":[[\"className\",\"fas fa-exclamation-triangle\"],[\"tagName\",\"i\"],[\"color\",\"white\"]]}]]},{\"type\":\"map\",\"entries\":[[\"type\",\"info\"],[\"background\",\"#007bff\"],[\"icon\",{\"type\":\"map\",\"entries\":[[\"className\",\"fas fa-info-circle\"],[\"tagName\",\"i\"],[\"color\",\"white\"]]}]]}]}]},{\"type\":\"model\",\"name\":\"Notification\",\"properties\":[{\"name\":\"background\",\"kind\":\"Any\",\"default\":null},{\"name\":\"duration\",\"kind\":\"Any\",\"default\":3000},{\"name\":\"icon\",\"kind\":\"Any\",\"default\":null},{\"name\":\"message\",\"kind\":\"Any\",\"default\":\"\"},{\"name\":\"notification_type\",\"kind\":\"Any\",\"default\":null},{\"name\":\"_destroyed\",\"kind\":\"Any\",\"default\":false}]},{\"type\":\"model\",\"name\":\"TemplateActions1\",\"properties\":[{\"name\":\"open_modal\",\"kind\":\"Any\",\"default\":0},{\"name\":\"close_modal\",\"kind\":\"Any\",\"default\":0}]},{\"type\":\"model\",\"name\":\"BootstrapTemplateActions1\",\"properties\":[{\"name\":\"open_modal\",\"kind\":\"Any\",\"default\":0},{\"name\":\"close_modal\",\"kind\":\"Any\",\"default\":0}]},{\"type\":\"model\",\"name\":\"TemplateEditor1\",\"properties\":[{\"name\":\"layout\",\"kind\":\"Any\",\"default\":[]}]},{\"type\":\"model\",\"name\":\"MaterialTemplateActions1\",\"properties\":[{\"name\":\"open_modal\",\"kind\":\"Any\",\"default\":0},{\"name\":\"close_modal\",\"kind\":\"Any\",\"default\":0}]},{\"type\":\"model\",\"name\":\"ReactiveESM1\",\"properties\":[{\"name\":\"esm_constants\",\"kind\":\"Any\",\"default\":{\"type\":\"map\"}}]},{\"type\":\"model\",\"name\":\"JSComponent1\",\"properties\":[{\"name\":\"esm_constants\",\"kind\":\"Any\",\"default\":{\"type\":\"map\"}}]},{\"type\":\"model\",\"name\":\"ReactComponent1\",\"properties\":[{\"name\":\"esm_constants\",\"kind\":\"Any\",\"default\":{\"type\":\"map\"}}]},{\"type\":\"model\",\"name\":\"AnyWidgetComponent1\",\"properties\":[{\"name\":\"esm_constants\",\"kind\":\"Any\",\"default\":{\"type\":\"map\"}}]},{\"type\":\"model\",\"name\":\"request_value1\",\"properties\":[{\"name\":\"fill\",\"kind\":\"Any\",\"default\":\"none\"},{\"name\":\"_synced\",\"kind\":\"Any\",\"default\":null},{\"name\":\"_request_sync\",\"kind\":\"Any\",\"default\":0}]}]}};\n",
       "  var render_items = [{\"docid\":\"9aff7f23-7368-4a73-865c-722ae6df2256\",\"roots\":{\"656e6592-16b7-4e18-8834-5f0bf6789362\":\"fc3a809c-5be7-4c87-bd95-caf0a6d341dc\"},\"root_ids\":[\"656e6592-16b7-4e18-8834-5f0bf6789362\"]}];\n",
       "  var docs = Object.values(docs_json)\n",
       "  if (!docs) {\n",
       "    return\n",
       "  }\n",
       "  const py_version = docs[0].version.replace('rc', '-rc.').replace('.dev', '-dev.')\n",
       "  async function embed_document(root) {\n",
       "    var Bokeh = get_bokeh(root)\n",
       "    await Bokeh.embed.embed_items_notebook(docs_json, render_items);\n",
       "    for (const render_item of render_items) {\n",
       "      for (const root_id of render_item.root_ids) {\n",
       "\tconst id_el = document.getElementById(root_id)\n",
       "\tif (id_el.children.length && id_el.children[0].hasAttribute('data-root-id')) {\n",
       "\t  const root_el = id_el.children[0]\n",
       "\t  root_el.id = root_el.id + '-rendered'\n",
       "\t  for (const child of root_el.children) {\n",
       "            // Ensure JupyterLab does not capture keyboard shortcuts\n",
       "            // see: https://jupyterlab.readthedocs.io/en/4.1.x/extension/notebook.html#keyboard-interaction-model\n",
       "\t    child.setAttribute('data-lm-suppress-shortcuts', 'true')\n",
       "\t  }\n",
       "\t}\n",
       "      }\n",
       "    }\n",
       "  }\n",
       "  function get_bokeh(root) {\n",
       "    if (root.Bokeh === undefined) {\n",
       "      return null\n",
       "    } else if (root.Bokeh.version !== py_version) {\n",
       "      if (root.Bokeh.versions === undefined || !root.Bokeh.versions.has(py_version)) {\n",
       "\treturn null\n",
       "      }\n",
       "      return root.Bokeh.versions.get(py_version);\n",
       "    } else if (root.Bokeh.version === py_version) {\n",
       "      return root.Bokeh\n",
       "    }\n",
       "    return null\n",
       "  }\n",
       "  function is_loaded(root) {\n",
       "    var Bokeh = get_bokeh(root)\n",
       "    return (Bokeh != null && Bokeh.Panel !== undefined)\n",
       "  }\n",
       "  if (is_loaded(root)) {\n",
       "    embed_document(root);\n",
       "  } else {\n",
       "    var attempts = 0;\n",
       "    var timer = setInterval(function(root) {\n",
       "      if (is_loaded(root)) {\n",
       "        clearInterval(timer);\n",
       "        embed_document(root);\n",
       "      } else if (document.readyState == \"complete\") {\n",
       "        attempts++;\n",
       "        if (attempts > 200) {\n",
       "          clearInterval(timer);\n",
       "\t  var Bokeh = get_bokeh(root)\n",
       "\t  if (Bokeh == null || Bokeh.Panel == null) {\n",
       "            console.warn(\"Panel: ERROR: Unable to run Panel code because Bokeh or Panel library is missing\");\n",
       "\t  } else {\n",
       "\t    console.warn(\"Panel: WARNING: Attempting to render but not all required libraries could be resolved.\")\n",
       "\t    embed_document(root)\n",
       "\t  }\n",
       "        }\n",
       "      }\n",
       "    }, 25, root)\n",
       "  }\n",
       "})(window);</script>"
      ]
     },
     "metadata": {
      "application/vnd.holoviews_exec.v0+json": {
       "id": "656e6592-16b7-4e18-8834-5f0bf6789362"
      }
     },
     "output_type": "display_data"
    }
   ],
   "source": [
    "import panel as pn\n",
    "import param\n",
    "\n",
    "# Panel uzantısını etkinleştirme\n",
    "pn.extension()"
   ]
  },
  {
   "cell_type": "code",
   "execution_count": 11,
   "id": "19e4722a-8463-4923-bc38-40d01168d268",
   "metadata": {},
   "outputs": [],
   "source": [
    "from langchain.chains import ConversationalRetrievalChain\n",
    "from langchain.memory import ConversationStringBufferMemory\n",
    "from langchain.chains import RetrievalQA\n",
    "from langchain.output_parsers import PydanticOutputParser\n",
    "from pydantic import BaseModel ,Field ,validator\n",
    "from typing import List\n",
    "from typing import Optional\n",
    "from langchain.chains import create_tagging_chain ,create_tagging_chain_pydantic\n",
    "from kor.extraction import create_extraction_chain\n",
    "from kor.nodes import Object, Text, Number\n",
    "from langchain.prompts.chat import MessagesPlaceholder"
   ]
  },
  {
   "cell_type": "markdown",
   "id": "8c2acec8-ad67-4990-afab-4a57dd6c4ba0",
   "metadata": {},
   "source": [
    "WITH PANEL"
   ]
  },
  {
   "cell_type": "code",
   "execution_count": 12,
   "id": "83958934-7a0b-4f36-abb0-a38bca591199",
   "metadata": {},
   "outputs": [],
   "source": [
    "schema = Object(\n",
    "    id=\"menu_info\",\n",
    "    description=\"menu content if its ordered\",\n",
    "    attributes=[\n",
    "        Text(\n",
    "            id=\"name\",\n",
    "            description=\"menu items name if its ordered\",\n",
    "            examples=[\n",
    "                (\"ben etli pizza alayım\", \"etli pizza\"),\n",
    "                (\"iki latte istiyorum\", \"latte\"),\n",
    "                (\"hamburger verebilir misin\", \"hamburger\"),\n",
    "                (\"ızgara sipariş vermek istiyorum\", \"ızgara\"),\n",
    "                (\"bize çay yolla\", \"çay\"),\n",
    "                (\"salata sipariş ediyorum\", \"salata\")\n",
    "            ],\n",
    "        ),\n",
    "        Text(\n",
    "            id=\"non_name\",\n",
    "            description=\"menu items name if its not ordered\",\n",
    "            examples=[\n",
    "                (\"margarita pizzanın içinde ne var\", \"margarita pizza\"),\n",
    "                (\"latteniz var mı\", \"latte\"),\n",
    "                (\"lattede hangi süt kullanılıyor\", \"latte\"),\n",
    "                (\"hamburger çeşitleriniz nelerdir\", \"hamburger\")\n",
    "            ],\n",
    "        ),\n",
    "        Text(\n",
    "            id=\"quantity\",\n",
    "            description=\"Quantity of ordered menu item if its ordered\",\n",
    "            examples=[\n",
    "                (\"ben etli pizza alayım\", \"1\"),\n",
    "                (\"iki latte istiyorum\", \"2\"),\n",
    "            ],\n",
    "        ),\n",
    "    ],\n",
    "    examples=[\n",
    "        (\n",
    "            \"eğer içinde salata varsa ızgara menüsünü almak istiyorum\",\n",
    "            [{\"name\": \"ızgara menü\",\"quantity\":\"1\"}]\n",
    "        ),\n",
    "        (\n",
    "            \"hamburgerlerin içinde hangi çeşit et kullanıyorsunuz\",\n",
    "            [{\"non_name\": \"hamburger\"}]\n",
    "        ),\n",
    "        (\n",
    "            \"bize iki orta boy peynirli tavuk pizza yollar mısın\",\n",
    "            [{\"name\": \"peynirli tavuk pizza\",\"quantity\":\"2\"}]\n",
    "        ),\n",
    "    ],\n",
    "    many=True,\n",
    ")"
   ]
  },
  {
   "cell_type": "code",
   "execution_count": 13,
   "id": "1ab522c7-aae5-470e-a51e-66510e68657f",
   "metadata": {},
   "outputs": [],
   "source": [
    "from langchain.schema import AIMessage"
   ]
  },
  {
   "cell_type": "code",
   "execution_count": 14,
   "id": "809cdee5-28ff-4a3c-9623-498376cf27a8",
   "metadata": {},
   "outputs": [],
   "source": [
    "import panel as pn  # GUI\n",
    "import param\n",
    "from langchain.schema import AIMessage\n",
    "from langchain.memory import ConversationBufferMemory\n",
    "from langchain.chains import RetrievalQA\n",
    "from langchain.prompts.chat import ChatPromptTemplate\n",
    "\n",
    "class QnABot(param.Parameterized):\n",
    "    def __init__(self, llm, retriever, **params):\n",
    "        super(QnABot, self).__init__(**params)\n",
    "        self.llm = llm\n",
    "        self.retriever = retriever\n",
    "        self.memory = ConversationBufferMemory(return_messages=True, memory_key=\"chat_history\")\n",
    "        self.order_list = []  # Siparişleri saklamak için liste\n",
    "        \n",
    "        # RAG Chain\n",
    "        self.retrieval_chain = RetrievalQA.from_chain_type(\n",
    "            llm=self.llm,\n",
    "            retriever=self.retriever,\n",
    "            chain_type=\"stuff\",\n",
    "            input_key=\"query\"\n",
    "        )\n",
    "        \n",
    "        # Extraction Chain\n",
    "        self.extraction_chain = (\n",
    "            ChatPromptTemplate.from_messages([\n",
    "                (\"system\", \"Extract order details from the text.\"),\n",
    "                (\"human\", \"{input}\")\n",
    "            ])\n",
    "            | self.llm\n",
    "        )\n",
    "        self.panels = []\n",
    "\n",
    "    def convchain(self, query):\n",
    "        if not query.strip():  # Boş sorgular için işlem yapma\n",
    "            return\n",
    "        inp.value = ''  # Giriş alanını temizle\n",
    "        \n",
    "        try:\n",
    "            # 1. RAG ile yanıt al\n",
    "            result = self.retrieval_chain.invoke({\"query\": query})\n",
    "            self.answer = result[\"result\"] if \"result\" in result else \"No response received.\"\n",
    "            \n",
    "            # 2. Bilgi Ayıklama\n",
    "            extraction_result = self.extraction_chain.invoke({\"input\": query})\n",
    "            if isinstance(extraction_result, AIMessage):\n",
    "                extracted_content = extraction_result.content\n",
    "            elif isinstance(extraction_result, dict):\n",
    "                extracted_content = extraction_result.get(\"content\", \"\")\n",
    "            else:\n",
    "                extracted_content = str(extraction_result)\n",
    "            \n",
    "            # Eğer bilgi varsa sipariş listesine ekle\n",
    "            if extracted_content:\n",
    "                self.order_list.append(extracted_content)\n",
    "            \n",
    "            # 3. Yanıtı panelde güncelle\n",
    "            self.panels.extend([\n",
    "                pn.Row('User:', pn.pane.Markdown(query, width=450)),\n",
    "                pn.Row('ChatBot:', pn.pane.Markdown(self.answer, width=450, styles={'background-color': '#F6F6F6'}))\n",
    "            ])\n",
    "        except Exception as e:\n",
    "            self.panels.append(\n",
    "                pn.Row('ChatBot:', pn.pane.Markdown(f\"Error: {e}\", width=450, styles={'background-color': '#FFCCCC'}))\n",
    "            )\n",
    "        return pn.WidgetBox(*self.panels, scroll=True)\n",
    "    \n",
    "    def end_conversation(self, event=None):\n",
    "        \"\"\"Konuşmayı sonlandırır ve sipariş listesini gösterir.\"\"\"\n",
    "        print(\"End Conversation Button Clicked\")  # Debug: Butona tıklanıp tıklanmadığını kontrol et\n",
    "        if self.order_list:\n",
    "            order_summary = \"\\n\".join(self.order_list)\n",
    "            self.panels.append(\n",
    "                pn.Row('ChatBot:', pn.pane.Markdown(f\"Your order list is:\\n\\n{order_summary}\", width=450))\n",
    "            )\n",
    "            \n",
    "            # Kullanıcı onayı al\n",
    "            def save_orders(event):\n",
    "                with open(\"order_list.txt\", \"w\") as f:\n",
    "                    f.write(\"\\n\".join(self.order_list))\n",
    "                self.panels.append(\n",
    "                    pn.Row('ChatBot:', pn.pane.Markdown(\"Orders have been saved to 'order_list.txt'.\", width=450))\n",
    "                )\n",
    "            \n",
    "            save_button = pn.widgets.Button(name=\"Confirm and Save Orders\")\n",
    "            save_button.on_click(save_orders)\n",
    "            self.panels.append(pn.Row(save_button))\n",
    "        else:\n",
    "            self.panels.append(\n",
    "                pn.Row('ChatBot:', pn.pane.Markdown(\"No orders were extracted during the conversation.\", width=450))\n",
    "            )\n",
    "        \n",
    "        # Yeniden render işlemi\n",
    "        self.update_conversation()\n",
    "\n",
    "    def update_conversation(self):\n",
    "        \"\"\"Panelin yeniden render edilmesini sağlar.\"\"\"\n",
    "        self.panels = [pn.Row(pn.pane.Markdown(\"# QnA Bot - Conversation Ended\"))]\n",
    "        return pn.WidgetBox(*self.panels, scroll=True)"
   ]
  },
  {
   "cell_type": "code",
   "execution_count": 15,
   "id": "7ce2be01-f149-42f9-84e6-b3e66509f54b",
   "metadata": {},
   "outputs": [
    {
     "name": "stdout",
     "output_type": "stream",
     "text": [
      "Launching server at http://localhost:50105\n"
     ]
    },
    {
     "name": "stderr",
     "output_type": "stream",
     "text": [
      "/var/folders/04/nhwvkmt13753zn37rgwn35zr0000gn/T/ipykernel_60501/370875634.py:13: LangChainDeprecationWarning: Please see the migration guide at: https://python.langchain.com/docs/versions/migrating_memory/\n",
      "  self.memory = ConversationBufferMemory(return_messages=True, memory_key=\"chat_history\")\n"
     ]
    },
    {
     "data": {
      "text/plain": [
       "<panel.io.server.Server at 0x12f1b9a90>"
      ]
     },
     "execution_count": 15,
     "metadata": {},
     "output_type": "execute_result"
    },
    {
     "name": "stdout",
     "output_type": "stream",
     "text": [
      "End Conversation Button Clicked\n",
      "End Conversation Button Clicked\n",
      "End Conversation Button Clicked\n",
      "End Conversation Button Clicked\n"
     ]
    }
   ],
   "source": [
    "\n",
    "retriever = retriever  # Kullanacağınız retriever burada tanımlanmalı\n",
    "llm = llm  # Kullanacağınız LLM burada tanımlanmalı\n",
    "cb = QnABot(llm=llm, retriever=retriever)\n",
    "\n",
    "# Kullanıcı giriş widget'ı\n",
    "inp = pn.widgets.TextInput(placeholder='Enter your query here…')\n",
    "\n",
    "# Kullanıcı girişine bağlama\n",
    "conversation = pn.bind(cb.convchain, inp)\n",
    "\n",
    "# Konuşmayı sonlandırmak için düğme\n",
    "end_button = pn.widgets.Button(name=\"End Conversation\")\n",
    "end_button.on_click(cb.end_conversation)\n",
    "\n",
    "# Sekme ve Dashboard\n",
    "tab1 = pn.Column(\n",
    "    pn.Row(inp),\n",
    "    pn.layout.Divider(),\n",
    "    pn.panel(conversation, loading_indicator=True, height=400),\n",
    "    pn.layout.Divider(),\n",
    "    end_button\n",
    ")\n",
    "\n",
    "dashboard = pn.Column(\n",
    "    pn.Row(pn.pane.Markdown('# QnA_Bot')),\n",
    "    pn.Tabs(('Conversation', tab1))\n",
    ")\n",
    "\n",
    "# Uygulamayı çalıştır\n",
    "dashboard.show()"
   ]
  },
  {
   "cell_type": "code",
   "execution_count": null,
   "id": "4b267f57-da4f-49e8-983b-d825153e0ea5",
   "metadata": {},
   "outputs": [],
   "source": []
  },
  {
   "cell_type": "code",
   "execution_count": null,
   "id": "b06d8ba4-99e4-4d8d-86cc-e2940b043e2c",
   "metadata": {},
   "outputs": [],
   "source": []
  },
  {
   "cell_type": "code",
   "execution_count": null,
   "id": "f3ab33e2-8f33-4b26-a4e0-9267f32e08c5",
   "metadata": {},
   "outputs": [],
   "source": []
  },
  {
   "cell_type": "code",
   "execution_count": null,
   "id": "5602d622-e31b-477a-bebe-e30825409a30",
   "metadata": {},
   "outputs": [],
   "source": []
  },
  {
   "cell_type": "code",
   "execution_count": null,
   "id": "74e0d3a9-1ce3-4782-87b2-fd4ed7d11107",
   "metadata": {},
   "outputs": [],
   "source": []
  },
  {
   "cell_type": "code",
   "execution_count": null,
   "id": "eea8c3b8-b397-496c-bf4a-1124fcb3c08e",
   "metadata": {},
   "outputs": [],
   "source": []
  },
  {
   "cell_type": "code",
   "execution_count": null,
   "id": "514eddd4-eb82-46e9-b13b-1f5ff816a923",
   "metadata": {},
   "outputs": [],
   "source": []
  },
  {
   "cell_type": "code",
   "execution_count": null,
   "id": "081eb0e3-b7dc-442d-9122-1b545b115142",
   "metadata": {},
   "outputs": [],
   "source": []
  },
  {
   "cell_type": "code",
   "execution_count": null,
   "id": "b21803b7-6999-4227-8e64-deb6e3f75fbe",
   "metadata": {},
   "outputs": [],
   "source": []
  },
  {
   "cell_type": "code",
   "execution_count": null,
   "id": "669cc34f-2c61-4a6f-a74e-2d37ab3e763a",
   "metadata": {},
   "outputs": [],
   "source": []
  },
  {
   "cell_type": "markdown",
   "id": "5d33729a-1d52-4ad4-86e8-c6cd38deaf5f",
   "metadata": {},
   "source": [
    "WITH SCHEMA "
   ]
  },
  {
   "cell_type": "code",
   "execution_count": 9,
   "id": "83a19a61-b0a9-4fec-86d6-2b2a5b9f14a5",
   "metadata": {},
   "outputs": [
    {
     "name": "stderr",
     "output_type": "stream",
     "text": [
      "/var/folders/04/nhwvkmt13753zn37rgwn35zr0000gn/T/ipykernel_30730/2925995204.py:19: LangChainDeprecationWarning: The class `LLMChain` was deprecated in LangChain 0.1.17 and will be removed in 1.0. Use :meth:`~RunnableSequence, e.g., `prompt | llm`` instead.\n",
      "  llm_chain = LLMChain(llm=llm, prompt=prompt)\n"
     ]
    },
    {
     "data": {
      "text/plain": [
       "'\\ndef create_retrieval_chain(retriever, llm_chain):\\n    return RetrievalQA.from_chain_type(\\n        llm=llm,\\n        chain_type=\"stuff\",\\n        retriever=retriever,\\n        input_key=\"query\"\\n    )\\nrag_chain = create_retrieval_chain(retriever, llm_chain)\\n'"
      ]
     },
     "execution_count": 9,
     "metadata": {},
     "output_type": "execute_result"
    }
   ],
   "source": [
    "system_prompt = (\n",
    "    \"You are a waiter for question-answering tasks. \"\n",
    "    \"Use the following pieces of retrieved context to answer \"\n",
    "    \"the question. If you don't know the answer, say that you \"\n",
    "    \"don't know.And dont reccommend anythin outside the menu youve recieved. Use three sentences maximum and keep the \"\n",
    "    \"answer concise.\"\n",
    "    \"\\n\\n\"\n",
    "    \"{context}\"\n",
    ")\n",
    "\n",
    "prompt = ChatPromptTemplate.from_messages([\n",
    "    (\"system\", system_prompt),\n",
    "    (\"human\", \"{input}\"),\n",
    "    \n",
    "])\n",
    "\n",
    "# Create the question-answer chain\n",
    "#question_answer_chain = create_stuff_documents_chain(llm, prompt)\n",
    "llm_chain = LLMChain(llm=llm, prompt=prompt)\n",
    "#rag_chain = create_retrieval_chain(retriever, question_answer_chain)\n",
    "\"\"\"\n",
    "def create_retrieval_chain(retriever, llm_chain):\n",
    "    return RetrievalQA.from_chain_type(\n",
    "        llm=llm,\n",
    "        chain_type=\"stuff\",\n",
    "        retriever=retriever,\n",
    "        input_key=\"query\"\n",
    "    )\n",
    "rag_chain = create_retrieval_chain(retriever, llm_chain)\n",
    "\"\"\""
   ]
  },
  {
   "cell_type": "code",
   "execution_count": null,
   "id": "ca5aaa5d-cda4-41c1-a220-e0eb170aea84",
   "metadata": {},
   "outputs": [],
   "source": []
  },
  {
   "cell_type": "code",
   "execution_count": 10,
   "id": "13b44dd2-9a24-4cbe-949f-8c699aed641b",
   "metadata": {},
   "outputs": [],
   "source": [
    "from langchain.chains import ConversationalRetrievalChain\n",
    "from langchain.memory import ConversationStringBufferMemory\n",
    "from langchain.chains import RetrievalQA\n",
    "from langchain.output_parsers import PydanticOutputParser\n",
    "from pydantic import BaseModel ,Field ,validator\n",
    "from typing import List\n",
    "from typing import Optional\n",
    "from langchain.chains import create_tagging_chain ,create_tagging_chain_pydantic\n",
    "from kor.extraction import create_extraction_chain\n",
    "from kor.nodes import Object, Text, Number"
   ]
  },
  {
   "cell_type": "code",
   "execution_count": 11,
   "id": "522b32b3-36b4-4675-90bb-0d2ed7cf34c6",
   "metadata": {},
   "outputs": [],
   "source": [
    "schema = Object(\n",
    "    id=\"menu_info\",\n",
    "    description=\"menu content if its ordered\",\n",
    "    attributes=[\n",
    "        Text(\n",
    "            id=\"name\",\n",
    "            description=\"menu items name if its ordered\",\n",
    "            examples=[\n",
    "                (\"ben etli pizza alayım\", \"etli pizza\"),\n",
    "                (\"iki latte istiyorum\", \"latte\"),\n",
    "                (\"hamburger verebilir misin\", \"hamburger\"),\n",
    "                (\"ızgara sipariş vermek istiyorum\", \"ızgara\"),\n",
    "                (\"bize çay yolla\", \"çay\"),\n",
    "                (\"salata sipariş ediyorum\", \"salata\")\n",
    "            ],\n",
    "        ),\n",
    "        Text(\n",
    "            id=\"non_name\",\n",
    "            description=\"menu items name if its not ordered\",\n",
    "            examples=[\n",
    "                (\"margarita pizzanın içinde ne var\", \"margarita pizza\"),\n",
    "                (\"latteniz var mı\", \"latte\"),\n",
    "                (\"lattede hangi süt kullanılıyor\", \"latte\"),\n",
    "                (\"hamburger çeşitleriniz nelerdir\", \"hamburger\")\n",
    "            ],\n",
    "        ),\n",
    "        Text(\n",
    "            id=\"quantity\",\n",
    "            description=\"Quantity of ordered menu item if its ordered\",\n",
    "            examples=[\n",
    "                (\"ben etli pizza alayım\", \"1\"),\n",
    "                (\"iki latte istiyorum\", \"2\"),\n",
    "            ],\n",
    "        ),\n",
    "    ],\n",
    "    examples=[\n",
    "        (\n",
    "            \"eğer içinde salata varsa ızgara menüsünü almak istiyorum\",\n",
    "            [{\"name\": \"ızgara menü\",\"quantity\":\"1\"}]\n",
    "        ),\n",
    "        (\n",
    "            \"hamburgerlerin içinde hangi çeşit et kullanıyorsunuz\",\n",
    "            [{\"non_name\": \"hamburger\"}]\n",
    "        ),\n",
    "        (\n",
    "            \"bize iki orta boy peynirli tavuk pizza yollar mısın\",\n",
    "            [{\"name\": \"peynirli tavuk pizza\",\"quantity\":\"2\"}]\n",
    "        ),\n",
    "    ],\n",
    "    many=True,\n",
    ")"
   ]
  },
  {
   "cell_type": "code",
   "execution_count": 12,
   "id": "c200c707-4bc3-4ce2-8d1c-ff90fb0932a7",
   "metadata": {},
   "outputs": [],
   "source": [
    "from langchain.chains import LLMChain\n",
    "from langchain.prompts import PromptTemplate\n",
    "from langchain.agents import initialize_agent\n",
    "from langchain.agents import Tool\n",
    "from langchain.vectorstores import FAISS\n",
    "from langchain_core.prompts import ChatPromptTemplate\n",
    "from langchain_core.messages import HumanMessage\n",
    "from langchain_core.messages import SystemMessage\n",
    "import uuid"
   ]
  },
  {
   "cell_type": "code",
   "execution_count": 15,
   "id": "c77003af-5509-479d-8453-679fc1bd46f8",
   "metadata": {},
   "outputs": [],
   "source": [
    "def create_extraction_chain(llm, schema, encoder_or_encoder_class=\"json\"):\n",
    "    # Bu kısmı şema ve modelinize göre özelleştirebilirsiniz.\n",
    "    return LLMChain(\n",
    "        llm=llm,\n",
    "        prompt=ChatPromptTemplate.from_messages(\n",
    "            [\n",
    "                (\"system\", \"You are an assistant that extracts details from text.\"),\n",
    "                (\"human\", \"{input}\")\n",
    "            ]\n",
    "        )\n",
    "    )\n"
   ]
  },
  {
   "cell_type": "code",
   "execution_count": 16,
   "id": "1462dc8f-eec2-4b8a-a41d-b83bd7416839",
   "metadata": {},
   "outputs": [],
   "source": [
    "extraction_chain = create_extraction_chain(llm, schema, encoder_or_encoder_class=\"json\")"
   ]
  },
  {
   "cell_type": "code",
   "execution_count": 17,
   "id": "69848961-fad2-48d9-8197-4d5f565736df",
   "metadata": {},
   "outputs": [],
   "source": [
    "def create_retrieval_chain(retriever, llm_chain):\n",
    "    return RetrievalQA.from_chain_type(\n",
    "        llm=llm_chain.llm,  # llm_chain'in llm bileşenini alıyoruz\n",
    "        retriever=retriever,\n",
    "        chain_type=\"stuff\",  # Stuff chain türünü kullanıyoruz\n",
    "        input_key=\"query\"\n",
    "    )"
   ]
  },
  {
   "cell_type": "code",
   "execution_count": 18,
   "id": "5707d7c0-25ed-4489-9d5f-8fd7131eaba2",
   "metadata": {},
   "outputs": [],
   "source": [
    "retrieval_chain = create_retrieval_chain(retriever, extraction_chain)"
   ]
  },
  {
   "cell_type": "code",
   "execution_count": null,
   "id": "719701ad-9aa7-4119-a58b-aeabdd793be4",
   "metadata": {},
   "outputs": [],
   "source": []
  },
  {
   "cell_type": "markdown",
   "id": "a7537d3e-5763-4f18-b236-d2fc974e920a",
   "metadata": {},
   "source": [
    "WITH LANGGRAPH MEMORY"
   ]
  },
  {
   "cell_type": "code",
   "execution_count": 21,
   "id": "7eddaed2-9282-4f77-a640-be840d1e4596",
   "metadata": {
    "scrolled": true
   },
   "outputs": [
    {
     "name": "stdout",
     "output_type": "stream",
     "text": [
      "Collecting langgraph\n",
      "  Downloading langgraph-0.2.50-py3-none-any.whl.metadata (15 kB)\n",
      "Requirement already satisfied: langchain-core!=0.3.0,!=0.3.1,!=0.3.10,!=0.3.11,!=0.3.12,!=0.3.13,!=0.3.14,!=0.3.2,!=0.3.3,!=0.3.4,!=0.3.5,!=0.3.6,!=0.3.7,!=0.3.8,!=0.3.9,<0.4.0,>=0.2.43 in /Library/Frameworks/Python.framework/Versions/3.12/lib/python3.12/site-packages (from langgraph) (0.3.15)\n",
      "Collecting langgraph-checkpoint<3.0.0,>=2.0.4 (from langgraph)\n",
      "  Downloading langgraph_checkpoint-2.0.4-py3-none-any.whl.metadata (4.6 kB)\n",
      "Collecting langgraph-sdk<0.2.0,>=0.1.32 (from langgraph)\n",
      "  Downloading langgraph_sdk-0.1.36-py3-none-any.whl.metadata (1.8 kB)\n",
      "Requirement already satisfied: PyYAML>=5.3 in /Library/Frameworks/Python.framework/Versions/3.12/lib/python3.12/site-packages (from langchain-core!=0.3.0,!=0.3.1,!=0.3.10,!=0.3.11,!=0.3.12,!=0.3.13,!=0.3.14,!=0.3.2,!=0.3.3,!=0.3.4,!=0.3.5,!=0.3.6,!=0.3.7,!=0.3.8,!=0.3.9,<0.4.0,>=0.2.43->langgraph) (6.0.2)\n",
      "Requirement already satisfied: jsonpatch<2.0,>=1.33 in /Library/Frameworks/Python.framework/Versions/3.12/lib/python3.12/site-packages (from langchain-core!=0.3.0,!=0.3.1,!=0.3.10,!=0.3.11,!=0.3.12,!=0.3.13,!=0.3.14,!=0.3.2,!=0.3.3,!=0.3.4,!=0.3.5,!=0.3.6,!=0.3.7,!=0.3.8,!=0.3.9,<0.4.0,>=0.2.43->langgraph) (1.33)\n",
      "Requirement already satisfied: langsmith<0.2.0,>=0.1.125 in /Library/Frameworks/Python.framework/Versions/3.12/lib/python3.12/site-packages (from langchain-core!=0.3.0,!=0.3.1,!=0.3.10,!=0.3.11,!=0.3.12,!=0.3.13,!=0.3.14,!=0.3.2,!=0.3.3,!=0.3.4,!=0.3.5,!=0.3.6,!=0.3.7,!=0.3.8,!=0.3.9,<0.4.0,>=0.2.43->langgraph) (0.1.139)\n",
      "Requirement already satisfied: packaging<25,>=23.2 in /Library/Frameworks/Python.framework/Versions/3.12/lib/python3.12/site-packages (from langchain-core!=0.3.0,!=0.3.1,!=0.3.10,!=0.3.11,!=0.3.12,!=0.3.13,!=0.3.14,!=0.3.2,!=0.3.3,!=0.3.4,!=0.3.5,!=0.3.6,!=0.3.7,!=0.3.8,!=0.3.9,<0.4.0,>=0.2.43->langgraph) (24.1)\n",
      "Requirement already satisfied: pydantic<3.0.0,>=2.7.4 in /Library/Frameworks/Python.framework/Versions/3.12/lib/python3.12/site-packages (from langchain-core!=0.3.0,!=0.3.1,!=0.3.10,!=0.3.11,!=0.3.12,!=0.3.13,!=0.3.14,!=0.3.2,!=0.3.3,!=0.3.4,!=0.3.5,!=0.3.6,!=0.3.7,!=0.3.8,!=0.3.9,<0.4.0,>=0.2.43->langgraph) (2.9.2)\n",
      "Requirement already satisfied: tenacity!=8.4.0,<10.0.0,>=8.1.0 in /Library/Frameworks/Python.framework/Versions/3.12/lib/python3.12/site-packages (from langchain-core!=0.3.0,!=0.3.1,!=0.3.10,!=0.3.11,!=0.3.12,!=0.3.13,!=0.3.14,!=0.3.2,!=0.3.3,!=0.3.4,!=0.3.5,!=0.3.6,!=0.3.7,!=0.3.8,!=0.3.9,<0.4.0,>=0.2.43->langgraph) (9.0.0)\n",
      "Requirement already satisfied: typing-extensions>=4.7 in /Library/Frameworks/Python.framework/Versions/3.12/lib/python3.12/site-packages (from langchain-core!=0.3.0,!=0.3.1,!=0.3.10,!=0.3.11,!=0.3.12,!=0.3.13,!=0.3.14,!=0.3.2,!=0.3.3,!=0.3.4,!=0.3.5,!=0.3.6,!=0.3.7,!=0.3.8,!=0.3.9,<0.4.0,>=0.2.43->langgraph) (4.12.2)\n",
      "Collecting msgpack<2.0.0,>=1.1.0 (from langgraph-checkpoint<3.0.0,>=2.0.4->langgraph)\n",
      "  Downloading msgpack-1.1.0-cp312-cp312-macosx_11_0_arm64.whl.metadata (8.4 kB)\n",
      "Requirement already satisfied: httpx>=0.25.2 in /Library/Frameworks/Python.framework/Versions/3.12/lib/python3.12/site-packages (from langgraph-sdk<0.2.0,>=0.1.32->langgraph) (0.27.2)\n",
      "Requirement already satisfied: httpx-sse>=0.4.0 in /Library/Frameworks/Python.framework/Versions/3.12/lib/python3.12/site-packages (from langgraph-sdk<0.2.0,>=0.1.32->langgraph) (0.4.0)\n",
      "Requirement already satisfied: orjson>=3.10.1 in /Library/Frameworks/Python.framework/Versions/3.12/lib/python3.12/site-packages (from langgraph-sdk<0.2.0,>=0.1.32->langgraph) (3.10.11)\n",
      "Requirement already satisfied: anyio in /Library/Frameworks/Python.framework/Versions/3.12/lib/python3.12/site-packages (from httpx>=0.25.2->langgraph-sdk<0.2.0,>=0.1.32->langgraph) (4.4.0)\n",
      "Requirement already satisfied: certifi in /Library/Frameworks/Python.framework/Versions/3.12/lib/python3.12/site-packages (from httpx>=0.25.2->langgraph-sdk<0.2.0,>=0.1.32->langgraph) (2024.8.30)\n",
      "Requirement already satisfied: httpcore==1.* in /Library/Frameworks/Python.framework/Versions/3.12/lib/python3.12/site-packages (from httpx>=0.25.2->langgraph-sdk<0.2.0,>=0.1.32->langgraph) (1.0.5)\n",
      "Requirement already satisfied: idna in /Library/Frameworks/Python.framework/Versions/3.12/lib/python3.12/site-packages (from httpx>=0.25.2->langgraph-sdk<0.2.0,>=0.1.32->langgraph) (3.8)\n",
      "Requirement already satisfied: sniffio in /Library/Frameworks/Python.framework/Versions/3.12/lib/python3.12/site-packages (from httpx>=0.25.2->langgraph-sdk<0.2.0,>=0.1.32->langgraph) (1.3.1)\n",
      "Requirement already satisfied: h11<0.15,>=0.13 in /Library/Frameworks/Python.framework/Versions/3.12/lib/python3.12/site-packages (from httpcore==1.*->httpx>=0.25.2->langgraph-sdk<0.2.0,>=0.1.32->langgraph) (0.14.0)\n",
      "Requirement already satisfied: jsonpointer>=1.9 in /Library/Frameworks/Python.framework/Versions/3.12/lib/python3.12/site-packages (from jsonpatch<2.0,>=1.33->langchain-core!=0.3.0,!=0.3.1,!=0.3.10,!=0.3.11,!=0.3.12,!=0.3.13,!=0.3.14,!=0.3.2,!=0.3.3,!=0.3.4,!=0.3.5,!=0.3.6,!=0.3.7,!=0.3.8,!=0.3.9,<0.4.0,>=0.2.43->langgraph) (3.0.0)\n",
      "Requirement already satisfied: requests<3,>=2 in /Library/Frameworks/Python.framework/Versions/3.12/lib/python3.12/site-packages (from langsmith<0.2.0,>=0.1.125->langchain-core!=0.3.0,!=0.3.1,!=0.3.10,!=0.3.11,!=0.3.12,!=0.3.13,!=0.3.14,!=0.3.2,!=0.3.3,!=0.3.4,!=0.3.5,!=0.3.6,!=0.3.7,!=0.3.8,!=0.3.9,<0.4.0,>=0.2.43->langgraph) (2.32.3)\n",
      "Requirement already satisfied: requests-toolbelt<2.0.0,>=1.0.0 in /Library/Frameworks/Python.framework/Versions/3.12/lib/python3.12/site-packages (from langsmith<0.2.0,>=0.1.125->langchain-core!=0.3.0,!=0.3.1,!=0.3.10,!=0.3.11,!=0.3.12,!=0.3.13,!=0.3.14,!=0.3.2,!=0.3.3,!=0.3.4,!=0.3.5,!=0.3.6,!=0.3.7,!=0.3.8,!=0.3.9,<0.4.0,>=0.2.43->langgraph) (1.0.0)\n",
      "Requirement already satisfied: annotated-types>=0.6.0 in /Library/Frameworks/Python.framework/Versions/3.12/lib/python3.12/site-packages (from pydantic<3.0.0,>=2.7.4->langchain-core!=0.3.0,!=0.3.1,!=0.3.10,!=0.3.11,!=0.3.12,!=0.3.13,!=0.3.14,!=0.3.2,!=0.3.3,!=0.3.4,!=0.3.5,!=0.3.6,!=0.3.7,!=0.3.8,!=0.3.9,<0.4.0,>=0.2.43->langgraph) (0.7.0)\n",
      "Requirement already satisfied: pydantic-core==2.23.4 in /Library/Frameworks/Python.framework/Versions/3.12/lib/python3.12/site-packages (from pydantic<3.0.0,>=2.7.4->langchain-core!=0.3.0,!=0.3.1,!=0.3.10,!=0.3.11,!=0.3.12,!=0.3.13,!=0.3.14,!=0.3.2,!=0.3.3,!=0.3.4,!=0.3.5,!=0.3.6,!=0.3.7,!=0.3.8,!=0.3.9,<0.4.0,>=0.2.43->langgraph) (2.23.4)\n",
      "Requirement already satisfied: charset-normalizer<4,>=2 in /Library/Frameworks/Python.framework/Versions/3.12/lib/python3.12/site-packages (from requests<3,>=2->langsmith<0.2.0,>=0.1.125->langchain-core!=0.3.0,!=0.3.1,!=0.3.10,!=0.3.11,!=0.3.12,!=0.3.13,!=0.3.14,!=0.3.2,!=0.3.3,!=0.3.4,!=0.3.5,!=0.3.6,!=0.3.7,!=0.3.8,!=0.3.9,<0.4.0,>=0.2.43->langgraph) (3.3.2)\n",
      "Requirement already satisfied: urllib3<3,>=1.21.1 in /Library/Frameworks/Python.framework/Versions/3.12/lib/python3.12/site-packages (from requests<3,>=2->langsmith<0.2.0,>=0.1.125->langchain-core!=0.3.0,!=0.3.1,!=0.3.10,!=0.3.11,!=0.3.12,!=0.3.13,!=0.3.14,!=0.3.2,!=0.3.3,!=0.3.4,!=0.3.5,!=0.3.6,!=0.3.7,!=0.3.8,!=0.3.9,<0.4.0,>=0.2.43->langgraph) (2.2.2)\n",
      "Downloading langgraph-0.2.50-py3-none-any.whl (124 kB)\n",
      "Downloading langgraph_checkpoint-2.0.4-py3-none-any.whl (23 kB)\n",
      "Downloading langgraph_sdk-0.1.36-py3-none-any.whl (29 kB)\n",
      "Downloading msgpack-1.1.0-cp312-cp312-macosx_11_0_arm64.whl (82 kB)\n",
      "Installing collected packages: msgpack, langgraph-sdk, langgraph-checkpoint, langgraph\n",
      "Successfully installed langgraph-0.2.50 langgraph-checkpoint-2.0.4 langgraph-sdk-0.1.36 msgpack-1.1.0\n"
     ]
    }
   ],
   "source": [
    "!pip install langgraph"
   ]
  },
  {
   "cell_type": "code",
   "execution_count": 26,
   "id": "97f587c4-0b16-4d54-a3a5-ed8f44918605",
   "metadata": {},
   "outputs": [],
   "source": [
    "from langgraph.checkpoint.memory import MemorySaver\n",
    "from langgraph.graph import StateGraph, START, MessagesState\n",
    "\n",
    "# StateGraph ve Hafıza\n",
    "workflow = StateGraph(state_schema=MessagesState)\n",
    "memory = MemorySaver()\n",
    "\n",
    "# LLM Chain ile mesajları işlemek için fonksiyon\n",
    "def call_model(state: MessagesState):\n",
    "    response = llm.invoke(state[\"messages\"])\n",
    "    return {\"messages\": response}\n",
    "\n",
    "# Workflow'a model ekliyoruz\n",
    "workflow.add_edge(START, \"model\")\n",
    "workflow.add_node(\"model\", call_model)\n",
    "\n",
    "# Hafıza ve workflow ile uygulama derliyoruz\n",
    "app = workflow.compile(checkpointer=memory)\n",
    "\n",
    "# Thread ID oluşturuluyor\n",
    "thread_id = uuid.uuid4()\n",
    "config = {\"configurable\": {\"thread_id\": thread_id}}\n",
    "\n",
    "# Function to process orders\n",
    "def process_order(response):\n",
    "    # This is a placeholder. Implement extraction logic based on your menu.\n",
    "    return response.split(\",\")  # Example of splitting orders by commas.\n"
   ]
  },
  {
   "cell_type": "code",
   "execution_count": 27,
   "id": "aac608fc-1f89-4b07-b272-4d4dcdbe063b",
   "metadata": {},
   "outputs": [
    {
     "name": "stdin",
     "output_type": "stream",
     "text": [
      "Siz:  menüde neler var \n"
     ]
    },
    {
     "name": "stdout",
     "output_type": "stream",
     "text": [
      "Assistant: menüde neler var \n",
      "Assistant: Hangi tür menü hakkında bilgi almak istediğinizi belirtirseniz, daha yardımcı olabilirim. Örneğin, bir restoran menüsü, bir etkinlik menüsü veya bir etkinlikte sunulacak yiyecek ve içecekler hakkında mı bilgi istiyorsunuz? Lütfen daha fazla detay verin.\n"
     ]
    },
    {
     "name": "stdin",
     "output_type": "stream",
     "text": [
      "Siz:  menüye pizza ekle \n"
     ]
    },
    {
     "name": "stdout",
     "output_type": "stream",
     "text": [
      "Assistant: menüye pizza ekle \n",
      "Assistant: Pizza eklemek için bir menü oluşturduğumuzu varsayalım. İşte örnek bir menü taslağına pizza eklenmiş hali:\n",
      "\n",
      "### Menü\n",
      "\n",
      "#### Başlangıçlar\n",
      "- Zeytinyağlı Enginar\n",
      "- Bruschetta\n",
      "- Çıtır Kalamar\n",
      "\n",
      "#### Pizzalar\n",
      "- **Margherita Pizza**  \n",
      "  Domates sosu, mozzarella peyniri, taze fesleğen.\n",
      "\n",
      "- **Pepperoni Pizza**  \n",
      "  Domates sosu, mozzarella peyniri, pepperoni dilimleri.\n",
      "\n",
      "- **Sebzeli Pizza**  \n",
      "  Domates sosu, mozzarella peyniri, biber, mantar, zeytin ve soğan.\n",
      "\n",
      "- **Tavuklu Pizza**  \n",
      "  BBQ sos, mozzarella peyniri, ızgara tavuk, soğan ve mısır.\n",
      "\n",
      "- **4 Peynirli Pizza**  \n",
      "  Mozzarella, parmesan, gorgonzola ve beyaz peynir.\n",
      "\n",
      "#### Salatalar\n",
      "- Mevsim Salatası\n",
      "- Çoban Salata\n",
      "- Sezar Salata\n",
      "\n",
      "#### Tatlılar\n",
      "- Tiramisu\n",
      "- Çikolatalı Kek\n",
      "- Dondurma\n",
      "\n",
      "#### İçecekler\n",
      "- Su\n",
      "- Gazlı İçecekler\n",
      "- Şarap\n",
      "- Bira\n",
      "\n",
      "Bu menüye istediğiniz başka yiyecek veya içecek eklemek isterseniz, lütfen belirtin!\n"
     ]
    },
    {
     "name": "stdin",
     "output_type": "stream",
     "text": [
      "Siz:  exit\n"
     ]
    },
    {
     "name": "stdout",
     "output_type": "stream",
     "text": [
      "Geçmiş mesajlar:\n",
      "Siparişleriniz: \n"
     ]
    },
    {
     "name": "stdin",
     "output_type": "stream",
     "text": [
      "Siparişleri onaylıyor musunuz? (Evet/Hayır):  hayır \n"
     ]
    },
    {
     "name": "stdout",
     "output_type": "stream",
     "text": [
      "Siparişler kaydedilmedi.\n"
     ]
    }
   ],
   "source": [
    "def sohbet_et():\n",
    "    siparisler = []\n",
    "    while True:\n",
    "        # Get user input\n",
    "        input_message = input(\"Siz: \")\n",
    "\n",
    "        # Exit condition\n",
    "        if input_message.lower() == \"exit\":\n",
    "            print(\"Geçmiş mesajlar:\")\n",
    "            print(\"Siparişleriniz:\", \", \".join(siparisler))\n",
    "            onay = input(\"Siparişleri onaylıyor musunuz? (Evet/Hayır): \").strip().lower()\n",
    "            if onay == \"evet\":\n",
    "                with open(\"siparisler.txt\", \"w\") as dosya:\n",
    "                    dosya.write(\"Siparişler:\\n\")\n",
    "                    for siparis in siparisler:\n",
    "                        dosya.write(f\"{siparis}\\n\")\n",
    "                print(\"Siparişler dosyaya yazıldı.\")\n",
    "            else:\n",
    "                print(\"Siparişler kaydedilmedi.\")\n",
    "            break\n",
    "\n",
    "        # Create a HumanMessage object\n",
    "        input_message_obj = HumanMessage(content=input_message)\n",
    "\n",
    "        # Run the workflow and get a response\n",
    "        for event in app.stream({\"messages\": [input_message_obj]}, config, stream_mode=\"values\"):\n",
    "            response = event[\"messages\"][-1].content\n",
    "            print(f\"Assistant: {response}\")\n",
    "\n",
    "        # If the response contains 'menu', process the order\n",
    "        if \"menu\" in response.lower():\n",
    "            siparisler += process_order(response)\n",
    "            print(f\"Sipariş eklendi: {', '.join(siparisler)}\")\n",
    "\n",
    "# Start the conversation\n",
    "sohbet_et()"
   ]
  },
  {
   "cell_type": "code",
   "execution_count": null,
   "id": "1c1f619c-a981-4a1d-8a1f-2b34f6860d7c",
   "metadata": {},
   "outputs": [],
   "source": []
  },
  {
   "cell_type": "code",
   "execution_count": null,
   "id": "e67e6fee-b01c-4787-b83b-6755ae572bf4",
   "metadata": {},
   "outputs": [],
   "source": []
  },
  {
   "cell_type": "code",
   "execution_count": 29,
   "id": "d98fc8ad-4bb7-4f78-95ca-9711ebe316dc",
   "metadata": {},
   "outputs": [
    {
     "name": "stderr",
     "output_type": "stream",
     "text": [
      "/var/folders/04/nhwvkmt13753zn37rgwn35zr0000gn/T/ipykernel_30488/633195847.py:1: LangChainDeprecationWarning: Please see the migration guide at: https://python.langchain.com/docs/versions/migrating_memory/\n",
      "  memory = ConversationStringBufferMemory(memory_key=\"chat_history\", return_messages=True)\n"
     ]
    },
    {
     "ename": "ValidationError",
     "evalue": "1 validation error for ConversationStringBufferMemory\n  Value error, return_messages must be False for ConversationStringBufferMemory [type=value_error, input_value={'memory_key': 'chat_hist...None, 'input_key': None}, input_type=dict]\n    For further information visit https://errors.pydantic.dev/2.9/v/value_error",
     "output_type": "error",
     "traceback": [
      "\u001b[0;31m---------------------------------------------------------------------------\u001b[0m",
      "\u001b[0;31mValidationError\u001b[0m                           Traceback (most recent call last)",
      "Cell \u001b[0;32mIn[29], line 1\u001b[0m\n\u001b[0;32m----> 1\u001b[0m memory \u001b[38;5;241m=\u001b[39m \u001b[43mConversationStringBufferMemory\u001b[49m\u001b[43m(\u001b[49m\u001b[43mmemory_key\u001b[49m\u001b[38;5;241;43m=\u001b[39;49m\u001b[38;5;124;43m\"\u001b[39;49m\u001b[38;5;124;43mchat_history\u001b[39;49m\u001b[38;5;124;43m\"\u001b[39;49m\u001b[43m,\u001b[49m\u001b[43m \u001b[49m\u001b[43mreturn_messages\u001b[49m\u001b[38;5;241;43m=\u001b[39;49m\u001b[38;5;28;43;01mTrue\u001b[39;49;00m\u001b[43m)\u001b[49m\n",
      "File \u001b[0;32m/Library/Frameworks/Python.framework/Versions/3.12/lib/python3.12/site-packages/langchain_core/_api/deprecation.py:216\u001b[0m, in \u001b[0;36mdeprecated.<locals>.deprecate.<locals>.finalize.<locals>.warn_if_direct_instance\u001b[0;34m(self, *args, **kwargs)\u001b[0m\n\u001b[1;32m    214\u001b[0m     warned \u001b[38;5;241m=\u001b[39m \u001b[38;5;28;01mTrue\u001b[39;00m\n\u001b[1;32m    215\u001b[0m     emit_warning()\n\u001b[0;32m--> 216\u001b[0m \u001b[38;5;28;01mreturn\u001b[39;00m \u001b[43mwrapped\u001b[49m\u001b[43m(\u001b[49m\u001b[38;5;28;43mself\u001b[39;49m\u001b[43m,\u001b[49m\u001b[43m \u001b[49m\u001b[38;5;241;43m*\u001b[39;49m\u001b[43margs\u001b[49m\u001b[43m,\u001b[49m\u001b[43m \u001b[49m\u001b[38;5;241;43m*\u001b[39;49m\u001b[38;5;241;43m*\u001b[39;49m\u001b[43mkwargs\u001b[49m\u001b[43m)\u001b[49m\n",
      "File \u001b[0;32m/Library/Frameworks/Python.framework/Versions/3.12/lib/python3.12/site-packages/langchain_core/_api/deprecation.py:216\u001b[0m, in \u001b[0;36mdeprecated.<locals>.deprecate.<locals>.finalize.<locals>.warn_if_direct_instance\u001b[0;34m(self, *args, **kwargs)\u001b[0m\n\u001b[1;32m    214\u001b[0m     warned \u001b[38;5;241m=\u001b[39m \u001b[38;5;28;01mTrue\u001b[39;00m\n\u001b[1;32m    215\u001b[0m     emit_warning()\n\u001b[0;32m--> 216\u001b[0m \u001b[38;5;28;01mreturn\u001b[39;00m \u001b[43mwrapped\u001b[49m\u001b[43m(\u001b[49m\u001b[38;5;28;43mself\u001b[39;49m\u001b[43m,\u001b[49m\u001b[43m \u001b[49m\u001b[38;5;241;43m*\u001b[39;49m\u001b[43margs\u001b[49m\u001b[43m,\u001b[49m\u001b[43m \u001b[49m\u001b[38;5;241;43m*\u001b[39;49m\u001b[38;5;241;43m*\u001b[39;49m\u001b[43mkwargs\u001b[49m\u001b[43m)\u001b[49m\n",
      "File \u001b[0;32m/Library/Frameworks/Python.framework/Versions/3.12/lib/python3.12/site-packages/langchain_core/load/serializable.py:125\u001b[0m, in \u001b[0;36mSerializable.__init__\u001b[0;34m(self, *args, **kwargs)\u001b[0m\n\u001b[1;32m    123\u001b[0m \u001b[38;5;28;01mdef\u001b[39;00m \u001b[38;5;21m__init__\u001b[39m(\u001b[38;5;28mself\u001b[39m, \u001b[38;5;241m*\u001b[39margs: Any, \u001b[38;5;241m*\u001b[39m\u001b[38;5;241m*\u001b[39mkwargs: Any) \u001b[38;5;241m-\u001b[39m\u001b[38;5;241m>\u001b[39m \u001b[38;5;28;01mNone\u001b[39;00m:\n\u001b[1;32m    124\u001b[0m \u001b[38;5;250m    \u001b[39m\u001b[38;5;124;03m\"\"\"\"\"\"\u001b[39;00m\n\u001b[0;32m--> 125\u001b[0m     \u001b[38;5;28;43msuper\u001b[39;49m\u001b[43m(\u001b[49m\u001b[43m)\u001b[49m\u001b[38;5;241;43m.\u001b[39;49m\u001b[38;5;21;43m__init__\u001b[39;49m\u001b[43m(\u001b[49m\u001b[38;5;241;43m*\u001b[39;49m\u001b[43margs\u001b[49m\u001b[43m,\u001b[49m\u001b[43m \u001b[49m\u001b[38;5;241;43m*\u001b[39;49m\u001b[38;5;241;43m*\u001b[39;49m\u001b[43mkwargs\u001b[49m\u001b[43m)\u001b[49m\n",
      "File \u001b[0;32m/Library/Frameworks/Python.framework/Versions/3.12/lib/python3.12/site-packages/pydantic/main.py:212\u001b[0m, in \u001b[0;36mBaseModel.__init__\u001b[0;34m(self, **data)\u001b[0m\n\u001b[1;32m    210\u001b[0m \u001b[38;5;66;03m# `__tracebackhide__` tells pytest and some other tools to omit this function from tracebacks\u001b[39;00m\n\u001b[1;32m    211\u001b[0m __tracebackhide__ \u001b[38;5;241m=\u001b[39m \u001b[38;5;28;01mTrue\u001b[39;00m\n\u001b[0;32m--> 212\u001b[0m validated_self \u001b[38;5;241m=\u001b[39m \u001b[38;5;28;43mself\u001b[39;49m\u001b[38;5;241;43m.\u001b[39;49m\u001b[43m__pydantic_validator__\u001b[49m\u001b[38;5;241;43m.\u001b[39;49m\u001b[43mvalidate_python\u001b[49m\u001b[43m(\u001b[49m\u001b[43mdata\u001b[49m\u001b[43m,\u001b[49m\u001b[43m \u001b[49m\u001b[43mself_instance\u001b[49m\u001b[38;5;241;43m=\u001b[39;49m\u001b[38;5;28;43mself\u001b[39;49m\u001b[43m)\u001b[49m\n\u001b[1;32m    213\u001b[0m \u001b[38;5;28;01mif\u001b[39;00m \u001b[38;5;28mself\u001b[39m \u001b[38;5;129;01mis\u001b[39;00m \u001b[38;5;129;01mnot\u001b[39;00m validated_self:\n\u001b[1;32m    214\u001b[0m     warnings\u001b[38;5;241m.\u001b[39mwarn(\n\u001b[1;32m    215\u001b[0m         \u001b[38;5;124m'\u001b[39m\u001b[38;5;124mA custom validator is returning a value other than `self`.\u001b[39m\u001b[38;5;130;01m\\n\u001b[39;00m\u001b[38;5;124m'\u001b[39m\n\u001b[1;32m    216\u001b[0m         \u001b[38;5;124m\"\u001b[39m\u001b[38;5;124mReturning anything other than `self` from a top level model validator isn\u001b[39m\u001b[38;5;124m'\u001b[39m\u001b[38;5;124mt supported when validating via `__init__`.\u001b[39m\u001b[38;5;130;01m\\n\u001b[39;00m\u001b[38;5;124m\"\u001b[39m\n\u001b[1;32m    217\u001b[0m         \u001b[38;5;124m'\u001b[39m\u001b[38;5;124mSee the `model_validator` docs (https://docs.pydantic.dev/latest/concepts/validators/#model-validators) for more details.\u001b[39m\u001b[38;5;124m'\u001b[39m,\n\u001b[1;32m    218\u001b[0m         category\u001b[38;5;241m=\u001b[39m\u001b[38;5;28;01mNone\u001b[39;00m,\n\u001b[1;32m    219\u001b[0m     )\n",
      "\u001b[0;31mValidationError\u001b[0m: 1 validation error for ConversationStringBufferMemory\n  Value error, return_messages must be False for ConversationStringBufferMemory [type=value_error, input_value={'memory_key': 'chat_hist...None, 'input_key': None}, input_type=dict]\n    For further information visit https://errors.pydantic.dev/2.9/v/value_error"
     ]
    }
   ],
   "source": [
    "memory = ConversationStringBufferMemory(memory_key=\"chat_history\", return_messages=True)"
   ]
  },
  {
   "cell_type": "code",
   "execution_count": 16,
   "id": "3ecc786c-bad4-4831-aed6-4a3f1cb95c77",
   "metadata": {},
   "outputs": [],
   "source": [
    "extraction_chain = create_extraction_chain(\n",
    "    llm,\n",
    "    schema,\n",
    "    encoder_or_encoder_class=\"json\"\n",
    ")\n",
    "\n",
    "#"
   ]
  },
  {
   "cell_type": "code",
   "execution_count": 30,
   "id": "34c52c79-efc6-4939-b324-5f1cce05930f",
   "metadata": {},
   "outputs": [
    {
     "ename": "NameError",
     "evalue": "name 'langchain' is not defined",
     "output_type": "error",
     "traceback": [
      "\u001b[0;31m---------------------------------------------------------------------------\u001b[0m",
      "\u001b[0;31mNameError\u001b[0m                                 Traceback (most recent call last)",
      "Cell \u001b[0;32mIn[30], line 1\u001b[0m\n\u001b[0;32m----> 1\u001b[0m \u001b[43mlangchain\u001b[49m \u001b[38;5;241m-\u001b[39m\u001b[38;5;241m-\u001b[39mversion\n",
      "\u001b[0;31mNameError\u001b[0m: name 'langchain' is not defined"
     ]
    }
   ],
   "source": [
    "langchain --version"
   ]
  },
  {
   "cell_type": "code",
   "execution_count": 17,
   "id": "262b1228-3f18-47d8-a84d-e00a2422eb79",
   "metadata": {},
   "outputs": [],
   "source": [
    "def create_retrieval_chain(retriever, llm_chain):\n",
    "    return RetrievalQA.from_chain_type(\n",
    "        llm=llm_chain.llm,  # llm_chain'in llm bileşenini al\n",
    "        retriever=retriever,\n",
    "        chain_type=\"stuff\",\n",
    "        input_key=\"query\"\n",
    "    )"
   ]
  },
  {
   "cell_type": "code",
   "execution_count": 21,
   "id": "8a72222f-cfa0-4083-a0cc-cee0643eab92",
   "metadata": {},
   "outputs": [],
   "source": [
    "retriever = retriever  # Retriever'inizi tanımlayın\n",
    "rag_chain = RetrievalQA.from_chain_type(\n",
    "    llm=llm,\n",
    "    chain_type=\"stuff\",\n",
    "    retriever=retriever,\n",
    "    input_key=\"query\",\n",
    "    return_source_documents=False,\n",
    "    memory=memory  # Hafızayı buraya ekliyoruz\n",
    ")\n"
   ]
  },
  {
   "cell_type": "code",
   "execution_count": 24,
   "id": "ac50403f-6720-4c08-87bc-3c4e81828fbd",
   "metadata": {},
   "outputs": [],
   "source": [
    "def sohbet_et():\n",
    "    siparisler = []  # Siparişleri saklamak için liste\n",
    "    dosya_adi = \"siparisler.txt\"  # Dosya adı\n",
    "    \n",
    "    while True:\n",
    "        # Kullanıcıdan giriş al\n",
    "        query = input(\"Siz: \")\n",
    "        if query.lower() == \"exit\":\n",
    "            # Siparişleri göster ve onay iste\n",
    "            print(\"Siparişleriniz:\", \", \".join(siparisler))\n",
    "            onay = input(\"Siparişleri onaylıyor musunuz? (Evet/Hayır): \").strip().lower()\n",
    "            \n",
    "            if onay == \"evet\":\n",
    "                # Siparişleri dosyaya yaz\n",
    "                with open(dosya_adi, \"w\") as dosya:\n",
    "                    dosya.write(\"Siparişler:\\n\")\n",
    "                    for siparis in siparisler:\n",
    "                        dosya.write(f\"{siparis}\\n\")\n",
    "                print(f\"Siparişler {dosya_adi} dosyasına yazıldı.\")\n",
    "            else:\n",
    "                print(\"Siparişler kaydedilmedi.\")\n",
    "            \n",
    "            break\n",
    "\n",
    "        # RAG Chain ile bağlam tabanlı yanıt oluştur\n",
    "        rag_response = rag_chain({\"query\": query, \"chat_history\": memory.chat_memory})\n",
    "        print(\"Cevap:\", rag_response[\"result\"])\n",
    "\n",
    "        # Extraction Chain ile sipariş bilgilerini ayıkla\n",
    "        extracted_data = extraction_chain.invoke({\"text\": query})[\"data\"]\n",
    "        print(\"Extraction Output:\", extracted_data)\n",
    "\n",
    "        # Siparişleri işleme\n",
    "        if \"menu_info\" in extracted_data:\n",
    "            for item in extracted_data[\"menu_info\"]:\n",
    "                if isinstance(item, dict) and 'name' in item:\n",
    "                    name = item.get('name', \"bilinmeyen\")\n",
    "                    quantity = item.get('quantity', \"1\")  # Varsayılan olarak quantity \"1\"\n",
    "                    siparis = f\"{quantity} adet {name}\"\n",
    "                    siparisler.append(siparis)\n",
    "                    print(\"Sipariş eklendi:\", siparis)\n",
    "        memory.chat_memory.add_message({\"role\": \"human\", \"content\": query})\n",
    "        memory.chat_memory.add_message({\"role\": \"assistant\", \"content\": rag_response[\"result\"]})           "
   ]
  },
  {
   "cell_type": "code",
   "execution_count": 25,
   "id": "6a4e99a5-6cef-4531-b93c-40a45008b6f9",
   "metadata": {},
   "outputs": [
    {
     "name": "stdin",
     "output_type": "stream",
     "text": [
      "Siz:  menüde neler var \n"
     ]
    },
    {
     "name": "stdout",
     "output_type": "stream",
     "text": [
      "Cevap: Menüde şu ürünler bulunmaktadır:\n",
      "\n",
      "1. Ana Yemekler:\n",
      "   - Sebzeli Güveç: Fırınlanmış taze sebzeler, domates sos - 85 TL\n",
      "   - Izgara Tavuk: Izgara tavuk göğsü, sebze garnitürü, sarımsaklı patates püresi - 130 TL\n",
      "\n",
      "2. Hamburgerler:\n",
      "   - Tavuk Burger: Çıtır tavuk, cheddar, domates, tatlı soğan, sarımsak sos - 100 TL\n",
      "\n",
      "3. Başlangıçlar:\n",
      "   - Tavuk Kanatları: Pane tavuk kanatları, sos seçenekleri: BBQ, hardal, ketçap, mayonez - 125 TL\n",
      "Extraction Output: {'menu_info': []}\n"
     ]
    },
    {
     "name": "stdin",
     "output_type": "stream",
     "text": [
      "Siz:  pizzalarınız neler \n"
     ]
    },
    {
     "name": "stdout",
     "output_type": "stream",
     "text": [
      "Cevap: Pizzalarımız şunlardır:\n",
      "\n",
      "1. Etli Pizza - İçindekiler: Jambon, tavuk, bacon, mozzarella, beyaz sos; Fiyat: 145 TL\n",
      "2. Peynirli Tavuk Pizza - İçindekiler: Tavuk, cheddar, rokfor, mantar, sarımsak sos; Fiyat: 110 TL\n",
      "3. Margarita Pizza - İçindekiler: Domates, mozzarella, fesleğen, zeytinyağı; Fiyat: 85 TL\n",
      "4. Acili Deniz Pizza - İçindekiler: Karides, somon, domates, mozzarella, beyaz sos; Fiyat: 145 TL\n",
      "Extraction Output: {'menu_info': [{'non_name': 'pizza'}]}\n"
     ]
    },
    {
     "name": "stdin",
     "output_type": "stream",
     "text": [
      "Siz:  tatlılarınız var mı \n"
     ]
    },
    {
     "name": "stdout",
     "output_type": "stream",
     "text": [
      "Cevap: Evet, tatlılarınız arasında Firin Sutlac ve Sufle bulunmaktadır. Firin Sutlac 50 TL, Sufle ise 65 TL'dir.\n",
      "Extraction Output: {'menu_info': [{'non_name': 'tatlılar'}]}\n"
     ]
    },
    {
     "name": "stdin",
     "output_type": "stream",
     "text": [
      "Siz:  içinde neler var \n"
     ]
    },
    {
     "name": "stdout",
     "output_type": "stream",
     "text": [
      "Cevap: Bununla ilgili olarak neyin içinde neler olduğunu belirtmemişsiniz, bu nedenle kesin bir yanıt veremiyorum. Hangi ürün veya kategori hakkında bilgi istediğinizi belirtirseniz, yardımcı olmaya çalışabilirim.\n",
      "Extraction Output: {'menu_info': [{}]}\n"
     ]
    },
    {
     "name": "stdin",
     "output_type": "stream",
     "text": [
      "Siz:  az önce ne sordum \n"
     ]
    },
    {
     "name": "stdout",
     "output_type": "stream",
     "text": [
      "Cevap: Bilmiyorum.\n",
      "Extraction Output: {'menu_info': []}\n"
     ]
    },
    {
     "name": "stdin",
     "output_type": "stream",
     "text": [
      "Siz:  sana neler sordum \n"
     ]
    },
    {
     "name": "stdout",
     "output_type": "stream",
     "text": [
      "Cevap: Bilmiyorum.\n",
      "Extraction Output: {'menu_info': []}\n"
     ]
    },
    {
     "name": "stdin",
     "output_type": "stream",
     "text": [
      "Siz:  ben gaye \n"
     ]
    },
    {
     "name": "stdout",
     "output_type": "stream",
     "text": [
      "Cevap: Bunu anlamıyorum, bana daha fazla bilgi verebilir misin? Nasıl yardımcı olabilirim?\n",
      "Extraction Output: {}\n"
     ]
    },
    {
     "name": "stdin",
     "output_type": "stream",
     "text": [
      "Siz:  benim adım ne \n"
     ]
    },
    {
     "name": "stdout",
     "output_type": "stream",
     "text": [
      "Cevap: Bilmiyorum.\n",
      "Extraction Output: {}\n"
     ]
    },
    {
     "name": "stdin",
     "output_type": "stream",
     "text": [
      "Siz:  exit\n"
     ]
    },
    {
     "name": "stdout",
     "output_type": "stream",
     "text": [
      "Siparişleriniz: \n"
     ]
    },
    {
     "name": "stdin",
     "output_type": "stream",
     "text": [
      "Siparişleri onaylıyor musunuz? (Evet/Hayır):  hayır\n"
     ]
    },
    {
     "name": "stdout",
     "output_type": "stream",
     "text": [
      "Siparişler kaydedilmedi.\n"
     ]
    }
   ],
   "source": [
    "sohbet_et()"
   ]
  },
  {
   "cell_type": "code",
   "execution_count": null,
   "id": "284e4ad8-6246-488b-b744-30e43a108f52",
   "metadata": {},
   "outputs": [],
   "source": []
  },
  {
   "cell_type": "code",
   "execution_count": null,
   "id": "0b0c0374-75c6-4f6d-9332-15cb56b12007",
   "metadata": {},
   "outputs": [],
   "source": []
  },
  {
   "cell_type": "code",
   "execution_count": null,
   "id": "662dadcb-40de-434f-87a5-1ca549a4bd8f",
   "metadata": {},
   "outputs": [],
   "source": []
  },
  {
   "cell_type": "code",
   "execution_count": null,
   "id": "b587e5d2-a860-47a6-b70f-185a83c83c26",
   "metadata": {},
   "outputs": [],
   "source": []
  },
  {
   "cell_type": "code",
   "execution_count": null,
   "id": "552e67f7-c126-4e54-b340-e30a4ce8e3b0",
   "metadata": {},
   "outputs": [],
   "source": []
  },
  {
   "cell_type": "code",
   "execution_count": null,
   "id": "4e510ee7-afbe-426b-a160-dbc8c0e4d8b0",
   "metadata": {},
   "outputs": [],
   "source": []
  },
  {
   "cell_type": "code",
   "execution_count": null,
   "id": "41452746-d723-440a-9ea7-9f44980cc2f3",
   "metadata": {},
   "outputs": [],
   "source": []
  },
  {
   "cell_type": "code",
   "execution_count": null,
   "id": "65df29bc-522c-45b2-8068-aeed0de77b4d",
   "metadata": {},
   "outputs": [],
   "source": []
  },
  {
   "cell_type": "code",
   "execution_count": null,
   "id": "d0bb2dba-c5d6-4e84-a7ad-f188e776097b",
   "metadata": {},
   "outputs": [],
   "source": []
  },
  {
   "cell_type": "code",
   "execution_count": null,
   "id": "13d3d865-8a3f-4779-9fee-0a70d5e48d3c",
   "metadata": {},
   "outputs": [],
   "source": []
  },
  {
   "cell_type": "code",
   "execution_count": null,
   "id": "14e07dc1-f50a-4d16-8c70-8f24b0fdf84d",
   "metadata": {},
   "outputs": [],
   "source": []
  },
  {
   "cell_type": "code",
   "execution_count": null,
   "id": "55d867b8-5f1c-4506-a55d-98ec44f69312",
   "metadata": {},
   "outputs": [],
   "source": []
  },
  {
   "cell_type": "code",
   "execution_count": null,
   "id": "10038a8b-3cd0-4e3f-9933-79277e5d6e65",
   "metadata": {},
   "outputs": [],
   "source": []
  },
  {
   "cell_type": "code",
   "execution_count": null,
   "id": "73701280-425a-49a2-b9af-9f5ed64c0980",
   "metadata": {},
   "outputs": [],
   "source": []
  },
  {
   "cell_type": "code",
   "execution_count": null,
   "id": "c83e9248-e614-4b87-8dd4-5bdf02b1a0f3",
   "metadata": {},
   "outputs": [],
   "source": []
  },
  {
   "cell_type": "code",
   "execution_count": null,
   "id": "f8263e8c-ec8e-46f6-8d79-46f029f7a165",
   "metadata": {},
   "outputs": [],
   "source": []
  },
  {
   "cell_type": "code",
   "execution_count": 11,
   "id": "16589d10-039c-43c7-bda2-ecb756a69cd1",
   "metadata": {},
   "outputs": [
    {
     "name": "stdout",
     "output_type": "stream",
     "text": [
      "Elimdeki verilere göre neli pizzalar şunlardır:\n",
      "\n",
      "1. Etli Pizza: Jambon, tavuk, bacon, mozzarella, beyaz sos\n",
      "2. Peynirli Tavuk Pizza: Tavuk, cheddar, rokfor, mantar, sarımsak sos\n",
      "3. Margarita Pizza: Domates, mozzarella, fesleğen, zeytinyağı\n",
      "4. Acılı Deniz Pizza: Karides, somon, domates, mozzarella, beyaz sos\n",
      "\n",
      "Bu pizzaların içindekileri bu şekilde sıralayabiliriz.\n"
     ]
    }
   ],
   "source": [
    "question = \"neli pizzalarınız var \"\n",
    "response = rag_chain.invoke({\"query\": question})\n",
    "print(response[\"result\"])\n",
    "\n"
   ]
  },
  {
   "cell_type": "code",
   "execution_count": 12,
   "id": "c32f48ce-c102-4db8-a606-d7ca59f1d9ec",
   "metadata": {},
   "outputs": [
    {
     "name": "stdout",
     "output_type": "stream",
     "text": [
      "Pizzaların fiyatları şu şekildedir:\n",
      "- Etli Pizza: 145 TL\n",
      "- Peynirli Tavuk Pizza: 110 TL\n",
      "- Margarita Pizza: 85 TL\n",
      "- Acılı Deniz Pizza: 145 TL\n"
     ]
    }
   ],
   "source": [
    "question = \"pizzaların fiyatı nedir \"\n",
    "response = rag_chain.invoke({\"query\": question})\n",
    "print(response[\"result\"])"
   ]
  },
  {
   "cell_type": "code",
   "execution_count": 13,
   "id": "f7ecc414-fb2d-4b7b-aea7-7547df30fcc7",
   "metadata": {},
   "outputs": [],
   "source": [
    "from langchain.output_parsers import PydanticOutputParser\n",
    "from pydantic import BaseModel ,Field ,validator\n",
    "from typing import List\n",
    "from typing import Optional\n",
    "from langchain.chains import create_tagging_chain ,create_tagging_chain_pydantic"
   ]
  },
  {
   "cell_type": "code",
   "execution_count": 150,
   "id": "4713bca5-1330-4027-8dc6-dd32e314a3b1",
   "metadata": {
    "scrolled": true
   },
   "outputs": [
    {
     "name": "stdout",
     "output_type": "stream",
     "text": [
      "Collecting kor\n",
      "  Downloading kor-3.0.0-py3-none-any.whl.metadata (8.4 kB)\n",
      "Requirement already satisfied: langchain-core<0.4,>=0.3 in /Library/Frameworks/Python.framework/Versions/3.12/lib/python3.12/site-packages (from kor) (0.3.15)\n",
      "Requirement already satisfied: pandas<3,>=1.5.3 in /Library/Frameworks/Python.framework/Versions/3.12/lib/python3.12/site-packages (from kor) (2.2.3)\n",
      "Requirement already satisfied: pydantic<3,>=2 in /Library/Frameworks/Python.framework/Versions/3.12/lib/python3.12/site-packages (from kor) (2.9.2)\n",
      "Requirement already satisfied: PyYAML>=5.3 in /Library/Frameworks/Python.framework/Versions/3.12/lib/python3.12/site-packages (from langchain-core<0.4,>=0.3->kor) (6.0.2)\n",
      "Requirement already satisfied: jsonpatch<2.0,>=1.33 in /Library/Frameworks/Python.framework/Versions/3.12/lib/python3.12/site-packages (from langchain-core<0.4,>=0.3->kor) (1.33)\n",
      "Requirement already satisfied: langsmith<0.2.0,>=0.1.125 in /Library/Frameworks/Python.framework/Versions/3.12/lib/python3.12/site-packages (from langchain-core<0.4,>=0.3->kor) (0.1.139)\n",
      "Requirement already satisfied: packaging<25,>=23.2 in /Library/Frameworks/Python.framework/Versions/3.12/lib/python3.12/site-packages (from langchain-core<0.4,>=0.3->kor) (24.1)\n",
      "Requirement already satisfied: tenacity!=8.4.0,<10.0.0,>=8.1.0 in /Library/Frameworks/Python.framework/Versions/3.12/lib/python3.12/site-packages (from langchain-core<0.4,>=0.3->kor) (9.0.0)\n",
      "Requirement already satisfied: typing-extensions>=4.7 in /Library/Frameworks/Python.framework/Versions/3.12/lib/python3.12/site-packages (from langchain-core<0.4,>=0.3->kor) (4.12.2)\n",
      "Requirement already satisfied: numpy>=1.26.0 in /Library/Frameworks/Python.framework/Versions/3.12/lib/python3.12/site-packages (from pandas<3,>=1.5.3->kor) (1.26.4)\n",
      "Requirement already satisfied: python-dateutil>=2.8.2 in /Library/Frameworks/Python.framework/Versions/3.12/lib/python3.12/site-packages (from pandas<3,>=1.5.3->kor) (2.8.2)\n",
      "Requirement already satisfied: pytz>=2020.1 in /Library/Frameworks/Python.framework/Versions/3.12/lib/python3.12/site-packages (from pandas<3,>=1.5.3->kor) (2024.2)\n",
      "Requirement already satisfied: tzdata>=2022.7 in /Library/Frameworks/Python.framework/Versions/3.12/lib/python3.12/site-packages (from pandas<3,>=1.5.3->kor) (2024.2)\n",
      "Requirement already satisfied: annotated-types>=0.6.0 in /Library/Frameworks/Python.framework/Versions/3.12/lib/python3.12/site-packages (from pydantic<3,>=2->kor) (0.7.0)\n",
      "Requirement already satisfied: pydantic-core==2.23.4 in /Library/Frameworks/Python.framework/Versions/3.12/lib/python3.12/site-packages (from pydantic<3,>=2->kor) (2.23.4)\n",
      "Requirement already satisfied: jsonpointer>=1.9 in /Library/Frameworks/Python.framework/Versions/3.12/lib/python3.12/site-packages (from jsonpatch<2.0,>=1.33->langchain-core<0.4,>=0.3->kor) (3.0.0)\n",
      "Requirement already satisfied: httpx<1,>=0.23.0 in /Library/Frameworks/Python.framework/Versions/3.12/lib/python3.12/site-packages (from langsmith<0.2.0,>=0.1.125->langchain-core<0.4,>=0.3->kor) (0.27.2)\n",
      "Requirement already satisfied: orjson<4.0.0,>=3.9.14 in /Library/Frameworks/Python.framework/Versions/3.12/lib/python3.12/site-packages (from langsmith<0.2.0,>=0.1.125->langchain-core<0.4,>=0.3->kor) (3.10.11)\n",
      "Requirement already satisfied: requests<3,>=2 in /Library/Frameworks/Python.framework/Versions/3.12/lib/python3.12/site-packages (from langsmith<0.2.0,>=0.1.125->langchain-core<0.4,>=0.3->kor) (2.32.3)\n",
      "Requirement already satisfied: requests-toolbelt<2.0.0,>=1.0.0 in /Library/Frameworks/Python.framework/Versions/3.12/lib/python3.12/site-packages (from langsmith<0.2.0,>=0.1.125->langchain-core<0.4,>=0.3->kor) (1.0.0)\n",
      "Requirement already satisfied: six>=1.5 in /Library/Frameworks/Python.framework/Versions/3.12/lib/python3.12/site-packages (from python-dateutil>=2.8.2->pandas<3,>=1.5.3->kor) (1.16.0)\n",
      "Requirement already satisfied: anyio in /Library/Frameworks/Python.framework/Versions/3.12/lib/python3.12/site-packages (from httpx<1,>=0.23.0->langsmith<0.2.0,>=0.1.125->langchain-core<0.4,>=0.3->kor) (4.4.0)\n",
      "Requirement already satisfied: certifi in /Library/Frameworks/Python.framework/Versions/3.12/lib/python3.12/site-packages (from httpx<1,>=0.23.0->langsmith<0.2.0,>=0.1.125->langchain-core<0.4,>=0.3->kor) (2024.8.30)\n",
      "Requirement already satisfied: httpcore==1.* in /Library/Frameworks/Python.framework/Versions/3.12/lib/python3.12/site-packages (from httpx<1,>=0.23.0->langsmith<0.2.0,>=0.1.125->langchain-core<0.4,>=0.3->kor) (1.0.5)\n",
      "Requirement already satisfied: idna in /Library/Frameworks/Python.framework/Versions/3.12/lib/python3.12/site-packages (from httpx<1,>=0.23.0->langsmith<0.2.0,>=0.1.125->langchain-core<0.4,>=0.3->kor) (3.8)\n",
      "Requirement already satisfied: sniffio in /Library/Frameworks/Python.framework/Versions/3.12/lib/python3.12/site-packages (from httpx<1,>=0.23.0->langsmith<0.2.0,>=0.1.125->langchain-core<0.4,>=0.3->kor) (1.3.1)\n",
      "Requirement already satisfied: h11<0.15,>=0.13 in /Library/Frameworks/Python.framework/Versions/3.12/lib/python3.12/site-packages (from httpcore==1.*->httpx<1,>=0.23.0->langsmith<0.2.0,>=0.1.125->langchain-core<0.4,>=0.3->kor) (0.14.0)\n",
      "Requirement already satisfied: charset-normalizer<4,>=2 in /Library/Frameworks/Python.framework/Versions/3.12/lib/python3.12/site-packages (from requests<3,>=2->langsmith<0.2.0,>=0.1.125->langchain-core<0.4,>=0.3->kor) (3.3.2)\n",
      "Requirement already satisfied: urllib3<3,>=1.21.1 in /Library/Frameworks/Python.framework/Versions/3.12/lib/python3.12/site-packages (from requests<3,>=2->langsmith<0.2.0,>=0.1.125->langchain-core<0.4,>=0.3->kor) (2.2.2)\n",
      "Downloading kor-3.0.0-py3-none-any.whl (31 kB)\n",
      "Installing collected packages: kor\n",
      "Successfully installed kor-3.0.0\n"
     ]
    }
   ],
   "source": [
    "!pip install kor"
   ]
  },
  {
   "cell_type": "markdown",
   "id": "4419b27e-bce2-4cb2-98c9-14016e9f1e97",
   "metadata": {},
   "source": [
    "KOR SCHEMA"
   ]
  },
  {
   "cell_type": "code",
   "execution_count": 14,
   "id": "18d019c2-abab-4c20-9ce3-94031aa02bd8",
   "metadata": {},
   "outputs": [],
   "source": [
    "from kor.extraction import create_extraction_chain\n",
    "from kor.nodes import Object, Text, Number"
   ]
  },
  {
   "cell_type": "code",
   "execution_count": 15,
   "id": "e133749e-dbf6-453a-b57f-fb69a6e9d60b",
   "metadata": {},
   "outputs": [],
   "source": [
    "schema = Object(\n",
    "    id=\"menu_info\",\n",
    "    description=\"menu content if its ordered\",\n",
    "    attributes=[\n",
    "        Text(\n",
    "            id=\"name\",\n",
    "            description=\"menu items name if its ordered\",\n",
    "            examples=[\n",
    "                (\"ben etli pizza alayım\", \"etli pizza\"),\n",
    "                (\"iki latte istiyorum\", \"latte\"),\n",
    "                (\"hamburger verebilir misin\", \"hamburger\"),\n",
    "                (\"ızgara sipariş vermek istiyorum\", \"ızgara\"),\n",
    "                (\"bize çay yolla\", \"çay\"),\n",
    "                (\"salata sipariş ediyorum\", \"salata\")\n",
    "            ],\n",
    "        ),\n",
    "        Text(\n",
    "            id=\"non_name\",\n",
    "            description=\"menu items name if its not ordered\",\n",
    "            examples=[\n",
    "                (\"margarita pizzanın içinde ne var\", \"margarita pizza\"),\n",
    "                (\"latteniz var mı\", \"latte\"),\n",
    "                (\"lattede hangi süt kullanılıyor\", \"latte\"),\n",
    "                (\"hamburger çeşitleriniz nelerdir\", \"hamburger\")\n",
    "            ],\n",
    "        ),\n",
    "        Text(\n",
    "            id=\"quantity\",\n",
    "            description=\"Quantity of ordered menu item if its ordered\",\n",
    "            examples=[\n",
    "                (\"ben etli pizza alayım\", \"1\"),\n",
    "                (\"iki latte istiyorum\", \"2\"),\n",
    "            ],\n",
    "        ),\n",
    "    ],\n",
    "    examples=[\n",
    "        (\n",
    "            \"eğer içinde salata varsa ızgara menüsünü almak istiyorum\",\n",
    "            [{\"name\": \"ızgara menü\",\"quantity\":\"1\"}]\n",
    "        ),\n",
    "        (\n",
    "            \"hamburgerlerin içinde hangi çeşit et kullanıyorsunuz\",\n",
    "            [{\"non_name\": \"hamburger\"}]\n",
    "        ),\n",
    "        (\n",
    "            \"bize iki orta boy peynirli tavuk pizza yollar mısın\",\n",
    "            [{\"name\": \"peynirli tavuk pizza\",\"quantity\":\"2\"}]\n",
    "        ),\n",
    "    ],\n",
    "    many=True,\n",
    ")\n",
    "        \n",
    "                      \n",
    "                      "
   ]
  },
  {
   "cell_type": "code",
   "execution_count": 16,
   "id": "0e017d3e-40d4-48be-8105-00fe57e24e85",
   "metadata": {},
   "outputs": [
    {
     "data": {
      "text/plain": [
       "{'menu_info': [{'non_name': 'hamburger'}]}"
      ]
     },
     "execution_count": 16,
     "metadata": {},
     "output_type": "execute_result"
    }
   ],
   "source": [
    "user_input=\"2 adet çay istiyorum\"\n",
    "chain1=create_extraction_chain(llm,schema,encoder_or_encoder_class='json')\n",
    "chain1.invoke(\"hamburger çeşitleriniz nelerdir \")['data']"
   ]
  },
  {
   "cell_type": "code",
   "execution_count": 17,
   "id": "1678170f-08d3-49a7-9b2d-32f0b663ab8a",
   "metadata": {},
   "outputs": [
    {
     "data": {
      "text/plain": [
       "{'menu_info': [{'name': 'tavuklu pizza'}]}"
      ]
     },
     "execution_count": 17,
     "metadata": {},
     "output_type": "execute_result"
    }
   ],
   "source": [
    "chain1=create_extraction_chain(llm,schema,encoder_or_encoder_class='json')\n",
    "chain1.invoke(\" tavuklu pizzanın içinde barbekü sos varsa alayım\")['data']"
   ]
  },
  {
   "cell_type": "code",
   "execution_count": 18,
   "id": "59eddd83-f198-4777-99df-300b1159bf1e",
   "metadata": {},
   "outputs": [
    {
     "data": {
      "text/plain": [
       "{'menu_info': [{'non_name': 'acılı deniz pizza'}]}"
      ]
     },
     "execution_count": 18,
     "metadata": {},
     "output_type": "execute_result"
    }
   ],
   "source": [
    "chain1=create_extraction_chain(llm,schema,encoder_or_encoder_class='json')\n",
    "chain1.invoke(\"acılı deniz pizzanın içinde ne var\")['data']"
   ]
  },
  {
   "cell_type": "code",
   "execution_count": 19,
   "id": "d8fbdf07-7e5e-4120-a37c-ada2d48bec0d",
   "metadata": {},
   "outputs": [
    {
     "data": {
      "text/plain": [
       "{'menu_info': [{'non_name': 'çilekli tiramisu'}]}"
      ]
     },
     "execution_count": 19,
     "metadata": {},
     "output_type": "execute_result"
    }
   ],
   "source": [
    "chain1=create_extraction_chain(llm,schema,encoder_or_encoder_class='json')\n",
    "chain1.invoke(\"çilekli tiramisu var mı\")['data']"
   ]
  },
  {
   "cell_type": "code",
   "execution_count": 20,
   "id": "dae6cca3-572d-43ac-852f-abd62ca94c25",
   "metadata": {},
   "outputs": [
    {
     "data": {
      "text/plain": [
       "{'menu_info': [{'name': 'domates çorbası'}]}"
      ]
     },
     "execution_count": 20,
     "metadata": {},
     "output_type": "execute_result"
    }
   ],
   "source": [
    "chain1=create_extraction_chain(llm,schema,encoder_or_encoder_class='json')\n",
    "chain1.invoke(\"mercimek çorbası alacaktım ama vazgeçtim domates çorbası olsun\")['data']"
   ]
  },
  {
   "cell_type": "code",
   "execution_count": 21,
   "id": "8f75f080-ffd5-4835-92be-e8334344c935",
   "metadata": {},
   "outputs": [
    {
     "data": {
      "text/plain": [
       "{'menu_info': [{'non_name': 'hamburger'}]}"
      ]
     },
     "execution_count": 21,
     "metadata": {},
     "output_type": "execute_result"
    }
   ],
   "source": [
    "chain1=create_extraction_chain(llm,schema,encoder_or_encoder_class='json')\n",
    "chain1.invoke(\"hamburger çeşitleriniz nelerdir \")['data']"
   ]
  },
  {
   "cell_type": "code",
   "execution_count": 22,
   "id": "d5b1ae6e-107c-4f82-b660-b0e5f70f3940",
   "metadata": {},
   "outputs": [
    {
     "data": {
      "text/plain": [
       "{'menu_info': [{'name': 'latte', 'quantity': '2'}, {'name': 'etli pizza'}]}"
      ]
     },
     "execution_count": 22,
     "metadata": {},
     "output_type": "execute_result"
    }
   ],
   "source": [
    "chain1=create_extraction_chain(llm,schema,encoder_or_encoder_class='json')\n",
    "chain1.invoke(\"2 laktozsuz sütlü latte bir de etli pizza alayım\")['data']"
   ]
  },
  {
   "cell_type": "code",
   "execution_count": null,
   "id": "93eebef5-fa53-4fd5-850b-c123c42c0ef9",
   "metadata": {},
   "outputs": [],
   "source": []
  },
  {
   "cell_type": "code",
   "execution_count": 23,
   "id": "a6ddbc1c-d8cb-4293-b3b6-dc7584a99658",
   "metadata": {},
   "outputs": [],
   "source": [
    "extraction_chain = create_extraction_chain(\n",
    "    llm, \n",
    "    schema, \n",
    "    encoder_or_encoder_class='json' # Burada `llm` modeli `node` olarak atanır\n",
    ")"
   ]
  },
  {
   "cell_type": "code",
   "execution_count": 35,
   "id": "3c62a8fb-19ea-4aab-93eb-a8ebc443c94c",
   "metadata": {},
   "outputs": [],
   "source": [
    "def sohbet_et():\n",
    "    global siparisler\n",
    "    siparisler1 = []  # Her çağrıldığında siparişleri sıfırla\n",
    "    \n",
    "    # Geçmiş mesajları tutmak için listeyi sıfırdan başlat\n",
    "    gecmis_mesajlar1 = []\n",
    "    while True:\n",
    "        # Kullanıcıdan giriş al\n",
    "        cevap = input(\"Siz: \")\n",
    "        \n",
    "        # Çıkış komutu kontrolü\n",
    "        if cevap.lower() == \"exit\":\n",
    "            siparis_onayla(siparisler1)\n",
    "            break\n",
    "\n",
    "        gecmis_mesajlar1.append({\"role\": \"human\", \"content\": cevap})\n",
    "\n",
    "        \n",
    "        # RAG Chain ile menü sorularını cevapla\n",
    "        response = rag_chain.invoke({\"query\": cevap, \"messages\": gecmis_mesajlar1})\n",
    "\n",
    "        print(\"Cevap:\", response[\"result\"])\n",
    "        gecmis_mesajlar1.append({\"role\": \"assistant\", \"content\": response[\"result\"]})\n",
    "\n",
    "\n",
    "        \n",
    "        # Extraction Chain ile siparişleri al\n",
    "        extracted_data = extraction_chain.invoke({\"text\": cevap})[\"data\"]\n",
    "        print(\"Extraction Chain Output:\", extracted_data)\n",
    "        if \"menu_info\" in extracted_data:\n",
    "            for item in extracted_data[\"menu_info\"]:\n",
    "                if isinstance(item, dict) and 'name' in item:\n",
    "                    name = item.get('name', \"bilinmeyen\")\n",
    "                    quantity = item.get('quantity', \"1\")  # Varsayılan olarak quantity \"1\" olsun\n",
    "                    siparis = f\"{quantity} adet {name}\"\n",
    "                    siparisler1.append(siparis)\n",
    "                    print(\"Sipariş eklendi:\", siparis)\n",
    "\n"
   ]
  },
  {
   "cell_type": "code",
   "execution_count": 36,
   "id": "2f7ec9af-971f-40df-b770-8f0e53dbc017",
   "metadata": {},
   "outputs": [],
   "source": [
    "def siparis_onayla(siparisler):\n",
    "    if not siparisler:\n",
    "        print(\"Sipariş alınmadı.\")\n",
    "        return\n",
    "    \n",
    "    # Kullanıcıdan onay al\n",
    "    onay = input(\"Siparişler: {}. Onaylıyor musunuz? (evet/hayır): \".format(siparisler))\n",
    "    if onay.lower() == \"evet\":\n",
    "        with open(\"siparisler.txt\", \"w\") as f:\n",
    "            f.truncate(0)\n",
    "            for siparis in siparisler:\n",
    "                f.write(f\"{siparis}\\n\")\n",
    "        print(\"Siparişler kaydedildi.\")\n",
    "    else:\n",
    "        print(\"Siparişler iptal edildi.\")"
   ]
  },
  {
   "cell_type": "code",
   "execution_count": 42,
   "id": "0e13b43e-9af5-4066-bcff-f204b0d6790c",
   "metadata": {},
   "outputs": [
    {
     "name": "stdin",
     "output_type": "stream",
     "text": [
      "Siz:  etli pizza istiyorum 2 tane\n"
     ]
    },
    {
     "name": "stdout",
     "output_type": "stream",
     "text": [
      "Cevap: Etli pizza fiyatı 145 TL'dir. İki tanesi için toplam 290 TL ödemeniz gerekecek. Siparişinizi vermek ister misiniz?\n",
      "Extraction Chain Output: {'menu_info': [{'name': 'etli pizza', 'quantity': '2'}]}\n",
      "Sipariş eklendi: 2 adet etli pizza\n"
     ]
    },
    {
     "name": "stdin",
     "output_type": "stream",
     "text": [
      "Siz:  exit\n",
      "Siparişler: ['2 adet etli pizza']. Onaylıyor musunuz? (evet/hayır):  evet\n"
     ]
    },
    {
     "name": "stdout",
     "output_type": "stream",
     "text": [
      "Siparişler kaydedildi.\n"
     ]
    }
   ],
   "source": [
    "sohbet_et()\n"
   ]
  },
  {
   "cell_type": "code",
   "execution_count": 37,
   "id": "fc8a9ad9-fa29-4dda-9b69-2000f450281b",
   "metadata": {},
   "outputs": [
    {
     "name": "stdin",
     "output_type": "stream",
     "text": [
      "Siz:  neli pizzalarınız var \n"
     ]
    },
    {
     "name": "stdout",
     "output_type": "stream",
     "text": [
      "Cevap: Pizzalarınız arasında şu seçenekler bulunuyor:\n",
      "\n",
      "1. Etli Pizza - İçindekiler: Jambon, tavuk, bacon, mozzarella, beyaz sos - Fiyat: 145 TL\n",
      "2. Peynirli Tavuk Pizza - İçindekiler: Tavuk, cheddar, rokfor, mantar, sarımsak sos - Fiyat: 110 TL\n",
      "3. Margarita Pizza - İçindekiler: Domates, mozzarella, fesleğen, zeytinyağı - Fiyat: 85 TL\n",
      "4. Acili Deniz Pizza - İçindekiler: Karides, somon, domates, mozzarella, beyaz sos - Fiyat: 145 TL\n",
      "Extraction Chain Output: {'menu_info': [{'non_name': 'pizza'}]}\n"
     ]
    },
    {
     "name": "stdin",
     "output_type": "stream",
     "text": [
      "Siz:  etli pizzadan sonra hangi tatlıyı önerirsin \n"
     ]
    },
    {
     "name": "stdout",
     "output_type": "stream",
     "text": [
      "Cevap: Bilmiyorum.\n",
      "Extraction Chain Output: {'menu_info': [{'non_name': 'etli pizza'}]}\n"
     ]
    },
    {
     "name": "stdin",
     "output_type": "stream",
     "text": [
      "Siz:  hangi tatlılarınız var \n"
     ]
    },
    {
     "name": "stdout",
     "output_type": "stream",
     "text": [
      "Cevap: Mevcut tatlılar şunlardır:\n",
      "\n",
      "1. Cheesecake - Fiyat: 80 TL (İçindekiler: Krema peynir, biskuvi tabanı, meyve sosu)\n",
      "2. Tiramisu - Fiyat: 85 TL (İçindekiler: Mascarpone, espresso, özel bisküvi)\n",
      "3. Sufle - Fiyat: 65 TL (İçindekiler: Belçika çikolatası, tereyağı, un, yumurta)\n",
      "Extraction Chain Output: {'menu_info': []}\n"
     ]
    },
    {
     "name": "stdin",
     "output_type": "stream",
     "text": [
      "Siz:  o zaman 1 cheescake ekleyelim ama ana yemek konusunda kararsız kaldım \n"
     ]
    },
    {
     "name": "stdout",
     "output_type": "stream",
     "text": [
      "Cevap: Anladım, cheesecake eklemek istiyorsunuz. Ana yemek olarak ise ızgara tavuk ya da başka bir seçenek hakkında daha fazla bilgi almak ister misiniz? Düşündüğünüz başka bir yemek var mı?\n",
      "Extraction Chain Output: {'menu_info': [{'non_name': 'cheesecake'}]}\n"
     ]
    },
    {
     "name": "stdin",
     "output_type": "stream",
     "text": [
      "Siz:  1 adet cheescake alayım yanına ne ana yemekleriniz mevcut \n"
     ]
    },
    {
     "name": "stdout",
     "output_type": "stream",
     "text": [
      "Cevap: Menümüzdeki ana yemekler arasında ızgara tavuk bulunmaktadır. Bu yemek, ızgara tavuk göğsü ile sebze garnitürü ve sarımsaklı patates püresi ile sunulmaktadır.\n",
      "Extraction Chain Output: {'menu_info': [{'name': 'cheesecake', 'quantity': '1'}]}\n",
      "Sipariş eklendi: 1 adet cheesecake\n"
     ]
    },
    {
     "name": "stdin",
     "output_type": "stream",
     "text": [
      "Siz:  başka neler var \n"
     ]
    },
    {
     "name": "stdout",
     "output_type": "stream",
     "text": [
      "Cevap: Bu bağlamda başka yemek seçenekleri hakkında bilgi veremiyorum. Sadece belirtilen yemekler hakkında bilgi verdim. Başka bir şey sormak ister misiniz?\n",
      "Extraction Chain Output: {'menu_info': []}\n"
     ]
    },
    {
     "name": "stdin",
     "output_type": "stream",
     "text": [
      "Siz:  menüde hangi ana yemeklerin olduğunu bilmiyor musun \n"
     ]
    },
    {
     "name": "stdout",
     "output_type": "stream",
     "text": [
      "Cevap: Menüdeki ana yemekler şunlardır:\n",
      "\n",
      "1. Izgara Tavuk - Izgara tavuk göğsü, sebze garnitürü, sarımsaklı patates püresi; 130 TL\n",
      "2. Sebzeli Güveç - Fırınlanmış taze sebzeler, domates sos; 85 TL\n",
      "3. Somon Izgara - Taze limon soslu ızgara somon, ızgara sebzeler; 180 TL\n",
      "4. Antrikot - Özel marine edilmiş antrikot, közlenmiş sebzeler, patates püresi; 190 TL\n",
      "Extraction Chain Output: {'menu_info': []}\n"
     ]
    },
    {
     "name": "stdin",
     "output_type": "stream",
     "text": [
      "Siz:  sipariş ettiğim tatlıya uygun olan tatlı sence nedir\n"
     ]
    },
    {
     "name": "stdout",
     "output_type": "stream",
     "text": [
      "Cevap: Verdiğin bilgilere göre, sipariş ettiğin tatlıyı belirtmediğin için hangi tatlıya uygun olduğunu bilmiyorum. Hangi tatlıyı sipariş ettiğini belirtirsen, ona uygun olan tatlıyı söyleyebilirim.\n",
      "Extraction Chain Output: {'menu_info': [{'non_name': 'tatlı'}]}\n"
     ]
    },
    {
     "name": "stdin",
     "output_type": "stream",
     "text": [
      "Siz:  ben 2 de somon ızgara alayım o zaman \n"
     ]
    },
    {
     "name": "stdout",
     "output_type": "stream",
     "text": [
      "Cevap: Somon ızgara 180 TL'dir. Siparişinizi almak için başka bir isteğiniz var mı?\n",
      "Extraction Chain Output: {'menu_info': [{'name': 'ızgara', 'quantity': '2'}]}\n",
      "Sipariş eklendi: 2 adet ızgara\n"
     ]
    },
    {
     "name": "stdin",
     "output_type": "stream",
     "text": [
      "Siz:  exit\n",
      "Siparişler: ['1 adet cheesecake', '2 adet ızgara']. Onaylıyor musunuz? (evet/hayır):  evet\n"
     ]
    },
    {
     "name": "stdout",
     "output_type": "stream",
     "text": [
      "Siparişler kaydedildi.\n"
     ]
    }
   ],
   "source": [
    "sohbet_et()"
   ]
  },
  {
   "cell_type": "code",
   "execution_count": 27,
   "id": "6d3d935d-9434-4c3b-9022-1a28976ea385",
   "metadata": {},
   "outputs": [
    {
     "name": "stdin",
     "output_type": "stream",
     "text": [
      "Siz:  2 sufle 1 etli pizza almak istiyorum \n"
     ]
    },
    {
     "name": "stdout",
     "output_type": "stream",
     "text": [
      "Cevap: Üzgünüm, ancak sufle ile ilgili bir bilgi bulunmamaktadır. Sadece pizzalar hakkında bilgi verebiliyorum. Etli pizza fiyatı 145 TL'dir. Başka bir şeyle yardımcı olabilir miyim?\n",
      "Extraction Chain Output: {'menu_info': [{'name': 'sufle', 'quantity': '2'}, {'name': 'etli pizza'}]}\n",
      "Sipariş eklendi: 2 adet sufle\n",
      "Sipariş eklendi: 1 adet etli pizza\n"
     ]
    },
    {
     "name": "stdin",
     "output_type": "stream",
     "text": [
      "Siz:  exit\n",
      "Siparişler: ['2 adet sufle', '1 adet etli pizza']. Onaylıyor musunuz? (evet/hayır):  evet\n"
     ]
    },
    {
     "name": "stdout",
     "output_type": "stream",
     "text": [
      "Siparişler kaydedildi.\n"
     ]
    }
   ],
   "source": [
    "sohbet_et()"
   ]
  },
  {
   "cell_type": "code",
   "execution_count": 28,
   "id": "c6e20dfd-5415-46ae-82d9-19a47b371158",
   "metadata": {},
   "outputs": [
    {
     "name": "stdin",
     "output_type": "stream",
     "text": [
      "Siz:  2 margarita pizza almak istiyorum \n"
     ]
    },
    {
     "name": "stdout",
     "output_type": "stream",
     "text": [
      "Cevap: Margarita pizza fiyatı 85 TL. İki adet margarita pizza almak istediğinizde toplam fiyat 170 TL olacaktır. Siparişinizi onaylıyor musunuz?\n",
      "Extraction Chain Output: {'menu_info': [{'name': 'margarita pizza', 'quantity': '2'}]}\n",
      "Sipariş eklendi: 2 adet margarita pizza\n"
     ]
    },
    {
     "name": "stdin",
     "output_type": "stream",
     "text": [
      "Siz:  ben az önce ne dedim \n"
     ]
    },
    {
     "name": "stdout",
     "output_type": "stream",
     "text": [
      "Cevap: Bilmiyorum.\n",
      "Extraction Chain Output: {}\n"
     ]
    },
    {
     "name": "stdin",
     "output_type": "stream",
     "text": [
      "Siz:  neli pizza ekledim?\n"
     ]
    },
    {
     "name": "stdout",
     "output_type": "stream",
     "text": [
      "Cevap: Eklediğiniz pizzaların içerikleri şunlardır: \n",
      "\n",
      "1. Peynirli Tavuk Pizza: Tavuk, cheddar, rokfor, mantar, sarımsak sos\n",
      "2. Etli Pizza: Jambon, tavuk, bacon, mozzarella, beyaz sos\n",
      "3. Acili Deniz Pizza: Karides, somon, domates, mozzarella, beyaz sos\n",
      "4. Margarita Pizza: Domates, mozzarella, fesleğen, zeytinyağı\n",
      "\n",
      "Bu pizzalarda çeşitli malzemeler bulunmaktadır. Hangi pizzayı eklediğinizi belirtirseniz, o pizza hakkında daha fazla bilgi verebilirim.\n",
      "Extraction Chain Output: {'menu_info': [{'non_name': 'pizza'}]}\n"
     ]
    },
    {
     "name": "stdin",
     "output_type": "stream",
     "text": [
      "Siz:  exit\n",
      "Siparişler: ['2 adet margarita pizza']. Onaylıyor musunuz? (evet/hayır):  evet\n"
     ]
    },
    {
     "name": "stdout",
     "output_type": "stream",
     "text": [
      "Siparişler kaydedildi.\n"
     ]
    }
   ],
   "source": [
    "sohbet_et()"
   ]
  },
  {
   "cell_type": "code",
   "execution_count": 30,
   "id": "f4d98157-60b9-42b4-a013-d7459c5ea8a5",
   "metadata": {},
   "outputs": [
    {
     "name": "stdin",
     "output_type": "stream",
     "text": [
      "Siz:  neli hamburgerleriniz var\n"
     ]
    },
    {
     "name": "stdout",
     "output_type": "stream",
     "text": [
      "Cevap: Hamburgerlerimiz arasında şunlar bulunmaktadır:\n",
      "\n",
      "1. Acili Burger - Dana köfte\n",
      "2. Siyah Burger - Siyah fasulye köftesi\n",
      "3. Tavuk Burger - Çıtır tavuk\n",
      "4. Cheeseburger - Dana köfte\n",
      "\n",
      "Her bir hamburgerin içindekiler farklıdır.\n",
      "Extraction Chain Output: {'menu_info': [{'non_name': 'hamburger'}]}\n"
     ]
    },
    {
     "name": "stdin",
     "output_type": "stream",
     "text": [
      "Siz:  ben bir tavuk burger yanına da iki acili burger alayım \n"
     ]
    },
    {
     "name": "stdout",
     "output_type": "stream",
     "text": [
      "Cevap: Tavuk Burger'in fiyatı 100 TL, Acili Burger'in fiyatı ise 120 TL. İki Acili Burger alırsanız toplam fiyat şöyle olacaktır:\n",
      "\n",
      "Tavuk Burger: 100 TL\n",
      "2 Acili Burger: 2 x 120 TL = 240 TL\n",
      "\n",
      "Toplam: 100 TL + 240 TL = 340 TL\n",
      "\n",
      "Yani, toplamda 340 TL ödemeniz gerekecek.\n",
      "Extraction Chain Output: {'menu_info': [{'name': 'tavuk burger', 'quantity': '1'}, {'name': 'acili burger', 'quantity': '2'}]}\n",
      "Sipariş eklendi: 1 adet tavuk burger\n",
      "Sipariş eklendi: 2 adet acili burger\n"
     ]
    },
    {
     "name": "stdin",
     "output_type": "stream",
     "text": [
      "Siz:  exit\n",
      "Siparişler: ['1 adet tavuk burger', '2 adet acili burger']. Onaylıyor musunuz? (evet/hayır):  evet\n"
     ]
    },
    {
     "name": "stdout",
     "output_type": "stream",
     "text": [
      "Siparişler kaydedildi.\n"
     ]
    }
   ],
   "source": [
    "sohbet_et()"
   ]
  },
  {
   "cell_type": "code",
   "execution_count": 31,
   "id": "55ec264f-97f7-4b7f-b747-154b757e3e75",
   "metadata": {},
   "outputs": [
    {
     "name": "stdin",
     "output_type": "stream",
     "text": [
      "Siz:  acili hamburgeriniz var mı \n"
     ]
    },
    {
     "name": "stdout",
     "output_type": "stream",
     "text": [
      "Cevap: Evet, Acili Burger mevcut. Fiyatı 120 TL. İçindekiler arasında dana köfte, jalapenos, acı sos, cheddar ve marul bulunuyor.\n",
      "Extraction Chain Output: {'menu_info': [{'non_name': 'acılı hamburger'}]}\n"
     ]
    },
    {
     "name": "stdin",
     "output_type": "stream",
     "text": [
      "Siz:  içinde başka bir şey var mı \n"
     ]
    },
    {
     "name": "stdout",
     "output_type": "stream",
     "text": [
      "Cevap: Verilen bilgide yalnızca \"izgara tavuk göğsü\" ve yanında \"sebze garnituru, sarımsaklı patates püresi\" bulunmaktadır. Başka bir şey olup olmadığına dair bir bilgi yok.\n",
      "Extraction Chain Output: {'menu_info': []}\n"
     ]
    },
    {
     "name": "stdin",
     "output_type": "stream",
     "text": [
      "Siz:  ben o zaman onu sipariş etmek istiyorum \n"
     ]
    },
    {
     "name": "stdout",
     "output_type": "stream",
     "text": [
      "Cevap: Hangi ürünü sipariş etmek istediğinizi belirtmediniz. Lütfen sipariş etmek istediğiniz ürünün adını yazın.\n",
      "Extraction Chain Output: {'menu_info': []}\n"
     ]
    },
    {
     "name": "stdin",
     "output_type": "stream",
     "text": [
      "Siz:  son söylediğim ürünü sipariş etmek istiyorum \n"
     ]
    },
    {
     "name": "stdout",
     "output_type": "stream",
     "text": [
      "Cevap: Üzgünüm, ancak hangi ürünü sipariş etmek istediğinizi belirtmediniz. Lütfen son söylediğiniz ürünün adını veya detaylarını paylaşın, böylece size daha iyi yardımcı olabilirim.\n",
      "Extraction Chain Output: {'menu_info': []}\n"
     ]
    },
    {
     "name": "stdin",
     "output_type": "stream",
     "text": [
      "Siz:  acili burger sipariş etmek istiyorum \n"
     ]
    },
    {
     "name": "stdout",
     "output_type": "stream",
     "text": [
      "Cevap: Acili Burger sipariş edebilirsiniz. Fiyatı 120 TL. İçindekiler: jalapenos, acı sos, cheddar, marul.\n",
      "Extraction Chain Output: {'menu_info': [{'name': 'acili burger'}]}\n",
      "Sipariş eklendi: 1 adet acili burger\n"
     ]
    },
    {
     "name": "stdin",
     "output_type": "stream",
     "text": [
      "Siz:  2 olsun \n"
     ]
    },
    {
     "name": "stdout",
     "output_type": "stream",
     "text": [
      "Cevap: Bilmiyorum.\n",
      "Extraction Chain Output: {'menu_info': []}\n"
     ]
    },
    {
     "name": "stdin",
     "output_type": "stream",
     "text": [
      "Siz:  exit\n",
      "Siparişler: ['1 adet acili burger']. Onaylıyor musunuz? (evet/hayır):  evet\n"
     ]
    },
    {
     "name": "stdout",
     "output_type": "stream",
     "text": [
      "Siparişler kaydedildi.\n"
     ]
    }
   ],
   "source": [
    "sohbet_et()"
   ]
  },
  {
   "cell_type": "code",
   "execution_count": 38,
   "id": "afaee845-8fd2-4053-bfb2-84b4c28d343f",
   "metadata": {},
   "outputs": [
    {
     "name": "stdin",
     "output_type": "stream",
     "text": [
      "Siz:  acılı bir şeyler yemek istiyorum ne önerirsin\n"
     ]
    },
    {
     "name": "stdout",
     "output_type": "stream",
     "text": [
      "Cevap: Üzgünüm, acılı bir yemek önerisi için elimde bilgi yok.\n",
      "Extraction Chain Output: {'menu_info': []}\n"
     ]
    },
    {
     "name": "stdin",
     "output_type": "stream",
     "text": [
      "Siz:  başlangıçlar neler\n"
     ]
    },
    {
     "name": "stdout",
     "output_type": "stream",
     "text": [
      "Cevap: Başlangıçlar şunlardır:\n",
      "\n",
      "1. Nachos - El yapımı tortilla cips, içerik: cheddar, yeşil soğan, jalapenos, siyah zeytin; fiyat: 120 TL\n",
      "2. Tavuk Kanatları - Pane tavuk kanatları, sos seçenekleri: BBQ, hardal, ketçap, mayonez; fiyat: 125 TL\n",
      "3. Sebzeli Spring Roll - İçerik: havuç, kabak, lahana, pirinç yufkası, tatlı ekşi sos; fiyat: 70 TL\n",
      "4. Karides Tava - Jumbo karides, içerik: sarımsak, tereyağı, limon suyu, baharatlar; fiyat: 150 TL\n",
      "Extraction Chain Output: {'menu_info': []}\n"
     ]
    },
    {
     "name": "stdin",
     "output_type": "stream",
     "text": [
      "Siz:  2 tane karides tava istiyorum \n"
     ]
    },
    {
     "name": "stdout",
     "output_type": "stream",
     "text": [
      "Cevap: 2 tane karides tava toplamda 300 TL olacaktır.\n",
      "Extraction Chain Output: {'menu_info': [{'name': 'karides tava', 'quantity': '2'}]}\n",
      "Sipariş eklendi: 2 adet karides tava\n"
     ]
    },
    {
     "name": "stdin",
     "output_type": "stream",
     "text": [
      "Siz:  exit\n",
      "Siparişler: ['2 adet karides tava']. Onaylıyor musunuz? (evet/hayır):  evet\n"
     ]
    },
    {
     "name": "stdout",
     "output_type": "stream",
     "text": [
      "Siparişler kaydedildi.\n"
     ]
    }
   ],
   "source": [
    "sohbet_et()"
   ]
  },
  {
   "cell_type": "code",
   "execution_count": 39,
   "id": "5f3e1bec-2c86-4d5d-b264-69769c1ccfae",
   "metadata": {},
   "outputs": [
    {
     "name": "stdin",
     "output_type": "stream",
     "text": [
      "Siz:  çorba sipariş etmek istiyorum\n"
     ]
    },
    {
     "name": "stdout",
     "output_type": "stream",
     "text": [
      "Cevap: Hangi çorbayı sipariş etmek istediğinizi belirtir misiniz? Seçenekler:\n",
      "\n",
      "1. Balkabağı Çorbası - 55 TL\n",
      "2. Kremalı Mantar Çorbası - 45 TL\n",
      "3. Domates Çorbası - 40 TL\n",
      "4. Mercimek Çorbası - 40 TL\n",
      "Extraction Chain Output: {'menu_info': [{'name': 'çorba'}]}\n",
      "Sipariş eklendi: 1 adet çorba\n"
     ]
    },
    {
     "name": "stdin",
     "output_type": "stream",
     "text": [
      "Siz:  ezogelin var mı\n"
     ]
    },
    {
     "name": "stdout",
     "output_type": "stream",
     "text": [
      "Cevap: Bilmiyorum.\n",
      "Extraction Chain Output: {'menu_info': [{'non_name': 'ezogelin'}]}\n"
     ]
    },
    {
     "name": "stdin",
     "output_type": "stream",
     "text": [
      "Siz:  çorbalar ilgimi çekmedi ben bi falçafel alıyım\n"
     ]
    },
    {
     "name": "stdout",
     "output_type": "stream",
     "text": [
      "Cevap: Falafel Tabagi almayı düşünüyorsanız, başlangıçlar kategorisinde de mevcut. Hem humus, tahin sosu ve salata ile birlikte geliyor. Fiyatı 75 TL. Ana yemek olarak da falafel tabagını tercih edebilirsiniz, içinde falafel köfteleri, humus ve tahin sosu var, yine fiyatı 75 TL. Hangi birini almak istersiniz?\n",
      "Extraction Chain Output: {'menu_info': [{'name': 'falçafel'}]}\n",
      "Sipariş eklendi: 1 adet falçafel\n"
     ]
    },
    {
     "name": "stdin",
     "output_type": "stream",
     "text": [
      "Siz:  ana yemek olanı\n"
     ]
    },
    {
     "name": "stdout",
     "output_type": "stream",
     "text": [
      "Cevap: Ana yemekler şunlardır:\n",
      "\n",
      "1. Antrikot - 190 TL (özel marine edilmiş antrikot, kozlenmiş sebzeler, patates püresi)\n",
      "2. Izgara Tavuk - 130 TL (ızgara tavuk göğsü, sebze garnitürü, sarımsaklı patates püresi)\n",
      "3. Sebzeli Güveç - 85 TL (fırınlanmış taze sebzeler, domates sos)\n",
      "4. Somon Izgara - 180 TL (taze limon soslu ızgara somon, ızgara sebzeler)\n",
      "Extraction Chain Output: {'menu_info': [{'non_name': 'ana yemek'}]}\n"
     ]
    },
    {
     "name": "stdin",
     "output_type": "stream",
     "text": [
      "Siz:  hesap nedir\n"
     ]
    },
    {
     "name": "stdout",
     "output_type": "stream",
     "text": [
      "Cevap: Hesap, bir işlemin, mal veya hizmetin toplam maliyetini belirlemek için yapılan toplama veya çıkarma işlemi anlamına gelir. Restoranlarda, hesap genellikle yediğiniz yemeklerin ve içeceklerin toplam fiyatını içerir. Eğer daha spesifik bir bağlamda sormak istiyorsanız, lütfen belirtin.\n",
      "Extraction Chain Output: {}\n"
     ]
    },
    {
     "name": "stdin",
     "output_type": "stream",
     "text": [
      "Siz:  hesap ne kadar\n"
     ]
    },
    {
     "name": "stdout",
     "output_type": "stream",
     "text": [
      "Cevap: Hangi ürünlerin toplamını almak istediğinizi belirtmezseniz, toplam hesaplamayı yapamam. Lütfen almak istediğiniz ürünleri belirtin.\n",
      "Extraction Chain Output: {}\n"
     ]
    },
    {
     "name": "stdin",
     "output_type": "stream",
     "text": [
      "Siz:  sipariş ettiğim ürünlerin fiyatı ne kadar\n"
     ]
    },
    {
     "name": "stdout",
     "output_type": "stream",
     "text": [
      "Cevap: Bu konuda kesin bir bilgi veremiyorum çünkü sipariş ettiğiniz ürünlerin fiyatları hakkında bilgi yok.\n",
      "Extraction Chain Output: {'menu_info': []}\n"
     ]
    },
    {
     "name": "stdin",
     "output_type": "stream",
     "text": [
      "Siz:  falafel istemiştim\n"
     ]
    },
    {
     "name": "stdout",
     "output_type": "stream",
     "text": [
      "Cevap: Falafel Tabakları hem ana yemekler hem de başlangıçlar kategorisinde mevcut. Ana yemekler için fiyatı 75 TL, içindekiler falafel köfteleri, humus ve tahin sos. Başlangıçlar için de fiyatı 75 TL, içindekiler falafel köftesi, humus, tahin sos ve salata. Hangi seçenekle ilgileniyorsunuz?\n",
      "Extraction Chain Output: {'menu_info': [{'name': 'falafel'}]}\n",
      "Sipariş eklendi: 1 adet falafel\n"
     ]
    },
    {
     "name": "stdin",
     "output_type": "stream",
     "text": [
      "Siz:  hesabı alıyım\n"
     ]
    },
    {
     "name": "stdout",
     "output_type": "stream",
     "text": [
      "Cevap: Üzgünüm, hesabınızı çıkarmak için gerekli bilgilere sahip değilim. Hangi ürünleri aldığınızı belirtirseniz, toplam fiyatı hesaplamaya yardımcı olabilirim.\n",
      "Extraction Chain Output: {}\n"
     ]
    },
    {
     "name": "stdin",
     "output_type": "stream",
     "text": [
      "Siz:  ayran istiyorum\n"
     ]
    },
    {
     "name": "stdout",
     "output_type": "stream",
     "text": [
      "Cevap: Üzgünüm, ayran ile ilgili bir bilgiye sahip değilim.\n",
      "Extraction Chain Output: {'menu_info': [{'name': 'ayran'}]}\n",
      "Sipariş eklendi: 1 adet ayran\n"
     ]
    },
    {
     "name": "stdin",
     "output_type": "stream",
     "text": [
      "Siz:  domates çorbası alıyım\n"
     ]
    },
    {
     "name": "stdout",
     "output_type": "stream",
     "text": [
      "Cevap: Domates çorbası fiyatı 40 TL'dir. Almak isterseniz, sipariş verebilirsiniz.\n",
      "Extraction Chain Output: {'menu_info': [{'name': 'domates çorbası'}]}\n",
      "Sipariş eklendi: 1 adet domates çorbası\n"
     ]
    },
    {
     "name": "stdin",
     "output_type": "stream",
     "text": [
      "Siz:  exit\n",
      "Siparişler: ['1 adet çorba', '1 adet falçafel', '1 adet falafel', '1 adet ayran', '1 adet domates çorbası']. Onaylıyor musunuz? (evet/hayır):  hayır\n"
     ]
    },
    {
     "name": "stdout",
     "output_type": "stream",
     "text": [
      "Siparişler iptal edildi.\n"
     ]
    }
   ],
   "source": [
    "sohbet_et()"
   ]
  },
  {
   "cell_type": "code",
   "execution_count": 41,
   "id": "334a087a-a388-4db8-82dc-c4f4507c7586",
   "metadata": {},
   "outputs": [
    {
     "name": "stdin",
     "output_type": "stream",
     "text": [
      "Siz:  ana yemekkleriniz nelerdir \n"
     ]
    },
    {
     "name": "stdout",
     "output_type": "stream",
     "text": [
      "Cevap: Ana yemeklerimiz şunlardır:\n",
      "\n",
      "1. Izgara Tavuk - Izgara tavuk göğsü, sebze garnitürü, sarımsaklı patates püresi; Fiyat: 130 TL\n",
      "2. Antrikot - Özel marine edilmiş antrikot, közlenmiş sebzeler, patates püresi; Fiyat: 190 TL\n",
      "3. Sebzeli Güveç - Fırınlanmış taze sebzeler, domates sos; Fiyat: 85 TL\n",
      "4. Somon Izgara - Taze limon soslu ızgara somon, ızgara sebzeler; Fiyat: 180 TL\n",
      "Extraction Chain Output: {'menu_info': []}\n"
     ]
    },
    {
     "name": "stdin",
     "output_type": "stream",
     "text": [
      "Siz:  sebzeli güveç istiyorum \n"
     ]
    },
    {
     "name": "stdout",
     "output_type": "stream",
     "text": [
      "Cevap: Sebzeli güveç fiyatı 85 TL'dir.\n",
      "Extraction Chain Output: {'menu_info': [{'name': 'sebzeli güveç'}]}\n",
      "Sipariş eklendi: 1 adet sebzeli güveç\n"
     ]
    },
    {
     "name": "stdin",
     "output_type": "stream",
     "text": [
      "Siz:  kadayıf var mı \n"
     ]
    },
    {
     "name": "stdout",
     "output_type": "stream",
     "text": [
      "Cevap: Bilmiyorum.\n",
      "Extraction Chain Output: {'menu_info': [{'non_name': 'kadayıf'}]}\n"
     ]
    },
    {
     "name": "stdin",
     "output_type": "stream",
     "text": [
      "Siz:  tarhana istiyodum vazgeçtim domates çorbası alayım \n"
     ]
    },
    {
     "name": "stdout",
     "output_type": "stream",
     "text": [
      "Cevap: Domates çorbasının fiyatı 40 TL. İçindekiler: Domates salçası, soğan, sarımsak, un, süt, sebze suyu, tereyağı, tuz, karabiber, fesleğen. Sipariş vermek isterseniz, yardımcı olabilirim.\n",
      "Extraction Chain Output: {'menu_info': [{'name': 'domates çorbası'}]}\n",
      "Sipariş eklendi: 1 adet domates çorbası\n"
     ]
    },
    {
     "name": "stdin",
     "output_type": "stream",
     "text": [
      "Siz:  exit\n",
      "Siparişler: ['1 adet sebzeli güveç', '1 adet domates çorbası']. Onaylıyor musunuz? (evet/hayır):  evet\n"
     ]
    },
    {
     "name": "stdout",
     "output_type": "stream",
     "text": [
      "Siparişler kaydedildi.\n"
     ]
    }
   ],
   "source": [
    "sohbet_et()"
   ]
  },
  {
   "cell_type": "code",
   "execution_count": null,
   "id": "749fd122-5f28-4da9-9fca-dccba7247ee9",
   "metadata": {},
   "outputs": [],
   "source": []
  },
  {
   "cell_type": "code",
   "execution_count": null,
   "id": "c3faa303-5e65-4e34-964f-c9b9b9bea848",
   "metadata": {},
   "outputs": [],
   "source": []
  },
  {
   "cell_type": "code",
   "execution_count": null,
   "id": "e7cc67be-298f-4d8c-9597-496bdc73d60b",
   "metadata": {},
   "outputs": [],
   "source": []
  },
  {
   "cell_type": "code",
   "execution_count": 144,
   "id": "7c71c1b1-4173-4da6-947d-c11bd35b1f75",
   "metadata": {},
   "outputs": [],
   "source": [
    "class siparis_info(BaseModel):\n",
    "    sip_name:str =Field(description=\"name of the thing ordered menu content if its ordered \")\n",
    "    non_sip_name:str=Field(description=\"name of the menu content asked for information\")\n",
    "    sip_count:str=Field(description=\"count of the thing ordered or wanted not asked\")\n",
    "    non_sip_count:str=Field(description=\"count of the menu content asked for information\")"
   ]
  },
  {
   "cell_type": "code",
   "execution_count": 145,
   "id": "0436535c-03f6-44d4-a56d-48cd02fda8f5",
   "metadata": {},
   "outputs": [],
   "source": [
    "chain=llm.with_structured_output(siparis_info)"
   ]
  },
  {
   "cell_type": "raw",
   "id": "c6bb3743-0f25-4e91-9106-3614db71b522",
   "metadata": {},
   "source": []
  },
  {
   "cell_type": "code",
   "execution_count": 146,
   "id": "868902fb-ac30-412f-966a-01813acf303a",
   "metadata": {},
   "outputs": [],
   "source": [
    "res=chain.invoke(\"whats in margatia pizza\")"
   ]
  },
  {
   "cell_type": "code",
   "execution_count": 147,
   "id": "49701044-8d9c-4823-8987-40aef6adb33f",
   "metadata": {},
   "outputs": [
    {
     "data": {
      "text/plain": [
       "siparis_info(sip_name='margatia pizza', non_sip_name='margarita pizza', sip_count='1', non_sip_count='1')"
      ]
     },
     "execution_count": 147,
     "metadata": {},
     "output_type": "execute_result"
    }
   ],
   "source": [
    "res                    "
   ]
  },
  {
   "cell_type": "code",
   "execution_count": 112,
   "id": "4e71b329-d962-42a2-a1c1-847673e1da6c",
   "metadata": {},
   "outputs": [
    {
     "data": {
      "text/plain": [
       "[HumanMessage(content='you are a waiter and the customers will talk to you about the menu conversation :\\'\\'\\'pizza çeşitleriniz nelerdir ? eğer varsa 2 margarita  pizza alamak istiyorum\\'\\'\\' during these conversations everything they ask you about the menu is not an order you need to understand what is being ordered and you need to separate them \\nThe output should be formatted as a JSON instance that conforms to the JSON schema below.\\n\\nAs an example, for the schema {\"properties\": {\"foo\": {\"title\": \"Foo\", \"description\": \"a list of strings\", \"type\": \"array\", \"items\": {\"type\": \"string\"}}}, \"required\": [\"foo\"]}\\nthe object {\"foo\": [\"bar\", \"baz\"]} is a well-formatted instance of the schema. The object {\"properties\": {\"foo\": [\"bar\", \"baz\"]}} is not well-formatted.\\n\\nHere is the output schema:\\n```\\n{\"properties\": {\"sip_name\": {\"description\": \"name of the thing ordered\", \"title\": \"Sip Name\", \"type\": \"string\"}, \"sip_count\": {\"description\": \"count of the thing ordered\", \"title\": \"Sip Count\", \"type\": \"string\"}}, \"required\": [\"sip_name\", \"sip_count\"]}\\n```', additional_kwargs={}, response_metadata={})]"
      ]
     },
     "execution_count": 112,
     "metadata": {},
     "output_type": "execute_result"
    }
   ],
   "source": [
    "messages"
   ]
  },
  {
   "cell_type": "code",
   "execution_count": 113,
   "id": "7c95c896-a0be-4dee-b664-e0fa803aba5d",
   "metadata": {},
   "outputs": [],
   "source": [
    "output=llm.invoke(messages)"
   ]
  },
  {
   "cell_type": "code",
   "execution_count": 114,
   "id": "7e71ee19-737f-430a-9bff-42b642a7a3d6",
   "metadata": {},
   "outputs": [
    {
     "data": {
      "text/plain": [
       "'```json\\n{\"sip_name\":\"margarita pizza\",\"sip_count\":\"2\"}\\n```'"
      ]
     },
     "execution_count": 114,
     "metadata": {},
     "output_type": "execute_result"
    }
   ],
   "source": [
    "output.content"
   ]
  },
  {
   "cell_type": "code",
   "execution_count": 115,
   "id": "9591ea4a-6cb4-4370-9e55-4dd2391c7bf9",
   "metadata": {},
   "outputs": [],
   "source": [
    "messages=prompt.format_messages(konusma=\"margarita pizzanın içinde neler var\",\n",
    "                                format_instructions=format_instructions)"
   ]
  },
  {
   "cell_type": "code",
   "execution_count": 116,
   "id": "be05a4dd-ce19-42d0-9c46-78abba2a0336",
   "metadata": {},
   "outputs": [
    {
     "data": {
      "text/plain": [
       "'```json\\n{\"sip_name\":\"Margarita Pizza\",\"sip_count\":\"1\"}\\n```'"
      ]
     },
     "execution_count": 116,
     "metadata": {},
     "output_type": "execute_result"
    }
   ],
   "source": [
    "output=llm.invoke(messages)\n",
    "output.content"
   ]
  },
  {
   "cell_type": "code",
   "execution_count": null,
   "id": "a831f159-cb92-49fa-9919-6c5f9ca3d9e0",
   "metadata": {},
   "outputs": [],
   "source": []
  },
  {
   "cell_type": "code",
   "execution_count": 44,
   "id": "a00883fc-2e21-488e-9c3d-056b3f9428ac",
   "metadata": {},
   "outputs": [],
   "source": [
    "class SiparisHafizasi:\n",
    "    def __init__(self):\n",
    "        self.siparisler = []\n",
    "\n",
    "    def siparis_ekle(self, siparis):\n",
    "        self.siparisler.append(siparis)\n",
    "\n",
    "    def siparisleri_al(self):\n",
    "        return self.siparisler\n",
    "\n",
    "    def hafizayi_temizle(self):\n",
    "        self.siparisler = []"
   ]
  },
  {
   "cell_type": "code",
   "execution_count": 78,
   "id": "6f1a1576-5790-46ab-baf2-9fc7bbd6801f",
   "metadata": {},
   "outputs": [],
   "source": [
    "def siparis_algilama_tool(mesaj):\n",
    "    response = llm_chain.run(mesaj)\n",
    "    # LLM çıktısını kontrol et ve düzenle\n",
    "    if \"sipariş\" in response.lower():\n",
    "        return response.strip()\n",
    "    else:\n",
    "        return None  # Sipariş algılanmazsa None döndür"
   ]
  },
  {
   "cell_type": "code",
   "execution_count": 79,
   "id": "1113cee5-ce8c-4dd3-901f-f73a6a21d2a0",
   "metadata": {},
   "outputs": [],
   "source": [
    "def siparis_dosyaya_yaz_tool(siparisler):\n",
    "    with open(\"siparisler.txt\", \"w\") as f:\n",
    "        f.write(\"Siparişler:\\n\")\n",
    "        for siparis in siparisler:\n",
    "            f.write(f\"- {siparis}\\n\")\n",
    "    return \"Siparişler dosyaya yazıldı.\""
   ]
  },
  {
   "cell_type": "code",
   "execution_count": 80,
   "id": "dbee2afb-7923-40e5-9faf-054e1ccaa70c",
   "metadata": {},
   "outputs": [],
   "source": [
    "def menu_sorgula_tool(mesaj):\n",
    "    response = rag_chain.run(mesaj)\n",
    "    return response.strip()"
   ]
  },
  {
   "cell_type": "code",
   "execution_count": 81,
   "id": "1969ad2b-00d7-4d5f-bffc-4fbe9de92b98",
   "metadata": {},
   "outputs": [],
   "source": [
    "siparis_algilama = Tool(\n",
    "    name=\"SiparisAlgilamaTool\",\n",
    "    func=siparis_algilama_tool,\n",
    "    description=\"Sipariş içeren bir mesajı analiz eder ve sipariş detaylarını çıkarır.\"\n",
    ")"
   ]
  },
  {
   "cell_type": "code",
   "execution_count": 82,
   "id": "c0bb6bf1-f948-4f86-a764-edf92c7158ac",
   "metadata": {},
   "outputs": [],
   "source": [
    "siparis_yazdirma = Tool(\n",
    "    name=\"SiparisYazdirmaTool\",\n",
    "    func=siparis_dosyaya_yaz_tool,\n",
    "    description=\"Siparişleri dosyaya yazdırır.\"\n",
    ")"
   ]
  },
  {
   "cell_type": "code",
   "execution_count": 83,
   "id": "514b2057-bc6e-44a0-a097-3ecf7955adaa",
   "metadata": {},
   "outputs": [],
   "source": [
    "menu_sorgula = Tool(\n",
    "    name=\"MenuSorgulaTool\",\n",
    "    func=menu_sorgula_tool,\n",
    "    description=\"Menüden bilgi almak için kullanılır.\"\n",
    ")"
   ]
  },
  {
   "cell_type": "code",
   "execution_count": 84,
   "id": "4cf4524c-929a-4865-ad32-8e9e794b2c84",
   "metadata": {},
   "outputs": [],
   "source": [
    "memory = ConversationBufferMemory(return_messages=True)\n"
   ]
  },
  {
   "cell_type": "code",
   "execution_count": 85,
   "id": "ea50122a-1886-46b7-afaa-b6f0b671fb69",
   "metadata": {},
   "outputs": [],
   "source": [
    "agent = ConversationalAgent(\n",
    "    llm_chain=llm_chain,\n",
    "    tools=[siparis_algilama, siparis_yazdirma, menu_sorgula],\n",
    "    memory=memory,\n",
    ")"
   ]
  },
  {
   "cell_type": "code",
   "execution_count": 86,
   "id": "188f07d6-34ab-44d9-a8b1-d7ed29af8a74",
   "metadata": {},
   "outputs": [],
   "source": [
    "executor = AgentExecutor(agent=agent, \n",
    "                         tools=[siparis_algilama, siparis_yazdirma, menu_sorgula],\n",
    "                         memory=memory,\n",
    "                        hande_parsing_errors=True)"
   ]
  },
  {
   "cell_type": "code",
   "execution_count": 87,
   "id": "296aaf95-8b3c-493a-a757-90d33bc4381b",
   "metadata": {},
   "outputs": [],
   "source": [
    "def siparis_isle_rag():\n",
    "    hafiza = SiparisHafizasi()\n",
    "    print(\"Sipariş almak için hazır. 'çıkış' yazarak sipariş sürecini sonlandırabilirsiniz.\")\n",
    "\n",
    "    while True:\n",
    "        mesaj = input(\"Kullanıcı: \")\n",
    "\n",
    "        if mesaj.lower() == \"çıkış\":\n",
    "            break\n",
    "\n",
    "        # Kullanıcı mesajını işleme al ve RAG ile menü sorgulama\n",
    "        sonuc = executor.invoke({\"query\": mesaj, \"input\": mesaj, \"context\": memory.buffer})\n",
    "\n",
    "        \n",
    "        # Sipariş algılama işlemi\n",
    "        siparis = siparis_algilama_tool(mesaj)\n",
    "        if siparis:\n",
    "            hafiza.siparis_ekle(siparis)\n",
    "            print(f\"Algılanan sipariş: {siparis}\")\n",
    "\n",
    "        # Yanıtı göster\n",
    "        print(f\"Asistan: {sonuc['output']}\")\n",
    "\n",
    "    # Tüm siparişleri onaylat\n",
    "    siparisler = hafiza.siparisleri_al()\n",
    "    if siparisler:\n",
    "        print(\"\\nAlgılanan siparişler:\")\n",
    "        for sip in siparisler:\n",
    "            print(f\"- {sip}\")\n",
    "        \n",
    "        onay = input(\"\\nBu siparişleri onaylıyor musunuz? (evet/hayır): \")\n",
    "        \n",
    "        if onay.lower() == \"evet\":\n",
    "            siparis_dosyaya_yaz_tool(siparisler)\n",
    "            print(\"Siparişler dosyaya yazıldı.\")\n",
    "        else:\n",
    "            print(\"Siparişler kaydedilmedi.\")\n",
    "        \n",
    "        hafiza.hafizayi_temizle()\n",
    "    else:\n",
    "        print(\"Sipariş algılanmadı.\")"
   ]
  },
  {
   "cell_type": "code",
   "execution_count": 88,
   "id": "cf7eba55-8dad-4900-974c-6980d0c69deb",
   "metadata": {},
   "outputs": [
    {
     "name": "stdout",
     "output_type": "stream",
     "text": [
      "Sipariş almak için hazır. 'çıkış' yazarak sipariş sürecini sonlandırabilirsiniz.\n"
     ]
    },
    {
     "name": "stdin",
     "output_type": "stream",
     "text": [
      "Kullanıcı:  pizza çeşitleri nelerdir\n"
     ]
    },
    {
     "ename": "ValueError",
     "evalue": "An output parsing error occurred. In order to pass this error back to the agent and have it try again, pass `handle_parsing_errors=True` to the AgentExecutor. This is the error: Could not parse LLM output: `Pizza çeşitleri arasında Margherita, Pepperoni, Quattro Stagioni, Veggie, Hawaiian ve BBQ Chicken gibi popüler seçenekler bulunmaktadır. Ayrıca, yerel ve bölgesel özel tarifler de mevcuttur. Her pizza çeşidi farklı malzeme kombinasyonlarıyla hazırlanabilir.`\nFor troubleshooting, visit: https://python.langchain.com/docs/troubleshooting/errors/OUTPUT_PARSING_FAILURE",
     "output_type": "error",
     "traceback": [
      "\u001b[0;31m---------------------------------------------------------------------------\u001b[0m",
      "\u001b[0;31mOutputParserException\u001b[0m                     Traceback (most recent call last)",
      "File \u001b[0;32m/Library/Frameworks/Python.framework/Versions/3.12/lib/python3.12/site-packages/langchain/agents/agent.py:1363\u001b[0m, in \u001b[0;36mAgentExecutor._iter_next_step\u001b[0;34m(self, name_to_tool_map, color_mapping, inputs, intermediate_steps, run_manager)\u001b[0m\n\u001b[1;32m   1362\u001b[0m     \u001b[38;5;66;03m# Call the LLM to see what to do.\u001b[39;00m\n\u001b[0;32m-> 1363\u001b[0m     output \u001b[38;5;241m=\u001b[39m \u001b[38;5;28;43mself\u001b[39;49m\u001b[38;5;241;43m.\u001b[39;49m\u001b[43m_action_agent\u001b[49m\u001b[38;5;241;43m.\u001b[39;49m\u001b[43mplan\u001b[49m\u001b[43m(\u001b[49m\n\u001b[1;32m   1364\u001b[0m \u001b[43m        \u001b[49m\u001b[43mintermediate_steps\u001b[49m\u001b[43m,\u001b[49m\n\u001b[1;32m   1365\u001b[0m \u001b[43m        \u001b[49m\u001b[43mcallbacks\u001b[49m\u001b[38;5;241;43m=\u001b[39;49m\u001b[43mrun_manager\u001b[49m\u001b[38;5;241;43m.\u001b[39;49m\u001b[43mget_child\u001b[49m\u001b[43m(\u001b[49m\u001b[43m)\u001b[49m\u001b[43m \u001b[49m\u001b[38;5;28;43;01mif\u001b[39;49;00m\u001b[43m \u001b[49m\u001b[43mrun_manager\u001b[49m\u001b[43m \u001b[49m\u001b[38;5;28;43;01melse\u001b[39;49;00m\u001b[43m \u001b[49m\u001b[38;5;28;43;01mNone\u001b[39;49;00m\u001b[43m,\u001b[49m\n\u001b[1;32m   1366\u001b[0m \u001b[43m        \u001b[49m\u001b[38;5;241;43m*\u001b[39;49m\u001b[38;5;241;43m*\u001b[39;49m\u001b[43minputs\u001b[49m\u001b[43m,\u001b[49m\n\u001b[1;32m   1367\u001b[0m \u001b[43m    \u001b[49m\u001b[43m)\u001b[49m\n\u001b[1;32m   1368\u001b[0m \u001b[38;5;28;01mexcept\u001b[39;00m OutputParserException \u001b[38;5;28;01mas\u001b[39;00m e:\n",
      "File \u001b[0;32m/Library/Frameworks/Python.framework/Versions/3.12/lib/python3.12/site-packages/langchain/agents/agent.py:810\u001b[0m, in \u001b[0;36mAgent.plan\u001b[0;34m(self, intermediate_steps, callbacks, **kwargs)\u001b[0m\n\u001b[1;32m    809\u001b[0m full_output \u001b[38;5;241m=\u001b[39m \u001b[38;5;28mself\u001b[39m\u001b[38;5;241m.\u001b[39mllm_chain\u001b[38;5;241m.\u001b[39mpredict(callbacks\u001b[38;5;241m=\u001b[39mcallbacks, \u001b[38;5;241m*\u001b[39m\u001b[38;5;241m*\u001b[39mfull_inputs)\n\u001b[0;32m--> 810\u001b[0m \u001b[38;5;28;01mreturn\u001b[39;00m \u001b[38;5;28;43mself\u001b[39;49m\u001b[38;5;241;43m.\u001b[39;49m\u001b[43moutput_parser\u001b[49m\u001b[38;5;241;43m.\u001b[39;49m\u001b[43mparse\u001b[49m\u001b[43m(\u001b[49m\u001b[43mfull_output\u001b[49m\u001b[43m)\u001b[49m\n",
      "File \u001b[0;32m/Library/Frameworks/Python.framework/Versions/3.12/lib/python3.12/site-packages/langchain/agents/conversational/output_parser.py:42\u001b[0m, in \u001b[0;36mConvoOutputParser.parse\u001b[0;34m(self, text)\u001b[0m\n\u001b[1;32m     41\u001b[0m \u001b[38;5;28;01mif\u001b[39;00m \u001b[38;5;129;01mnot\u001b[39;00m match:\n\u001b[0;32m---> 42\u001b[0m     \u001b[38;5;28;01mraise\u001b[39;00m OutputParserException(\u001b[38;5;124mf\u001b[39m\u001b[38;5;124m\"\u001b[39m\u001b[38;5;124mCould not parse LLM output: `\u001b[39m\u001b[38;5;132;01m{\u001b[39;00mtext\u001b[38;5;132;01m}\u001b[39;00m\u001b[38;5;124m`\u001b[39m\u001b[38;5;124m\"\u001b[39m)\n\u001b[1;32m     43\u001b[0m action \u001b[38;5;241m=\u001b[39m match\u001b[38;5;241m.\u001b[39mgroup(\u001b[38;5;241m1\u001b[39m)\n",
      "\u001b[0;31mOutputParserException\u001b[0m: Could not parse LLM output: `Pizza çeşitleri arasında Margherita, Pepperoni, Quattro Stagioni, Veggie, Hawaiian ve BBQ Chicken gibi popüler seçenekler bulunmaktadır. Ayrıca, yerel ve bölgesel özel tarifler de mevcuttur. Her pizza çeşidi farklı malzeme kombinasyonlarıyla hazırlanabilir.`\nFor troubleshooting, visit: https://python.langchain.com/docs/troubleshooting/errors/OUTPUT_PARSING_FAILURE",
      "\nDuring handling of the above exception, another exception occurred:\n",
      "\u001b[0;31mValueError\u001b[0m                                Traceback (most recent call last)",
      "Cell \u001b[0;32mIn[88], line 1\u001b[0m\n\u001b[0;32m----> 1\u001b[0m \u001b[43msiparis_isle_rag\u001b[49m\u001b[43m(\u001b[49m\u001b[43m)\u001b[49m\n",
      "Cell \u001b[0;32mIn[87], line 12\u001b[0m, in \u001b[0;36msiparis_isle_rag\u001b[0;34m()\u001b[0m\n\u001b[1;32m      9\u001b[0m     \u001b[38;5;28;01mbreak\u001b[39;00m\n\u001b[1;32m     11\u001b[0m \u001b[38;5;66;03m# Kullanıcı mesajını işleme al ve RAG ile menü sorgulama\u001b[39;00m\n\u001b[0;32m---> 12\u001b[0m sonuc \u001b[38;5;241m=\u001b[39m \u001b[43mexecutor\u001b[49m\u001b[38;5;241;43m.\u001b[39;49m\u001b[43minvoke\u001b[49m\u001b[43m(\u001b[49m\u001b[43m{\u001b[49m\u001b[38;5;124;43m\"\u001b[39;49m\u001b[38;5;124;43mquery\u001b[39;49m\u001b[38;5;124;43m\"\u001b[39;49m\u001b[43m:\u001b[49m\u001b[43m \u001b[49m\u001b[43mmesaj\u001b[49m\u001b[43m,\u001b[49m\u001b[43m \u001b[49m\u001b[38;5;124;43m\"\u001b[39;49m\u001b[38;5;124;43minput\u001b[39;49m\u001b[38;5;124;43m\"\u001b[39;49m\u001b[43m:\u001b[49m\u001b[43m \u001b[49m\u001b[43mmesaj\u001b[49m\u001b[43m,\u001b[49m\u001b[43m \u001b[49m\u001b[38;5;124;43m\"\u001b[39;49m\u001b[38;5;124;43mcontext\u001b[39;49m\u001b[38;5;124;43m\"\u001b[39;49m\u001b[43m:\u001b[49m\u001b[43m \u001b[49m\u001b[43mmemory\u001b[49m\u001b[38;5;241;43m.\u001b[39;49m\u001b[43mbuffer\u001b[49m\u001b[43m}\u001b[49m\u001b[43m)\u001b[49m\n\u001b[1;32m     15\u001b[0m \u001b[38;5;66;03m# Sipariş algılama işlemi\u001b[39;00m\n\u001b[1;32m     16\u001b[0m siparis \u001b[38;5;241m=\u001b[39m siparis_algilama_tool(mesaj)\n",
      "File \u001b[0;32m/Library/Frameworks/Python.framework/Versions/3.12/lib/python3.12/site-packages/langchain/chains/base.py:170\u001b[0m, in \u001b[0;36mChain.invoke\u001b[0;34m(self, input, config, **kwargs)\u001b[0m\n\u001b[1;32m    168\u001b[0m \u001b[38;5;28;01mexcept\u001b[39;00m \u001b[38;5;167;01mBaseException\u001b[39;00m \u001b[38;5;28;01mas\u001b[39;00m e:\n\u001b[1;32m    169\u001b[0m     run_manager\u001b[38;5;241m.\u001b[39mon_chain_error(e)\n\u001b[0;32m--> 170\u001b[0m     \u001b[38;5;28;01mraise\u001b[39;00m e\n\u001b[1;32m    171\u001b[0m run_manager\u001b[38;5;241m.\u001b[39mon_chain_end(outputs)\n\u001b[1;32m    173\u001b[0m \u001b[38;5;28;01mif\u001b[39;00m include_run_info:\n",
      "File \u001b[0;32m/Library/Frameworks/Python.framework/Versions/3.12/lib/python3.12/site-packages/langchain/chains/base.py:160\u001b[0m, in \u001b[0;36mChain.invoke\u001b[0;34m(self, input, config, **kwargs)\u001b[0m\n\u001b[1;32m    157\u001b[0m \u001b[38;5;28;01mtry\u001b[39;00m:\n\u001b[1;32m    158\u001b[0m     \u001b[38;5;28mself\u001b[39m\u001b[38;5;241m.\u001b[39m_validate_inputs(inputs)\n\u001b[1;32m    159\u001b[0m     outputs \u001b[38;5;241m=\u001b[39m (\n\u001b[0;32m--> 160\u001b[0m         \u001b[38;5;28;43mself\u001b[39;49m\u001b[38;5;241;43m.\u001b[39;49m\u001b[43m_call\u001b[49m\u001b[43m(\u001b[49m\u001b[43minputs\u001b[49m\u001b[43m,\u001b[49m\u001b[43m \u001b[49m\u001b[43mrun_manager\u001b[49m\u001b[38;5;241;43m=\u001b[39;49m\u001b[43mrun_manager\u001b[49m\u001b[43m)\u001b[49m\n\u001b[1;32m    161\u001b[0m         \u001b[38;5;28;01mif\u001b[39;00m new_arg_supported\n\u001b[1;32m    162\u001b[0m         \u001b[38;5;28;01melse\u001b[39;00m \u001b[38;5;28mself\u001b[39m\u001b[38;5;241m.\u001b[39m_call(inputs)\n\u001b[1;32m    163\u001b[0m     )\n\u001b[1;32m    165\u001b[0m     final_outputs: Dict[\u001b[38;5;28mstr\u001b[39m, Any] \u001b[38;5;241m=\u001b[39m \u001b[38;5;28mself\u001b[39m\u001b[38;5;241m.\u001b[39mprep_outputs(\n\u001b[1;32m    166\u001b[0m         inputs, outputs, return_only_outputs\n\u001b[1;32m    167\u001b[0m     )\n\u001b[1;32m    168\u001b[0m \u001b[38;5;28;01mexcept\u001b[39;00m \u001b[38;5;167;01mBaseException\u001b[39;00m \u001b[38;5;28;01mas\u001b[39;00m e:\n",
      "File \u001b[0;32m/Library/Frameworks/Python.framework/Versions/3.12/lib/python3.12/site-packages/langchain/agents/agent.py:1629\u001b[0m, in \u001b[0;36mAgentExecutor._call\u001b[0;34m(self, inputs, run_manager)\u001b[0m\n\u001b[1;32m   1627\u001b[0m \u001b[38;5;66;03m# We now enter the agent loop (until it returns something).\u001b[39;00m\n\u001b[1;32m   1628\u001b[0m \u001b[38;5;28;01mwhile\u001b[39;00m \u001b[38;5;28mself\u001b[39m\u001b[38;5;241m.\u001b[39m_should_continue(iterations, time_elapsed):\n\u001b[0;32m-> 1629\u001b[0m     next_step_output \u001b[38;5;241m=\u001b[39m \u001b[38;5;28;43mself\u001b[39;49m\u001b[38;5;241;43m.\u001b[39;49m\u001b[43m_take_next_step\u001b[49m\u001b[43m(\u001b[49m\n\u001b[1;32m   1630\u001b[0m \u001b[43m        \u001b[49m\u001b[43mname_to_tool_map\u001b[49m\u001b[43m,\u001b[49m\n\u001b[1;32m   1631\u001b[0m \u001b[43m        \u001b[49m\u001b[43mcolor_mapping\u001b[49m\u001b[43m,\u001b[49m\n\u001b[1;32m   1632\u001b[0m \u001b[43m        \u001b[49m\u001b[43minputs\u001b[49m\u001b[43m,\u001b[49m\n\u001b[1;32m   1633\u001b[0m \u001b[43m        \u001b[49m\u001b[43mintermediate_steps\u001b[49m\u001b[43m,\u001b[49m\n\u001b[1;32m   1634\u001b[0m \u001b[43m        \u001b[49m\u001b[43mrun_manager\u001b[49m\u001b[38;5;241;43m=\u001b[39;49m\u001b[43mrun_manager\u001b[49m\u001b[43m,\u001b[49m\n\u001b[1;32m   1635\u001b[0m \u001b[43m    \u001b[49m\u001b[43m)\u001b[49m\n\u001b[1;32m   1636\u001b[0m     \u001b[38;5;28;01mif\u001b[39;00m \u001b[38;5;28misinstance\u001b[39m(next_step_output, AgentFinish):\n\u001b[1;32m   1637\u001b[0m         \u001b[38;5;28;01mreturn\u001b[39;00m \u001b[38;5;28mself\u001b[39m\u001b[38;5;241m.\u001b[39m_return(\n\u001b[1;32m   1638\u001b[0m             next_step_output, intermediate_steps, run_manager\u001b[38;5;241m=\u001b[39mrun_manager\n\u001b[1;32m   1639\u001b[0m         )\n",
      "File \u001b[0;32m/Library/Frameworks/Python.framework/Versions/3.12/lib/python3.12/site-packages/langchain/agents/agent.py:1335\u001b[0m, in \u001b[0;36mAgentExecutor._take_next_step\u001b[0;34m(self, name_to_tool_map, color_mapping, inputs, intermediate_steps, run_manager)\u001b[0m\n\u001b[1;32m   1326\u001b[0m \u001b[38;5;28;01mdef\u001b[39;00m \u001b[38;5;21m_take_next_step\u001b[39m(\n\u001b[1;32m   1327\u001b[0m     \u001b[38;5;28mself\u001b[39m,\n\u001b[1;32m   1328\u001b[0m     name_to_tool_map: Dict[\u001b[38;5;28mstr\u001b[39m, BaseTool],\n\u001b[0;32m   (...)\u001b[0m\n\u001b[1;32m   1332\u001b[0m     run_manager: Optional[CallbackManagerForChainRun] \u001b[38;5;241m=\u001b[39m \u001b[38;5;28;01mNone\u001b[39;00m,\n\u001b[1;32m   1333\u001b[0m ) \u001b[38;5;241m-\u001b[39m\u001b[38;5;241m>\u001b[39m Union[AgentFinish, List[Tuple[AgentAction, \u001b[38;5;28mstr\u001b[39m]]]:\n\u001b[1;32m   1334\u001b[0m     \u001b[38;5;28;01mreturn\u001b[39;00m \u001b[38;5;28mself\u001b[39m\u001b[38;5;241m.\u001b[39m_consume_next_step(\n\u001b[0;32m-> 1335\u001b[0m         \u001b[43m[\u001b[49m\n\u001b[1;32m   1336\u001b[0m \u001b[43m            \u001b[49m\u001b[43ma\u001b[49m\n\u001b[1;32m   1337\u001b[0m \u001b[43m            \u001b[49m\u001b[38;5;28;43;01mfor\u001b[39;49;00m\u001b[43m \u001b[49m\u001b[43ma\u001b[49m\u001b[43m \u001b[49m\u001b[38;5;129;43;01min\u001b[39;49;00m\u001b[43m \u001b[49m\u001b[38;5;28;43mself\u001b[39;49m\u001b[38;5;241;43m.\u001b[39;49m\u001b[43m_iter_next_step\u001b[49m\u001b[43m(\u001b[49m\n\u001b[1;32m   1338\u001b[0m \u001b[43m                \u001b[49m\u001b[43mname_to_tool_map\u001b[49m\u001b[43m,\u001b[49m\n\u001b[1;32m   1339\u001b[0m \u001b[43m                \u001b[49m\u001b[43mcolor_mapping\u001b[49m\u001b[43m,\u001b[49m\n\u001b[1;32m   1340\u001b[0m \u001b[43m                \u001b[49m\u001b[43minputs\u001b[49m\u001b[43m,\u001b[49m\n\u001b[1;32m   1341\u001b[0m \u001b[43m                \u001b[49m\u001b[43mintermediate_steps\u001b[49m\u001b[43m,\u001b[49m\n\u001b[1;32m   1342\u001b[0m \u001b[43m                \u001b[49m\u001b[43mrun_manager\u001b[49m\u001b[43m,\u001b[49m\n\u001b[1;32m   1343\u001b[0m \u001b[43m            \u001b[49m\u001b[43m)\u001b[49m\n\u001b[1;32m   1344\u001b[0m \u001b[43m        \u001b[49m\u001b[43m]\u001b[49m\n\u001b[1;32m   1345\u001b[0m     )\n",
      "File \u001b[0;32m/Library/Frameworks/Python.framework/Versions/3.12/lib/python3.12/site-packages/langchain/agents/agent.py:1374\u001b[0m, in \u001b[0;36mAgentExecutor._iter_next_step\u001b[0;34m(self, name_to_tool_map, color_mapping, inputs, intermediate_steps, run_manager)\u001b[0m\n\u001b[1;32m   1372\u001b[0m     raise_error \u001b[38;5;241m=\u001b[39m \u001b[38;5;28;01mFalse\u001b[39;00m\n\u001b[1;32m   1373\u001b[0m \u001b[38;5;28;01mif\u001b[39;00m raise_error:\n\u001b[0;32m-> 1374\u001b[0m     \u001b[38;5;28;01mraise\u001b[39;00m \u001b[38;5;167;01mValueError\u001b[39;00m(\n\u001b[1;32m   1375\u001b[0m         \u001b[38;5;124m\"\u001b[39m\u001b[38;5;124mAn output parsing error occurred. \u001b[39m\u001b[38;5;124m\"\u001b[39m\n\u001b[1;32m   1376\u001b[0m         \u001b[38;5;124m\"\u001b[39m\u001b[38;5;124mIn order to pass this error back to the agent and have it try \u001b[39m\u001b[38;5;124m\"\u001b[39m\n\u001b[1;32m   1377\u001b[0m         \u001b[38;5;124m\"\u001b[39m\u001b[38;5;124magain, pass `handle_parsing_errors=True` to the AgentExecutor. \u001b[39m\u001b[38;5;124m\"\u001b[39m\n\u001b[1;32m   1378\u001b[0m         \u001b[38;5;124mf\u001b[39m\u001b[38;5;124m\"\u001b[39m\u001b[38;5;124mThis is the error: \u001b[39m\u001b[38;5;132;01m{\u001b[39;00m\u001b[38;5;28mstr\u001b[39m(e)\u001b[38;5;132;01m}\u001b[39;00m\u001b[38;5;124m\"\u001b[39m\n\u001b[1;32m   1379\u001b[0m     )\n\u001b[1;32m   1380\u001b[0m text \u001b[38;5;241m=\u001b[39m \u001b[38;5;28mstr\u001b[39m(e)\n\u001b[1;32m   1381\u001b[0m \u001b[38;5;28;01mif\u001b[39;00m \u001b[38;5;28misinstance\u001b[39m(\u001b[38;5;28mself\u001b[39m\u001b[38;5;241m.\u001b[39mhandle_parsing_errors, \u001b[38;5;28mbool\u001b[39m):\n",
      "\u001b[0;31mValueError\u001b[0m: An output parsing error occurred. In order to pass this error back to the agent and have it try again, pass `handle_parsing_errors=True` to the AgentExecutor. This is the error: Could not parse LLM output: `Pizza çeşitleri arasında Margherita, Pepperoni, Quattro Stagioni, Veggie, Hawaiian ve BBQ Chicken gibi popüler seçenekler bulunmaktadır. Ayrıca, yerel ve bölgesel özel tarifler de mevcuttur. Her pizza çeşidi farklı malzeme kombinasyonlarıyla hazırlanabilir.`\nFor troubleshooting, visit: https://python.langchain.com/docs/troubleshooting/errors/OUTPUT_PARSING_FAILURE"
     ]
    }
   ],
   "source": [
    "siparis_isle_rag()"
   ]
  },
  {
   "cell_type": "code",
   "execution_count": null,
   "id": "0c17a9cd-9b94-4554-b4d5-19908fbbaca0",
   "metadata": {},
   "outputs": [],
   "source": []
  }
 ],
 "metadata": {
  "kernelspec": {
   "display_name": "Python 3 (ipykernel)",
   "language": "python",
   "name": "python3"
  },
  "language_info": {
   "codemirror_mode": {
    "name": "ipython",
    "version": 3
   },
   "file_extension": ".py",
   "mimetype": "text/x-python",
   "name": "python",
   "nbconvert_exporter": "python",
   "pygments_lexer": "ipython3",
   "version": "3.12.5"
  }
 },
 "nbformat": 4,
 "nbformat_minor": 5
}
