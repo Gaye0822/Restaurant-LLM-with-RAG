{
 "cells": [
  {
   "cell_type": "code",
   "execution_count": 4,
   "id": "da04df1f-9006-485c-8953-14b926883e2a",
   "metadata": {},
   "outputs": [
    {
     "name": "stdout",
     "output_type": "stream",
     "text": [
      "Requirement already satisfied: transformers in /Library/Frameworks/Python.framework/Versions/3.12/lib/python3.12/site-packages (4.46.1)\n",
      "Requirement already satisfied: sentence-transformers in /Library/Frameworks/Python.framework/Versions/3.12/lib/python3.12/site-packages (3.2.1)\n",
      "Requirement already satisfied: langchain in /Library/Frameworks/Python.framework/Versions/3.12/lib/python3.12/site-packages (0.3.7)\n",
      "Requirement already satisfied: langchain-community in /Library/Frameworks/Python.framework/Versions/3.12/lib/python3.12/site-packages (0.3.5)\n",
      "Collecting langchain-openai\n",
      "  Downloading langchain_openai-0.2.6-py3-none-any.whl.metadata (2.6 kB)\n",
      "Requirement already satisfied: faiss-cpu in /Library/Frameworks/Python.framework/Versions/3.12/lib/python3.12/site-packages (1.9.0)\n",
      "Requirement already satisfied: unstructured in /Library/Frameworks/Python.framework/Versions/3.12/lib/python3.12/site-packages (0.16.4)\n",
      "Requirement already satisfied: filelock in /Library/Frameworks/Python.framework/Versions/3.12/lib/python3.12/site-packages (from transformers) (3.16.1)\n",
      "Requirement already satisfied: huggingface-hub<1.0,>=0.23.2 in /Library/Frameworks/Python.framework/Versions/3.12/lib/python3.12/site-packages (from transformers) (0.26.2)\n",
      "Requirement already satisfied: numpy>=1.17 in /Library/Frameworks/Python.framework/Versions/3.12/lib/python3.12/site-packages (from transformers) (1.26.4)\n",
      "Requirement already satisfied: packaging>=20.0 in /Library/Frameworks/Python.framework/Versions/3.12/lib/python3.12/site-packages (from transformers) (24.1)\n",
      "Requirement already satisfied: pyyaml>=5.1 in /Library/Frameworks/Python.framework/Versions/3.12/lib/python3.12/site-packages (from transformers) (6.0.2)\n",
      "Requirement already satisfied: regex!=2019.12.17 in /Library/Frameworks/Python.framework/Versions/3.12/lib/python3.12/site-packages (from transformers) (2024.9.11)\n",
      "Requirement already satisfied: requests in /Library/Frameworks/Python.framework/Versions/3.12/lib/python3.12/site-packages (from transformers) (2.32.3)\n",
      "Requirement already satisfied: safetensors>=0.4.1 in /Library/Frameworks/Python.framework/Versions/3.12/lib/python3.12/site-packages (from transformers) (0.4.5)\n",
      "Requirement already satisfied: tokenizers<0.21,>=0.20 in /Library/Frameworks/Python.framework/Versions/3.12/lib/python3.12/site-packages (from transformers) (0.20.2)\n",
      "Requirement already satisfied: tqdm>=4.27 in /Library/Frameworks/Python.framework/Versions/3.12/lib/python3.12/site-packages (from transformers) (4.66.5)\n",
      "Requirement already satisfied: torch>=1.11.0 in /Library/Frameworks/Python.framework/Versions/3.12/lib/python3.12/site-packages (from sentence-transformers) (2.5.1)\n",
      "Requirement already satisfied: scikit-learn in /Library/Frameworks/Python.framework/Versions/3.12/lib/python3.12/site-packages (from sentence-transformers) (1.5.2)\n",
      "Requirement already satisfied: scipy in /Library/Frameworks/Python.framework/Versions/3.12/lib/python3.12/site-packages (from sentence-transformers) (1.14.1)\n",
      "Requirement already satisfied: Pillow in /Library/Frameworks/Python.framework/Versions/3.12/lib/python3.12/site-packages (from sentence-transformers) (11.0.0)\n",
      "Requirement already satisfied: SQLAlchemy<3,>=1.4 in /Library/Frameworks/Python.framework/Versions/3.12/lib/python3.12/site-packages (from langchain) (2.0.35)\n",
      "Requirement already satisfied: aiohttp<4.0.0,>=3.8.3 in /Library/Frameworks/Python.framework/Versions/3.12/lib/python3.12/site-packages (from langchain) (3.10.10)\n",
      "Requirement already satisfied: langchain-core<0.4.0,>=0.3.15 in /Library/Frameworks/Python.framework/Versions/3.12/lib/python3.12/site-packages (from langchain) (0.3.15)\n",
      "Requirement already satisfied: langchain-text-splitters<0.4.0,>=0.3.0 in /Library/Frameworks/Python.framework/Versions/3.12/lib/python3.12/site-packages (from langchain) (0.3.2)\n",
      "Requirement already satisfied: langsmith<0.2.0,>=0.1.17 in /Library/Frameworks/Python.framework/Versions/3.12/lib/python3.12/site-packages (from langchain) (0.1.139)\n",
      "Requirement already satisfied: pydantic<3.0.0,>=2.7.4 in /Library/Frameworks/Python.framework/Versions/3.12/lib/python3.12/site-packages (from langchain) (2.9.2)\n",
      "Requirement already satisfied: tenacity!=8.4.0,<10,>=8.1.0 in /Library/Frameworks/Python.framework/Versions/3.12/lib/python3.12/site-packages (from langchain) (9.0.0)\n",
      "Requirement already satisfied: dataclasses-json<0.7,>=0.5.7 in /Library/Frameworks/Python.framework/Versions/3.12/lib/python3.12/site-packages (from langchain-community) (0.6.7)\n",
      "Requirement already satisfied: httpx-sse<0.5.0,>=0.4.0 in /Library/Frameworks/Python.framework/Versions/3.12/lib/python3.12/site-packages (from langchain-community) (0.4.0)\n",
      "Requirement already satisfied: pydantic-settings<3.0.0,>=2.4.0 in /Library/Frameworks/Python.framework/Versions/3.12/lib/python3.12/site-packages (from langchain-community) (2.6.1)\n",
      "Collecting openai<2.0.0,>=1.54.0 (from langchain-openai)\n",
      "  Downloading openai-1.54.3-py3-none-any.whl.metadata (24 kB)\n",
      "Collecting tiktoken<1,>=0.7 (from langchain-openai)\n",
      "  Downloading tiktoken-0.8.0-cp312-cp312-macosx_11_0_arm64.whl.metadata (6.6 kB)\n",
      "Requirement already satisfied: chardet in /Library/Frameworks/Python.framework/Versions/3.12/lib/python3.12/site-packages (from unstructured) (5.2.0)\n",
      "Requirement already satisfied: filetype in /Library/Frameworks/Python.framework/Versions/3.12/lib/python3.12/site-packages (from unstructured) (1.2.0)\n",
      "Requirement already satisfied: python-magic in /Library/Frameworks/Python.framework/Versions/3.12/lib/python3.12/site-packages (from unstructured) (0.4.27)\n",
      "Requirement already satisfied: lxml in /Library/Frameworks/Python.framework/Versions/3.12/lib/python3.12/site-packages (from unstructured) (5.3.0)\n",
      "Requirement already satisfied: nltk in /Library/Frameworks/Python.framework/Versions/3.12/lib/python3.12/site-packages (from unstructured) (3.9.1)\n",
      "Requirement already satisfied: beautifulsoup4 in /Library/Frameworks/Python.framework/Versions/3.12/lib/python3.12/site-packages (from unstructured) (4.12.3)\n",
      "Requirement already satisfied: emoji in /Library/Frameworks/Python.framework/Versions/3.12/lib/python3.12/site-packages (from unstructured) (2.14.0)\n",
      "Requirement already satisfied: python-iso639 in /Library/Frameworks/Python.framework/Versions/3.12/lib/python3.12/site-packages (from unstructured) (2024.10.22)\n",
      "Requirement already satisfied: langdetect in /Library/Frameworks/Python.framework/Versions/3.12/lib/python3.12/site-packages (from unstructured) (1.0.9)\n",
      "Requirement already satisfied: rapidfuzz in /Library/Frameworks/Python.framework/Versions/3.12/lib/python3.12/site-packages (from unstructured) (3.10.1)\n",
      "Requirement already satisfied: backoff in /Library/Frameworks/Python.framework/Versions/3.12/lib/python3.12/site-packages (from unstructured) (2.2.1)\n",
      "Requirement already satisfied: typing-extensions in /Library/Frameworks/Python.framework/Versions/3.12/lib/python3.12/site-packages (from unstructured) (4.12.2)\n",
      "Requirement already satisfied: unstructured-client in /Library/Frameworks/Python.framework/Versions/3.12/lib/python3.12/site-packages (from unstructured) (0.27.0)\n",
      "Requirement already satisfied: wrapt in /Library/Frameworks/Python.framework/Versions/3.12/lib/python3.12/site-packages (from unstructured) (1.16.0)\n",
      "Requirement already satisfied: psutil in /Library/Frameworks/Python.framework/Versions/3.12/lib/python3.12/site-packages (from unstructured) (6.0.0)\n",
      "Requirement already satisfied: python-oxmsg in /Library/Frameworks/Python.framework/Versions/3.12/lib/python3.12/site-packages (from unstructured) (0.0.1)\n",
      "Requirement already satisfied: html5lib in /Library/Frameworks/Python.framework/Versions/3.12/lib/python3.12/site-packages (from unstructured) (1.1)\n",
      "Requirement already satisfied: aiohappyeyeballs>=2.3.0 in /Library/Frameworks/Python.framework/Versions/3.12/lib/python3.12/site-packages (from aiohttp<4.0.0,>=3.8.3->langchain) (2.4.3)\n",
      "Requirement already satisfied: aiosignal>=1.1.2 in /Library/Frameworks/Python.framework/Versions/3.12/lib/python3.12/site-packages (from aiohttp<4.0.0,>=3.8.3->langchain) (1.3.1)\n",
      "Requirement already satisfied: attrs>=17.3.0 in /Library/Frameworks/Python.framework/Versions/3.12/lib/python3.12/site-packages (from aiohttp<4.0.0,>=3.8.3->langchain) (24.2.0)\n",
      "Requirement already satisfied: frozenlist>=1.1.1 in /Library/Frameworks/Python.framework/Versions/3.12/lib/python3.12/site-packages (from aiohttp<4.0.0,>=3.8.3->langchain) (1.5.0)\n",
      "Requirement already satisfied: multidict<7.0,>=4.5 in /Library/Frameworks/Python.framework/Versions/3.12/lib/python3.12/site-packages (from aiohttp<4.0.0,>=3.8.3->langchain) (6.1.0)\n",
      "Requirement already satisfied: yarl<2.0,>=1.12.0 in /Library/Frameworks/Python.framework/Versions/3.12/lib/python3.12/site-packages (from aiohttp<4.0.0,>=3.8.3->langchain) (1.17.1)\n",
      "Requirement already satisfied: marshmallow<4.0.0,>=3.18.0 in /Library/Frameworks/Python.framework/Versions/3.12/lib/python3.12/site-packages (from dataclasses-json<0.7,>=0.5.7->langchain-community) (3.23.1)\n",
      "Requirement already satisfied: typing-inspect<1,>=0.4.0 in /Library/Frameworks/Python.framework/Versions/3.12/lib/python3.12/site-packages (from dataclasses-json<0.7,>=0.5.7->langchain-community) (0.9.0)\n",
      "Requirement already satisfied: fsspec>=2023.5.0 in /Library/Frameworks/Python.framework/Versions/3.12/lib/python3.12/site-packages (from huggingface-hub<1.0,>=0.23.2->transformers) (2024.10.0)\n",
      "Requirement already satisfied: jsonpatch<2.0,>=1.33 in /Library/Frameworks/Python.framework/Versions/3.12/lib/python3.12/site-packages (from langchain-core<0.4.0,>=0.3.15->langchain) (1.33)\n",
      "Requirement already satisfied: httpx<1,>=0.23.0 in /Library/Frameworks/Python.framework/Versions/3.12/lib/python3.12/site-packages (from langsmith<0.2.0,>=0.1.17->langchain) (0.27.2)\n",
      "Requirement already satisfied: orjson<4.0.0,>=3.9.14 in /Library/Frameworks/Python.framework/Versions/3.12/lib/python3.12/site-packages (from langsmith<0.2.0,>=0.1.17->langchain) (3.10.11)\n",
      "Requirement already satisfied: requests-toolbelt<2.0.0,>=1.0.0 in /Library/Frameworks/Python.framework/Versions/3.12/lib/python3.12/site-packages (from langsmith<0.2.0,>=0.1.17->langchain) (1.0.0)\n",
      "Requirement already satisfied: anyio<5,>=3.5.0 in /Library/Frameworks/Python.framework/Versions/3.12/lib/python3.12/site-packages (from openai<2.0.0,>=1.54.0->langchain-openai) (4.4.0)\n",
      "Requirement already satisfied: distro<2,>=1.7.0 in /Library/Frameworks/Python.framework/Versions/3.12/lib/python3.12/site-packages (from openai<2.0.0,>=1.54.0->langchain-openai) (1.9.0)\n",
      "Requirement already satisfied: jiter<1,>=0.4.0 in /Library/Frameworks/Python.framework/Versions/3.12/lib/python3.12/site-packages (from openai<2.0.0,>=1.54.0->langchain-openai) (0.6.1)\n",
      "Requirement already satisfied: sniffio in /Library/Frameworks/Python.framework/Versions/3.12/lib/python3.12/site-packages (from openai<2.0.0,>=1.54.0->langchain-openai) (1.3.1)\n",
      "Requirement already satisfied: annotated-types>=0.6.0 in /Library/Frameworks/Python.framework/Versions/3.12/lib/python3.12/site-packages (from pydantic<3.0.0,>=2.7.4->langchain) (0.7.0)\n",
      "Requirement already satisfied: pydantic-core==2.23.4 in /Library/Frameworks/Python.framework/Versions/3.12/lib/python3.12/site-packages (from pydantic<3.0.0,>=2.7.4->langchain) (2.23.4)\n",
      "Requirement already satisfied: python-dotenv>=0.21.0 in /Library/Frameworks/Python.framework/Versions/3.12/lib/python3.12/site-packages (from pydantic-settings<3.0.0,>=2.4.0->langchain-community) (1.0.1)\n",
      "Requirement already satisfied: charset-normalizer<4,>=2 in /Library/Frameworks/Python.framework/Versions/3.12/lib/python3.12/site-packages (from requests->transformers) (3.3.2)\n",
      "Requirement already satisfied: idna<4,>=2.5 in /Library/Frameworks/Python.framework/Versions/3.12/lib/python3.12/site-packages (from requests->transformers) (3.8)\n",
      "Requirement already satisfied: urllib3<3,>=1.21.1 in /Library/Frameworks/Python.framework/Versions/3.12/lib/python3.12/site-packages (from requests->transformers) (2.2.2)\n",
      "Requirement already satisfied: certifi>=2017.4.17 in /Library/Frameworks/Python.framework/Versions/3.12/lib/python3.12/site-packages (from requests->transformers) (2024.8.30)\n",
      "Requirement already satisfied: networkx in /Library/Frameworks/Python.framework/Versions/3.12/lib/python3.12/site-packages (from torch>=1.11.0->sentence-transformers) (3.4.2)\n",
      "Requirement already satisfied: jinja2 in /Library/Frameworks/Python.framework/Versions/3.12/lib/python3.12/site-packages (from torch>=1.11.0->sentence-transformers) (3.1.4)\n",
      "Requirement already satisfied: setuptools in /Library/Frameworks/Python.framework/Versions/3.12/lib/python3.12/site-packages (from torch>=1.11.0->sentence-transformers) (75.3.0)\n",
      "Requirement already satisfied: sympy==1.13.1 in /Library/Frameworks/Python.framework/Versions/3.12/lib/python3.12/site-packages (from torch>=1.11.0->sentence-transformers) (1.13.1)\n",
      "Requirement already satisfied: mpmath<1.4,>=1.1.0 in /Library/Frameworks/Python.framework/Versions/3.12/lib/python3.12/site-packages (from sympy==1.13.1->torch>=1.11.0->sentence-transformers) (1.3.0)\n",
      "Requirement already satisfied: soupsieve>1.2 in /Library/Frameworks/Python.framework/Versions/3.12/lib/python3.12/site-packages (from beautifulsoup4->unstructured) (2.6)\n",
      "Requirement already satisfied: six>=1.9 in /Library/Frameworks/Python.framework/Versions/3.12/lib/python3.12/site-packages (from html5lib->unstructured) (1.16.0)\n",
      "Requirement already satisfied: webencodings in /Library/Frameworks/Python.framework/Versions/3.12/lib/python3.12/site-packages (from html5lib->unstructured) (0.5.1)\n",
      "Requirement already satisfied: click in /Library/Frameworks/Python.framework/Versions/3.12/lib/python3.12/site-packages (from nltk->unstructured) (8.1.7)\n",
      "Requirement already satisfied: joblib in /Library/Frameworks/Python.framework/Versions/3.12/lib/python3.12/site-packages (from nltk->unstructured) (1.4.2)\n",
      "Requirement already satisfied: olefile in /Library/Frameworks/Python.framework/Versions/3.12/lib/python3.12/site-packages (from python-oxmsg->unstructured) (0.47)\n",
      "Requirement already satisfied: threadpoolctl>=3.1.0 in /Library/Frameworks/Python.framework/Versions/3.12/lib/python3.12/site-packages (from scikit-learn->sentence-transformers) (3.5.0)\n",
      "Requirement already satisfied: cryptography>=3.1 in /Library/Frameworks/Python.framework/Versions/3.12/lib/python3.12/site-packages (from unstructured-client->unstructured) (43.0.3)\n",
      "Requirement already satisfied: eval-type-backport<0.3.0,>=0.2.0 in /Library/Frameworks/Python.framework/Versions/3.12/lib/python3.12/site-packages (from unstructured-client->unstructured) (0.2.0)\n",
      "Requirement already satisfied: jsonpath-python<2.0.0,>=1.0.6 in /Library/Frameworks/Python.framework/Versions/3.12/lib/python3.12/site-packages (from unstructured-client->unstructured) (1.0.6)\n",
      "Requirement already satisfied: nest-asyncio>=1.6.0 in /Library/Frameworks/Python.framework/Versions/3.12/lib/python3.12/site-packages (from unstructured-client->unstructured) (1.6.0)\n",
      "Requirement already satisfied: pypdf>=4.0 in /Library/Frameworks/Python.framework/Versions/3.12/lib/python3.12/site-packages (from unstructured-client->unstructured) (5.1.0)\n",
      "Requirement already satisfied: python-dateutil==2.8.2 in /Library/Frameworks/Python.framework/Versions/3.12/lib/python3.12/site-packages (from unstructured-client->unstructured) (2.8.2)\n",
      "Requirement already satisfied: cffi>=1.12 in /Library/Frameworks/Python.framework/Versions/3.12/lib/python3.12/site-packages (from cryptography>=3.1->unstructured-client->unstructured) (1.17.1)\n",
      "Requirement already satisfied: httpcore==1.* in /Library/Frameworks/Python.framework/Versions/3.12/lib/python3.12/site-packages (from httpx<1,>=0.23.0->langsmith<0.2.0,>=0.1.17->langchain) (1.0.5)\n",
      "Requirement already satisfied: h11<0.15,>=0.13 in /Library/Frameworks/Python.framework/Versions/3.12/lib/python3.12/site-packages (from httpcore==1.*->httpx<1,>=0.23.0->langsmith<0.2.0,>=0.1.17->langchain) (0.14.0)\n",
      "Requirement already satisfied: jsonpointer>=1.9 in /Library/Frameworks/Python.framework/Versions/3.12/lib/python3.12/site-packages (from jsonpatch<2.0,>=1.33->langchain-core<0.4.0,>=0.3.15->langchain) (3.0.0)\n",
      "Requirement already satisfied: mypy-extensions>=0.3.0 in /Library/Frameworks/Python.framework/Versions/3.12/lib/python3.12/site-packages (from typing-inspect<1,>=0.4.0->dataclasses-json<0.7,>=0.5.7->langchain-community) (1.0.0)\n",
      "Requirement already satisfied: propcache>=0.2.0 in /Library/Frameworks/Python.framework/Versions/3.12/lib/python3.12/site-packages (from yarl<2.0,>=1.12.0->aiohttp<4.0.0,>=3.8.3->langchain) (0.2.0)\n",
      "Requirement already satisfied: MarkupSafe>=2.0 in /Library/Frameworks/Python.framework/Versions/3.12/lib/python3.12/site-packages (from jinja2->torch>=1.11.0->sentence-transformers) (2.1.5)\n",
      "Requirement already satisfied: pycparser in /Library/Frameworks/Python.framework/Versions/3.12/lib/python3.12/site-packages (from cffi>=1.12->cryptography>=3.1->unstructured-client->unstructured) (2.22)\n",
      "Downloading langchain_openai-0.2.6-py3-none-any.whl (50 kB)\n",
      "Downloading openai-1.54.3-py3-none-any.whl (389 kB)\n",
      "Downloading tiktoken-0.8.0-cp312-cp312-macosx_11_0_arm64.whl (982 kB)\n",
      "\u001b[2K   \u001b[90m━━━━━━━━━━━━━━━━━━━━━━━━━━━━━━━━━━━━━━━━\u001b[0m \u001b[32m982.6/982.6 kB\u001b[0m \u001b[31m8.9 MB/s\u001b[0m eta \u001b[36m0:00:00\u001b[0m\n",
      "\u001b[?25hInstalling collected packages: tiktoken, openai, langchain-openai\n",
      "  Attempting uninstall: openai\n",
      "    Found existing installation: openai 1.52.0\n",
      "    Uninstalling openai-1.52.0:\n",
      "      Successfully uninstalled openai-1.52.0\n",
      "Successfully installed langchain-openai-0.2.6 openai-1.54.3 tiktoken-0.8.0\n"
     ]
    }
   ],
   "source": [
    "!pip install transformers sentence-transformers langchain langchain-community langchain-openai faiss-cpu unstructured "
   ]
  },
  {
   "cell_type": "code",
   "execution_count": 1,
   "id": "934bdf7c-fbdb-47f1-995d-dc3d61b2806b",
   "metadata": {},
   "outputs": [],
   "source": [
    "from langchain_community.document_loaders.csv_loader import CSVLoader\n",
    "from pathlib import Path\n",
    "from langchain_openai import ChatOpenAI,OpenAIEmbeddings\n",
    "import os\n",
    "from dotenv import load_dotenv\n",
    "import faiss\n",
    "from langchain_community.docstore.in_memory import InMemoryDocstore\n",
    "from langchain_community.vectorstores import FAISS\n",
    "from langchain_core.prompts import ChatPromptTemplate\n",
    "from langchain.chains import create_retrieval_chain\n",
    "from langchain.chains.combine_documents import create_stuff_documents_chain\n",
    "from langchain.agents import Tool, AgentExecutor, ConversationalAgent\n",
    "from langchain.memory import ConversationBufferMemory\n",
    "from langchain import OpenAI, LLMChain\n",
    "from langchain.chains import RetrievalQA"
   ]
  },
  {
   "cell_type": "code",
   "execution_count": 2,
   "id": "1b1f1613-8504-44d9-8c56-1c862c751e0c",
   "metadata": {},
   "outputs": [],
   "source": [
    "load_dotenv()\n",
    "\n",
    "# Set the OpenAI API key environment variable\n",
    "os.environ[\"OPENAI_API_KEY\"] = os.getenv('OPENAI_API_KEY')\n",
    "\n"
   ]
  },
  {
   "cell_type": "code",
   "execution_count": 3,
   "id": "3a8df188-7a54-40f4-b9f3-59e81bff5374",
   "metadata": {},
   "outputs": [],
   "source": [
    "llm = ChatOpenAI(model=\"gpt-4o-mini\")"
   ]
  },
  {
   "cell_type": "code",
   "execution_count": 4,
   "id": "0f5475bd-8a0a-4d35-9268-3dcb3a8cc5ac",
   "metadata": {},
   "outputs": [
    {
     "data": {
      "text/html": [
       "<div>\n",
       "<style scoped>\n",
       "    .dataframe tbody tr th:only-of-type {\n",
       "        vertical-align: middle;\n",
       "    }\n",
       "\n",
       "    .dataframe tbody tr th {\n",
       "        vertical-align: top;\n",
       "    }\n",
       "\n",
       "    .dataframe thead th {\n",
       "        text-align: right;\n",
       "    }\n",
       "</style>\n",
       "<table border=\"1\" class=\"dataframe\">\n",
       "  <thead>\n",
       "    <tr style=\"text-align: right;\">\n",
       "      <th></th>\n",
       "      <th>Kategori</th>\n",
       "      <th>urun</th>\n",
       "      <th>?cindekiler</th>\n",
       "      <th>Fiyat</th>\n",
       "    </tr>\n",
       "  </thead>\n",
       "  <tbody>\n",
       "    <tr>\n",
       "      <th>0</th>\n",
       "      <td>Baslangiclar</td>\n",
       "      <td>Nachos</td>\n",
       "      <td>El yapimi tortilla cips, cheddar, yesil sogan,...</td>\n",
       "      <td>120 TL</td>\n",
       "    </tr>\n",
       "    <tr>\n",
       "      <th>1</th>\n",
       "      <td>Baslangiclar</td>\n",
       "      <td>Mozzarella cubuklari</td>\n",
       "      <td>Pane mozzarella cubuklari, pesto sos</td>\n",
       "      <td>115 TL</td>\n",
       "    </tr>\n",
       "    <tr>\n",
       "      <th>2</th>\n",
       "      <td>Baslangiclar</td>\n",
       "      <td>Tavuk Kanatlari</td>\n",
       "      <td>Pane tavuk kanatlari; sos secenekleri: BBQ, ha...</td>\n",
       "      <td>125 TL</td>\n",
       "    </tr>\n",
       "    <tr>\n",
       "      <th>3</th>\n",
       "      <td>Baslangiclar</td>\n",
       "      <td>Karides Tava</td>\n",
       "      <td>Jumbo karides, sarimsak, tereyagi, limon suyu,...</td>\n",
       "      <td>150 TL</td>\n",
       "    </tr>\n",
       "    <tr>\n",
       "      <th>4</th>\n",
       "      <td>Baslangiclar</td>\n",
       "      <td>Falafel Tabagi</td>\n",
       "      <td>Falafel koftesi, humus, tahin sos, salata</td>\n",
       "      <td>75 TL</td>\n",
       "    </tr>\n",
       "  </tbody>\n",
       "</table>\n",
       "</div>"
      ],
      "text/plain": [
       "       Kategori                  urun  \\\n",
       "0  Baslangiclar                Nachos   \n",
       "1  Baslangiclar  Mozzarella cubuklari   \n",
       "2  Baslangiclar       Tavuk Kanatlari   \n",
       "3  Baslangiclar          Karides Tava   \n",
       "4  Baslangiclar        Falafel Tabagi   \n",
       "\n",
       "                                         ?cindekiler   Fiyat  \n",
       "0  El yapimi tortilla cips, cheddar, yesil sogan,...  120 TL  \n",
       "1               Pane mozzarella cubuklari, pesto sos  115 TL  \n",
       "2  Pane tavuk kanatlari; sos secenekleri: BBQ, ha...  125 TL  \n",
       "3  Jumbo karides, sarimsak, tereyagi, limon suyu,...  150 TL  \n",
       "4          Falafel koftesi, humus, tahin sos, salata   75 TL  "
      ]
     },
     "execution_count": 4,
     "metadata": {},
     "output_type": "execute_result"
    }
   ],
   "source": [
    "import pandas as pd\n",
    "\n",
    "file_path = ('menu1.csv') # insert the path of the csv file\n",
    "data = pd.read_csv(file_path,sep=';')\n",
    "\n",
    "#preview the csv file\n",
    "data.head()"
   ]
  },
  {
   "cell_type": "code",
   "execution_count": 5,
   "id": "8b5fcc40-54a5-4a6e-8b8c-48fcf990fe96",
   "metadata": {},
   "outputs": [],
   "source": [
    "loader = CSVLoader(file_path=file_path)\n",
    "docs = loader.load_and_split()"
   ]
  },
  {
   "cell_type": "code",
   "execution_count": 6,
   "id": "26caf025-533b-405d-8630-b068e8e64df1",
   "metadata": {},
   "outputs": [],
   "source": [
    "embeddings = OpenAIEmbeddings()\n",
    "index = faiss.IndexFlatL2(len(OpenAIEmbeddings().embed_query(\" \")))\n",
    "vector_store = FAISS(\n",
    "    embedding_function=OpenAIEmbeddings(),\n",
    "    index=index,\n",
    "    docstore=InMemoryDocstore(),\n",
    "    index_to_docstore_id={}\n",
    ")"
   ]
  },
  {
   "cell_type": "code",
   "execution_count": null,
   "id": "3a07f7ba-303e-4eb5-be38-440529d338da",
   "metadata": {},
   "outputs": [],
   "source": []
  },
  {
   "cell_type": "code",
   "execution_count": 7,
   "id": "dadb1595-63de-45ad-aae3-c1c8b293445c",
   "metadata": {},
   "outputs": [
    {
     "ename": "AttributeError",
     "evalue": "'dict' object has no attribute 'id'",
     "output_type": "error",
     "traceback": [
      "\u001b[0;31m---------------------------------------------------------------------------\u001b[0m",
      "\u001b[0;31mAttributeError\u001b[0m                            Traceback (most recent call last)",
      "Cell \u001b[0;32mIn[7], line 1\u001b[0m\n\u001b[0;32m----> 1\u001b[0m \u001b[43mvector_store\u001b[49m\u001b[38;5;241;43m.\u001b[39;49m\u001b[43madd_documents\u001b[49m\u001b[43m(\u001b[49m\u001b[43mdocuments\u001b[49m\u001b[38;5;241;43m=\u001b[39;49m\u001b[43mdata\u001b[49m\u001b[38;5;241;43m.\u001b[39;49m\u001b[43mto_dict\u001b[49m\u001b[43m(\u001b[49m\u001b[38;5;124;43m'\u001b[39;49m\u001b[38;5;124;43mrecords\u001b[39;49m\u001b[38;5;124;43m'\u001b[39;49m\u001b[43m)\u001b[49m\u001b[43m)\u001b[49m\n",
      "File \u001b[0;32m/Library/Frameworks/Python.framework/Versions/3.12/lib/python3.12/site-packages/langchain_core/vectorstores/base.py:278\u001b[0m, in \u001b[0;36mVectorStore.add_documents\u001b[0;34m(self, documents, **kwargs)\u001b[0m\n\u001b[1;32m    276\u001b[0m \u001b[38;5;28;01mif\u001b[39;00m \u001b[38;5;28mtype\u001b[39m(\u001b[38;5;28mself\u001b[39m)\u001b[38;5;241m.\u001b[39madd_texts \u001b[38;5;241m!=\u001b[39m VectorStore\u001b[38;5;241m.\u001b[39madd_texts:\n\u001b[1;32m    277\u001b[0m     \u001b[38;5;28;01mif\u001b[39;00m \u001b[38;5;124m\"\u001b[39m\u001b[38;5;124mids\u001b[39m\u001b[38;5;124m\"\u001b[39m \u001b[38;5;129;01mnot\u001b[39;00m \u001b[38;5;129;01min\u001b[39;00m kwargs:\n\u001b[0;32m--> 278\u001b[0m         ids \u001b[38;5;241m=\u001b[39m [\u001b[43mdoc\u001b[49m\u001b[38;5;241;43m.\u001b[39;49m\u001b[43mid\u001b[49m \u001b[38;5;28;01mfor\u001b[39;00m doc \u001b[38;5;129;01min\u001b[39;00m documents]\n\u001b[1;32m    280\u001b[0m         \u001b[38;5;66;03m# If there's at least one valid ID, we'll assume that IDs\u001b[39;00m\n\u001b[1;32m    281\u001b[0m         \u001b[38;5;66;03m# should be used.\u001b[39;00m\n\u001b[1;32m    282\u001b[0m         \u001b[38;5;28;01mif\u001b[39;00m \u001b[38;5;28many\u001b[39m(ids):\n",
      "\u001b[0;31mAttributeError\u001b[0m: 'dict' object has no attribute 'id'"
     ]
    }
   ],
   "source": [
    "vector_store.add_documents(documents=data.to_dict('records'))"
   ]
  },
  {
   "cell_type": "code",
   "execution_count": 8,
   "id": "ec4f385f-da41-49d2-995e-1ee90a06afa7",
   "metadata": {},
   "outputs": [
    {
     "data": {
      "text/plain": [
       "['37474185-1a52-4797-8d30-e94fc8e82350',\n",
       " '621edb7e-6410-4d02-8c5d-eb6a86263f85',\n",
       " '600bab12-2323-4398-814c-0e485f6fc00e',\n",
       " '83267e4e-3157-4077-b20d-d9e2f198737b',\n",
       " '4a14454a-1f8c-47fb-a0e9-965ea0e0aa8a',\n",
       " '744f1adb-a335-4b8f-a0b7-bdad13dc20e6',\n",
       " '50c29cf2-141b-4727-b940-6b85767d7852',\n",
       " '6d9e8537-7ae2-4f71-bbe1-96500fde102c',\n",
       " 'dc3f14eb-f4ef-4731-b1dc-87e11a196e72',\n",
       " '208a2983-da7b-4a9b-adb7-15da274c39cb',\n",
       " 'da9e81f8-417c-4fda-8ca5-357ee970352c',\n",
       " '20f387ec-a8e9-4677-b7dc-c5d00e9e4e50',\n",
       " 'e0214975-e4c1-45c7-be7d-67d325fc2fee',\n",
       " '5eaab16b-0efd-42fe-998b-950711c5e1d6',\n",
       " 'b1c3507b-0313-4a75-9215-6c90bee1ff68',\n",
       " '743e4602-e717-4cfc-9896-c74a4af50c0d',\n",
       " 'ebc3b67f-b92e-43c6-9ba2-e363a2dccdb3',\n",
       " '77cd8506-e250-49ac-b9d3-cbcd98deb4e2',\n",
       " '3588a670-f023-4852-a620-ade910d53992',\n",
       " '45a5b945-cffd-4f80-a456-6f0a4c825ec6',\n",
       " 'a1c66835-e8d4-4c07-acbb-22f27785f9ff',\n",
       " 'f643dd3c-5538-4b8e-ac10-e04a64a5ada4',\n",
       " 'd6d167cb-ab67-443b-a390-da1f21742fa1',\n",
       " '77dbc927-75fc-4d00-a20b-dbf426baf888',\n",
       " 'dd57f66c-14c3-472f-8c73-6c1371af62a5',\n",
       " 'b2433723-6f55-4308-b0ba-596d38928f91',\n",
       " '9d73913d-17f3-43db-bdd3-289be09aa454',\n",
       " 'e03e1c10-6a91-4448-99ae-e8caed52f62c',\n",
       " '0b9f2a0f-2bf0-473a-81ae-1e98b42c0f43',\n",
       " 'a0daa075-7d1b-480d-bf13-4875e75ff77c',\n",
       " '1903b407-1fda-44c6-9b12-e77ecb96c86b',\n",
       " '70cc535a-c5f8-436f-9d4c-76023446f1b0',\n",
       " '81815eca-e74e-40dd-9684-a3644a875a2f',\n",
       " 'bf3663ff-a91a-44e7-b4d0-1b30fd733ba3',\n",
       " '4c0f5e85-2524-4223-b059-c3ec20713dc5',\n",
       " 'd09a6312-5797-4e21-ac13-3204a0b36f2f',\n",
       " '7de1cb21-91c2-407e-8bcd-1759d36e868c',\n",
       " '83b92929-e062-4a78-97bf-654e937d2fea',\n",
       " '3daf2144-82a9-4021-ab1f-e46a4a2db757',\n",
       " '11e010e5-841d-4112-8784-881452a0d362']"
      ]
     },
     "execution_count": 8,
     "metadata": {},
     "output_type": "execute_result"
    }
   ],
   "source": [
    "vector_store.add_documents(documents=docs)\n"
   ]
  },
  {
   "cell_type": "code",
   "execution_count": 9,
   "id": "62e7d048-a363-424c-840a-b2c0376ef626",
   "metadata": {},
   "outputs": [],
   "source": [
    "retriever = vector_store.as_retriever()\n"
   ]
  },
  {
   "cell_type": "code",
   "execution_count": 10,
   "id": "83a19a61-b0a9-4fec-86d6-2b2a5b9f14a5",
   "metadata": {},
   "outputs": [
    {
     "name": "stderr",
     "output_type": "stream",
     "text": [
      "/var/folders/04/nhwvkmt13753zn37rgwn35zr0000gn/T/ipykernel_74470/1472858254.py:19: LangChainDeprecationWarning: The class `LLMChain` was deprecated in LangChain 0.1.17 and will be removed in 1.0. Use :meth:`~RunnableSequence, e.g., `prompt | llm`` instead.\n",
      "  llm_chain = LLMChain(llm=llm, prompt=prompt)\n"
     ]
    }
   ],
   "source": [
    "system_prompt = (\n",
    "    \"You are a waiter for question-answering tasks. \"\n",
    "    \"Use the following pieces of retrieved context to answer \"\n",
    "    \"the question. If you don't know the answer, say that you \"\n",
    "    \"don't know.And dont reccommend anythin outside the menu youve recieved. Use three sentences maximum and keep the \"\n",
    "    \"answer concise.\"\n",
    "    \"\\n\\n\"\n",
    "    \"{context}\"\n",
    ")\n",
    "\n",
    "prompt = ChatPromptTemplate.from_messages([\n",
    "    (\"system\", system_prompt),\n",
    "    (\"human\", \"{input}\"),\n",
    "    \n",
    "])\n",
    "\n",
    "# Create the question-answer chain\n",
    "#question_answer_chain = create_stuff_documents_chain(llm, prompt)\n",
    "llm_chain = LLMChain(llm=llm, prompt=prompt)\n",
    "#rag_chain = create_retrieval_chain(retriever, question_answer_chain)\n",
    "def create_retrieval_chain(retriever, llm_chain):\n",
    "    return RetrievalQA.from_chain_type(\n",
    "        llm=llm,\n",
    "        chain_type=\"stuff\",\n",
    "        retriever=retriever,\n",
    "        input_key=\"query\"\n",
    "    )\n",
    "rag_chain = create_retrieval_chain(retriever, llm_chain)"
   ]
  },
  {
   "cell_type": "code",
   "execution_count": 11,
   "id": "16589d10-039c-43c7-bda2-ecb756a69cd1",
   "metadata": {},
   "outputs": [
    {
     "name": "stdout",
     "output_type": "stream",
     "text": [
      "Neli pizzalarımız şunlardır:\n",
      "\n",
      "1. Etli Pizza - İçindekiler: Jambon, tavuk, bacon, mozzarella, beyaz sos. Fiyat: 145 TL\n",
      "2. Peynirli Tavuk Pizza - İçindekiler: Tavuk, cheddar, rokfor, mantar, sarımsak sos. Fiyat: 110 TL\n",
      "3. Margarita Pizza - İçindekiler: Domates, mozzarella, fesleğen, zeytinyağı. Fiyat: 85 TL\n",
      "4. Acili Deniz Pizza - İçindekiler: Karides, somon, domates, mozzarella, beyaz sos. Fiyat: 145 TL\n"
     ]
    }
   ],
   "source": [
    "question = \"neli pizzalarınız var \"\n",
    "response = rag_chain.invoke({\"query\": question})\n",
    "print(response[\"result\"])\n",
    "\n"
   ]
  },
  {
   "cell_type": "code",
   "execution_count": 12,
   "id": "c32f48ce-c102-4db8-a606-d7ca59f1d9ec",
   "metadata": {},
   "outputs": [
    {
     "name": "stdout",
     "output_type": "stream",
     "text": [
      "Pizzaların fiyatları şu şekildedir:\n",
      "\n",
      "1. Etli Pizza: 145 TL\n",
      "2. Peynirli Tavuk Pizza: 110 TL\n",
      "3. Margarita Pizza: 85 TL\n",
      "4. Acili Deniz Pizza: 145 TL\n"
     ]
    }
   ],
   "source": [
    "question = \"pizzaların fiyatı nedir \"\n",
    "response = rag_chain.invoke({\"query\": question})\n",
    "print(response[\"result\"])"
   ]
  },
  {
   "cell_type": "code",
   "execution_count": 13,
   "id": "f7ecc414-fb2d-4b7b-aea7-7547df30fcc7",
   "metadata": {},
   "outputs": [],
   "source": [
    "from langchain.output_parsers import PydanticOutputParser\n",
    "from pydantic import BaseModel ,Field ,validator\n",
    "from typing import List\n",
    "from typing import Optional\n",
    "from langchain.chains import create_tagging_chain ,create_tagging_chain_pydantic"
   ]
  },
  {
   "cell_type": "code",
   "execution_count": 150,
   "id": "4713bca5-1330-4027-8dc6-dd32e314a3b1",
   "metadata": {
    "scrolled": true
   },
   "outputs": [
    {
     "name": "stdout",
     "output_type": "stream",
     "text": [
      "Collecting kor\n",
      "  Downloading kor-3.0.0-py3-none-any.whl.metadata (8.4 kB)\n",
      "Requirement already satisfied: langchain-core<0.4,>=0.3 in /Library/Frameworks/Python.framework/Versions/3.12/lib/python3.12/site-packages (from kor) (0.3.15)\n",
      "Requirement already satisfied: pandas<3,>=1.5.3 in /Library/Frameworks/Python.framework/Versions/3.12/lib/python3.12/site-packages (from kor) (2.2.3)\n",
      "Requirement already satisfied: pydantic<3,>=2 in /Library/Frameworks/Python.framework/Versions/3.12/lib/python3.12/site-packages (from kor) (2.9.2)\n",
      "Requirement already satisfied: PyYAML>=5.3 in /Library/Frameworks/Python.framework/Versions/3.12/lib/python3.12/site-packages (from langchain-core<0.4,>=0.3->kor) (6.0.2)\n",
      "Requirement already satisfied: jsonpatch<2.0,>=1.33 in /Library/Frameworks/Python.framework/Versions/3.12/lib/python3.12/site-packages (from langchain-core<0.4,>=0.3->kor) (1.33)\n",
      "Requirement already satisfied: langsmith<0.2.0,>=0.1.125 in /Library/Frameworks/Python.framework/Versions/3.12/lib/python3.12/site-packages (from langchain-core<0.4,>=0.3->kor) (0.1.139)\n",
      "Requirement already satisfied: packaging<25,>=23.2 in /Library/Frameworks/Python.framework/Versions/3.12/lib/python3.12/site-packages (from langchain-core<0.4,>=0.3->kor) (24.1)\n",
      "Requirement already satisfied: tenacity!=8.4.0,<10.0.0,>=8.1.0 in /Library/Frameworks/Python.framework/Versions/3.12/lib/python3.12/site-packages (from langchain-core<0.4,>=0.3->kor) (9.0.0)\n",
      "Requirement already satisfied: typing-extensions>=4.7 in /Library/Frameworks/Python.framework/Versions/3.12/lib/python3.12/site-packages (from langchain-core<0.4,>=0.3->kor) (4.12.2)\n",
      "Requirement already satisfied: numpy>=1.26.0 in /Library/Frameworks/Python.framework/Versions/3.12/lib/python3.12/site-packages (from pandas<3,>=1.5.3->kor) (1.26.4)\n",
      "Requirement already satisfied: python-dateutil>=2.8.2 in /Library/Frameworks/Python.framework/Versions/3.12/lib/python3.12/site-packages (from pandas<3,>=1.5.3->kor) (2.8.2)\n",
      "Requirement already satisfied: pytz>=2020.1 in /Library/Frameworks/Python.framework/Versions/3.12/lib/python3.12/site-packages (from pandas<3,>=1.5.3->kor) (2024.2)\n",
      "Requirement already satisfied: tzdata>=2022.7 in /Library/Frameworks/Python.framework/Versions/3.12/lib/python3.12/site-packages (from pandas<3,>=1.5.3->kor) (2024.2)\n",
      "Requirement already satisfied: annotated-types>=0.6.0 in /Library/Frameworks/Python.framework/Versions/3.12/lib/python3.12/site-packages (from pydantic<3,>=2->kor) (0.7.0)\n",
      "Requirement already satisfied: pydantic-core==2.23.4 in /Library/Frameworks/Python.framework/Versions/3.12/lib/python3.12/site-packages (from pydantic<3,>=2->kor) (2.23.4)\n",
      "Requirement already satisfied: jsonpointer>=1.9 in /Library/Frameworks/Python.framework/Versions/3.12/lib/python3.12/site-packages (from jsonpatch<2.0,>=1.33->langchain-core<0.4,>=0.3->kor) (3.0.0)\n",
      "Requirement already satisfied: httpx<1,>=0.23.0 in /Library/Frameworks/Python.framework/Versions/3.12/lib/python3.12/site-packages (from langsmith<0.2.0,>=0.1.125->langchain-core<0.4,>=0.3->kor) (0.27.2)\n",
      "Requirement already satisfied: orjson<4.0.0,>=3.9.14 in /Library/Frameworks/Python.framework/Versions/3.12/lib/python3.12/site-packages (from langsmith<0.2.0,>=0.1.125->langchain-core<0.4,>=0.3->kor) (3.10.11)\n",
      "Requirement already satisfied: requests<3,>=2 in /Library/Frameworks/Python.framework/Versions/3.12/lib/python3.12/site-packages (from langsmith<0.2.0,>=0.1.125->langchain-core<0.4,>=0.3->kor) (2.32.3)\n",
      "Requirement already satisfied: requests-toolbelt<2.0.0,>=1.0.0 in /Library/Frameworks/Python.framework/Versions/3.12/lib/python3.12/site-packages (from langsmith<0.2.0,>=0.1.125->langchain-core<0.4,>=0.3->kor) (1.0.0)\n",
      "Requirement already satisfied: six>=1.5 in /Library/Frameworks/Python.framework/Versions/3.12/lib/python3.12/site-packages (from python-dateutil>=2.8.2->pandas<3,>=1.5.3->kor) (1.16.0)\n",
      "Requirement already satisfied: anyio in /Library/Frameworks/Python.framework/Versions/3.12/lib/python3.12/site-packages (from httpx<1,>=0.23.0->langsmith<0.2.0,>=0.1.125->langchain-core<0.4,>=0.3->kor) (4.4.0)\n",
      "Requirement already satisfied: certifi in /Library/Frameworks/Python.framework/Versions/3.12/lib/python3.12/site-packages (from httpx<1,>=0.23.0->langsmith<0.2.0,>=0.1.125->langchain-core<0.4,>=0.3->kor) (2024.8.30)\n",
      "Requirement already satisfied: httpcore==1.* in /Library/Frameworks/Python.framework/Versions/3.12/lib/python3.12/site-packages (from httpx<1,>=0.23.0->langsmith<0.2.0,>=0.1.125->langchain-core<0.4,>=0.3->kor) (1.0.5)\n",
      "Requirement already satisfied: idna in /Library/Frameworks/Python.framework/Versions/3.12/lib/python3.12/site-packages (from httpx<1,>=0.23.0->langsmith<0.2.0,>=0.1.125->langchain-core<0.4,>=0.3->kor) (3.8)\n",
      "Requirement already satisfied: sniffio in /Library/Frameworks/Python.framework/Versions/3.12/lib/python3.12/site-packages (from httpx<1,>=0.23.0->langsmith<0.2.0,>=0.1.125->langchain-core<0.4,>=0.3->kor) (1.3.1)\n",
      "Requirement already satisfied: h11<0.15,>=0.13 in /Library/Frameworks/Python.framework/Versions/3.12/lib/python3.12/site-packages (from httpcore==1.*->httpx<1,>=0.23.0->langsmith<0.2.0,>=0.1.125->langchain-core<0.4,>=0.3->kor) (0.14.0)\n",
      "Requirement already satisfied: charset-normalizer<4,>=2 in /Library/Frameworks/Python.framework/Versions/3.12/lib/python3.12/site-packages (from requests<3,>=2->langsmith<0.2.0,>=0.1.125->langchain-core<0.4,>=0.3->kor) (3.3.2)\n",
      "Requirement already satisfied: urllib3<3,>=1.21.1 in /Library/Frameworks/Python.framework/Versions/3.12/lib/python3.12/site-packages (from requests<3,>=2->langsmith<0.2.0,>=0.1.125->langchain-core<0.4,>=0.3->kor) (2.2.2)\n",
      "Downloading kor-3.0.0-py3-none-any.whl (31 kB)\n",
      "Installing collected packages: kor\n",
      "Successfully installed kor-3.0.0\n"
     ]
    }
   ],
   "source": [
    "!pip install kor"
   ]
  },
  {
   "cell_type": "code",
   "execution_count": 14,
   "id": "18d019c2-abab-4c20-9ce3-94031aa02bd8",
   "metadata": {},
   "outputs": [],
   "source": [
    "from kor.extraction import create_extraction_chain\n",
    "from kor.nodes import Object, Text, Number"
   ]
  },
  {
   "cell_type": "code",
   "execution_count": 15,
   "id": "e133749e-dbf6-453a-b57f-fb69a6e9d60b",
   "metadata": {},
   "outputs": [],
   "source": [
    "schema = Object(\n",
    "    id=\"menu_info\",\n",
    "    description=\"menu content if its ordered\",\n",
    "    attributes=[\n",
    "        Text(\n",
    "            id=\"name\",\n",
    "            description=\"menu items name if its ordered\",\n",
    "            examples=[\n",
    "                (\"ben etli pizza alayım\", \"etli pizza\"),\n",
    "                (\"iki latte istiyorum\", \"latte\"),\n",
    "                (\"hamburger verebilir misin\", \"hamburger\"),\n",
    "                (\"ızgara sipariş vermek istiyorum\", \"ızgara\"),\n",
    "                (\"bize çay yolla\", \"çay\"),\n",
    "                (\"salata sipariş ediyorum\", \"salata\")\n",
    "            ],\n",
    "        ),\n",
    "        Text(\n",
    "            id=\"non_name\",\n",
    "            description=\"menu items name if its not ordered\",\n",
    "            examples=[\n",
    "                (\"margarita pizzanın içinde ne var\", \"margarita pizza\"),\n",
    "                (\"latteniz var mı\", \"latte\"),\n",
    "                (\"lattede hangi süt kullanılıyor\", \"latte\"),\n",
    "                (\"hamburger çeşitleriniz nelerdir\", \"hamburger\")\n",
    "            ],\n",
    "        ),\n",
    "        Text(\n",
    "            id=\"quantity\",\n",
    "            description=\"Quantity of ordered menu item if its ordered\",\n",
    "            examples=[\n",
    "                (\"ben etli pizza alayım\", \"1\"),\n",
    "                (\"iki latte istiyorum\", \"2\"),\n",
    "            ],\n",
    "        ),\n",
    "    ],\n",
    "    examples=[\n",
    "        (\n",
    "            \"eğer içinde salata varsa ızgara menüsünü almak istiyorum\",\n",
    "            [{\"name\": \"ızgara menü\",\"quantity\":\"1\"}]\n",
    "        ),\n",
    "        (\n",
    "            \"hamburgerlerin içinde hangi çeşit et kullanıyorsunuz\",\n",
    "            [{\"non_name\": \"hamburger\"}]\n",
    "        ),\n",
    "        (\n",
    "            \"bize iki orta boy peynirli tavuk pizza yollar mısın\",\n",
    "            [{\"name\": \"peynirli tavuk pizza\",\"quantity\":\"2\"}]\n",
    "        ),\n",
    "    ],\n",
    "    many=True,\n",
    ")\n",
    "        \n",
    "                      \n",
    "                      "
   ]
  },
  {
   "cell_type": "code",
   "execution_count": 16,
   "id": "0e017d3e-40d4-48be-8105-00fe57e24e85",
   "metadata": {},
   "outputs": [
    {
     "data": {
      "text/plain": [
       "{'menu_info': [{'non_name': 'hamburger'}]}"
      ]
     },
     "execution_count": 16,
     "metadata": {},
     "output_type": "execute_result"
    }
   ],
   "source": [
    "user_input=\"2 adet çay istiyorum\"\n",
    "chain1=create_extraction_chain(llm,schema,encoder_or_encoder_class='json')\n",
    "chain1.invoke(\"hamburger çeşitleriniz nelerdir \")['data']"
   ]
  },
  {
   "cell_type": "code",
   "execution_count": 17,
   "id": "1678170f-08d3-49a7-9b2d-32f0b663ab8a",
   "metadata": {},
   "outputs": [
    {
     "data": {
      "text/plain": [
       "{'menu_info': [{'name': 'tavuklu pizza'}]}"
      ]
     },
     "execution_count": 17,
     "metadata": {},
     "output_type": "execute_result"
    }
   ],
   "source": [
    "chain1=create_extraction_chain(llm,schema,encoder_or_encoder_class='json')\n",
    "chain1.invoke(\" tavuklu pizzanın içinde barbekü sos varsa alayım\")['data']"
   ]
  },
  {
   "cell_type": "code",
   "execution_count": 18,
   "id": "59eddd83-f198-4777-99df-300b1159bf1e",
   "metadata": {},
   "outputs": [
    {
     "data": {
      "text/plain": [
       "{'menu_info': [{'non_name': 'acılı deniz pizza'}]}"
      ]
     },
     "execution_count": 18,
     "metadata": {},
     "output_type": "execute_result"
    }
   ],
   "source": [
    "chain1=create_extraction_chain(llm,schema,encoder_or_encoder_class='json')\n",
    "chain1.invoke(\"acılı deniz pizzanın içinde ne var\")['data']"
   ]
  },
  {
   "cell_type": "code",
   "execution_count": 19,
   "id": "d8fbdf07-7e5e-4120-a37c-ada2d48bec0d",
   "metadata": {},
   "outputs": [
    {
     "data": {
      "text/plain": [
       "{'menu_info': [{'non_name': 'çilekli tiramisu'}]}"
      ]
     },
     "execution_count": 19,
     "metadata": {},
     "output_type": "execute_result"
    }
   ],
   "source": [
    "chain1=create_extraction_chain(llm,schema,encoder_or_encoder_class='json')\n",
    "chain1.invoke(\"çilekli tiramisu var mı\")['data']"
   ]
  },
  {
   "cell_type": "code",
   "execution_count": 20,
   "id": "dae6cca3-572d-43ac-852f-abd62ca94c25",
   "metadata": {},
   "outputs": [
    {
     "data": {
      "text/plain": [
       "{'menu_info': [{'name': 'domates çorbası'}]}"
      ]
     },
     "execution_count": 20,
     "metadata": {},
     "output_type": "execute_result"
    }
   ],
   "source": [
    "chain1=create_extraction_chain(llm,schema,encoder_or_encoder_class='json')\n",
    "chain1.invoke(\"mercimek çorbası alacaktım ama vazgeçtim domates çorbası olsun\")['data']"
   ]
  },
  {
   "cell_type": "code",
   "execution_count": 21,
   "id": "8f75f080-ffd5-4835-92be-e8334344c935",
   "metadata": {},
   "outputs": [
    {
     "data": {
      "text/plain": [
       "{'menu_info': [{'non_name': 'hamburger'}]}"
      ]
     },
     "execution_count": 21,
     "metadata": {},
     "output_type": "execute_result"
    }
   ],
   "source": [
    "chain1=create_extraction_chain(llm,schema,encoder_or_encoder_class='json')\n",
    "chain1.invoke(\"hamburger çeşitleriniz nelerdir \")['data']"
   ]
  },
  {
   "cell_type": "code",
   "execution_count": 22,
   "id": "d5b1ae6e-107c-4f82-b660-b0e5f70f3940",
   "metadata": {},
   "outputs": [
    {
     "data": {
      "text/plain": [
       "{'menu_info': [{'name': 'latte', 'quantity': '2'}, {'name': 'etli pizza'}]}"
      ]
     },
     "execution_count": 22,
     "metadata": {},
     "output_type": "execute_result"
    }
   ],
   "source": [
    "chain1=create_extraction_chain(llm,schema,encoder_or_encoder_class='json')\n",
    "chain1.invoke(\"2 laktozsuz sütlü latte bir de etli pizza alayım\")['data']"
   ]
  },
  {
   "cell_type": "code",
   "execution_count": null,
   "id": "93eebef5-fa53-4fd5-850b-c123c42c0ef9",
   "metadata": {},
   "outputs": [],
   "source": []
  },
  {
   "cell_type": "code",
   "execution_count": 23,
   "id": "a6ddbc1c-d8cb-4293-b3b6-dc7584a99658",
   "metadata": {},
   "outputs": [],
   "source": [
    "extraction_chain = create_extraction_chain(\n",
    "    llm, \n",
    "    schema, \n",
    "    encoder_or_encoder_class='json' # Burada `llm` modeli `node` olarak atanır\n",
    ")"
   ]
  },
  {
   "cell_type": "code",
   "execution_count": 35,
   "id": "3c62a8fb-19ea-4aab-93eb-a8ebc443c94c",
   "metadata": {},
   "outputs": [],
   "source": [
    "def sohbet_et():\n",
    "    global siparisler\n",
    "    siparisler1 = []  # Her çağrıldığında siparişleri sıfırla\n",
    "    \n",
    "    # Geçmiş mesajları tutmak için listeyi sıfırdan başlat\n",
    "    gecmis_mesajlar1 = []\n",
    "    while True:\n",
    "        # Kullanıcıdan giriş al\n",
    "        cevap = input(\"Siz: \")\n",
    "        \n",
    "        # Çıkış komutu kontrolü\n",
    "        if cevap.lower() == \"exit\":\n",
    "            siparis_onayla(siparisler1)\n",
    "            break\n",
    "\n",
    "        gecmis_mesajlar1.append({\"role\": \"human\", \"content\": cevap})\n",
    "\n",
    "        \n",
    "        # RAG Chain ile menü sorularını cevapla\n",
    "        response = rag_chain.invoke({\"query\": cevap, \"messages\": gecmis_mesajlar1})\n",
    "\n",
    "        print(\"Cevap:\", response[\"result\"])\n",
    "        gecmis_mesajlar1.append({\"role\": \"assistant\", \"content\": response[\"result\"]})\n",
    "\n",
    "\n",
    "        \n",
    "        # Extraction Chain ile siparişleri al\n",
    "        extracted_data = extraction_chain.invoke({\"text\": cevap})[\"data\"]\n",
    "        print(\"Extraction Chain Output:\", extracted_data)\n",
    "        if \"menu_info\" in extracted_data:\n",
    "            for item in extracted_data[\"menu_info\"]:\n",
    "                if isinstance(item, dict) and 'name' in item:\n",
    "                    name = item.get('name', \"bilinmeyen\")\n",
    "                    quantity = item.get('quantity', \"1\")  # Varsayılan olarak quantity \"1\" olsun\n",
    "                    siparis = f\"{quantity} adet {name}\"\n",
    "                    siparisler1.append(siparis)\n",
    "                    print(\"Sipariş eklendi:\", siparis)\n",
    "\n"
   ]
  },
  {
   "cell_type": "code",
   "execution_count": 36,
   "id": "2f7ec9af-971f-40df-b770-8f0e53dbc017",
   "metadata": {},
   "outputs": [],
   "source": [
    "def siparis_onayla(siparisler):\n",
    "    if not siparisler:\n",
    "        print(\"Sipariş alınmadı.\")\n",
    "        return\n",
    "    \n",
    "    # Kullanıcıdan onay al\n",
    "    onay = input(\"Siparişler: {}. Onaylıyor musunuz? (evet/hayır): \".format(siparisler))\n",
    "    if onay.lower() == \"evet\":\n",
    "        with open(\"siparisler.txt\", \"w\") as f:\n",
    "            f.truncate(0)\n",
    "            for siparis in siparisler:\n",
    "                f.write(f\"{siparis}\\n\")\n",
    "        print(\"Siparişler kaydedildi.\")\n",
    "    else:\n",
    "        print(\"Siparişler iptal edildi.\")"
   ]
  },
  {
   "cell_type": "code",
   "execution_count": 42,
   "id": "0e13b43e-9af5-4066-bcff-f204b0d6790c",
   "metadata": {},
   "outputs": [
    {
     "name": "stdin",
     "output_type": "stream",
     "text": [
      "Siz:  etli pizza istiyorum 2 tane\n"
     ]
    },
    {
     "name": "stdout",
     "output_type": "stream",
     "text": [
      "Cevap: Etli pizza fiyatı 145 TL'dir. İki tanesi için toplam 290 TL ödemeniz gerekecek. Siparişinizi vermek ister misiniz?\n",
      "Extraction Chain Output: {'menu_info': [{'name': 'etli pizza', 'quantity': '2'}]}\n",
      "Sipariş eklendi: 2 adet etli pizza\n"
     ]
    },
    {
     "name": "stdin",
     "output_type": "stream",
     "text": [
      "Siz:  exit\n",
      "Siparişler: ['2 adet etli pizza']. Onaylıyor musunuz? (evet/hayır):  evet\n"
     ]
    },
    {
     "name": "stdout",
     "output_type": "stream",
     "text": [
      "Siparişler kaydedildi.\n"
     ]
    }
   ],
   "source": [
    "sohbet_et()\n"
   ]
  },
  {
   "cell_type": "code",
   "execution_count": 37,
   "id": "fc8a9ad9-fa29-4dda-9b69-2000f450281b",
   "metadata": {},
   "outputs": [
    {
     "name": "stdin",
     "output_type": "stream",
     "text": [
      "Siz:  neli pizzalarınız var \n"
     ]
    },
    {
     "name": "stdout",
     "output_type": "stream",
     "text": [
      "Cevap: Pizzalarınız arasında şu seçenekler bulunuyor:\n",
      "\n",
      "1. Etli Pizza - İçindekiler: Jambon, tavuk, bacon, mozzarella, beyaz sos - Fiyat: 145 TL\n",
      "2. Peynirli Tavuk Pizza - İçindekiler: Tavuk, cheddar, rokfor, mantar, sarımsak sos - Fiyat: 110 TL\n",
      "3. Margarita Pizza - İçindekiler: Domates, mozzarella, fesleğen, zeytinyağı - Fiyat: 85 TL\n",
      "4. Acili Deniz Pizza - İçindekiler: Karides, somon, domates, mozzarella, beyaz sos - Fiyat: 145 TL\n",
      "Extraction Chain Output: {'menu_info': [{'non_name': 'pizza'}]}\n"
     ]
    },
    {
     "name": "stdin",
     "output_type": "stream",
     "text": [
      "Siz:  etli pizzadan sonra hangi tatlıyı önerirsin \n"
     ]
    },
    {
     "name": "stdout",
     "output_type": "stream",
     "text": [
      "Cevap: Bilmiyorum.\n",
      "Extraction Chain Output: {'menu_info': [{'non_name': 'etli pizza'}]}\n"
     ]
    },
    {
     "name": "stdin",
     "output_type": "stream",
     "text": [
      "Siz:  hangi tatlılarınız var \n"
     ]
    },
    {
     "name": "stdout",
     "output_type": "stream",
     "text": [
      "Cevap: Mevcut tatlılar şunlardır:\n",
      "\n",
      "1. Cheesecake - Fiyat: 80 TL (İçindekiler: Krema peynir, biskuvi tabanı, meyve sosu)\n",
      "2. Tiramisu - Fiyat: 85 TL (İçindekiler: Mascarpone, espresso, özel bisküvi)\n",
      "3. Sufle - Fiyat: 65 TL (İçindekiler: Belçika çikolatası, tereyağı, un, yumurta)\n",
      "Extraction Chain Output: {'menu_info': []}\n"
     ]
    },
    {
     "name": "stdin",
     "output_type": "stream",
     "text": [
      "Siz:  o zaman 1 cheescake ekleyelim ama ana yemek konusunda kararsız kaldım \n"
     ]
    },
    {
     "name": "stdout",
     "output_type": "stream",
     "text": [
      "Cevap: Anladım, cheesecake eklemek istiyorsunuz. Ana yemek olarak ise ızgara tavuk ya da başka bir seçenek hakkında daha fazla bilgi almak ister misiniz? Düşündüğünüz başka bir yemek var mı?\n",
      "Extraction Chain Output: {'menu_info': [{'non_name': 'cheesecake'}]}\n"
     ]
    },
    {
     "name": "stdin",
     "output_type": "stream",
     "text": [
      "Siz:  1 adet cheescake alayım yanına ne ana yemekleriniz mevcut \n"
     ]
    },
    {
     "name": "stdout",
     "output_type": "stream",
     "text": [
      "Cevap: Menümüzdeki ana yemekler arasında ızgara tavuk bulunmaktadır. Bu yemek, ızgara tavuk göğsü ile sebze garnitürü ve sarımsaklı patates püresi ile sunulmaktadır.\n",
      "Extraction Chain Output: {'menu_info': [{'name': 'cheesecake', 'quantity': '1'}]}\n",
      "Sipariş eklendi: 1 adet cheesecake\n"
     ]
    },
    {
     "name": "stdin",
     "output_type": "stream",
     "text": [
      "Siz:  başka neler var \n"
     ]
    },
    {
     "name": "stdout",
     "output_type": "stream",
     "text": [
      "Cevap: Bu bağlamda başka yemek seçenekleri hakkında bilgi veremiyorum. Sadece belirtilen yemekler hakkında bilgi verdim. Başka bir şey sormak ister misiniz?\n",
      "Extraction Chain Output: {'menu_info': []}\n"
     ]
    },
    {
     "name": "stdin",
     "output_type": "stream",
     "text": [
      "Siz:  menüde hangi ana yemeklerin olduğunu bilmiyor musun \n"
     ]
    },
    {
     "name": "stdout",
     "output_type": "stream",
     "text": [
      "Cevap: Menüdeki ana yemekler şunlardır:\n",
      "\n",
      "1. Izgara Tavuk - Izgara tavuk göğsü, sebze garnitürü, sarımsaklı patates püresi; 130 TL\n",
      "2. Sebzeli Güveç - Fırınlanmış taze sebzeler, domates sos; 85 TL\n",
      "3. Somon Izgara - Taze limon soslu ızgara somon, ızgara sebzeler; 180 TL\n",
      "4. Antrikot - Özel marine edilmiş antrikot, közlenmiş sebzeler, patates püresi; 190 TL\n",
      "Extraction Chain Output: {'menu_info': []}\n"
     ]
    },
    {
     "name": "stdin",
     "output_type": "stream",
     "text": [
      "Siz:  sipariş ettiğim tatlıya uygun olan tatlı sence nedir\n"
     ]
    },
    {
     "name": "stdout",
     "output_type": "stream",
     "text": [
      "Cevap: Verdiğin bilgilere göre, sipariş ettiğin tatlıyı belirtmediğin için hangi tatlıya uygun olduğunu bilmiyorum. Hangi tatlıyı sipariş ettiğini belirtirsen, ona uygun olan tatlıyı söyleyebilirim.\n",
      "Extraction Chain Output: {'menu_info': [{'non_name': 'tatlı'}]}\n"
     ]
    },
    {
     "name": "stdin",
     "output_type": "stream",
     "text": [
      "Siz:  ben 2 de somon ızgara alayım o zaman \n"
     ]
    },
    {
     "name": "stdout",
     "output_type": "stream",
     "text": [
      "Cevap: Somon ızgara 180 TL'dir. Siparişinizi almak için başka bir isteğiniz var mı?\n",
      "Extraction Chain Output: {'menu_info': [{'name': 'ızgara', 'quantity': '2'}]}\n",
      "Sipariş eklendi: 2 adet ızgara\n"
     ]
    },
    {
     "name": "stdin",
     "output_type": "stream",
     "text": [
      "Siz:  exit\n",
      "Siparişler: ['1 adet cheesecake', '2 adet ızgara']. Onaylıyor musunuz? (evet/hayır):  evet\n"
     ]
    },
    {
     "name": "stdout",
     "output_type": "stream",
     "text": [
      "Siparişler kaydedildi.\n"
     ]
    }
   ],
   "source": [
    "sohbet_et()"
   ]
  },
  {
   "cell_type": "code",
   "execution_count": 27,
   "id": "6d3d935d-9434-4c3b-9022-1a28976ea385",
   "metadata": {},
   "outputs": [
    {
     "name": "stdin",
     "output_type": "stream",
     "text": [
      "Siz:  2 sufle 1 etli pizza almak istiyorum \n"
     ]
    },
    {
     "name": "stdout",
     "output_type": "stream",
     "text": [
      "Cevap: Üzgünüm, ancak sufle ile ilgili bir bilgi bulunmamaktadır. Sadece pizzalar hakkında bilgi verebiliyorum. Etli pizza fiyatı 145 TL'dir. Başka bir şeyle yardımcı olabilir miyim?\n",
      "Extraction Chain Output: {'menu_info': [{'name': 'sufle', 'quantity': '2'}, {'name': 'etli pizza'}]}\n",
      "Sipariş eklendi: 2 adet sufle\n",
      "Sipariş eklendi: 1 adet etli pizza\n"
     ]
    },
    {
     "name": "stdin",
     "output_type": "stream",
     "text": [
      "Siz:  exit\n",
      "Siparişler: ['2 adet sufle', '1 adet etli pizza']. Onaylıyor musunuz? (evet/hayır):  evet\n"
     ]
    },
    {
     "name": "stdout",
     "output_type": "stream",
     "text": [
      "Siparişler kaydedildi.\n"
     ]
    }
   ],
   "source": [
    "sohbet_et()"
   ]
  },
  {
   "cell_type": "code",
   "execution_count": 28,
   "id": "c6e20dfd-5415-46ae-82d9-19a47b371158",
   "metadata": {},
   "outputs": [
    {
     "name": "stdin",
     "output_type": "stream",
     "text": [
      "Siz:  2 margarita pizza almak istiyorum \n"
     ]
    },
    {
     "name": "stdout",
     "output_type": "stream",
     "text": [
      "Cevap: Margarita pizza fiyatı 85 TL. İki adet margarita pizza almak istediğinizde toplam fiyat 170 TL olacaktır. Siparişinizi onaylıyor musunuz?\n",
      "Extraction Chain Output: {'menu_info': [{'name': 'margarita pizza', 'quantity': '2'}]}\n",
      "Sipariş eklendi: 2 adet margarita pizza\n"
     ]
    },
    {
     "name": "stdin",
     "output_type": "stream",
     "text": [
      "Siz:  ben az önce ne dedim \n"
     ]
    },
    {
     "name": "stdout",
     "output_type": "stream",
     "text": [
      "Cevap: Bilmiyorum.\n",
      "Extraction Chain Output: {}\n"
     ]
    },
    {
     "name": "stdin",
     "output_type": "stream",
     "text": [
      "Siz:  neli pizza ekledim?\n"
     ]
    },
    {
     "name": "stdout",
     "output_type": "stream",
     "text": [
      "Cevap: Eklediğiniz pizzaların içerikleri şunlardır: \n",
      "\n",
      "1. Peynirli Tavuk Pizza: Tavuk, cheddar, rokfor, mantar, sarımsak sos\n",
      "2. Etli Pizza: Jambon, tavuk, bacon, mozzarella, beyaz sos\n",
      "3. Acili Deniz Pizza: Karides, somon, domates, mozzarella, beyaz sos\n",
      "4. Margarita Pizza: Domates, mozzarella, fesleğen, zeytinyağı\n",
      "\n",
      "Bu pizzalarda çeşitli malzemeler bulunmaktadır. Hangi pizzayı eklediğinizi belirtirseniz, o pizza hakkında daha fazla bilgi verebilirim.\n",
      "Extraction Chain Output: {'menu_info': [{'non_name': 'pizza'}]}\n"
     ]
    },
    {
     "name": "stdin",
     "output_type": "stream",
     "text": [
      "Siz:  exit\n",
      "Siparişler: ['2 adet margarita pizza']. Onaylıyor musunuz? (evet/hayır):  evet\n"
     ]
    },
    {
     "name": "stdout",
     "output_type": "stream",
     "text": [
      "Siparişler kaydedildi.\n"
     ]
    }
   ],
   "source": [
    "sohbet_et()"
   ]
  },
  {
   "cell_type": "code",
   "execution_count": 30,
   "id": "f4d98157-60b9-42b4-a013-d7459c5ea8a5",
   "metadata": {},
   "outputs": [
    {
     "name": "stdin",
     "output_type": "stream",
     "text": [
      "Siz:  neli hamburgerleriniz var\n"
     ]
    },
    {
     "name": "stdout",
     "output_type": "stream",
     "text": [
      "Cevap: Hamburgerlerimiz arasında şunlar bulunmaktadır:\n",
      "\n",
      "1. Acili Burger - Dana köfte\n",
      "2. Siyah Burger - Siyah fasulye köftesi\n",
      "3. Tavuk Burger - Çıtır tavuk\n",
      "4. Cheeseburger - Dana köfte\n",
      "\n",
      "Her bir hamburgerin içindekiler farklıdır.\n",
      "Extraction Chain Output: {'menu_info': [{'non_name': 'hamburger'}]}\n"
     ]
    },
    {
     "name": "stdin",
     "output_type": "stream",
     "text": [
      "Siz:  ben bir tavuk burger yanına da iki acili burger alayım \n"
     ]
    },
    {
     "name": "stdout",
     "output_type": "stream",
     "text": [
      "Cevap: Tavuk Burger'in fiyatı 100 TL, Acili Burger'in fiyatı ise 120 TL. İki Acili Burger alırsanız toplam fiyat şöyle olacaktır:\n",
      "\n",
      "Tavuk Burger: 100 TL\n",
      "2 Acili Burger: 2 x 120 TL = 240 TL\n",
      "\n",
      "Toplam: 100 TL + 240 TL = 340 TL\n",
      "\n",
      "Yani, toplamda 340 TL ödemeniz gerekecek.\n",
      "Extraction Chain Output: {'menu_info': [{'name': 'tavuk burger', 'quantity': '1'}, {'name': 'acili burger', 'quantity': '2'}]}\n",
      "Sipariş eklendi: 1 adet tavuk burger\n",
      "Sipariş eklendi: 2 adet acili burger\n"
     ]
    },
    {
     "name": "stdin",
     "output_type": "stream",
     "text": [
      "Siz:  exit\n",
      "Siparişler: ['1 adet tavuk burger', '2 adet acili burger']. Onaylıyor musunuz? (evet/hayır):  evet\n"
     ]
    },
    {
     "name": "stdout",
     "output_type": "stream",
     "text": [
      "Siparişler kaydedildi.\n"
     ]
    }
   ],
   "source": [
    "sohbet_et()"
   ]
  },
  {
   "cell_type": "code",
   "execution_count": 31,
   "id": "55ec264f-97f7-4b7f-b747-154b757e3e75",
   "metadata": {},
   "outputs": [
    {
     "name": "stdin",
     "output_type": "stream",
     "text": [
      "Siz:  acili hamburgeriniz var mı \n"
     ]
    },
    {
     "name": "stdout",
     "output_type": "stream",
     "text": [
      "Cevap: Evet, Acili Burger mevcut. Fiyatı 120 TL. İçindekiler arasında dana köfte, jalapenos, acı sos, cheddar ve marul bulunuyor.\n",
      "Extraction Chain Output: {'menu_info': [{'non_name': 'acılı hamburger'}]}\n"
     ]
    },
    {
     "name": "stdin",
     "output_type": "stream",
     "text": [
      "Siz:  içinde başka bir şey var mı \n"
     ]
    },
    {
     "name": "stdout",
     "output_type": "stream",
     "text": [
      "Cevap: Verilen bilgide yalnızca \"izgara tavuk göğsü\" ve yanında \"sebze garnituru, sarımsaklı patates püresi\" bulunmaktadır. Başka bir şey olup olmadığına dair bir bilgi yok.\n",
      "Extraction Chain Output: {'menu_info': []}\n"
     ]
    },
    {
     "name": "stdin",
     "output_type": "stream",
     "text": [
      "Siz:  ben o zaman onu sipariş etmek istiyorum \n"
     ]
    },
    {
     "name": "stdout",
     "output_type": "stream",
     "text": [
      "Cevap: Hangi ürünü sipariş etmek istediğinizi belirtmediniz. Lütfen sipariş etmek istediğiniz ürünün adını yazın.\n",
      "Extraction Chain Output: {'menu_info': []}\n"
     ]
    },
    {
     "name": "stdin",
     "output_type": "stream",
     "text": [
      "Siz:  son söylediğim ürünü sipariş etmek istiyorum \n"
     ]
    },
    {
     "name": "stdout",
     "output_type": "stream",
     "text": [
      "Cevap: Üzgünüm, ancak hangi ürünü sipariş etmek istediğinizi belirtmediniz. Lütfen son söylediğiniz ürünün adını veya detaylarını paylaşın, böylece size daha iyi yardımcı olabilirim.\n",
      "Extraction Chain Output: {'menu_info': []}\n"
     ]
    },
    {
     "name": "stdin",
     "output_type": "stream",
     "text": [
      "Siz:  acili burger sipariş etmek istiyorum \n"
     ]
    },
    {
     "name": "stdout",
     "output_type": "stream",
     "text": [
      "Cevap: Acili Burger sipariş edebilirsiniz. Fiyatı 120 TL. İçindekiler: jalapenos, acı sos, cheddar, marul.\n",
      "Extraction Chain Output: {'menu_info': [{'name': 'acili burger'}]}\n",
      "Sipariş eklendi: 1 adet acili burger\n"
     ]
    },
    {
     "name": "stdin",
     "output_type": "stream",
     "text": [
      "Siz:  2 olsun \n"
     ]
    },
    {
     "name": "stdout",
     "output_type": "stream",
     "text": [
      "Cevap: Bilmiyorum.\n",
      "Extraction Chain Output: {'menu_info': []}\n"
     ]
    },
    {
     "name": "stdin",
     "output_type": "stream",
     "text": [
      "Siz:  exit\n",
      "Siparişler: ['1 adet acili burger']. Onaylıyor musunuz? (evet/hayır):  evet\n"
     ]
    },
    {
     "name": "stdout",
     "output_type": "stream",
     "text": [
      "Siparişler kaydedildi.\n"
     ]
    }
   ],
   "source": [
    "sohbet_et()"
   ]
  },
  {
   "cell_type": "code",
   "execution_count": 38,
   "id": "afaee845-8fd2-4053-bfb2-84b4c28d343f",
   "metadata": {},
   "outputs": [
    {
     "name": "stdin",
     "output_type": "stream",
     "text": [
      "Siz:  acılı bir şeyler yemek istiyorum ne önerirsin\n"
     ]
    },
    {
     "name": "stdout",
     "output_type": "stream",
     "text": [
      "Cevap: Üzgünüm, acılı bir yemek önerisi için elimde bilgi yok.\n",
      "Extraction Chain Output: {'menu_info': []}\n"
     ]
    },
    {
     "name": "stdin",
     "output_type": "stream",
     "text": [
      "Siz:  başlangıçlar neler\n"
     ]
    },
    {
     "name": "stdout",
     "output_type": "stream",
     "text": [
      "Cevap: Başlangıçlar şunlardır:\n",
      "\n",
      "1. Nachos - El yapımı tortilla cips, içerik: cheddar, yeşil soğan, jalapenos, siyah zeytin; fiyat: 120 TL\n",
      "2. Tavuk Kanatları - Pane tavuk kanatları, sos seçenekleri: BBQ, hardal, ketçap, mayonez; fiyat: 125 TL\n",
      "3. Sebzeli Spring Roll - İçerik: havuç, kabak, lahana, pirinç yufkası, tatlı ekşi sos; fiyat: 70 TL\n",
      "4. Karides Tava - Jumbo karides, içerik: sarımsak, tereyağı, limon suyu, baharatlar; fiyat: 150 TL\n",
      "Extraction Chain Output: {'menu_info': []}\n"
     ]
    },
    {
     "name": "stdin",
     "output_type": "stream",
     "text": [
      "Siz:  2 tane karides tava istiyorum \n"
     ]
    },
    {
     "name": "stdout",
     "output_type": "stream",
     "text": [
      "Cevap: 2 tane karides tava toplamda 300 TL olacaktır.\n",
      "Extraction Chain Output: {'menu_info': [{'name': 'karides tava', 'quantity': '2'}]}\n",
      "Sipariş eklendi: 2 adet karides tava\n"
     ]
    },
    {
     "name": "stdin",
     "output_type": "stream",
     "text": [
      "Siz:  exit\n",
      "Siparişler: ['2 adet karides tava']. Onaylıyor musunuz? (evet/hayır):  evet\n"
     ]
    },
    {
     "name": "stdout",
     "output_type": "stream",
     "text": [
      "Siparişler kaydedildi.\n"
     ]
    }
   ],
   "source": [
    "sohbet_et()"
   ]
  },
  {
   "cell_type": "code",
   "execution_count": 39,
   "id": "5f3e1bec-2c86-4d5d-b264-69769c1ccfae",
   "metadata": {},
   "outputs": [
    {
     "name": "stdin",
     "output_type": "stream",
     "text": [
      "Siz:  çorba sipariş etmek istiyorum\n"
     ]
    },
    {
     "name": "stdout",
     "output_type": "stream",
     "text": [
      "Cevap: Hangi çorbayı sipariş etmek istediğinizi belirtir misiniz? Seçenekler:\n",
      "\n",
      "1. Balkabağı Çorbası - 55 TL\n",
      "2. Kremalı Mantar Çorbası - 45 TL\n",
      "3. Domates Çorbası - 40 TL\n",
      "4. Mercimek Çorbası - 40 TL\n",
      "Extraction Chain Output: {'menu_info': [{'name': 'çorba'}]}\n",
      "Sipariş eklendi: 1 adet çorba\n"
     ]
    },
    {
     "name": "stdin",
     "output_type": "stream",
     "text": [
      "Siz:  ezogelin var mı\n"
     ]
    },
    {
     "name": "stdout",
     "output_type": "stream",
     "text": [
      "Cevap: Bilmiyorum.\n",
      "Extraction Chain Output: {'menu_info': [{'non_name': 'ezogelin'}]}\n"
     ]
    },
    {
     "name": "stdin",
     "output_type": "stream",
     "text": [
      "Siz:  çorbalar ilgimi çekmedi ben bi falçafel alıyım\n"
     ]
    },
    {
     "name": "stdout",
     "output_type": "stream",
     "text": [
      "Cevap: Falafel Tabagi almayı düşünüyorsanız, başlangıçlar kategorisinde de mevcut. Hem humus, tahin sosu ve salata ile birlikte geliyor. Fiyatı 75 TL. Ana yemek olarak da falafel tabagını tercih edebilirsiniz, içinde falafel köfteleri, humus ve tahin sosu var, yine fiyatı 75 TL. Hangi birini almak istersiniz?\n",
      "Extraction Chain Output: {'menu_info': [{'name': 'falçafel'}]}\n",
      "Sipariş eklendi: 1 adet falçafel\n"
     ]
    },
    {
     "name": "stdin",
     "output_type": "stream",
     "text": [
      "Siz:  ana yemek olanı\n"
     ]
    },
    {
     "name": "stdout",
     "output_type": "stream",
     "text": [
      "Cevap: Ana yemekler şunlardır:\n",
      "\n",
      "1. Antrikot - 190 TL (özel marine edilmiş antrikot, kozlenmiş sebzeler, patates püresi)\n",
      "2. Izgara Tavuk - 130 TL (ızgara tavuk göğsü, sebze garnitürü, sarımsaklı patates püresi)\n",
      "3. Sebzeli Güveç - 85 TL (fırınlanmış taze sebzeler, domates sos)\n",
      "4. Somon Izgara - 180 TL (taze limon soslu ızgara somon, ızgara sebzeler)\n",
      "Extraction Chain Output: {'menu_info': [{'non_name': 'ana yemek'}]}\n"
     ]
    },
    {
     "name": "stdin",
     "output_type": "stream",
     "text": [
      "Siz:  hesap nedir\n"
     ]
    },
    {
     "name": "stdout",
     "output_type": "stream",
     "text": [
      "Cevap: Hesap, bir işlemin, mal veya hizmetin toplam maliyetini belirlemek için yapılan toplama veya çıkarma işlemi anlamına gelir. Restoranlarda, hesap genellikle yediğiniz yemeklerin ve içeceklerin toplam fiyatını içerir. Eğer daha spesifik bir bağlamda sormak istiyorsanız, lütfen belirtin.\n",
      "Extraction Chain Output: {}\n"
     ]
    },
    {
     "name": "stdin",
     "output_type": "stream",
     "text": [
      "Siz:  hesap ne kadar\n"
     ]
    },
    {
     "name": "stdout",
     "output_type": "stream",
     "text": [
      "Cevap: Hangi ürünlerin toplamını almak istediğinizi belirtmezseniz, toplam hesaplamayı yapamam. Lütfen almak istediğiniz ürünleri belirtin.\n",
      "Extraction Chain Output: {}\n"
     ]
    },
    {
     "name": "stdin",
     "output_type": "stream",
     "text": [
      "Siz:  sipariş ettiğim ürünlerin fiyatı ne kadar\n"
     ]
    },
    {
     "name": "stdout",
     "output_type": "stream",
     "text": [
      "Cevap: Bu konuda kesin bir bilgi veremiyorum çünkü sipariş ettiğiniz ürünlerin fiyatları hakkında bilgi yok.\n",
      "Extraction Chain Output: {'menu_info': []}\n"
     ]
    },
    {
     "name": "stdin",
     "output_type": "stream",
     "text": [
      "Siz:  falafel istemiştim\n"
     ]
    },
    {
     "name": "stdout",
     "output_type": "stream",
     "text": [
      "Cevap: Falafel Tabakları hem ana yemekler hem de başlangıçlar kategorisinde mevcut. Ana yemekler için fiyatı 75 TL, içindekiler falafel köfteleri, humus ve tahin sos. Başlangıçlar için de fiyatı 75 TL, içindekiler falafel köftesi, humus, tahin sos ve salata. Hangi seçenekle ilgileniyorsunuz?\n",
      "Extraction Chain Output: {'menu_info': [{'name': 'falafel'}]}\n",
      "Sipariş eklendi: 1 adet falafel\n"
     ]
    },
    {
     "name": "stdin",
     "output_type": "stream",
     "text": [
      "Siz:  hesabı alıyım\n"
     ]
    },
    {
     "name": "stdout",
     "output_type": "stream",
     "text": [
      "Cevap: Üzgünüm, hesabınızı çıkarmak için gerekli bilgilere sahip değilim. Hangi ürünleri aldığınızı belirtirseniz, toplam fiyatı hesaplamaya yardımcı olabilirim.\n",
      "Extraction Chain Output: {}\n"
     ]
    },
    {
     "name": "stdin",
     "output_type": "stream",
     "text": [
      "Siz:  ayran istiyorum\n"
     ]
    },
    {
     "name": "stdout",
     "output_type": "stream",
     "text": [
      "Cevap: Üzgünüm, ayran ile ilgili bir bilgiye sahip değilim.\n",
      "Extraction Chain Output: {'menu_info': [{'name': 'ayran'}]}\n",
      "Sipariş eklendi: 1 adet ayran\n"
     ]
    },
    {
     "name": "stdin",
     "output_type": "stream",
     "text": [
      "Siz:  domates çorbası alıyım\n"
     ]
    },
    {
     "name": "stdout",
     "output_type": "stream",
     "text": [
      "Cevap: Domates çorbası fiyatı 40 TL'dir. Almak isterseniz, sipariş verebilirsiniz.\n",
      "Extraction Chain Output: {'menu_info': [{'name': 'domates çorbası'}]}\n",
      "Sipariş eklendi: 1 adet domates çorbası\n"
     ]
    },
    {
     "name": "stdin",
     "output_type": "stream",
     "text": [
      "Siz:  exit\n",
      "Siparişler: ['1 adet çorba', '1 adet falçafel', '1 adet falafel', '1 adet ayran', '1 adet domates çorbası']. Onaylıyor musunuz? (evet/hayır):  hayır\n"
     ]
    },
    {
     "name": "stdout",
     "output_type": "stream",
     "text": [
      "Siparişler iptal edildi.\n"
     ]
    }
   ],
   "source": [
    "sohbet_et()"
   ]
  },
  {
   "cell_type": "code",
   "execution_count": 41,
   "id": "334a087a-a388-4db8-82dc-c4f4507c7586",
   "metadata": {},
   "outputs": [
    {
     "name": "stdin",
     "output_type": "stream",
     "text": [
      "Siz:  ana yemekkleriniz nelerdir \n"
     ]
    },
    {
     "name": "stdout",
     "output_type": "stream",
     "text": [
      "Cevap: Ana yemeklerimiz şunlardır:\n",
      "\n",
      "1. Izgara Tavuk - Izgara tavuk göğsü, sebze garnitürü, sarımsaklı patates püresi; Fiyat: 130 TL\n",
      "2. Antrikot - Özel marine edilmiş antrikot, közlenmiş sebzeler, patates püresi; Fiyat: 190 TL\n",
      "3. Sebzeli Güveç - Fırınlanmış taze sebzeler, domates sos; Fiyat: 85 TL\n",
      "4. Somon Izgara - Taze limon soslu ızgara somon, ızgara sebzeler; Fiyat: 180 TL\n",
      "Extraction Chain Output: {'menu_info': []}\n"
     ]
    },
    {
     "name": "stdin",
     "output_type": "stream",
     "text": [
      "Siz:  sebzeli güveç istiyorum \n"
     ]
    },
    {
     "name": "stdout",
     "output_type": "stream",
     "text": [
      "Cevap: Sebzeli güveç fiyatı 85 TL'dir.\n",
      "Extraction Chain Output: {'menu_info': [{'name': 'sebzeli güveç'}]}\n",
      "Sipariş eklendi: 1 adet sebzeli güveç\n"
     ]
    },
    {
     "name": "stdin",
     "output_type": "stream",
     "text": [
      "Siz:  kadayıf var mı \n"
     ]
    },
    {
     "name": "stdout",
     "output_type": "stream",
     "text": [
      "Cevap: Bilmiyorum.\n",
      "Extraction Chain Output: {'menu_info': [{'non_name': 'kadayıf'}]}\n"
     ]
    },
    {
     "name": "stdin",
     "output_type": "stream",
     "text": [
      "Siz:  tarhana istiyodum vazgeçtim domates çorbası alayım \n"
     ]
    },
    {
     "name": "stdout",
     "output_type": "stream",
     "text": [
      "Cevap: Domates çorbasının fiyatı 40 TL. İçindekiler: Domates salçası, soğan, sarımsak, un, süt, sebze suyu, tereyağı, tuz, karabiber, fesleğen. Sipariş vermek isterseniz, yardımcı olabilirim.\n",
      "Extraction Chain Output: {'menu_info': [{'name': 'domates çorbası'}]}\n",
      "Sipariş eklendi: 1 adet domates çorbası\n"
     ]
    },
    {
     "name": "stdin",
     "output_type": "stream",
     "text": [
      "Siz:  exit\n",
      "Siparişler: ['1 adet sebzeli güveç', '1 adet domates çorbası']. Onaylıyor musunuz? (evet/hayır):  evet\n"
     ]
    },
    {
     "name": "stdout",
     "output_type": "stream",
     "text": [
      "Siparişler kaydedildi.\n"
     ]
    }
   ],
   "source": [
    "sohbet_et()"
   ]
  },
  {
   "cell_type": "code",
   "execution_count": null,
   "id": "749fd122-5f28-4da9-9fca-dccba7247ee9",
   "metadata": {},
   "outputs": [],
   "source": []
  },
  {
   "cell_type": "code",
   "execution_count": null,
   "id": "c3faa303-5e65-4e34-964f-c9b9b9bea848",
   "metadata": {},
   "outputs": [],
   "source": []
  },
  {
   "cell_type": "code",
   "execution_count": null,
   "id": "e7cc67be-298f-4d8c-9597-496bdc73d60b",
   "metadata": {},
   "outputs": [],
   "source": []
  },
  {
   "cell_type": "code",
   "execution_count": 144,
   "id": "7c71c1b1-4173-4da6-947d-c11bd35b1f75",
   "metadata": {},
   "outputs": [],
   "source": [
    "class siparis_info(BaseModel):\n",
    "    sip_name:str =Field(description=\"name of the thing ordered menu content if its ordered \")\n",
    "    non_sip_name:str=Field(description=\"name of the menu content asked for information\")\n",
    "    sip_count:str=Field(description=\"count of the thing ordered or wanted not asked\")\n",
    "    non_sip_count:str=Field(description=\"count of the menu content asked for information\")"
   ]
  },
  {
   "cell_type": "code",
   "execution_count": 145,
   "id": "0436535c-03f6-44d4-a56d-48cd02fda8f5",
   "metadata": {},
   "outputs": [],
   "source": [
    "chain=llm.with_structured_output(siparis_info)"
   ]
  },
  {
   "cell_type": "raw",
   "id": "c6bb3743-0f25-4e91-9106-3614db71b522",
   "metadata": {},
   "source": []
  },
  {
   "cell_type": "code",
   "execution_count": 146,
   "id": "868902fb-ac30-412f-966a-01813acf303a",
   "metadata": {},
   "outputs": [],
   "source": [
    "res=chain.invoke(\"whats in margatia pizza\")"
   ]
  },
  {
   "cell_type": "code",
   "execution_count": 147,
   "id": "49701044-8d9c-4823-8987-40aef6adb33f",
   "metadata": {},
   "outputs": [
    {
     "data": {
      "text/plain": [
       "siparis_info(sip_name='margatia pizza', non_sip_name='margarita pizza', sip_count='1', non_sip_count='1')"
      ]
     },
     "execution_count": 147,
     "metadata": {},
     "output_type": "execute_result"
    }
   ],
   "source": [
    "res                    "
   ]
  },
  {
   "cell_type": "code",
   "execution_count": 112,
   "id": "4e71b329-d962-42a2-a1c1-847673e1da6c",
   "metadata": {},
   "outputs": [
    {
     "data": {
      "text/plain": [
       "[HumanMessage(content='you are a waiter and the customers will talk to you about the menu conversation :\\'\\'\\'pizza çeşitleriniz nelerdir ? eğer varsa 2 margarita  pizza alamak istiyorum\\'\\'\\' during these conversations everything they ask you about the menu is not an order you need to understand what is being ordered and you need to separate them \\nThe output should be formatted as a JSON instance that conforms to the JSON schema below.\\n\\nAs an example, for the schema {\"properties\": {\"foo\": {\"title\": \"Foo\", \"description\": \"a list of strings\", \"type\": \"array\", \"items\": {\"type\": \"string\"}}}, \"required\": [\"foo\"]}\\nthe object {\"foo\": [\"bar\", \"baz\"]} is a well-formatted instance of the schema. The object {\"properties\": {\"foo\": [\"bar\", \"baz\"]}} is not well-formatted.\\n\\nHere is the output schema:\\n```\\n{\"properties\": {\"sip_name\": {\"description\": \"name of the thing ordered\", \"title\": \"Sip Name\", \"type\": \"string\"}, \"sip_count\": {\"description\": \"count of the thing ordered\", \"title\": \"Sip Count\", \"type\": \"string\"}}, \"required\": [\"sip_name\", \"sip_count\"]}\\n```', additional_kwargs={}, response_metadata={})]"
      ]
     },
     "execution_count": 112,
     "metadata": {},
     "output_type": "execute_result"
    }
   ],
   "source": [
    "messages"
   ]
  },
  {
   "cell_type": "code",
   "execution_count": 113,
   "id": "7c95c896-a0be-4dee-b664-e0fa803aba5d",
   "metadata": {},
   "outputs": [],
   "source": [
    "output=llm.invoke(messages)"
   ]
  },
  {
   "cell_type": "code",
   "execution_count": 114,
   "id": "7e71ee19-737f-430a-9bff-42b642a7a3d6",
   "metadata": {},
   "outputs": [
    {
     "data": {
      "text/plain": [
       "'```json\\n{\"sip_name\":\"margarita pizza\",\"sip_count\":\"2\"}\\n```'"
      ]
     },
     "execution_count": 114,
     "metadata": {},
     "output_type": "execute_result"
    }
   ],
   "source": [
    "output.content"
   ]
  },
  {
   "cell_type": "code",
   "execution_count": 115,
   "id": "9591ea4a-6cb4-4370-9e55-4dd2391c7bf9",
   "metadata": {},
   "outputs": [],
   "source": [
    "messages=prompt.format_messages(konusma=\"margarita pizzanın içinde neler var\",\n",
    "                                format_instructions=format_instructions)"
   ]
  },
  {
   "cell_type": "code",
   "execution_count": 116,
   "id": "be05a4dd-ce19-42d0-9c46-78abba2a0336",
   "metadata": {},
   "outputs": [
    {
     "data": {
      "text/plain": [
       "'```json\\n{\"sip_name\":\"Margarita Pizza\",\"sip_count\":\"1\"}\\n```'"
      ]
     },
     "execution_count": 116,
     "metadata": {},
     "output_type": "execute_result"
    }
   ],
   "source": [
    "output=llm.invoke(messages)\n",
    "output.content"
   ]
  },
  {
   "cell_type": "code",
   "execution_count": null,
   "id": "a831f159-cb92-49fa-9919-6c5f9ca3d9e0",
   "metadata": {},
   "outputs": [],
   "source": []
  },
  {
   "cell_type": "code",
   "execution_count": 44,
   "id": "a00883fc-2e21-488e-9c3d-056b3f9428ac",
   "metadata": {},
   "outputs": [],
   "source": [
    "class SiparisHafizasi:\n",
    "    def __init__(self):\n",
    "        self.siparisler = []\n",
    "\n",
    "    def siparis_ekle(self, siparis):\n",
    "        self.siparisler.append(siparis)\n",
    "\n",
    "    def siparisleri_al(self):\n",
    "        return self.siparisler\n",
    "\n",
    "    def hafizayi_temizle(self):\n",
    "        self.siparisler = []"
   ]
  },
  {
   "cell_type": "code",
   "execution_count": 78,
   "id": "6f1a1576-5790-46ab-baf2-9fc7bbd6801f",
   "metadata": {},
   "outputs": [],
   "source": [
    "def siparis_algilama_tool(mesaj):\n",
    "    response = llm_chain.run(mesaj)\n",
    "    # LLM çıktısını kontrol et ve düzenle\n",
    "    if \"sipariş\" in response.lower():\n",
    "        return response.strip()\n",
    "    else:\n",
    "        return None  # Sipariş algılanmazsa None döndür"
   ]
  },
  {
   "cell_type": "code",
   "execution_count": 79,
   "id": "1113cee5-ce8c-4dd3-901f-f73a6a21d2a0",
   "metadata": {},
   "outputs": [],
   "source": [
    "def siparis_dosyaya_yaz_tool(siparisler):\n",
    "    with open(\"siparisler.txt\", \"w\") as f:\n",
    "        f.write(\"Siparişler:\\n\")\n",
    "        for siparis in siparisler:\n",
    "            f.write(f\"- {siparis}\\n\")\n",
    "    return \"Siparişler dosyaya yazıldı.\""
   ]
  },
  {
   "cell_type": "code",
   "execution_count": 80,
   "id": "dbee2afb-7923-40e5-9faf-054e1ccaa70c",
   "metadata": {},
   "outputs": [],
   "source": [
    "def menu_sorgula_tool(mesaj):\n",
    "    response = rag_chain.run(mesaj)\n",
    "    return response.strip()"
   ]
  },
  {
   "cell_type": "code",
   "execution_count": 81,
   "id": "1969ad2b-00d7-4d5f-bffc-4fbe9de92b98",
   "metadata": {},
   "outputs": [],
   "source": [
    "siparis_algilama = Tool(\n",
    "    name=\"SiparisAlgilamaTool\",\n",
    "    func=siparis_algilama_tool,\n",
    "    description=\"Sipariş içeren bir mesajı analiz eder ve sipariş detaylarını çıkarır.\"\n",
    ")"
   ]
  },
  {
   "cell_type": "code",
   "execution_count": 82,
   "id": "c0bb6bf1-f948-4f86-a764-edf92c7158ac",
   "metadata": {},
   "outputs": [],
   "source": [
    "siparis_yazdirma = Tool(\n",
    "    name=\"SiparisYazdirmaTool\",\n",
    "    func=siparis_dosyaya_yaz_tool,\n",
    "    description=\"Siparişleri dosyaya yazdırır.\"\n",
    ")"
   ]
  },
  {
   "cell_type": "code",
   "execution_count": 83,
   "id": "514b2057-bc6e-44a0-a097-3ecf7955adaa",
   "metadata": {},
   "outputs": [],
   "source": [
    "menu_sorgula = Tool(\n",
    "    name=\"MenuSorgulaTool\",\n",
    "    func=menu_sorgula_tool,\n",
    "    description=\"Menüden bilgi almak için kullanılır.\"\n",
    ")"
   ]
  },
  {
   "cell_type": "code",
   "execution_count": 84,
   "id": "4cf4524c-929a-4865-ad32-8e9e794b2c84",
   "metadata": {},
   "outputs": [],
   "source": [
    "memory = ConversationBufferMemory(return_messages=True)\n"
   ]
  },
  {
   "cell_type": "code",
   "execution_count": 85,
   "id": "ea50122a-1886-46b7-afaa-b6f0b671fb69",
   "metadata": {},
   "outputs": [],
   "source": [
    "agent = ConversationalAgent(\n",
    "    llm_chain=llm_chain,\n",
    "    tools=[siparis_algilama, siparis_yazdirma, menu_sorgula],\n",
    "    memory=memory,\n",
    ")"
   ]
  },
  {
   "cell_type": "code",
   "execution_count": 86,
   "id": "188f07d6-34ab-44d9-a8b1-d7ed29af8a74",
   "metadata": {},
   "outputs": [],
   "source": [
    "executor = AgentExecutor(agent=agent, \n",
    "                         tools=[siparis_algilama, siparis_yazdirma, menu_sorgula],\n",
    "                         memory=memory,\n",
    "                        hande_parsing_errors=True)"
   ]
  },
  {
   "cell_type": "code",
   "execution_count": 87,
   "id": "296aaf95-8b3c-493a-a757-90d33bc4381b",
   "metadata": {},
   "outputs": [],
   "source": [
    "def siparis_isle_rag():\n",
    "    hafiza = SiparisHafizasi()\n",
    "    print(\"Sipariş almak için hazır. 'çıkış' yazarak sipariş sürecini sonlandırabilirsiniz.\")\n",
    "\n",
    "    while True:\n",
    "        mesaj = input(\"Kullanıcı: \")\n",
    "\n",
    "        if mesaj.lower() == \"çıkış\":\n",
    "            break\n",
    "\n",
    "        # Kullanıcı mesajını işleme al ve RAG ile menü sorgulama\n",
    "        sonuc = executor.invoke({\"query\": mesaj, \"input\": mesaj, \"context\": memory.buffer})\n",
    "\n",
    "        \n",
    "        # Sipariş algılama işlemi\n",
    "        siparis = siparis_algilama_tool(mesaj)\n",
    "        if siparis:\n",
    "            hafiza.siparis_ekle(siparis)\n",
    "            print(f\"Algılanan sipariş: {siparis}\")\n",
    "\n",
    "        # Yanıtı göster\n",
    "        print(f\"Asistan: {sonuc['output']}\")\n",
    "\n",
    "    # Tüm siparişleri onaylat\n",
    "    siparisler = hafiza.siparisleri_al()\n",
    "    if siparisler:\n",
    "        print(\"\\nAlgılanan siparişler:\")\n",
    "        for sip in siparisler:\n",
    "            print(f\"- {sip}\")\n",
    "        \n",
    "        onay = input(\"\\nBu siparişleri onaylıyor musunuz? (evet/hayır): \")\n",
    "        \n",
    "        if onay.lower() == \"evet\":\n",
    "            siparis_dosyaya_yaz_tool(siparisler)\n",
    "            print(\"Siparişler dosyaya yazıldı.\")\n",
    "        else:\n",
    "            print(\"Siparişler kaydedilmedi.\")\n",
    "        \n",
    "        hafiza.hafizayi_temizle()\n",
    "    else:\n",
    "        print(\"Sipariş algılanmadı.\")"
   ]
  },
  {
   "cell_type": "code",
   "execution_count": 88,
   "id": "cf7eba55-8dad-4900-974c-6980d0c69deb",
   "metadata": {},
   "outputs": [
    {
     "name": "stdout",
     "output_type": "stream",
     "text": [
      "Sipariş almak için hazır. 'çıkış' yazarak sipariş sürecini sonlandırabilirsiniz.\n"
     ]
    },
    {
     "name": "stdin",
     "output_type": "stream",
     "text": [
      "Kullanıcı:  pizza çeşitleri nelerdir\n"
     ]
    },
    {
     "ename": "ValueError",
     "evalue": "An output parsing error occurred. In order to pass this error back to the agent and have it try again, pass `handle_parsing_errors=True` to the AgentExecutor. This is the error: Could not parse LLM output: `Pizza çeşitleri arasında Margherita, Pepperoni, Quattro Stagioni, Veggie, Hawaiian ve BBQ Chicken gibi popüler seçenekler bulunmaktadır. Ayrıca, yerel ve bölgesel özel tarifler de mevcuttur. Her pizza çeşidi farklı malzeme kombinasyonlarıyla hazırlanabilir.`\nFor troubleshooting, visit: https://python.langchain.com/docs/troubleshooting/errors/OUTPUT_PARSING_FAILURE",
     "output_type": "error",
     "traceback": [
      "\u001b[0;31m---------------------------------------------------------------------------\u001b[0m",
      "\u001b[0;31mOutputParserException\u001b[0m                     Traceback (most recent call last)",
      "File \u001b[0;32m/Library/Frameworks/Python.framework/Versions/3.12/lib/python3.12/site-packages/langchain/agents/agent.py:1363\u001b[0m, in \u001b[0;36mAgentExecutor._iter_next_step\u001b[0;34m(self, name_to_tool_map, color_mapping, inputs, intermediate_steps, run_manager)\u001b[0m\n\u001b[1;32m   1362\u001b[0m     \u001b[38;5;66;03m# Call the LLM to see what to do.\u001b[39;00m\n\u001b[0;32m-> 1363\u001b[0m     output \u001b[38;5;241m=\u001b[39m \u001b[38;5;28;43mself\u001b[39;49m\u001b[38;5;241;43m.\u001b[39;49m\u001b[43m_action_agent\u001b[49m\u001b[38;5;241;43m.\u001b[39;49m\u001b[43mplan\u001b[49m\u001b[43m(\u001b[49m\n\u001b[1;32m   1364\u001b[0m \u001b[43m        \u001b[49m\u001b[43mintermediate_steps\u001b[49m\u001b[43m,\u001b[49m\n\u001b[1;32m   1365\u001b[0m \u001b[43m        \u001b[49m\u001b[43mcallbacks\u001b[49m\u001b[38;5;241;43m=\u001b[39;49m\u001b[43mrun_manager\u001b[49m\u001b[38;5;241;43m.\u001b[39;49m\u001b[43mget_child\u001b[49m\u001b[43m(\u001b[49m\u001b[43m)\u001b[49m\u001b[43m \u001b[49m\u001b[38;5;28;43;01mif\u001b[39;49;00m\u001b[43m \u001b[49m\u001b[43mrun_manager\u001b[49m\u001b[43m \u001b[49m\u001b[38;5;28;43;01melse\u001b[39;49;00m\u001b[43m \u001b[49m\u001b[38;5;28;43;01mNone\u001b[39;49;00m\u001b[43m,\u001b[49m\n\u001b[1;32m   1366\u001b[0m \u001b[43m        \u001b[49m\u001b[38;5;241;43m*\u001b[39;49m\u001b[38;5;241;43m*\u001b[39;49m\u001b[43minputs\u001b[49m\u001b[43m,\u001b[49m\n\u001b[1;32m   1367\u001b[0m \u001b[43m    \u001b[49m\u001b[43m)\u001b[49m\n\u001b[1;32m   1368\u001b[0m \u001b[38;5;28;01mexcept\u001b[39;00m OutputParserException \u001b[38;5;28;01mas\u001b[39;00m e:\n",
      "File \u001b[0;32m/Library/Frameworks/Python.framework/Versions/3.12/lib/python3.12/site-packages/langchain/agents/agent.py:810\u001b[0m, in \u001b[0;36mAgent.plan\u001b[0;34m(self, intermediate_steps, callbacks, **kwargs)\u001b[0m\n\u001b[1;32m    809\u001b[0m full_output \u001b[38;5;241m=\u001b[39m \u001b[38;5;28mself\u001b[39m\u001b[38;5;241m.\u001b[39mllm_chain\u001b[38;5;241m.\u001b[39mpredict(callbacks\u001b[38;5;241m=\u001b[39mcallbacks, \u001b[38;5;241m*\u001b[39m\u001b[38;5;241m*\u001b[39mfull_inputs)\n\u001b[0;32m--> 810\u001b[0m \u001b[38;5;28;01mreturn\u001b[39;00m \u001b[38;5;28;43mself\u001b[39;49m\u001b[38;5;241;43m.\u001b[39;49m\u001b[43moutput_parser\u001b[49m\u001b[38;5;241;43m.\u001b[39;49m\u001b[43mparse\u001b[49m\u001b[43m(\u001b[49m\u001b[43mfull_output\u001b[49m\u001b[43m)\u001b[49m\n",
      "File \u001b[0;32m/Library/Frameworks/Python.framework/Versions/3.12/lib/python3.12/site-packages/langchain/agents/conversational/output_parser.py:42\u001b[0m, in \u001b[0;36mConvoOutputParser.parse\u001b[0;34m(self, text)\u001b[0m\n\u001b[1;32m     41\u001b[0m \u001b[38;5;28;01mif\u001b[39;00m \u001b[38;5;129;01mnot\u001b[39;00m match:\n\u001b[0;32m---> 42\u001b[0m     \u001b[38;5;28;01mraise\u001b[39;00m OutputParserException(\u001b[38;5;124mf\u001b[39m\u001b[38;5;124m\"\u001b[39m\u001b[38;5;124mCould not parse LLM output: `\u001b[39m\u001b[38;5;132;01m{\u001b[39;00mtext\u001b[38;5;132;01m}\u001b[39;00m\u001b[38;5;124m`\u001b[39m\u001b[38;5;124m\"\u001b[39m)\n\u001b[1;32m     43\u001b[0m action \u001b[38;5;241m=\u001b[39m match\u001b[38;5;241m.\u001b[39mgroup(\u001b[38;5;241m1\u001b[39m)\n",
      "\u001b[0;31mOutputParserException\u001b[0m: Could not parse LLM output: `Pizza çeşitleri arasında Margherita, Pepperoni, Quattro Stagioni, Veggie, Hawaiian ve BBQ Chicken gibi popüler seçenekler bulunmaktadır. Ayrıca, yerel ve bölgesel özel tarifler de mevcuttur. Her pizza çeşidi farklı malzeme kombinasyonlarıyla hazırlanabilir.`\nFor troubleshooting, visit: https://python.langchain.com/docs/troubleshooting/errors/OUTPUT_PARSING_FAILURE",
      "\nDuring handling of the above exception, another exception occurred:\n",
      "\u001b[0;31mValueError\u001b[0m                                Traceback (most recent call last)",
      "Cell \u001b[0;32mIn[88], line 1\u001b[0m\n\u001b[0;32m----> 1\u001b[0m \u001b[43msiparis_isle_rag\u001b[49m\u001b[43m(\u001b[49m\u001b[43m)\u001b[49m\n",
      "Cell \u001b[0;32mIn[87], line 12\u001b[0m, in \u001b[0;36msiparis_isle_rag\u001b[0;34m()\u001b[0m\n\u001b[1;32m      9\u001b[0m     \u001b[38;5;28;01mbreak\u001b[39;00m\n\u001b[1;32m     11\u001b[0m \u001b[38;5;66;03m# Kullanıcı mesajını işleme al ve RAG ile menü sorgulama\u001b[39;00m\n\u001b[0;32m---> 12\u001b[0m sonuc \u001b[38;5;241m=\u001b[39m \u001b[43mexecutor\u001b[49m\u001b[38;5;241;43m.\u001b[39;49m\u001b[43minvoke\u001b[49m\u001b[43m(\u001b[49m\u001b[43m{\u001b[49m\u001b[38;5;124;43m\"\u001b[39;49m\u001b[38;5;124;43mquery\u001b[39;49m\u001b[38;5;124;43m\"\u001b[39;49m\u001b[43m:\u001b[49m\u001b[43m \u001b[49m\u001b[43mmesaj\u001b[49m\u001b[43m,\u001b[49m\u001b[43m \u001b[49m\u001b[38;5;124;43m\"\u001b[39;49m\u001b[38;5;124;43minput\u001b[39;49m\u001b[38;5;124;43m\"\u001b[39;49m\u001b[43m:\u001b[49m\u001b[43m \u001b[49m\u001b[43mmesaj\u001b[49m\u001b[43m,\u001b[49m\u001b[43m \u001b[49m\u001b[38;5;124;43m\"\u001b[39;49m\u001b[38;5;124;43mcontext\u001b[39;49m\u001b[38;5;124;43m\"\u001b[39;49m\u001b[43m:\u001b[49m\u001b[43m \u001b[49m\u001b[43mmemory\u001b[49m\u001b[38;5;241;43m.\u001b[39;49m\u001b[43mbuffer\u001b[49m\u001b[43m}\u001b[49m\u001b[43m)\u001b[49m\n\u001b[1;32m     15\u001b[0m \u001b[38;5;66;03m# Sipariş algılama işlemi\u001b[39;00m\n\u001b[1;32m     16\u001b[0m siparis \u001b[38;5;241m=\u001b[39m siparis_algilama_tool(mesaj)\n",
      "File \u001b[0;32m/Library/Frameworks/Python.framework/Versions/3.12/lib/python3.12/site-packages/langchain/chains/base.py:170\u001b[0m, in \u001b[0;36mChain.invoke\u001b[0;34m(self, input, config, **kwargs)\u001b[0m\n\u001b[1;32m    168\u001b[0m \u001b[38;5;28;01mexcept\u001b[39;00m \u001b[38;5;167;01mBaseException\u001b[39;00m \u001b[38;5;28;01mas\u001b[39;00m e:\n\u001b[1;32m    169\u001b[0m     run_manager\u001b[38;5;241m.\u001b[39mon_chain_error(e)\n\u001b[0;32m--> 170\u001b[0m     \u001b[38;5;28;01mraise\u001b[39;00m e\n\u001b[1;32m    171\u001b[0m run_manager\u001b[38;5;241m.\u001b[39mon_chain_end(outputs)\n\u001b[1;32m    173\u001b[0m \u001b[38;5;28;01mif\u001b[39;00m include_run_info:\n",
      "File \u001b[0;32m/Library/Frameworks/Python.framework/Versions/3.12/lib/python3.12/site-packages/langchain/chains/base.py:160\u001b[0m, in \u001b[0;36mChain.invoke\u001b[0;34m(self, input, config, **kwargs)\u001b[0m\n\u001b[1;32m    157\u001b[0m \u001b[38;5;28;01mtry\u001b[39;00m:\n\u001b[1;32m    158\u001b[0m     \u001b[38;5;28mself\u001b[39m\u001b[38;5;241m.\u001b[39m_validate_inputs(inputs)\n\u001b[1;32m    159\u001b[0m     outputs \u001b[38;5;241m=\u001b[39m (\n\u001b[0;32m--> 160\u001b[0m         \u001b[38;5;28;43mself\u001b[39;49m\u001b[38;5;241;43m.\u001b[39;49m\u001b[43m_call\u001b[49m\u001b[43m(\u001b[49m\u001b[43minputs\u001b[49m\u001b[43m,\u001b[49m\u001b[43m \u001b[49m\u001b[43mrun_manager\u001b[49m\u001b[38;5;241;43m=\u001b[39;49m\u001b[43mrun_manager\u001b[49m\u001b[43m)\u001b[49m\n\u001b[1;32m    161\u001b[0m         \u001b[38;5;28;01mif\u001b[39;00m new_arg_supported\n\u001b[1;32m    162\u001b[0m         \u001b[38;5;28;01melse\u001b[39;00m \u001b[38;5;28mself\u001b[39m\u001b[38;5;241m.\u001b[39m_call(inputs)\n\u001b[1;32m    163\u001b[0m     )\n\u001b[1;32m    165\u001b[0m     final_outputs: Dict[\u001b[38;5;28mstr\u001b[39m, Any] \u001b[38;5;241m=\u001b[39m \u001b[38;5;28mself\u001b[39m\u001b[38;5;241m.\u001b[39mprep_outputs(\n\u001b[1;32m    166\u001b[0m         inputs, outputs, return_only_outputs\n\u001b[1;32m    167\u001b[0m     )\n\u001b[1;32m    168\u001b[0m \u001b[38;5;28;01mexcept\u001b[39;00m \u001b[38;5;167;01mBaseException\u001b[39;00m \u001b[38;5;28;01mas\u001b[39;00m e:\n",
      "File \u001b[0;32m/Library/Frameworks/Python.framework/Versions/3.12/lib/python3.12/site-packages/langchain/agents/agent.py:1629\u001b[0m, in \u001b[0;36mAgentExecutor._call\u001b[0;34m(self, inputs, run_manager)\u001b[0m\n\u001b[1;32m   1627\u001b[0m \u001b[38;5;66;03m# We now enter the agent loop (until it returns something).\u001b[39;00m\n\u001b[1;32m   1628\u001b[0m \u001b[38;5;28;01mwhile\u001b[39;00m \u001b[38;5;28mself\u001b[39m\u001b[38;5;241m.\u001b[39m_should_continue(iterations, time_elapsed):\n\u001b[0;32m-> 1629\u001b[0m     next_step_output \u001b[38;5;241m=\u001b[39m \u001b[38;5;28;43mself\u001b[39;49m\u001b[38;5;241;43m.\u001b[39;49m\u001b[43m_take_next_step\u001b[49m\u001b[43m(\u001b[49m\n\u001b[1;32m   1630\u001b[0m \u001b[43m        \u001b[49m\u001b[43mname_to_tool_map\u001b[49m\u001b[43m,\u001b[49m\n\u001b[1;32m   1631\u001b[0m \u001b[43m        \u001b[49m\u001b[43mcolor_mapping\u001b[49m\u001b[43m,\u001b[49m\n\u001b[1;32m   1632\u001b[0m \u001b[43m        \u001b[49m\u001b[43minputs\u001b[49m\u001b[43m,\u001b[49m\n\u001b[1;32m   1633\u001b[0m \u001b[43m        \u001b[49m\u001b[43mintermediate_steps\u001b[49m\u001b[43m,\u001b[49m\n\u001b[1;32m   1634\u001b[0m \u001b[43m        \u001b[49m\u001b[43mrun_manager\u001b[49m\u001b[38;5;241;43m=\u001b[39;49m\u001b[43mrun_manager\u001b[49m\u001b[43m,\u001b[49m\n\u001b[1;32m   1635\u001b[0m \u001b[43m    \u001b[49m\u001b[43m)\u001b[49m\n\u001b[1;32m   1636\u001b[0m     \u001b[38;5;28;01mif\u001b[39;00m \u001b[38;5;28misinstance\u001b[39m(next_step_output, AgentFinish):\n\u001b[1;32m   1637\u001b[0m         \u001b[38;5;28;01mreturn\u001b[39;00m \u001b[38;5;28mself\u001b[39m\u001b[38;5;241m.\u001b[39m_return(\n\u001b[1;32m   1638\u001b[0m             next_step_output, intermediate_steps, run_manager\u001b[38;5;241m=\u001b[39mrun_manager\n\u001b[1;32m   1639\u001b[0m         )\n",
      "File \u001b[0;32m/Library/Frameworks/Python.framework/Versions/3.12/lib/python3.12/site-packages/langchain/agents/agent.py:1335\u001b[0m, in \u001b[0;36mAgentExecutor._take_next_step\u001b[0;34m(self, name_to_tool_map, color_mapping, inputs, intermediate_steps, run_manager)\u001b[0m\n\u001b[1;32m   1326\u001b[0m \u001b[38;5;28;01mdef\u001b[39;00m \u001b[38;5;21m_take_next_step\u001b[39m(\n\u001b[1;32m   1327\u001b[0m     \u001b[38;5;28mself\u001b[39m,\n\u001b[1;32m   1328\u001b[0m     name_to_tool_map: Dict[\u001b[38;5;28mstr\u001b[39m, BaseTool],\n\u001b[0;32m   (...)\u001b[0m\n\u001b[1;32m   1332\u001b[0m     run_manager: Optional[CallbackManagerForChainRun] \u001b[38;5;241m=\u001b[39m \u001b[38;5;28;01mNone\u001b[39;00m,\n\u001b[1;32m   1333\u001b[0m ) \u001b[38;5;241m-\u001b[39m\u001b[38;5;241m>\u001b[39m Union[AgentFinish, List[Tuple[AgentAction, \u001b[38;5;28mstr\u001b[39m]]]:\n\u001b[1;32m   1334\u001b[0m     \u001b[38;5;28;01mreturn\u001b[39;00m \u001b[38;5;28mself\u001b[39m\u001b[38;5;241m.\u001b[39m_consume_next_step(\n\u001b[0;32m-> 1335\u001b[0m         \u001b[43m[\u001b[49m\n\u001b[1;32m   1336\u001b[0m \u001b[43m            \u001b[49m\u001b[43ma\u001b[49m\n\u001b[1;32m   1337\u001b[0m \u001b[43m            \u001b[49m\u001b[38;5;28;43;01mfor\u001b[39;49;00m\u001b[43m \u001b[49m\u001b[43ma\u001b[49m\u001b[43m \u001b[49m\u001b[38;5;129;43;01min\u001b[39;49;00m\u001b[43m \u001b[49m\u001b[38;5;28;43mself\u001b[39;49m\u001b[38;5;241;43m.\u001b[39;49m\u001b[43m_iter_next_step\u001b[49m\u001b[43m(\u001b[49m\n\u001b[1;32m   1338\u001b[0m \u001b[43m                \u001b[49m\u001b[43mname_to_tool_map\u001b[49m\u001b[43m,\u001b[49m\n\u001b[1;32m   1339\u001b[0m \u001b[43m                \u001b[49m\u001b[43mcolor_mapping\u001b[49m\u001b[43m,\u001b[49m\n\u001b[1;32m   1340\u001b[0m \u001b[43m                \u001b[49m\u001b[43minputs\u001b[49m\u001b[43m,\u001b[49m\n\u001b[1;32m   1341\u001b[0m \u001b[43m                \u001b[49m\u001b[43mintermediate_steps\u001b[49m\u001b[43m,\u001b[49m\n\u001b[1;32m   1342\u001b[0m \u001b[43m                \u001b[49m\u001b[43mrun_manager\u001b[49m\u001b[43m,\u001b[49m\n\u001b[1;32m   1343\u001b[0m \u001b[43m            \u001b[49m\u001b[43m)\u001b[49m\n\u001b[1;32m   1344\u001b[0m \u001b[43m        \u001b[49m\u001b[43m]\u001b[49m\n\u001b[1;32m   1345\u001b[0m     )\n",
      "File \u001b[0;32m/Library/Frameworks/Python.framework/Versions/3.12/lib/python3.12/site-packages/langchain/agents/agent.py:1374\u001b[0m, in \u001b[0;36mAgentExecutor._iter_next_step\u001b[0;34m(self, name_to_tool_map, color_mapping, inputs, intermediate_steps, run_manager)\u001b[0m\n\u001b[1;32m   1372\u001b[0m     raise_error \u001b[38;5;241m=\u001b[39m \u001b[38;5;28;01mFalse\u001b[39;00m\n\u001b[1;32m   1373\u001b[0m \u001b[38;5;28;01mif\u001b[39;00m raise_error:\n\u001b[0;32m-> 1374\u001b[0m     \u001b[38;5;28;01mraise\u001b[39;00m \u001b[38;5;167;01mValueError\u001b[39;00m(\n\u001b[1;32m   1375\u001b[0m         \u001b[38;5;124m\"\u001b[39m\u001b[38;5;124mAn output parsing error occurred. \u001b[39m\u001b[38;5;124m\"\u001b[39m\n\u001b[1;32m   1376\u001b[0m         \u001b[38;5;124m\"\u001b[39m\u001b[38;5;124mIn order to pass this error back to the agent and have it try \u001b[39m\u001b[38;5;124m\"\u001b[39m\n\u001b[1;32m   1377\u001b[0m         \u001b[38;5;124m\"\u001b[39m\u001b[38;5;124magain, pass `handle_parsing_errors=True` to the AgentExecutor. \u001b[39m\u001b[38;5;124m\"\u001b[39m\n\u001b[1;32m   1378\u001b[0m         \u001b[38;5;124mf\u001b[39m\u001b[38;5;124m\"\u001b[39m\u001b[38;5;124mThis is the error: \u001b[39m\u001b[38;5;132;01m{\u001b[39;00m\u001b[38;5;28mstr\u001b[39m(e)\u001b[38;5;132;01m}\u001b[39;00m\u001b[38;5;124m\"\u001b[39m\n\u001b[1;32m   1379\u001b[0m     )\n\u001b[1;32m   1380\u001b[0m text \u001b[38;5;241m=\u001b[39m \u001b[38;5;28mstr\u001b[39m(e)\n\u001b[1;32m   1381\u001b[0m \u001b[38;5;28;01mif\u001b[39;00m \u001b[38;5;28misinstance\u001b[39m(\u001b[38;5;28mself\u001b[39m\u001b[38;5;241m.\u001b[39mhandle_parsing_errors, \u001b[38;5;28mbool\u001b[39m):\n",
      "\u001b[0;31mValueError\u001b[0m: An output parsing error occurred. In order to pass this error back to the agent and have it try again, pass `handle_parsing_errors=True` to the AgentExecutor. This is the error: Could not parse LLM output: `Pizza çeşitleri arasında Margherita, Pepperoni, Quattro Stagioni, Veggie, Hawaiian ve BBQ Chicken gibi popüler seçenekler bulunmaktadır. Ayrıca, yerel ve bölgesel özel tarifler de mevcuttur. Her pizza çeşidi farklı malzeme kombinasyonlarıyla hazırlanabilir.`\nFor troubleshooting, visit: https://python.langchain.com/docs/troubleshooting/errors/OUTPUT_PARSING_FAILURE"
     ]
    }
   ],
   "source": [
    "siparis_isle_rag()"
   ]
  },
  {
   "cell_type": "code",
   "execution_count": null,
   "id": "0c17a9cd-9b94-4554-b4d5-19908fbbaca0",
   "metadata": {},
   "outputs": [],
   "source": []
  }
 ],
 "metadata": {
  "kernelspec": {
   "display_name": "Python 3 (ipykernel)",
   "language": "python",
   "name": "python3"
  },
  "language_info": {
   "codemirror_mode": {
    "name": "ipython",
    "version": 3
   },
   "file_extension": ".py",
   "mimetype": "text/x-python",
   "name": "python",
   "nbconvert_exporter": "python",
   "pygments_lexer": "ipython3",
   "version": "3.12.5"
  }
 },
 "nbformat": 4,
 "nbformat_minor": 5
}
